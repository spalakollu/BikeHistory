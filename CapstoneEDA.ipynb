{
 "cells": [
  {
   "cell_type": "markdown",
   "id": "ff1312b2",
   "metadata": {},
   "source": [
    "# Predict the class of bike riders. "
   ]
  },
  {
   "cell_type": "markdown",
   "id": "d30c4ea4",
   "metadata": {},
   "source": [
    "<center>\n",
    "    <img src = images/nycbike.png width = 80%/>\n",
    "</center>"
   ]
  },
  {
   "cell_type": "markdown",
   "id": "56c399ed",
   "metadata": {},
   "source": [
    "In this dataset, we will explore the new york city bike rider's trips. The information about the rider's trip is located <a href=\"https://ride.citibikenyc.com/system-data\">here</a>. For the capstone project, we will be taking information from May 2022 to November 2022. At the time of beginning this project, data for december 2022 is not available. The dataset contains information on 676k trip riders from the last 6 months. "
   ]
  },
  {
   "cell_type": "markdown",
   "id": "83b21736",
   "metadata": {},
   "source": [
    "### CRISP-DM Framework\n",
    "\n",
    "<center>\n",
    "    <img src = images/crisp.png width = 50%/>\n",
    "</center>\n",
    "\n",
    "For this capstone project, we will refer back to a standard process in industry for data projects called CRISP-DM.  This process provides a framework for working through a data problem."
   ]
  },
  {
   "cell_type": "markdown",
   "id": "379862d6",
   "metadata": {},
   "source": [
    "# Business Understanding\n",
    "\n",
    "From a business perspective, we are tasked with identifying key drivers for used car prices.  In the CRISP-DM overview, we are asked to convert this business framing to a data problem definition.  Using a few sentences, reframe the task as a data task with the appropriate technical vocabulary. "
   ]
  },
  {
   "cell_type": "markdown",
   "id": "d14fb6ac",
   "metadata": {},
   "source": [
    "## 1.1) Business Question"
   ]
  },
  {
   "cell_type": "markdown",
   "id": "01c0be2e",
   "metadata": {},
   "source": [
    "Given a dataset containing information bike riders trip attributes, predict the class of biker riders. "
   ]
  },
  {
   "cell_type": "markdown",
   "id": "f25227ac",
   "metadata": {},
   "source": [
    "## 1.2) Understanding of Business"
   ]
  },
  {
   "cell_type": "markdown",
   "id": "be208d1e",
   "metadata": {},
   "source": [
    "Citibank nyc publishes the bike riders trip data every month. The data contains information which will help to answer the following questions \n",
    "###### 1) Where do Citi Bikers ride? \n",
    "###### 2) When do they ride? \n",
    "###### 3) How far do they go? \n",
    "###### 4) Which stations are most popular? \n",
    "###### 5) What days of the week are most rides taken on?"
   ]
  },
  {
   "cell_type": "markdown",
   "id": "c8d9e518",
   "metadata": {},
   "source": [
    "# Data Understanding\n",
    "\n",
    "After considering the business understanding, we want to get familiar with our data.  Write down some steps that you would take to get to know the dataset and identify any quality issues within.  Take time to get to know the dataset and explore what information it contains and how this could be used to inform your business understanding."
   ]
  },
  {
   "cell_type": "markdown",
   "id": "ddbf5afa",
   "metadata": {},
   "source": [
    "In order to understand the data, some required libraries are imported to run few basic stats about the data. Navigating through the dataset using shape to determine the number of rows and columns and using the describe and info function to determine the mean,std and count along with the type of columns will help in next steps. "
   ]
  },
  {
   "cell_type": "markdown",
   "id": "faf8fb88",
   "metadata": {},
   "source": [
    "## 2.1) Data Collection - Imports"
   ]
  },
  {
   "cell_type": "code",
   "execution_count": 1,
   "id": "bac64f49",
   "metadata": {},
   "outputs": [],
   "source": [
    "import pandas as pd\n",
    "import numpy as np\n",
    "import matplotlib.pyplot as plt\n",
    "from datetime import datetime,timedelta\n",
    "\n",
    "import plotly.express as px\n",
    "import plotly.graph_objs as go\n",
    "import seaborn as sns\n",
    "from scipy import stats  as ss\n",
    "from geopy.distance import geodesic\n",
    "import holidays\n",
    "\n",
    "from sklearn import preprocessing as pp\n",
    "from sklearn.preprocessing import StandardScaler\n",
    "from sklearn.ensemble import RandomForestClassifier\n",
    "from sklearn.feature_selection import RFE\n",
    "\n",
    "from imblearn import combine as c\n",
    "\n",
    "import warnings\n",
    "warnings.filterwarnings(\"ignore\")\n"
   ]
  },
  {
   "cell_type": "markdown",
   "id": "c495d549",
   "metadata": {},
   "source": [
    "## 2.2) Data Collection - Load Data"
   ]
  },
  {
   "cell_type": "markdown",
   "id": "75326b98",
   "metadata": {},
   "source": [
    "The below files were downloaded from the repository containing complete history of NYC Citi bike rides located <a href=\"https://s3.amazonaws.com/tripdata/index.html\">here</a>. I have used files only for the year 2022 to explore and run machine learning algorithms. "
   ]
  },
  {
   "cell_type": "code",
   "execution_count": 36,
   "id": "fec407a3",
   "metadata": {},
   "outputs": [],
   "source": [
    "df_202211_raw = pd.read_csv('data/JC-202211-citibike-tripdata.csv')\n",
    "df_202210_raw = pd.read_csv('data/JC-202210-citibike-tripdata.csv')\n",
    "df_202209_raw = pd.read_csv('data/JC-202209-citibike-tripdata.csv')\n",
    "df_202208_raw = pd.read_csv('data/JC-202208-citibike-tripdata.csv')\n",
    "df_202207_raw = pd.read_csv('data/JC-202207-citbike-tripdata.csv')\n",
    "df_202206_raw = pd.read_csv('data/JC-202206-citibike-tripdata.csv')\n",
    "df_202205_raw = pd.read_csv('data/JC-202205-citibike-tripdata.csv')\n",
    "df_202204_raw = pd.read_csv('data/JC-202204-citibike-tripdata.csv')\n",
    "df_202203_raw = pd.read_csv('data/JC-202203-citibike-tripdata.csv')\n",
    "df_202202_raw = pd.read_csv('data/JC-202202-citibike-tripdata.csv')\n",
    "df_202201_raw = pd.read_csv('data/JC-202201-citibike-tripdata.csv')\n",
    "\n",
    "df_raw = pd.concat( [\n",
    "                     df_202201_raw,\n",
    "                     df_202202_raw,\n",
    "                     df_202203_raw,\n",
    "                     df_202204_raw,\n",
    "                     df_202205_raw, \n",
    "                     df_202206_raw,\n",
    "                     df_202207_raw,\n",
    "                     df_202208_raw,\n",
    "                     df_202209_raw,\n",
    "                     df_202210_raw,\n",
    "                     df_202211_raw\n",
    "                    ] )"
   ]
  },
  {
   "cell_type": "markdown",
   "id": "0cf21448",
   "metadata": {},
   "source": [
    "## 2.3 Data Collection - Describe Data"
   ]
  },
  {
   "cell_type": "code",
   "execution_count": 37,
   "id": "a49c683e",
   "metadata": {},
   "outputs": [
    {
     "data": {
      "text/html": [
       "<div>\n",
       "<style scoped>\n",
       "    .dataframe tbody tr th:only-of-type {\n",
       "        vertical-align: middle;\n",
       "    }\n",
       "\n",
       "    .dataframe tbody tr th {\n",
       "        vertical-align: top;\n",
       "    }\n",
       "\n",
       "    .dataframe thead th {\n",
       "        text-align: right;\n",
       "    }\n",
       "</style>\n",
       "<table border=\"1\" class=\"dataframe\">\n",
       "  <thead>\n",
       "    <tr style=\"text-align: right;\">\n",
       "      <th></th>\n",
       "      <th>start_lat</th>\n",
       "      <th>start_lng</th>\n",
       "      <th>end_lat</th>\n",
       "      <th>end_lng</th>\n",
       "    </tr>\n",
       "  </thead>\n",
       "  <tbody>\n",
       "    <tr>\n",
       "      <th>count</th>\n",
       "      <td>846900.000000</td>\n",
       "      <td>846900.000000</td>\n",
       "      <td>845013.000000</td>\n",
       "      <td>845013.000000</td>\n",
       "    </tr>\n",
       "    <tr>\n",
       "      <th>mean</th>\n",
       "      <td>40.731910</td>\n",
       "      <td>-74.040440</td>\n",
       "      <td>40.731854</td>\n",
       "      <td>-74.040193</td>\n",
       "    </tr>\n",
       "    <tr>\n",
       "      <th>std</th>\n",
       "      <td>0.012108</td>\n",
       "      <td>0.012217</td>\n",
       "      <td>0.012235</td>\n",
       "      <td>0.012182</td>\n",
       "    </tr>\n",
       "    <tr>\n",
       "      <th>min</th>\n",
       "      <td>40.706495</td>\n",
       "      <td>-74.088964</td>\n",
       "      <td>40.640000</td>\n",
       "      <td>-74.140000</td>\n",
       "    </tr>\n",
       "    <tr>\n",
       "      <th>25%</th>\n",
       "      <td>40.721124</td>\n",
       "      <td>-74.046305</td>\n",
       "      <td>40.721124</td>\n",
       "      <td>-74.045953</td>\n",
       "    </tr>\n",
       "    <tr>\n",
       "      <th>50%</th>\n",
       "      <td>40.733670</td>\n",
       "      <td>-74.037977</td>\n",
       "      <td>40.733670</td>\n",
       "      <td>-74.037683</td>\n",
       "    </tr>\n",
       "    <tr>\n",
       "      <th>75%</th>\n",
       "      <td>40.740973</td>\n",
       "      <td>-74.030970</td>\n",
       "      <td>40.740973</td>\n",
       "      <td>-74.030970</td>\n",
       "    </tr>\n",
       "    <tr>\n",
       "      <th>max</th>\n",
       "      <td>40.754992</td>\n",
       "      <td>-74.023587</td>\n",
       "      <td>40.872412</td>\n",
       "      <td>-73.888271</td>\n",
       "    </tr>\n",
       "  </tbody>\n",
       "</table>\n",
       "</div>"
      ],
      "text/plain": [
       "           start_lat      start_lng        end_lat        end_lng\n",
       "count  846900.000000  846900.000000  845013.000000  845013.000000\n",
       "mean       40.731910     -74.040440      40.731854     -74.040193\n",
       "std         0.012108       0.012217       0.012235       0.012182\n",
       "min        40.706495     -74.088964      40.640000     -74.140000\n",
       "25%        40.721124     -74.046305      40.721124     -74.045953\n",
       "50%        40.733670     -74.037977      40.733670     -74.037683\n",
       "75%        40.740973     -74.030970      40.740973     -74.030970\n",
       "max        40.754992     -74.023587      40.872412     -73.888271"
      ]
     },
     "execution_count": 37,
     "metadata": {},
     "output_type": "execute_result"
    }
   ],
   "source": [
    "df_raw.describe()"
   ]
  },
  {
   "cell_type": "markdown",
   "id": "6d1549c5",
   "metadata": {},
   "source": [
    "## 2.4 Data Collection - Data Types"
   ]
  },
  {
   "cell_type": "code",
   "execution_count": 38,
   "id": "c102a45b",
   "metadata": {},
   "outputs": [
    {
     "data": {
      "text/plain": [
       "ride_id                object\n",
       "rideable_type          object\n",
       "started_at             object\n",
       "ended_at               object\n",
       "start_station_name     object\n",
       "start_station_id       object\n",
       "end_station_name       object\n",
       "end_station_id         object\n",
       "start_lat             float64\n",
       "start_lng             float64\n",
       "end_lat               float64\n",
       "end_lng               float64\n",
       "member_casual          object\n",
       "dtype: object"
      ]
     },
     "execution_count": 38,
     "metadata": {},
     "output_type": "execute_result"
    }
   ],
   "source": [
    "df_raw.dtypes"
   ]
  },
  {
   "cell_type": "markdown",
   "id": "4a2ebe0e",
   "metadata": {},
   "source": [
    "## 2.5) Data Collection - Data Dimensions"
   ]
  },
  {
   "cell_type": "code",
   "execution_count": 39,
   "id": "fb371817",
   "metadata": {},
   "outputs": [
    {
     "data": {
      "text/plain": [
       "(846900, 13)"
      ]
     },
     "execution_count": 39,
     "metadata": {},
     "output_type": "execute_result"
    }
   ],
   "source": [
    "df_raw.shape"
   ]
  },
  {
   "cell_type": "markdown",
   "id": "ef98adc0",
   "metadata": {},
   "source": [
    "## 2.6) Data Collection - Check NA"
   ]
  },
  {
   "cell_type": "code",
   "execution_count": 40,
   "id": "96a5bf0e",
   "metadata": {},
   "outputs": [
    {
     "data": {
      "text/plain": [
       "ride_id                  0\n",
       "rideable_type            0\n",
       "started_at               0\n",
       "ended_at                 0\n",
       "start_station_name      10\n",
       "start_station_id        10\n",
       "end_station_name      2996\n",
       "end_station_id        2996\n",
       "start_lat                0\n",
       "start_lng                0\n",
       "end_lat               1887\n",
       "end_lng               1887\n",
       "member_casual            0\n",
       "dtype: int64"
      ]
     },
     "execution_count": 40,
     "metadata": {},
     "output_type": "execute_result"
    }
   ],
   "source": [
    "df_raw.isna().sum()"
   ]
  },
  {
   "cell_type": "markdown",
   "id": "27be6c9f",
   "metadata": {},
   "source": [
    "# Data Preparation\n",
    "\n",
    "After our initial exploration and fine tuning of the business understanding, it is time to construct our final dataset prior to modeling.  Here, we want to make sure to handle any integrity issues and cleaning, the engineering of new features, any transformations that we believe should happen (scaling, logarithms, normalization, etc.), and general preparation for modeling with `sklearn`. "
   ]
  },
  {
   "cell_type": "markdown",
   "id": "d325f1ea",
   "metadata": {},
   "source": [
    "## 3.1 Numerical and Categorical Attributes"
   ]
  },
  {
   "cell_type": "markdown",
   "id": "9879fa80",
   "metadata": {},
   "source": [
    "I will convert the started and ended objects to a datetime objects and the start_station_id and end_station_id to strings.  "
   ]
  },
  {
   "cell_type": "code",
   "execution_count": 41,
   "id": "fc0d829b",
   "metadata": {},
   "outputs": [],
   "source": [
    "df_raw['started_at'] = pd.to_datetime( df_raw['started_at'] )\n",
    "df_raw['ended_at'] = pd.to_datetime( df_raw['ended_at'] )"
   ]
  },
  {
   "cell_type": "code",
   "execution_count": 42,
   "id": "77b5a27a",
   "metadata": {},
   "outputs": [],
   "source": [
    "df_raw['start_station_id'] = df_raw['start_station_id'].apply( lambda x: str(x) )\n",
    "df_raw['end_station_id'] = df_raw['end_station_id'].apply( lambda x: str(x) )"
   ]
  },
  {
   "cell_type": "code",
   "execution_count": 43,
   "id": "c929c514",
   "metadata": {},
   "outputs": [
    {
     "data": {
      "text/html": [
       "<div>\n",
       "<style scoped>\n",
       "    .dataframe tbody tr th:only-of-type {\n",
       "        vertical-align: middle;\n",
       "    }\n",
       "\n",
       "    .dataframe tbody tr th {\n",
       "        vertical-align: top;\n",
       "    }\n",
       "\n",
       "    .dataframe thead th {\n",
       "        text-align: right;\n",
       "    }\n",
       "</style>\n",
       "<table border=\"1\" class=\"dataframe\">\n",
       "  <thead>\n",
       "    <tr style=\"text-align: right;\">\n",
       "      <th></th>\n",
       "      <th>start_lat</th>\n",
       "      <th>start_lng</th>\n",
       "      <th>end_lat</th>\n",
       "      <th>end_lng</th>\n",
       "    </tr>\n",
       "  </thead>\n",
       "  <tbody>\n",
       "    <tr>\n",
       "      <th>18038</th>\n",
       "      <td>40.721525</td>\n",
       "      <td>-74.046305</td>\n",
       "      <td>40.737711</td>\n",
       "      <td>-74.066921</td>\n",
       "    </tr>\n",
       "  </tbody>\n",
       "</table>\n",
       "</div>"
      ],
      "text/plain": [
       "       start_lat  start_lng    end_lat    end_lng\n",
       "18038  40.721525 -74.046305  40.737711 -74.066921"
      ]
     },
     "execution_count": 43,
     "metadata": {},
     "output_type": "execute_result"
    }
   ],
   "source": [
    "num_attributes = df_raw.select_dtypes(include=['int64', 'float64'] )\n",
    "cat_attributes = df_raw.select_dtypes(exclude=['int64', 'float64','datetime64[ns]'] )\n",
    "time_attributes = df_raw.select_dtypes( include=['datetime64[ns]'] )\n",
    "num_attributes.sample()"
   ]
  },
  {
   "cell_type": "code",
   "execution_count": 44,
   "id": "f61857f7",
   "metadata": {},
   "outputs": [
    {
     "data": {
      "text/html": [
       "<div>\n",
       "<style scoped>\n",
       "    .dataframe tbody tr th:only-of-type {\n",
       "        vertical-align: middle;\n",
       "    }\n",
       "\n",
       "    .dataframe tbody tr th {\n",
       "        vertical-align: top;\n",
       "    }\n",
       "\n",
       "    .dataframe thead th {\n",
       "        text-align: right;\n",
       "    }\n",
       "</style>\n",
       "<table border=\"1\" class=\"dataframe\">\n",
       "  <thead>\n",
       "    <tr style=\"text-align: right;\">\n",
       "      <th></th>\n",
       "      <th>ride_id</th>\n",
       "      <th>rideable_type</th>\n",
       "      <th>start_station_name</th>\n",
       "      <th>start_station_id</th>\n",
       "      <th>end_station_name</th>\n",
       "      <th>end_station_id</th>\n",
       "      <th>member_casual</th>\n",
       "    </tr>\n",
       "  </thead>\n",
       "  <tbody>\n",
       "    <tr>\n",
       "      <th>83516</th>\n",
       "      <td>0F25C617AC94D244</td>\n",
       "      <td>classic_bike</td>\n",
       "      <td>Hoboken Terminal - River St &amp; Hudson Pl</td>\n",
       "      <td>HB102</td>\n",
       "      <td>Madison St &amp; 1 St</td>\n",
       "      <td>HB402</td>\n",
       "      <td>casual</td>\n",
       "    </tr>\n",
       "  </tbody>\n",
       "</table>\n",
       "</div>"
      ],
      "text/plain": [
       "                ride_id rideable_type  \\\n",
       "83516  0F25C617AC94D244  classic_bike   \n",
       "\n",
       "                            start_station_name start_station_id  \\\n",
       "83516  Hoboken Terminal - River St & Hudson Pl            HB102   \n",
       "\n",
       "        end_station_name end_station_id member_casual  \n",
       "83516  Madison St & 1 St          HB402        casual  "
      ]
     },
     "execution_count": 44,
     "metadata": {},
     "output_type": "execute_result"
    }
   ],
   "source": [
    "cat_attributes.sample()"
   ]
  },
  {
   "cell_type": "code",
   "execution_count": 45,
   "id": "1555b40f",
   "metadata": {},
   "outputs": [
    {
     "data": {
      "text/html": [
       "<div>\n",
       "<style scoped>\n",
       "    .dataframe tbody tr th:only-of-type {\n",
       "        vertical-align: middle;\n",
       "    }\n",
       "\n",
       "    .dataframe tbody tr th {\n",
       "        vertical-align: top;\n",
       "    }\n",
       "\n",
       "    .dataframe thead th {\n",
       "        text-align: right;\n",
       "    }\n",
       "</style>\n",
       "<table border=\"1\" class=\"dataframe\">\n",
       "  <thead>\n",
       "    <tr style=\"text-align: right;\">\n",
       "      <th></th>\n",
       "      <th>started_at</th>\n",
       "      <th>ended_at</th>\n",
       "    </tr>\n",
       "  </thead>\n",
       "  <tbody>\n",
       "    <tr>\n",
       "      <th>45980</th>\n",
       "      <td>2022-09-05 17:46:02</td>\n",
       "      <td>2022-09-05 17:54:17</td>\n",
       "    </tr>\n",
       "  </tbody>\n",
       "</table>\n",
       "</div>"
      ],
      "text/plain": [
       "               started_at            ended_at\n",
       "45980 2022-09-05 17:46:02 2022-09-05 17:54:17"
      ]
     },
     "execution_count": 45,
     "metadata": {},
     "output_type": "execute_result"
    }
   ],
   "source": [
    "time_attributes.sample()"
   ]
  },
  {
   "cell_type": "markdown",
   "id": "f68e4294",
   "metadata": {},
   "source": [
    "## 3.2 Clean Dataset by dropping rows and columns "
   ]
  },
  {
   "cell_type": "markdown",
   "id": "88ae2b91",
   "metadata": {},
   "source": [
    "#### The null values in the dataframe are less than 5% of the total rows. It is safe to drop those rows with missing information. Also, the missing rows are based on specific columns "
   ]
  },
  {
   "cell_type": "code",
   "execution_count": 48,
   "id": "3ed28afe",
   "metadata": {},
   "outputs": [],
   "source": [
    "#drop rows with missing start_station_name and start_station_id\n",
    "df_raw.drop(index=df_raw[df_raw['start_station_name'].isna() & df_raw['start_station_id'].isna()].index, inplace=True )\n",
    "#drop rows with missing end_station_name and end_station_id\n",
    "df_raw.drop(index=df_raw[df_raw['end_station_name'].isna() & df_raw['end_station_id'].isna()].index, inplace=True )\n",
    "#drop rows with missing end_lat and end_lag\n",
    "df_raw.drop(index=df_raw[df_raw['end_lat'].isna() & df_raw['end_lng'].isna() ].index, inplace=True )\n",
    "\n",
    "df_raw.drop(index=df_raw[df_raw['start_station_name'].isna()].index, inplace=True )\n",
    "df_raw.drop(index=df_raw[df_raw['end_station_name'].isna()].index, inplace=True )"
   ]
  },
  {
   "cell_type": "code",
   "execution_count": 13,
   "id": "d81cf461",
   "metadata": {},
   "outputs": [],
   "source": [
    "#Since we are going to predict the member class here, it is better to drop these columns. \n",
    "df_raw.drop( ['start_station_name', 'start_station_id', 'end_station_name', 'end_station_id'], axis=1, inplace=True )"
   ]
  },
  {
   "cell_type": "code",
   "execution_count": 49,
   "id": "5d88f175",
   "metadata": {},
   "outputs": [
    {
     "data": {
      "text/plain": [
       "ride_id               0\n",
       "rideable_type         0\n",
       "started_at            0\n",
       "ended_at              0\n",
       "start_station_name    0\n",
       "start_station_id      0\n",
       "end_station_name      0\n",
       "end_station_id        0\n",
       "start_lat             0\n",
       "start_lng             0\n",
       "end_lat               0\n",
       "end_lng               0\n",
       "member_casual         0\n",
       "year                  0\n",
       "month                 0\n",
       "day                   0\n",
       "day_of_week           0\n",
       "dtype: int64"
      ]
     },
     "execution_count": 49,
     "metadata": {},
     "output_type": "execute_result"
    }
   ],
   "source": [
    "df_raw.isna().sum()"
   ]
  },
  {
   "cell_type": "markdown",
   "id": "f69610d9",
   "metadata": {},
   "source": [
    "### Adding new columns for weekdays, month, year and duration "
   ]
  },
  {
   "cell_type": "code",
   "execution_count": 50,
   "id": "7c0d5f6d",
   "metadata": {},
   "outputs": [],
   "source": [
    "# year:\n",
    "df_raw['year'] = df_raw['started_at'].dt.year\n",
    "\n",
    "# month:\n",
    "df_raw['month'] = df_raw['started_at'].dt.month\n",
    "\n",
    "# day:\n",
    "df_raw['day'] = df_raw['started_at'].dt.day\n",
    "\n",
    "# day_of_week:\n",
    "# 0 - Monday\n",
    "# 1 - Tuesday\n",
    "# 2 - Wednesday\n",
    "# 3 - Thursday\n",
    "# 4 - Friday\n",
    "# 5 - Saturday\n",
    "# 6 - Sunday\n",
    "df_raw['day_of_week'] = df_raw['started_at'].dt.weekday\n",
    "\n",
    "# distance\n",
    "# used the \"geopy\" library to calculate the distance between start lat/lng and end lat/lng.\n",
    "# The documentation of this librarie is in this link: https://nominatim.org/release-docs/develop/api/Output/\n",
    "df_raw['distance'] = df_raw.apply( lambda x: geodesic( (x['start_lat'], x['start_lng']), (x['end_lat'], x['end_lng']) ).km, axis=1 )\n",
    "\n",
    "# holiday:\n",
    "# I will use the \"holidays\" library to identify whether the date represents a holiday. An idea for a next cycle in the project is to differentiate, according to some rule, the different dates of the holidays.\n",
    "# The documentation of this library is in this link: https://pypi.org/project/holidays/\n",
    "# Another rule that I will use is to consider the eve of the dates as a \"holiday\".\n",
    "df_raw['holidays'] = df_raw['started_at'].apply( lambda x: 'Holiday' if x in holidays.US() else 'Holiday' if x + timedelta(days=1) in holidays.US() else 'Normal day' )\n",
    "\n",
    "# hour_of_day:\n",
    "df_raw['hour_of_day'] = df_raw['started_at'].dt.hour + df_raw['started_at'].dt.minute/60.0\n",
    "\n",
    "df_raw['duration'] = df_raw.apply( lambda x: (x['ended_at'] - x['started_at']).total_seconds(), axis=1 )\n",
    "# season:\n",
    "# - Winter -> December (12), January (01) and February (02);\n",
    "# - Spring -> March (03), April (04) and May (05);\n",
    "# - Summer -> Jun (06), July (07) and August (08);\n",
    "# - Autumn -> September (09), October (10) and November (11).\n",
    "df_raw['season'] = df_raw['started_at'].apply( lambda x: 'Winter' if x.month == 12 or x.month == 1 or x.month == 2 else 'Spring' if  x.month == 3 or x.month == 4 or x.month == 5 else 'Summer' if  x.month == 6 or x.month == 7 or x.month == 8 else 'Autumn' if  x.month == 9 or x.month == 10 or x.month == 11 else '')\n",
    "\n"
   ]
  },
  {
   "cell_type": "markdown",
   "id": "7ea9b23d",
   "metadata": {},
   "source": [
    "## 3.3) Check for Outliers"
   ]
  },
  {
   "cell_type": "code",
   "execution_count": 51,
   "id": "75e1fff4",
   "metadata": {},
   "outputs": [
    {
     "data": {
      "text/plain": [
       "<AxesSubplot: ylabel='duration'>"
      ]
     },
     "execution_count": 51,
     "metadata": {},
     "output_type": "execute_result"
    },
    {
     "data": {
      "image/png": "[encoded data removed]",
      "text/plain": [
       "<Figure size 1570x827 with 1 Axes>"
      ]
     },
     "metadata": {},
     "output_type": "display_data"
    }
   ],
   "source": [
    "sns.boxplot(y=df_raw['duration'])"
   ]
  },
  {
   "cell_type": "markdown",
   "id": "8b33a696",
   "metadata": {},
   "source": [
    "Removing outliers based on the above plot. We can clearly see that the we have number of fewer records that are above 5000 minutes. Filtering out those records along with additional filter to remove records over duration of 16.5 minutes."
   ]
  },
  {
   "cell_type": "code",
   "execution_count": 52,
   "id": "d37d4d7b",
   "metadata": {},
   "outputs": [
    {
     "data": {
      "text/plain": [
       "(5201, 22)"
      ]
     },
     "execution_count": 52,
     "metadata": {},
     "output_type": "execute_result"
    },
    {
     "data": {
      "image/png": "[encoded data removed]",
      "text/plain": [
       "<Figure size 1570x827 with 1 Axes>"
      ]
     },
     "metadata": {},
     "output_type": "display_data"
    }
   ],
   "source": [
    "df_cleaned = df_raw[(df_raw['duration'] > 0) & (df_raw['duration'] < 16.5)]\n",
    "sns.boxplot(y=df_cleaned['duration'])\n",
    "df_cleaned.shape"
   ]
  },
  {
   "cell_type": "code",
   "execution_count": 53,
   "id": "621b0c89",
   "metadata": {},
   "outputs": [
    {
     "name": "stdout",
     "output_type": "stream",
     "text": [
      "(1063, 22)\n",
      "(4138, 22)\n"
     ]
    }
   ],
   "source": [
    "df_casual_filter = df_cleaned[df_cleaned['member_casual'] == 'casual']\n",
    "df_member_filter = df_cleaned[df_cleaned['member_casual'] == 'member']\n",
    "print(df_casual_filter.shape)\n",
    "print(df_member_filter.shape)"
   ]
  },
  {
   "cell_type": "markdown",
   "id": "3dd8e047",
   "metadata": {},
   "source": [
    "## 3.3) Check Unbalanced Data"
   ]
  },
  {
   "cell_type": "code",
   "execution_count": 54,
   "id": "f20993e8",
   "metadata": {},
   "outputs": [
    {
     "data": {
      "text/html": [
       "<div>\n",
       "<style scoped>\n",
       "    .dataframe tbody tr th:only-of-type {\n",
       "        vertical-align: middle;\n",
       "    }\n",
       "\n",
       "    .dataframe tbody tr th {\n",
       "        vertical-align: top;\n",
       "    }\n",
       "\n",
       "    .dataframe thead th {\n",
       "        text-align: right;\n",
       "    }\n",
       "</style>\n",
       "<table border=\"1\" class=\"dataframe\">\n",
       "  <thead>\n",
       "    <tr style=\"text-align: right;\">\n",
       "      <th></th>\n",
       "      <th>member_casual</th>\n",
       "      <th>ride_id</th>\n",
       "      <th>perc%</th>\n",
       "    </tr>\n",
       "  </thead>\n",
       "  <tbody>\n",
       "    <tr>\n",
       "      <th>0</th>\n",
       "      <td>casual</td>\n",
       "      <td>1063</td>\n",
       "      <td>20.44</td>\n",
       "    </tr>\n",
       "    <tr>\n",
       "      <th>1</th>\n",
       "      <td>member</td>\n",
       "      <td>4138</td>\n",
       "      <td>79.56</td>\n",
       "    </tr>\n",
       "  </tbody>\n",
       "</table>\n",
       "</div>"
      ],
      "text/plain": [
       "  member_casual  ride_id  perc%\n",
       "0        casual     1063  20.44\n",
       "1        member     4138  79.56"
      ]
     },
     "execution_count": 54,
     "metadata": {},
     "output_type": "execute_result"
    }
   ],
   "source": [
    "df_balanced = df_cleaned[['ride_id', 'member_casual']].groupby( 'member_casual' ).count().sort_values( 'ride_id' ).reset_index()\n",
    "df_balanced['perc%'] = 100*np.round( ( df_balanced['ride_id'] / np.sum( df_balanced['ride_id'] ) ), 4 )\n",
    "df_balanced"
   ]
  },
  {
   "cell_type": "markdown",
   "id": "0a480b17",
   "metadata": {},
   "source": [
    "### Here we see that the data is pretty imbalanced. Rides with members are much more compared to casual. We have 3 ways to resolve this. \n",
    "1) Resampling <br />\n",
    "2) Using F1 score and assigning more weigths to the minority <br />\n",
    "3) SMOTETOmek <a href='https://imbalanced-learn.org/stable/references/generated/imblearn.combine.SMOTETomek.html'>details</a><br />\n",
    "We will be looking at the third option. "
   ]
  },
  {
   "cell_type": "code",
   "execution_count": 55,
   "id": "e4097e6b",
   "metadata": {},
   "outputs": [],
   "source": [
    "# Encoder\n",
    "ohe = pp.OneHotEncoder()\n",
    "\n",
    "# Columns ( Categorical + Numerical )\n",
    "cols_cat = df_cleaned.select_dtypes( exclude=['int64', 'float64', 'datetime64[ns]'] ).drop( ['ride_id', 'member_casual'], axis=1 ).columns.tolist()\n",
    "cols_num = df_cleaned.select_dtypes( include=['int64', 'float64'] ).columns.tolist()\n",
    "\n",
    "# One Hot Encoding Categorical\n",
    "df_cleaned_dummy = pd.DataFrame( ohe.fit_transform( df_cleaned[cols_cat] ).toarray(), index=df_cleaned.index )\n",
    "\n",
    "# joining back to original dataframe\n",
    "df_cleaned_encoded = pd.concat( [df_cleaned[cols_num], df_cleaned_dummy], axis=1 )"
   ]
  },
  {
   "cell_type": "markdown",
   "id": "0e07628a",
   "metadata": {},
   "source": [
    "SMOTETomek is a technique for addressing class imbalance in a dataset. It is an extension of the SMOTE (Synthetic Minority Oversampling Technique) method, which is a popular technique for oversampling a minority class in a dataset.The goal of this combination is to create a balanced dataset that is more representative of the true underlying distribution of the data."
   ]
  },
  {
   "cell_type": "code",
   "execution_count": 56,
   "id": "0841bde6",
   "metadata": {},
   "outputs": [],
   "source": [
    "# Oversampling ( SMOTE ) + Undersampling ( Tomek Links )\n",
    "smt = c.SMOTETomek( sampling_strategy='auto', random_state=32 )\n",
    "# apply\n",
    "X_smt, y_smt = smt.fit_resample( df_cleaned_encoded, df_cleaned['member_casual'] )\n",
    "\n",
    "# numerical data\n",
    "df_smote_numerical = X_smt[ cols_num ]\n",
    "\n",
    "# categorical data\n",
    "df_smote_cats = X_smt.drop( cols_num, axis=1 )\n",
    "df_smote_categorical = pd.DataFrame( ohe.inverse_transform( df_smote_cats ), columns=cols_cat, index=df_smote_cats.index )\n",
    "\n",
    "# concat Numerical and Categorical dataset\n",
    "df_smote_final = pd.concat( [df_smote_numerical, df_smote_categorical], axis=1 )\n",
    "df_smote_final['member_casual'] = y_smt"
   ]
  },
  {
   "cell_type": "markdown",
   "id": "6aa263a4",
   "metadata": {},
   "source": [
    "### Checking to see if the data is balanced after oversampling and undersampling."
   ]
  },
  {
   "cell_type": "code",
   "execution_count": 57,
   "id": "02373538",
   "metadata": {},
   "outputs": [
    {
     "data": {
      "text/plain": [
       "member    0.5\n",
       "casual    0.5\n",
       "Name: member_casual, dtype: float64"
      ]
     },
     "execution_count": 57,
     "metadata": {},
     "output_type": "execute_result"
    }
   ],
   "source": [
    "df_smote_final['member_casual'].value_counts(normalize=True )"
   ]
  },
  {
   "cell_type": "markdown",
   "id": "536b7428",
   "metadata": {},
   "source": [
    "## 3.4) Rename Columns "
   ]
  },
  {
   "cell_type": "code",
   "execution_count": 58,
   "id": "ac856a21",
   "metadata": {},
   "outputs": [
    {
     "data": {
      "text/plain": [
       "Index(['start_lat', 'start_lng', 'end_lat', 'end_lng', 'year', 'month', 'day',\n",
       "       'day_of_week', 'distance', 'hour_of_day', 'duration', 'rideable_type',\n",
       "       'start_station_name', 'start_station_id', 'end_station_name',\n",
       "       'end_station_id', 'holidays', 'season', 'member_casual'],\n",
       "      dtype='object')"
      ]
     },
     "execution_count": 58,
     "metadata": {},
     "output_type": "execute_result"
    }
   ],
   "source": [
    "df_smote_final.columns"
   ]
  },
  {
   "cell_type": "markdown",
   "id": "ca416ee3",
   "metadata": {},
   "source": [
    "# 4.0) - EXPLORATORY DATA ANALYSIS (EDA)"
   ]
  },
  {
   "cell_type": "code",
   "execution_count": 59,
   "id": "7a16b218",
   "metadata": {},
   "outputs": [],
   "source": [
    "df_exploratory = df_smote_final.copy()"
   ]
  },
  {
   "cell_type": "markdown",
   "id": "2526097c",
   "metadata": {},
   "source": [
    "**1) Do members travel greater distances?**"
   ]
  },
  {
   "cell_type": "code",
   "execution_count": 60,
   "id": "d0ecfe9d",
   "metadata": {},
   "outputs": [
    {
     "data": {
      "application/vnd.plotly.v1+json": {
       "config": {
        "plotlyServerURL": "https://plot.ly"
       },
       "data": [
        {
         "alignmentgroup": "True",
         "hovertemplate": "member_casual=%{x}<br>distance=%{y}<extra></extra>",
         "legendgroup": "casual",
         "marker": {
          "color": "#636efa",
          "pattern": {
           "shape": ""
          }
         },
         "name": "casual",
         "offsetgroup": "casual",
         "orientation": "v",
         "showlegend": true,
         "textposition": "auto",
         "type": "bar",
         "x": [
          "casual"
         ],
         "xaxis": "x",
         "y": [
          0.005880237142492416
         ],
         "yaxis": "y"
        },
        {
         "alignmentgroup": "True",
         "hovertemplate": "member_casual=%{x}<br>distance=%{y}<extra></extra>",
         "legendgroup": "member",
         "marker": {
          "color": "#EF553B",
          "pattern": {
           "shape": ""
          }
         },
         "name": "member",
         "offsetgroup": "member",
         "orientation": "v",
         "showlegend": true,
         "textposition": "auto",
         "type": "bar",
         "x": [
          "member"
         ],
         "xaxis": "x",
         "y": [
          0.004407043970042674
         ],
         "yaxis": "y"
        }
       ],
       "layout": {
        "barmode": "relative",
        "legend": {
         "title": {
          "text": "member_casual"
         },
         "tracegroupgap": 0
        },
        "template": {
         "data": {
          "bar": [
           {
            "error_x": {
             "color": "#2a3f5f"
            },
            "error_y": {
             "color": "#2a3f5f"
            },
            "marker": {
             "line": {
              "color": "#E5ECF6",
              "width": 0.5
             },
             "pattern": {
              "fillmode": "overlay",
              "size": 10,
              "solidity": 0.2
             }
            },
            "type": "bar"
           }
          ],
          "barpolar": [
           {
            "marker": {
             "line": {
              "color": "#E5ECF6",
              "width": 0.5
             },
             "pattern": {
              "fillmode": "overlay",
              "size": 10,
              "solidity": 0.2
             }
            },
            "type": "barpolar"
           }
          ],
          "carpet": [
           {
            "aaxis": {
             "endlinecolor": "#2a3f5f",
             "gridcolor": "white",
             "linecolor": "white",
             "minorgridcolor": "white",
             "startlinecolor": "#2a3f5f"
            },
            "baxis": {
             "endlinecolor": "#2a3f5f",
             "gridcolor": "white",
             "linecolor": "white",
             "minorgridcolor": "white",
             "startlinecolor": "#2a3f5f"
            },
            "type": "carpet"
           }
          ],
          "choropleth": [
           {
            "colorbar": {
             "outlinewidth": 0,
             "ticks": ""
            },
            "type": "choropleth"
           }
          ],
          "contour": [
           {
            "colorbar": {
             "outlinewidth": 0,
             "ticks": ""
            },
            "colorscale": [
             [
              0,
              "#0d0887"
             ],
             [
              0.1111111111111111,
              "#46039f"
             ],
             [
              0.2222222222222222,
              "#7201a8"
             ],
             [
              0.3333333333333333,
              "#9c179e"
             ],
             [
              0.4444444444444444,
              "#bd3786"
             ],
             [
              0.5555555555555556,
              "#d8576b"
             ],
             [
              0.6666666666666666,
              "#ed7953"
             ],
             [
              0.7777777777777778,
              "#fb9f3a"
             ],
             [
              0.8888888888888888,
              "#fdca26"
             ],
             [
              1,
              "#f0f921"
             ]
            ],
            "type": "contour"
           }
          ],
          "contourcarpet": [
           {
            "colorbar": {
             "outlinewidth": 0,
             "ticks": ""
            },
            "type": "contourcarpet"
           }
          ],
          "heatmap": [
           {
            "colorbar": {
             "outlinewidth": 0,
             "ticks": ""
            },
            "colorscale": [
             [
              0,
              "#0d0887"
             ],
             [
              0.1111111111111111,
              "#46039f"
             ],
             [
              0.2222222222222222,
              "#7201a8"
             ],
             [
              0.3333333333333333,
              "#9c179e"
             ],
             [
              0.4444444444444444,
              "#bd3786"
             ],
             [
              0.5555555555555556,
              "#d8576b"
             ],
             [
              0.6666666666666666,
              "#ed7953"
             ],
             [
              0.7777777777777778,
              "#fb9f3a"
             ],
             [
              0.8888888888888888,
              "#fdca26"
             ],
             [
              1,
              "#f0f921"
             ]
            ],
            "type": "heatmap"
           }
          ],
          "heatmapgl": [
           {
            "colorbar": {
             "outlinewidth": 0,
             "ticks": ""
            },
            "colorscale": [
             [
              0,
              "#0d0887"
             ],
             [
              0.1111111111111111,
              "#46039f"
             ],
             [
              0.2222222222222222,
              "#7201a8"
             ],
             [
              0.3333333333333333,
              "#9c179e"
             ],
             [
              0.4444444444444444,
              "#bd3786"
             ],
             [
              0.5555555555555556,
              "#d8576b"
             ],
             [
              0.6666666666666666,
              "#ed7953"
             ],
             [
              0.7777777777777778,
              "#fb9f3a"
             ],
             [
              0.8888888888888888,
              "#fdca26"
             ],
             [
              1,
              "#f0f921"
             ]
            ],
            "type": "heatmapgl"
           }
          ],
          "histogram": [
           {
            "marker": {
             "pattern": {
              "fillmode": "overlay",
              "size": 10,
              "solidity": 0.2
             }
            },
            "type": "histogram"
           }
          ],
          "histogram2d": [
           {
            "colorbar": {
             "outlinewidth": 0,
             "ticks": ""
            },
            "colorscale": [
             [
              0,
              "#0d0887"
             ],
             [
              0.1111111111111111,
              "#46039f"
             ],
             [
              0.2222222222222222,
              "#7201a8"
             ],
             [
              0.3333333333333333,
              "#9c179e"
             ],
             [
              0.4444444444444444,
              "#bd3786"
             ],
             [
              0.5555555555555556,
              "#d8576b"
             ],
             [
              0.6666666666666666,
              "#ed7953"
             ],
             [
              0.7777777777777778,
              "#fb9f3a"
             ],
             [
              0.8888888888888888,
              "#fdca26"
             ],
             [
              1,
              "#f0f921"
             ]
            ],
            "type": "histogram2d"
           }
          ],
          "histogram2dcontour": [
           {
            "colorbar": {
             "outlinewidth": 0,
             "ticks": ""
            },
            "colorscale": [
             [
              0,
              "#0d0887"
             ],
             [
              0.1111111111111111,
              "#46039f"
             ],
             [
              0.2222222222222222,
              "#7201a8"
             ],
             [
              0.3333333333333333,
              "#9c179e"
             ],
             [
              0.4444444444444444,
              "#bd3786"
             ],
             [
              0.5555555555555556,
              "#d8576b"
             ],
             [
              0.6666666666666666,
              "#ed7953"
             ],
             [
              0.7777777777777778,
              "#fb9f3a"
             ],
             [
              0.8888888888888888,
              "#fdca26"
             ],
             [
              1,
              "#f0f921"
             ]
            ],
            "type": "histogram2dcontour"
           }
          ],
          "mesh3d": [
           {
            "colorbar": {
             "outlinewidth": 0,
             "ticks": ""
            },
            "type": "mesh3d"
           }
          ],
          "parcoords": [
           {
            "line": {
             "colorbar": {
              "outlinewidth": 0,
              "ticks": ""
             }
            },
            "type": "parcoords"
           }
          ],
          "pie": [
           {
            "automargin": true,
            "type": "pie"
           }
          ],
          "scatter": [
           {
            "fillpattern": {
             "fillmode": "overlay",
             "size": 10,
             "solidity": 0.2
            },
            "type": "scatter"
           }
          ],
          "scatter3d": [
           {
            "line": {
             "colorbar": {
              "outlinewidth": 0,
              "ticks": ""
             }
            },
            "marker": {
             "colorbar": {
              "outlinewidth": 0,
              "ticks": ""
             }
            },
            "type": "scatter3d"
           }
          ],
          "scattercarpet": [
           {
            "marker": {
             "colorbar": {
              "outlinewidth": 0,
              "ticks": ""
             }
            },
            "type": "scattercarpet"
           }
          ],
          "scattergeo": [
           {
            "marker": {
             "colorbar": {
              "outlinewidth": 0,
              "ticks": ""
             }
            },
            "type": "scattergeo"
           }
          ],
          "scattergl": [
           {
            "marker": {
             "colorbar": {
              "outlinewidth": 0,
              "ticks": ""
             }
            },
            "type": "scattergl"
           }
          ],
          "scattermapbox": [
           {
            "marker": {
             "colorbar": {
              "outlinewidth": 0,
              "ticks": ""
             }
            },
            "type": "scattermapbox"
           }
          ],
          "scatterpolar": [
           {
            "marker": {
             "colorbar": {
              "outlinewidth": 0,
              "ticks": ""
             }
            },
            "type": "scatterpolar"
           }
          ],
          "scatterpolargl": [
           {
            "marker": {
             "colorbar": {
              "outlinewidth": 0,
              "ticks": ""
             }
            },
            "type": "scatterpolargl"
           }
          ],
          "scatterternary": [
           {
            "marker": {
             "colorbar": {
              "outlinewidth": 0,
              "ticks": ""
             }
            },
            "type": "scatterternary"
           }
          ],
          "surface": [
           {
            "colorbar": {
             "outlinewidth": 0,
             "ticks": ""
            },
            "colorscale": [
             [
              0,
              "#0d0887"
             ],
             [
              0.1111111111111111,
              "#46039f"
             ],
             [
              0.2222222222222222,
              "#7201a8"
             ],
             [
              0.3333333333333333,
              "#9c179e"
             ],
             [
              0.4444444444444444,
              "#bd3786"
             ],
             [
              0.5555555555555556,
              "#d8576b"
             ],
             [
              0.6666666666666666,
              "#ed7953"
             ],
             [
              0.7777777777777778,
              "#fb9f3a"
             ],
             [
              0.8888888888888888,
              "#fdca26"
             ],
             [
              1,
              "#f0f921"
             ]
            ],
            "type": "surface"
           }
          ],
          "table": [
           {
            "cells": {
             "fill": {
              "color": "#EBF0F8"
             },
             "line": {
              "color": "white"
             }
            },
            "header": {
             "fill": {
              "color": "#C8D4E3"
             },
             "line": {
              "color": "white"
             }
            },
            "type": "table"
           }
          ]
         },
         "layout": {
          "annotationdefaults": {
           "arrowcolor": "#2a3f5f",
           "arrowhead": 0,
           "arrowwidth": 1
          },
          "autotypenumbers": "strict",
          "coloraxis": {
           "colorbar": {
            "outlinewidth": 0,
            "ticks": ""
           }
          },
          "colorscale": {
           "diverging": [
            [
             0,
             "#8e0152"
            ],
            [
             0.1,
             "#c51b7d"
            ],
            [
             0.2,
             "#de77ae"
            ],
            [
             0.3,
             "#f1b6da"
            ],
            [
             0.4,
             "#fde0ef"
            ],
            [
             0.5,
             "#f7f7f7"
            ],
            [
             0.6,
             "#e6f5d0"
            ],
            [
             0.7,
             "#b8e186"
            ],
            [
             0.8,
             "#7fbc41"
            ],
            [
             0.9,
             "#4d9221"
            ],
            [
             1,
             "#276419"
            ]
           ],
           "sequential": [
            [
             0,
             "#0d0887"
            ],
            [
             0.1111111111111111,
             "#46039f"
            ],
            [
             0.2222222222222222,
             "#7201a8"
            ],
            [
             0.3333333333333333,
             "#9c179e"
            ],
            [
             0.4444444444444444,
             "#bd3786"
            ],
            [
             0.5555555555555556,
             "#d8576b"
            ],
            [
             0.6666666666666666,
             "#ed7953"
            ],
            [
             0.7777777777777778,
             "#fb9f3a"
            ],
            [
             0.8888888888888888,
             "#fdca26"
            ],
            [
             1,
             "#f0f921"
            ]
           ],
           "sequentialminus": [
            [
             0,
             "#0d0887"
            ],
            [
             0.1111111111111111,
             "#46039f"
            ],
            [
             0.2222222222222222,
             "#7201a8"
            ],
            [
             0.3333333333333333,
             "#9c179e"
            ],
            [
             0.4444444444444444,
             "#bd3786"
            ],
            [
             0.5555555555555556,
             "#d8576b"
            ],
            [
             0.6666666666666666,
             "#ed7953"
            ],
            [
             0.7777777777777778,
             "#fb9f3a"
            ],
            [
             0.8888888888888888,
             "#fdca26"
            ],
            [
             1,
             "#f0f921"
            ]
           ]
          },
          "colorway": [
           "#636efa",
           "#EF553B",
           "#00cc96",
           "#ab63fa",
           "#FFA15A",
           "#19d3f3",
           "#FF6692",
           "#B6E880",
           "#FF97FF",
           "#FECB52"
          ],
          "font": {
           "color": "#2a3f5f"
          },
          "geo": {
           "bgcolor": "white",
           "lakecolor": "white",
           "landcolor": "#E5ECF6",
           "showlakes": true,
           "showland": true,
           "subunitcolor": "white"
          },
          "hoverlabel": {
           "align": "left"
          },
          "hovermode": "closest",
          "mapbox": {
           "style": "light"
          },
          "paper_bgcolor": "white",
          "plot_bgcolor": "#E5ECF6",
          "polar": {
           "angularaxis": {
            "gridcolor": "white",
            "linecolor": "white",
            "ticks": ""
           },
           "bgcolor": "#E5ECF6",
           "radialaxis": {
            "gridcolor": "white",
            "linecolor": "white",
            "ticks": ""
           }
          },
          "scene": {
           "xaxis": {
            "backgroundcolor": "#E5ECF6",
            "gridcolor": "white",
            "gridwidth": 2,
            "linecolor": "white",
            "showbackground": true,
            "ticks": "",
            "zerolinecolor": "white"
           },
           "yaxis": {
            "backgroundcolor": "#E5ECF6",
            "gridcolor": "white",
            "gridwidth": 2,
            "linecolor": "white",
            "showbackground": true,
            "ticks": "",
            "zerolinecolor": "white"
           },
           "zaxis": {
            "backgroundcolor": "#E5ECF6",
            "gridcolor": "white",
            "gridwidth": 2,
            "linecolor": "white",
            "showbackground": true,
            "ticks": "",
            "zerolinecolor": "white"
           }
          },
          "shapedefaults": {
           "line": {
            "color": "#2a3f5f"
           }
          },
          "ternary": {
           "aaxis": {
            "gridcolor": "white",
            "linecolor": "white",
            "ticks": ""
           },
           "baxis": {
            "gridcolor": "white",
            "linecolor": "white",
            "ticks": ""
           },
           "bgcolor": "#E5ECF6",
           "caxis": {
            "gridcolor": "white",
            "linecolor": "white",
            "ticks": ""
           }
          },
          "title": {
           "x": 0.05
          },
          "xaxis": {
           "automargin": true,
           "gridcolor": "white",
           "linecolor": "white",
           "ticks": "",
           "title": {
            "standoff": 15
           },
           "zerolinecolor": "white",
           "zerolinewidth": 2
          },
          "yaxis": {
           "automargin": true,
           "gridcolor": "white",
           "linecolor": "white",
           "ticks": "",
           "title": {
            "standoff": 15
           },
           "zerolinecolor": "white",
           "zerolinewidth": 2
          }
         }
        },
        "title": {
         "text": "Casual vs Bikers member "
        },
        "xaxis": {
         "anchor": "y",
         "categoryarray": [
          "casual",
          "member"
         ],
         "categoryorder": "array",
         "domain": [
          0,
          1
         ],
         "title": {
          "text": "member_casual"
         }
        },
        "yaxis": {
         "anchor": "x",
         "domain": [
          0,
          1
         ],
         "title": {
          "text": "distance"
         }
        }
       }
      },
      "text/html": [
       "<div>                            <div id=\"94c6f187-2236-4a8d-95d0-bef87153195c\" class=\"plotly-graph-div\" style=\"height:525px; width:100%;\"></div>            <script type=\"text/javascript\">                require([\"plotly\"], function(Plotly) {                    window.PLOTLYENV=window.PLOTLYENV || {};                                    if (document.getElementById(\"94c6f187-2236-4a8d-95d0-bef87153195c\")) {                    Plotly.newPlot(                        \"94c6f187-2236-4a8d-95d0-bef87153195c\",                        [{\"alignmentgroup\":\"True\",\"hovertemplate\":\"member_casual=%{x}<br>distance=%{y}<extra></extra>\",\"legendgroup\":\"casual\",\"marker\":{\"color\":\"#636efa\",\"pattern\":{\"shape\":\"\"}},\"name\":\"casual\",\"offsetgroup\":\"casual\",\"orientation\":\"v\",\"showlegend\":true,\"textposition\":\"auto\",\"x\":[\"casual\"],\"xaxis\":\"x\",\"y\":[0.005880237142492416],\"yaxis\":\"y\",\"type\":\"bar\"},{\"alignmentgroup\":\"True\",\"hovertemplate\":\"member_casual=%{x}<br>distance=%{y}<extra></extra>\",\"legendgroup\":\"member\",\"marker\":{\"color\":\"#EF553B\",\"pattern\":{\"shape\":\"\"}},\"name\":\"member\",\"offsetgroup\":\"member\",\"orientation\":\"v\",\"showlegend\":true,\"textposition\":\"auto\",\"x\":[\"member\"],\"xaxis\":\"x\",\"y\":[0.004407043970042674],\"yaxis\":\"y\",\"type\":\"bar\"}],                        {\"template\":{\"data\":{\"histogram2dcontour\":[{\"type\":\"histogram2dcontour\",\"colorbar\":{\"outlinewidth\":0,\"ticks\":\"\"},\"colorscale\":[[0.0,\"#0d0887\"],[0.1111111111111111,\"#46039f\"],[0.2222222222222222,\"#7201a8\"],[0.3333333333333333,\"#9c179e\"],[0.4444444444444444,\"#bd3786\"],[0.5555555555555556,\"#d8576b\"],[0.6666666666666666,\"#ed7953\"],[0.7777777777777778,\"#fb9f3a\"],[0.8888888888888888,\"#fdca26\"],[1.0,\"#f0f921\"]]}],\"choropleth\":[{\"type\":\"choropleth\",\"colorbar\":{\"outlinewidth\":0,\"ticks\":\"\"}}],\"histogram2d\":[{\"type\":\"histogram2d\",\"colorbar\":{\"outlinewidth\":0,\"ticks\":\"\"},\"colorscale\":[[0.0,\"#0d0887\"],[0.1111111111111111,\"#46039f\"],[0.2222222222222222,\"#7201a8\"],[0.3333333333333333,\"#9c179e\"],[0.4444444444444444,\"#bd3786\"],[0.5555555555555556,\"#d8576b\"],[0.6666666666666666,\"#ed7953\"],[0.7777777777777778,\"#fb9f3a\"],[0.8888888888888888,\"#fdca26\"],[1.0,\"#f0f921\"]]}],\"heatmap\":[{\"type\":\"heatmap\",\"colorbar\":{\"outlinewidth\":0,\"ticks\":\"\"},\"colorscale\":[[0.0,\"#0d0887\"],[0.1111111111111111,\"#46039f\"],[0.2222222222222222,\"#7201a8\"],[0.3333333333333333,\"#9c179e\"],[0.4444444444444444,\"#bd3786\"],[0.5555555555555556,\"#d8576b\"],[0.6666666666666666,\"#ed7953\"],[0.7777777777777778,\"#fb9f3a\"],[0.8888888888888888,\"#fdca26\"],[1.0,\"#f0f921\"]]}],\"heatmapgl\":[{\"type\":\"heatmapgl\",\"colorbar\":{\"outlinewidth\":0,\"ticks\":\"\"},\"colorscale\":[[0.0,\"#0d0887\"],[0.1111111111111111,\"#46039f\"],[0.2222222222222222,\"#7201a8\"],[0.3333333333333333,\"#9c179e\"],[0.4444444444444444,\"#bd3786\"],[0.5555555555555556,\"#d8576b\"],[0.6666666666666666,\"#ed7953\"],[0.7777777777777778,\"#fb9f3a\"],[0.8888888888888888,\"#fdca26\"],[1.0,\"#f0f921\"]]}],\"contourcarpet\":[{\"type\":\"contourcarpet\",\"colorbar\":{\"outlinewidth\":0,\"ticks\":\"\"}}],\"contour\":[{\"type\":\"contour\",\"colorbar\":{\"outlinewidth\":0,\"ticks\":\"\"},\"colorscale\":[[0.0,\"#0d0887\"],[0.1111111111111111,\"#46039f\"],[0.2222222222222222,\"#7201a8\"],[0.3333333333333333,\"#9c179e\"],[0.4444444444444444,\"#bd3786\"],[0.5555555555555556,\"#d8576b\"],[0.6666666666666666,\"#ed7953\"],[0.7777777777777778,\"#fb9f3a\"],[0.8888888888888888,\"#fdca26\"],[1.0,\"#f0f921\"]]}],\"surface\":[{\"type\":\"surface\",\"colorbar\":{\"outlinewidth\":0,\"ticks\":\"\"},\"colorscale\":[[0.0,\"#0d0887\"],[0.1111111111111111,\"#46039f\"],[0.2222222222222222,\"#7201a8\"],[0.3333333333333333,\"#9c179e\"],[0.4444444444444444,\"#bd3786\"],[0.5555555555555556,\"#d8576b\"],[0.6666666666666666,\"#ed7953\"],[0.7777777777777778,\"#fb9f3a\"],[0.8888888888888888,\"#fdca26\"],[1.0,\"#f0f921\"]]}],\"mesh3d\":[{\"type\":\"mesh3d\",\"colorbar\":{\"outlinewidth\":0,\"ticks\":\"\"}}],\"scatter\":[{\"fillpattern\":{\"fillmode\":\"overlay\",\"size\":10,\"solidity\":0.2},\"type\":\"scatter\"}],\"parcoords\":[{\"type\":\"parcoords\",\"line\":{\"colorbar\":{\"outlinewidth\":0,\"ticks\":\"\"}}}],\"scatterpolargl\":[{\"type\":\"scatterpolargl\",\"marker\":{\"colorbar\":{\"outlinewidth\":0,\"ticks\":\"\"}}}],\"bar\":[{\"error_x\":{\"color\":\"#2a3f5f\"},\"error_y\":{\"color\":\"#2a3f5f\"},\"marker\":{\"line\":{\"color\":\"#E5ECF6\",\"width\":0.5},\"pattern\":{\"fillmode\":\"overlay\",\"size\":10,\"solidity\":0.2}},\"type\":\"bar\"}],\"scattergeo\":[{\"type\":\"scattergeo\",\"marker\":{\"colorbar\":{\"outlinewidth\":0,\"ticks\":\"\"}}}],\"scatterpolar\":[{\"type\":\"scatterpolar\",\"marker\":{\"colorbar\":{\"outlinewidth\":0,\"ticks\":\"\"}}}],\"histogram\":[{\"marker\":{\"pattern\":{\"fillmode\":\"overlay\",\"size\":10,\"solidity\":0.2}},\"type\":\"histogram\"}],\"scattergl\":[{\"type\":\"scattergl\",\"marker\":{\"colorbar\":{\"outlinewidth\":0,\"ticks\":\"\"}}}],\"scatter3d\":[{\"type\":\"scatter3d\",\"line\":{\"colorbar\":{\"outlinewidth\":0,\"ticks\":\"\"}},\"marker\":{\"colorbar\":{\"outlinewidth\":0,\"ticks\":\"\"}}}],\"scattermapbox\":[{\"type\":\"scattermapbox\",\"marker\":{\"colorbar\":{\"outlinewidth\":0,\"ticks\":\"\"}}}],\"scatterternary\":[{\"type\":\"scatterternary\",\"marker\":{\"colorbar\":{\"outlinewidth\":0,\"ticks\":\"\"}}}],\"scattercarpet\":[{\"type\":\"scattercarpet\",\"marker\":{\"colorbar\":{\"outlinewidth\":0,\"ticks\":\"\"}}}],\"carpet\":[{\"aaxis\":{\"endlinecolor\":\"#2a3f5f\",\"gridcolor\":\"white\",\"linecolor\":\"white\",\"minorgridcolor\":\"white\",\"startlinecolor\":\"#2a3f5f\"},\"baxis\":{\"endlinecolor\":\"#2a3f5f\",\"gridcolor\":\"white\",\"linecolor\":\"white\",\"minorgridcolor\":\"white\",\"startlinecolor\":\"#2a3f5f\"},\"type\":\"carpet\"}],\"table\":[{\"cells\":{\"fill\":{\"color\":\"#EBF0F8\"},\"line\":{\"color\":\"white\"}},\"header\":{\"fill\":{\"color\":\"#C8D4E3\"},\"line\":{\"color\":\"white\"}},\"type\":\"table\"}],\"barpolar\":[{\"marker\":{\"line\":{\"color\":\"#E5ECF6\",\"width\":0.5},\"pattern\":{\"fillmode\":\"overlay\",\"size\":10,\"solidity\":0.2}},\"type\":\"barpolar\"}],\"pie\":[{\"automargin\":true,\"type\":\"pie\"}]},\"layout\":{\"autotypenumbers\":\"strict\",\"colorway\":[\"#636efa\",\"#EF553B\",\"#00cc96\",\"#ab63fa\",\"#FFA15A\",\"#19d3f3\",\"#FF6692\",\"#B6E880\",\"#FF97FF\",\"#FECB52\"],\"font\":{\"color\":\"#2a3f5f\"},\"hovermode\":\"closest\",\"hoverlabel\":{\"align\":\"left\"},\"paper_bgcolor\":\"white\",\"plot_bgcolor\":\"#E5ECF6\",\"polar\":{\"bgcolor\":\"#E5ECF6\",\"angularaxis\":{\"gridcolor\":\"white\",\"linecolor\":\"white\",\"ticks\":\"\"},\"radialaxis\":{\"gridcolor\":\"white\",\"linecolor\":\"white\",\"ticks\":\"\"}},\"ternary\":{\"bgcolor\":\"#E5ECF6\",\"aaxis\":{\"gridcolor\":\"white\",\"linecolor\":\"white\",\"ticks\":\"\"},\"baxis\":{\"gridcolor\":\"white\",\"linecolor\":\"white\",\"ticks\":\"\"},\"caxis\":{\"gridcolor\":\"white\",\"linecolor\":\"white\",\"ticks\":\"\"}},\"coloraxis\":{\"colorbar\":{\"outlinewidth\":0,\"ticks\":\"\"}},\"colorscale\":{\"sequential\":[[0.0,\"#0d0887\"],[0.1111111111111111,\"#46039f\"],[0.2222222222222222,\"#7201a8\"],[0.3333333333333333,\"#9c179e\"],[0.4444444444444444,\"#bd3786\"],[0.5555555555555556,\"#d8576b\"],[0.6666666666666666,\"#ed7953\"],[0.7777777777777778,\"#fb9f3a\"],[0.8888888888888888,\"#fdca26\"],[1.0,\"#f0f921\"]],\"sequentialminus\":[[0.0,\"#0d0887\"],[0.1111111111111111,\"#46039f\"],[0.2222222222222222,\"#7201a8\"],[0.3333333333333333,\"#9c179e\"],[0.4444444444444444,\"#bd3786\"],[0.5555555555555556,\"#d8576b\"],[0.6666666666666666,\"#ed7953\"],[0.7777777777777778,\"#fb9f3a\"],[0.8888888888888888,\"#fdca26\"],[1.0,\"#f0f921\"]],\"diverging\":[[0,\"#8e0152\"],[0.1,\"#c51b7d\"],[0.2,\"#de77ae\"],[0.3,\"#f1b6da\"],[0.4,\"#fde0ef\"],[0.5,\"#f7f7f7\"],[0.6,\"#e6f5d0\"],[0.7,\"#b8e186\"],[0.8,\"#7fbc41\"],[0.9,\"#4d9221\"],[1,\"#276419\"]]},\"xaxis\":{\"gridcolor\":\"white\",\"linecolor\":\"white\",\"ticks\":\"\",\"title\":{\"standoff\":15},\"zerolinecolor\":\"white\",\"automargin\":true,\"zerolinewidth\":2},\"yaxis\":{\"gridcolor\":\"white\",\"linecolor\":\"white\",\"ticks\":\"\",\"title\":{\"standoff\":15},\"zerolinecolor\":\"white\",\"automargin\":true,\"zerolinewidth\":2},\"scene\":{\"xaxis\":{\"backgroundcolor\":\"#E5ECF6\",\"gridcolor\":\"white\",\"linecolor\":\"white\",\"showbackground\":true,\"ticks\":\"\",\"zerolinecolor\":\"white\",\"gridwidth\":2},\"yaxis\":{\"backgroundcolor\":\"#E5ECF6\",\"gridcolor\":\"white\",\"linecolor\":\"white\",\"showbackground\":true,\"ticks\":\"\",\"zerolinecolor\":\"white\",\"gridwidth\":2},\"zaxis\":{\"backgroundcolor\":\"#E5ECF6\",\"gridcolor\":\"white\",\"linecolor\":\"white\",\"showbackground\":true,\"ticks\":\"\",\"zerolinecolor\":\"white\",\"gridwidth\":2}},\"shapedefaults\":{\"line\":{\"color\":\"#2a3f5f\"}},\"annotationdefaults\":{\"arrowcolor\":\"#2a3f5f\",\"arrowhead\":0,\"arrowwidth\":1},\"geo\":{\"bgcolor\":\"white\",\"landcolor\":\"#E5ECF6\",\"subunitcolor\":\"white\",\"showland\":true,\"showlakes\":true,\"lakecolor\":\"white\"},\"title\":{\"x\":0.05},\"mapbox\":{\"style\":\"light\"}}},\"xaxis\":{\"anchor\":\"y\",\"domain\":[0.0,1.0],\"title\":{\"text\":\"member_casual\"},\"categoryorder\":\"array\",\"categoryarray\":[\"casual\",\"member\"]},\"yaxis\":{\"anchor\":\"x\",\"domain\":[0.0,1.0],\"title\":{\"text\":\"distance\"}},\"legend\":{\"title\":{\"text\":\"member_casual\"},\"tracegroupgap\":0},\"title\":{\"text\":\"Casual vs Bikers member \"},\"barmode\":\"relative\"},                        {\"responsive\": true}                    ).then(function(){\n",
       "                            \n",
       "var gd = document.getElementById('94c6f187-2236-4a8d-95d0-bef87153195c');\n",
       "var x = new MutationObserver(function (mutations, observer) {{\n",
       "        var display = window.getComputedStyle(gd).display;\n",
       "        if (!display || display === 'none') {{\n",
       "            console.log([gd, 'removed!']);\n",
       "            Plotly.purge(gd);\n",
       "            observer.disconnect();\n",
       "        }}\n",
       "}});\n",
       "\n",
       "// Listen for the removal of the full notebook cells\n",
       "var notebookContainer = gd.closest('#notebook-container');\n",
       "if (notebookContainer) {{\n",
       "    x.observe(notebookContainer, {childList: true});\n",
       "}}\n",
       "\n",
       "// Listen for the clearing of the current output cell\n",
       "var outputEl = gd.closest('.output');\n",
       "if (outputEl) {{\n",
       "    x.observe(outputEl, {childList: true});\n",
       "}}\n",
       "\n",
       "                        })                };                });            </script>        </div>"
      ]
     },
     "metadata": {},
     "output_type": "display_data"
    }
   ],
   "source": [
    "df1 = df_exploratory[['distance', 'member_casual']].groupby( 'member_casual' ).mean().reset_index()\n",
    "fig = px.bar(df1, x='member_casual', y='distance', color='member_casual', title='Casual vs Bikers member ')\n",
    "fig.show()"
   ]
  },
  {
   "cell_type": "markdown",
   "id": "7c05d59f",
   "metadata": {},
   "source": [
    "**As you can see from the above, casual bike users travel greater distance than member bike users.**"
   ]
  },
  {
   "cell_type": "markdown",
   "id": "ed03d1a6",
   "metadata": {},
   "source": [
    "**2) Do casual bikers ride more on holidays?**"
   ]
  },
  {
   "cell_type": "code",
   "execution_count": 61,
   "id": "ddae7948",
   "metadata": {},
   "outputs": [
    {
     "data": {
      "application/vnd.plotly.v1+json": {
       "config": {
        "plotlyServerURL": "https://plot.ly"
       },
       "data": [
        {
         "alignmentgroup": "True",
         "bingroup": "x",
         "hovertemplate": "member_casual=member<br>holidays=%{x}<br>count=%{y}<extra></extra>",
         "legendgroup": "member",
         "marker": {
          "color": "#636efa",
          "pattern": {
           "shape": ""
          }
         },
         "name": "member",
         "offsetgroup": "member",
         "orientation": "v",
         "showlegend": true,
         "type": "histogram",
         "x": [
          "Holiday",
          "Normal day",
          "Normal day",
          "Holiday",
          "Normal day",
          "Normal day",
          "Normal day",
          "Normal day",
          "Normal day",
          "Normal day",
          "Normal day",
          "Normal day",
          "Normal day",
          "Normal day",
          "Normal day",
          "Normal day",
          "Normal day",
          "Normal day",
          "Normal day",
          "Normal day",
          "Holiday",
          "Normal day",
          "Normal day",
          "Normal day",
          "Normal day",
          "Normal day",
          "Normal day",
          "Normal day",
          "Normal day",
          "Normal day",
          "Normal day",
          "Normal day",
          "Normal day",
          "Normal day",
          "Normal day",
          "Normal day",
          "Normal day",
          "Normal day",
          "Normal day",
          "Normal day",
          "Normal day",
          "Normal day",
          "Normal day",
          "Normal day",
          "Normal day",
          "Normal day",
          "Normal day",
          "Normal day",
          "Normal day",
          "Normal day",
          "Normal day",
          "Normal day",
          "Normal day",
          "Normal day",
          "Normal day",
          "Normal day",
          "Normal day",
          "Normal day",
          "Normal day",
          "Normal day",
          "Normal day",
          "Normal day",
          "Holiday",
          "Normal day",
          "Normal day",
          "Normal day",
          "Normal day",
          "Normal day",
          "Normal day",
          "Normal day",
          "Normal day",
          "Normal day",
          "Normal day",
          "Normal day",
          "Normal day",
          "Normal day",
          "Normal day",
          "Normal day",
          "Normal day",
          "Normal day",
          "Normal day",
          "Normal day",
          "Holiday",
          "Normal day",
          "Normal day",
          "Normal day",
          "Normal day",
          "Normal day",
          "Holiday",
          "Normal day",
          "Normal day",
          "Normal day",
          "Normal day",
          "Normal day",
          "Normal day",
          "Normal day",
          "Normal day",
          "Holiday",
          "Normal day",
          "Normal day",
          "Normal day",
          "Normal day",
          "Normal day",
          "Normal day",
          "Normal day",
          "Normal day",
          "Normal day",
          "Normal day",
          "Normal day",
          "Normal day",
          "Normal day",
          "Normal day",
          "Normal day",
          "Holiday",
          "Normal day",
          "Holiday",
          "Normal day",
          "Normal day",
          "Normal day",
          "Normal day",
          "Normal day",
          "Normal day",
          "Normal day",
          "Normal day",
          "Normal day",
          "Normal day",
          "Normal day",
          "Normal day",
          "Normal day",
          "Holiday",
          "Normal day",
          "Normal day",
          "Normal day",
          "Normal day",
          "Normal day",
          "Normal day",
          "Normal day",
          "Normal day",
          "Normal day",
          "Normal day",
          "Normal day",
          "Normal day",
          "Normal day",
          "Normal day",
          "Normal day",
          "Normal day",
          "Normal day",
          "Normal day",
          "Normal day",
          "Normal day",
          "Normal day",
          "Normal day",
          "Holiday",
          "Normal day",
          "Normal day",
          "Normal day",
          "Normal day",
          "Normal day",
          "Normal day",
          "Normal day",
          "Normal day",
          "Normal day",
          "Normal day",
          "Normal day",
          "Normal day",
          "Normal day",
          "Normal day",
          "Normal day",
          "Normal day",
          "Normal day",
          "Normal day",
          "Normal day",
          "Normal day",
          "Normal day",
          "Normal day",
          "Normal day",
          "Normal day",
          "Normal day",
          "Normal day",
          "Normal day",
          "Normal day",
          "Normal day",
          "Normal day",
          "Normal day",
          "Normal day",
          "Normal day",
          "Normal day",
          "Normal day",
          "Holiday",
          "Normal day",
          "Normal day",
          "Normal day",
          "Normal day",
          "Normal day",
          "Normal day",
          "Normal day",
          "Normal day",
          "Normal day",
          "Normal day",
          "Normal day",
          "Normal day",
          "Normal day",
          "Normal day",
          "Normal day",
          "Normal day",
          "Holiday",
          "Normal day",
          "Holiday",
          "Normal day",
          "Normal day",
          "Normal day",
          "Normal day",
          "Normal day",
          "Normal day",
          "Holiday",
          "Normal day",
          "Normal day",
          "Holiday",
          "Normal day",
          "Normal day",
          "Normal day",
          "Normal day",
          "Normal day",
          "Normal day",
          "Normal day",
          "Normal day",
          "Normal day",
          "Normal day",
          "Normal day",
          "Normal day",
          "Normal day",
          "Normal day",
          "Normal day",
          "Normal day",
          "Normal day",
          "Normal day",
          "Normal day",
          "Normal day",
          "Normal day",
          "Normal day",
          "Normal day",
          "Normal day",
          "Normal day",
          "Normal day",
          "Normal day",
          "Normal day",
          "Normal day",
          "Normal day",
          "Normal day",
          "Normal day",
          "Normal day",
          "Normal day",
          "Normal day",
          "Normal day",
          "Normal day",
          "Normal day",
          "Normal day",
          "Normal day",
          "Normal day",
          "Normal day",
          "Normal day",
          "Normal day",
          "Normal day",
          "Normal day",
          "Normal day",
          "Normal day",
          "Normal day",
          "Normal day",
          "Normal day",
          "Normal day",
          "Normal day",
          "Normal day",
          "Normal day",
          "Normal day",
          "Normal day",
          "Normal day",
          "Normal day",
          "Normal day",
          "Normal day",
          "Normal day",
          "Normal day",
          "Normal day",
          "Normal day",
          "Normal day",
          "Normal day",
          "Normal day",
          "Normal day",
          "Normal day",
          "Normal day",
          "Normal day",
          "Normal day",
          "Normal day",
          "Normal day",
          "Normal day",
          "Normal day",
          "Normal day",
          "Normal day",
          "Normal day",
          "Normal day",
          "Normal day",
          "Normal day",
          "Normal day",
          "Normal day",
          "Normal day",
          "Normal day",
          "Normal day",
          "Normal day",
          "Normal day",
          "Normal day",
          "Normal day",
          "Normal day",
          "Normal day",
          "Normal day",
          "Normal day",
          "Normal day",
          "Normal day",
          "Normal day",
          "Normal day",
          "Normal day",
          "Normal day",
          "Normal day",
          "Normal day",
          "Normal day",
          "Normal day",
          "Normal day",
          "Normal day",
          "Normal day",
          "Normal day",
          "Normal day",
          "Normal day",
          "Normal day",
          "Normal day",
          "Normal day",
          "Normal day",
          "Normal day",
          "Normal day",
          "Normal day",
          "Normal day",
          "Normal day",
          "Normal day",
          "Normal day",
          "Normal day",
          "Normal day",
          "Normal day",
          "Normal day",
          "Normal day",
          "Normal day",
          "Normal day",
          "Normal day",
          "Normal day",
          "Normal day",
          "Normal day",
          "Normal day",
          "Normal day",
          "Normal day",
          "Normal day",
          "Normal day",
          "Normal day",
          "Normal day",
          "Normal day",
          "Normal day",
          "Normal day",
          "Normal day",
          "Normal day",
          "Normal day",
          "Normal day",
          "Normal day",
          "Normal day",
          "Normal day",
          "Normal day",
          "Normal day",
          "Normal day",
          "Normal day",
          "Normal day",
          "Normal day",
          "Normal day",
          "Normal day",
          "Normal day",
          "Normal day",
          "Normal day",
          "Normal day",
          "Normal day",
          "Normal day",
          "Normal day",
          "Normal day",
          "Normal day",
          "Normal day",
          "Normal day",
          "Normal day",
          "Normal day",
          "Normal day",
          "Normal day",
          "Normal day",
          "Normal day",
          "Normal day",
          "Normal day",
          "Normal day",
          "Normal day",
          "Normal day",
          "Normal day",
          "Normal day",
          "Normal day",
          "Normal day",
          "Normal day",
          "Normal day",
          "Normal day",
          "Normal day",
          "Normal day",
          "Normal day",
          "Normal day",
          "Normal day",
          "Normal day",
          "Normal day",
          "Normal day",
          "Normal day",
          "Normal day",
          "Normal day",
          "Normal day",
          "Normal day",
          "Normal day",
          "Normal day",
          "Normal day",
          "Normal day",
          "Normal day",
          "Normal day",
          "Normal day",
          "Normal day",
          "Normal day",
          "Normal day",
          "Normal day",
          "Normal day",
          "Normal day",
          "Normal day",
          "Normal day",
          "Normal day",
          "Normal day",
          "Normal day",
          "Normal day",
          "Normal day",
          "Normal day",
          "Normal day",
          "Normal day",
          "Normal day",
          "Normal day",
          "Normal day",
          "Normal day",
          "Normal day",
          "Normal day",
          "Normal day",
          "Normal day",
          "Normal day",
          "Normal day",
          "Normal day",
          "Normal day",
          "Normal day",
          "Normal day",
          "Normal day",
          "Normal day",
          "Normal day",
          "Normal day",
          "Normal day",
          "Normal day",
          "Normal day",
          "Normal day",
          "Normal day",
          "Normal day",
          "Normal day",
          "Normal day",
          "Normal day",
          "Normal day",
          "Normal day",
          "Normal day",
          "Normal day",
          "Normal day",
          "Normal day",
          "Normal day",
          "Normal day",
          "Normal day",
          "Normal day",
          "Normal day",
          "Normal day",
          "Normal day",
          "Normal day",
          "Normal day",
          "Normal day",
          "Normal day",
          "Normal day",
          "Normal day",
          "Normal day",
          "Normal day",
          "Normal day",
          "Normal day",
          "Normal day",
          "Normal day",
          "Normal day",
          "Normal day",
          "Normal day",
          "Normal day",
          "Normal day",
          "Normal day",
          "Normal day",
          "Normal day",
          "Normal day",
          "Normal day",
          "Normal day",
          "Normal day",
          "Normal day",
          "Normal day",
          "Normal day",
          "Normal day",
          "Normal day",
          "Normal day",
          "Normal day",
          "Normal day",
          "Normal day",
          "Normal day",
          "Normal day",
          "Normal day",
          "Normal day",
          "Normal day",
          "Normal day",
          "Normal day",
          "Normal day",
          "Normal day",
          "Normal day",
          "Normal day",
          "Normal day",
          "Normal day",
          "Normal day",
          "Normal day",
          "Normal day",
          "Normal day",
          "Normal day",
          "Normal day",
          "Normal day",
          "Normal day",
          "Normal day",
          "Normal day",
          "Normal day",
          "Normal day",
          "Normal day",
          "Normal day",
          "Normal day",
          "Normal day",
          "Normal day",
          "Normal day",
          "Normal day",
          "Normal day",
          "Normal day",
          "Normal day",
          "Normal day",
          "Normal day",
          "Normal day",
          "Normal day",
          "Normal day",
          "Normal day",
          "Normal day",
          "Normal day",
          "Normal day",
          "Normal day",
          "Normal day",
          "Normal day",
          "Normal day",
          "Normal day",
          "Normal day",
          "Normal day",
          "Normal day",
          "Normal day",
          "Normal day",
          "Normal day",
          "Normal day",
          "Normal day",
          "Normal day",
          "Normal day",
          "Normal day",
          "Normal day",
          "Normal day",
          "Normal day",
          "Normal day",
          "Normal day",
          "Normal day",
          "Normal day",
          "Normal day",
          "Normal day",
          "Normal day",
          "Normal day",
          "Normal day",
          "Normal day",
          "Normal day",
          "Normal day",
          "Normal day",
          "Normal day",
          "Normal day",
          "Normal day",
          "Normal day",
          "Normal day",
          "Normal day",
          "Normal day",
          "Normal day",
          "Normal day",
          "Normal day",
          "Normal day",
          "Normal day",
          "Normal day",
          "Normal day",
          "Normal day",
          "Normal day",
          "Normal day",
          "Normal day",
          "Normal day",
          "Normal day",
          "Normal day",
          "Normal day",
          "Normal day",
          "Normal day",
          "Normal day",
          "Normal day",
          "Normal day",
          "Normal day",
          "Normal day",
          "Normal day",
          "Normal day",
          "Normal day",
          "Normal day",
          "Normal day",
          "Normal day",
          "Normal day",
          "Normal day",
          "Normal day",
          "Normal day",
          "Normal day",
          "Normal day",
          "Normal day",
          "Normal day",
          "Normal day",
          "Normal day",
          "Normal day",
          "Normal day",
          "Normal day",
          "Normal day",
          "Normal day",
          "Normal day",
          "Normal day",
          "Normal day",
          "Normal day",
          "Normal day",
          "Normal day",
          "Normal day",
          "Normal day",
          "Normal day",
          "Normal day",
          "Normal day",
          "Normal day",
          "Normal day",
          "Normal day",
          "Normal day",
          "Normal day",
          "Normal day",
          "Normal day",
          "Normal day",
          "Normal day",
          "Normal day",
          "Normal day",
          "Normal day",
          "Normal day",
          "Normal day",
          "Normal day",
          "Normal day",
          "Normal day",
          "Normal day",
          "Normal day",
          "Normal day",
          "Normal day",
          "Normal day",
          "Normal day",
          "Normal day",
          "Normal day",
          "Normal day",
          "Normal day",
          "Normal day",
          "Normal day",
          "Normal day",
          "Normal day",
          "Normal day",
          "Normal day",
          "Normal day",
          "Normal day",
          "Normal day",
          "Normal day",
          "Normal day",
          "Normal day",
          "Normal day",
          "Normal day",
          "Normal day",
          "Normal day",
          "Normal day",
          "Normal day",
          "Normal day",
          "Normal day",
          "Normal day",
          "Normal day",
          "Normal day",
          "Normal day",
          "Normal day",
          "Normal day",
          "Normal day",
          "Normal day",
          "Normal day",
          "Normal day",
          "Normal day",
          "Normal day",
          "Normal day",
          "Normal day",
          "Normal day",
          "Holiday",
          "Normal day",
          "Normal day",
          "Normal day",
          "Normal day",
          "Normal day",
          "Normal day",
          "Normal day",
          "Normal day",
          "Normal day",
          "Normal day",
          "Normal day",
          "Normal day",
          "Holiday",
          "Normal day",
          "Normal day",
          "Holiday",
          "Holiday",
          "Normal day",
          "Normal day",
          "Normal day",
          "Normal day",
          "Normal day",
          "Normal day",
          "Normal day",
          "Normal day",
          "Normal day",
          "Normal day",
          "Normal day",
          "Normal day",
          "Normal day",
          "Normal day",
          "Normal day",
          "Normal day",
          "Normal day",
          "Normal day",
          "Normal day",
          "Normal day",
          "Normal day",
          "Normal day",
          "Normal day",
          "Normal day",
          "Normal day",
          "Normal day",
          "Normal day",
          "Normal day",
          "Normal day",
          "Normal day",
          "Normal day",
          "Normal day",
          "Normal day",
          "Normal day",
          "Normal day",
          "Normal day",
          "Holiday",
          "Normal day",
          "Normal day",
          "Normal day",
          "Normal day",
          "Normal day",
          "Normal day",
          "Normal day",
          "Normal day",
          "Normal day",
          "Holiday",
          "Normal day",
          "Normal day",
          "Normal day",
          "Normal day",
          "Normal day",
          "Normal day",
          "Normal day",
          "Normal day",
          "Normal day",
          "Normal day",
          "Holiday",
          "Normal day",
          "Normal day",
          "Normal day",
          "Normal day",
          "Normal day",
          "Holiday",
          "Normal day",
          "Normal day",
          "Normal day",
          "Normal day",
          "Holiday",
          "Normal day",
          "Normal day",
          "Normal day",
          "Normal day",
          "Normal day",
          "Normal day",
          "Normal day",
          "Normal day",
          "Normal day",
          "Holiday",
          "Normal day",
          "Normal day",
          "Normal day",
          "Normal day",
          "Normal day",
          "Normal day",
          "Normal day",
          "Normal day",
          "Normal day",
          "Normal day",
          "Holiday",
          "Normal day",
          "Normal day",
          "Normal day",
          "Normal day",
          "Normal day",
          "Normal day",
          "Normal day",
          "Normal day",
          "Normal day",
          "Normal day",
          "Normal day",
          "Normal day",
          "Normal day",
          "Holiday",
          "Normal day",
          "Normal day",
          "Normal day",
          "Normal day",
          "Normal day",
          "Normal day",
          "Normal day",
          "Normal day",
          "Normal day",
          "Normal day",
          "Normal day",
          "Normal day",
          "Normal day",
          "Normal day",
          "Normal day",
          "Normal day",
          "Normal day",
          "Normal day",
          "Holiday",
          "Normal day",
          "Normal day",
          "Normal day",
          "Normal day",
          "Normal day",
          "Normal day",
          "Normal day",
          "Normal day",
          "Holiday",
          "Normal day",
          "Normal day",
          "Normal day",
          "Normal day",
          "Normal day",
          "Normal day",
          "Normal day",
          "Normal day",
          "Normal day",
          "Normal day",
          "Normal day",
          "Normal day",
          "Normal day",
          "Normal day",
          "Normal day",
          "Normal day",
          "Normal day",
          "Normal day",
          "Normal day",
          "Normal day",
          "Normal day",
          "Normal day",
          "Normal day",
          "Normal day",
          "Normal day",
          "Normal day",
          "Normal day",
          "Normal day",
          "Normal day",
          "Normal day",
          "Normal day",
          "Normal day",
          "Normal day",
          "Normal day",
          "Normal day",
          "Normal day",
          "Normal day",
          "Normal day",
          "Normal day",
          "Normal day",
          "Normal day",
          "Normal day",
          "Normal day",
          "Normal day",
          "Normal day",
          "Normal day",
          "Normal day",
          "Normal day",
          "Normal day",
          "Normal day",
          "Normal day",
          "Normal day",
          "Holiday",
          "Normal day",
          "Normal day",
          "Normal day",
          "Holiday",
          "Normal day",
          "Normal day",
          "Normal day",
          "Normal day",
          "Normal day",
          "Normal day",
          "Normal day",
          "Normal day",
          "Normal day",
          "Normal day",
          "Holiday",
          "Normal day",
          "Normal day",
          "Normal day",
          "Normal day",
          "Normal day",
          "Normal day",
          "Normal day",
          "Normal day",
          "Normal day",
          "Normal day",
          "Normal day",
          "Normal day",
          "Normal day",
          "Normal day",
          "Normal day",
          "Normal day",
          "Normal day",
          "Normal day",
          "Normal day",
          "Normal day",
          "Normal day",
          "Normal day",
          "Normal day",
          "Holiday",
          "Normal day",
          "Normal day",
          "Normal day",
          "Normal day",
          "Normal day",
          "Normal day",
          "Normal day",
          "Holiday",
          "Holiday",
          "Normal day",
          "Normal day",
          "Normal day",
          "Normal day",
          "Normal day",
          "Normal day",
          "Normal day",
          "Normal day",
          "Normal day",
          "Normal day",
          "Normal day",
          "Holiday",
          "Normal day",
          "Normal day",
          "Normal day",
          "Normal day",
          "Normal day",
          "Normal day",
          "Normal day",
          "Normal day",
          "Normal day",
          "Normal day",
          "Normal day",
          "Normal day",
          "Normal day",
          "Normal day",
          "Normal day",
          "Normal day",
          "Normal day",
          "Normal day",
          "Normal day",
          "Normal day",
          "Normal day",
          "Normal day",
          "Normal day",
          "Normal day",
          "Normal day",
          "Normal day",
          "Normal day",
          "Normal day",
          "Normal day",
          "Normal day",
          "Normal day",
          "Normal day",
          "Normal day",
          "Holiday",
          "Normal day",
          "Normal day",
          "Normal day",
          "Normal day",
          "Normal day",
          "Normal day",
          "Normal day",
          "Normal day",
          "Normal day",
          "Normal day",
          "Normal day",
          "Normal day",
          "Normal day",
          "Normal day",
          "Normal day",
          "Normal day",
          "Normal day",
          "Holiday",
          "Normal day",
          "Normal day",
          "Normal day",
          "Holiday",
          "Normal day",
          "Normal day",
          "Normal day",
          "Normal day",
          "Normal day",
          "Normal day",
          "Normal day",
          "Normal day",
          "Normal day",
          "Holiday",
          "Holiday",
          "Normal day",
          "Normal day",
          "Normal day",
          "Normal day",
          "Normal day",
          "Normal day",
          "Normal day",
          "Normal day",
          "Normal day",
          "Normal day",
          "Normal day",
          "Normal day",
          "Normal day",
          "Normal day",
          "Normal day",
          "Normal day",
          "Normal day",
          "Normal day",
          "Normal day",
          "Normal day",
          "Normal day",
          "Normal day",
          "Normal day",
          "Normal day",
          "Normal day",
          "Normal day",
          "Normal day",
          "Normal day",
          "Normal day",
          "Normal day",
          "Normal day",
          "Normal day",
          "Normal day",
          "Normal day",
          "Normal day",
          "Normal day",
          "Normal day",
          "Normal day",
          "Normal day",
          "Normal day",
          "Normal day",
          "Normal day",
          "Normal day",
          "Normal day",
          "Normal day",
          "Normal day",
          "Normal day",
          "Normal day",
          "Holiday",
          "Normal day",
          "Normal day",
          "Normal day",
          "Normal day",
          "Normal day",
          "Normal day",
          "Normal day",
          "Normal day",
          "Normal day",
          "Normal day",
          "Normal day",
          "Normal day",
          "Normal day",
          "Normal day",
          "Normal day",
          "Normal day",
          "Holiday",
          "Normal day",
          "Normal day",
          "Normal day",
          "Normal day",
          "Normal day",
          "Holiday",
          "Normal day",
          "Normal day",
          "Normal day",
          "Normal day",
          "Normal day",
          "Normal day",
          "Normal day",
          "Normal day",
          "Normal day",
          "Holiday",
          "Normal day",
          "Normal day",
          "Normal day",
          "Normal day",
          "Normal day",
          "Normal day",
          "Normal day",
          "Normal day",
          "Holiday",
          "Normal day",
          "Normal day",
          "Normal day",
          "Normal day",
          "Normal day",
          "Normal day",
          "Normal day",
          "Normal day",
          "Holiday",
          "Normal day",
          "Normal day",
          "Normal day",
          "Normal day",
          "Normal day",
          "Holiday",
          "Normal day",
          "Holiday",
          "Normal day",
          "Holiday",
          "Normal day",
          "Normal day",
          "Normal day",
          "Normal day",
          "Normal day",
          "Normal day",
          "Normal day",
          "Normal day",
          "Normal day",
          "Normal day",
          "Normal day",
          "Normal day",
          "Normal day",
          "Normal day",
          "Normal day",
          "Normal day",
          "Normal day",
          "Normal day",
          "Normal day",
          "Normal day",
          "Normal day",
          "Normal day",
          "Holiday",
          "Holiday",
          "Normal day",
          "Normal day",
          "Normal day",
          "Normal day",
          "Normal day",
          "Normal day",
          "Normal day",
          "Normal day",
          "Normal day",
          "Normal day",
          "Holiday",
          "Normal day",
          "Normal day",
          "Normal day",
          "Normal day",
          "Normal day",
          "Normal day",
          "Normal day",
          "Normal day",
          "Normal day",
          "Normal day",
          "Normal day",
          "Normal day",
          "Normal day",
          "Normal day",
          "Normal day",
          "Normal day",
          "Normal day",
          "Normal day",
          "Normal day",
          "Normal day",
          "Normal day",
          "Normal day",
          "Holiday",
          "Normal day",
          "Normal day",
          "Normal day",
          "Normal day",
          "Normal day",
          "Normal day",
          "Normal day",
          "Normal day",
          "Normal day",
          "Normal day",
          "Normal day",
          "Normal day",
          "Normal day",
          "Normal day",
          "Normal day",
          "Normal day",
          "Normal day",
          "Normal day",
          "Holiday",
          "Normal day",
          "Holiday",
          "Normal day",
          "Normal day",
          "Normal day",
          "Normal day",
          "Normal day",
          "Normal day",
          "Normal day",
          "Normal day",
          "Normal day",
          "Normal day",
          "Normal day",
          "Normal day",
          "Normal day",
          "Normal day",
          "Normal day",
          "Normal day",
          "Normal day",
          "Normal day",
          "Holiday",
          "Normal day",
          "Normal day",
          "Normal day",
          "Normal day",
          "Normal day",
          "Normal day",
          "Normal day",
          "Normal day",
          "Normal day",
          "Normal day",
          "Holiday",
          "Normal day",
          "Normal day",
          "Normal day",
          "Normal day",
          "Normal day",
          "Normal day",
          "Normal day",
          "Normal day",
          "Normal day",
          "Holiday",
          "Normal day",
          "Holiday",
          "Normal day",
          "Normal day",
          "Normal day",
          "Normal day",
          "Holiday",
          "Normal day",
          "Normal day",
          "Normal day",
          "Normal day",
          "Normal day",
          "Normal day",
          "Normal day",
          "Normal day",
          "Normal day",
          "Normal day",
          "Normal day",
          "Normal day",
          "Normal day",
          "Holiday",
          "Normal day",
          "Normal day",
          "Holiday",
          "Normal day",
          "Normal day",
          "Normal day",
          "Normal day",
          "Normal day",
          "Normal day",
          "Normal day",
          "Normal day",
          "Normal day",
          "Normal day",
          "Normal day",
          "Normal day",
          "Normal day",
          "Normal day",
          "Normal day",
          "Normal day",
          "Normal day",
          "Normal day",
          "Normal day",
          "Normal day",
          "Normal day",
          "Holiday",
          "Normal day",
          "Normal day",
          "Holiday",
          "Normal day",
          "Normal day",
          "Normal day",
          "Normal day",
          "Normal day",
          "Normal day",
          "Normal day",
          "Normal day",
          "Normal day",
          "Normal day",
          "Normal day",
          "Normal day",
          "Normal day",
          "Normal day",
          "Normal day",
          "Normal day",
          "Holiday",
          "Normal day",
          "Normal day",
          "Normal day",
          "Normal day",
          "Normal day",
          "Normal day",
          "Normal day",
          "Normal day",
          "Normal day",
          "Normal day",
          "Normal day",
          "Normal day",
          "Normal day",
          "Normal day",
          "Normal day",
          "Normal day",
          "Normal day",
          "Normal day",
          "Normal day",
          "Normal day",
          "Normal day",
          "Normal day",
          "Normal day",
          "Normal day",
          "Normal day",
          "Normal day",
          "Normal day",
          "Normal day",
          "Normal day",
          "Normal day",
          "Holiday",
          "Normal day",
          "Normal day",
          "Normal day",
          "Normal day",
          "Normal day",
          "Normal day",
          "Normal day",
          "Normal day",
          "Normal day",
          "Normal day",
          "Holiday",
          "Normal day",
          "Normal day",
          "Holiday",
          "Normal day",
          "Normal day",
          "Normal day",
          "Normal day",
          "Normal day",
          "Normal day",
          "Normal day",
          "Normal day",
          "Normal day",
          "Normal day",
          "Normal day",
          "Normal day",
          "Normal day",
          "Normal day",
          "Normal day",
          "Normal day",
          "Normal day",
          "Normal day",
          "Normal day",
          "Normal day",
          "Holiday",
          "Normal day",
          "Normal day",
          "Normal day",
          "Normal day",
          "Normal day",
          "Normal day",
          "Normal day",
          "Normal day",
          "Normal day",
          "Normal day",
          "Normal day",
          "Normal day",
          "Normal day",
          "Normal day",
          "Normal day",
          "Normal day",
          "Normal day",
          "Normal day",
          "Holiday",
          "Normal day",
          "Normal day",
          "Normal day",
          "Normal day",
          "Normal day",
          "Normal day",
          "Normal day",
          "Normal day",
          "Holiday",
          "Normal day",
          "Holiday",
          "Normal day",
          "Normal day",
          "Holiday",
          "Normal day",
          "Normal day",
          "Normal day",
          "Normal day",
          "Holiday",
          "Normal day",
          "Normal day",
          "Normal day",
          "Normal day",
          "Holiday",
          "Normal day",
          "Normal day",
          "Normal day",
          "Normal day",
          "Holiday",
          "Normal day",
          "Normal day",
          "Normal day",
          "Normal day",
          "Normal day",
          "Normal day",
          "Holiday",
          "Holiday",
          "Normal day",
          "Normal day",
          "Normal day",
          "Normal day",
          "Normal day",
          "Normal day",
          "Normal day",
          "Normal day",
          "Normal day",
          "Holiday",
          "Normal day",
          "Normal day",
          "Normal day",
          "Normal day",
          "Normal day",
          "Normal day",
          "Normal day",
          "Normal day",
          "Normal day",
          "Normal day",
          "Normal day",
          "Normal day",
          "Normal day",
          "Normal day",
          "Normal day",
          "Holiday",
          "Normal day",
          "Normal day",
          "Normal day",
          "Normal day",
          "Normal day",
          "Normal day",
          "Normal day",
          "Normal day",
          "Normal day",
          "Normal day",
          "Normal day",
          "Normal day",
          "Normal day",
          "Normal day",
          "Normal day",
          "Normal day",
          "Normal day",
          "Normal day",
          "Normal day",
          "Normal day",
          "Holiday",
          "Holiday",
          "Normal day",
          "Normal day",
          "Normal day",
          "Normal day",
          "Normal day",
          "Normal day",
          "Holiday",
          "Normal day",
          "Normal day",
          "Normal day",
          "Normal day",
          "Normal day",
          "Normal day",
          "Normal day",
          "Normal day",
          "Normal day",
          "Normal day",
          "Normal day",
          "Normal day",
          "Normal day",
          "Normal day",
          "Normal day",
          "Normal day",
          "Normal day",
          "Normal day",
          "Normal day",
          "Normal day",
          "Normal day",
          "Normal day",
          "Normal day",
          "Normal day",
          "Normal day",
          "Normal day",
          "Normal day",
          "Normal day",
          "Normal day",
          "Normal day",
          "Holiday",
          "Normal day",
          "Normal day",
          "Normal day",
          "Normal day",
          "Normal day",
          "Holiday",
          "Normal day",
          "Normal day",
          "Normal day",
          "Normal day",
          "Normal day",
          "Normal day",
          "Normal day",
          "Normal day",
          "Normal day",
          "Normal day",
          "Normal day",
          "Normal day",
          "Normal day",
          "Normal day",
          "Normal day",
          "Normal day",
          "Normal day",
          "Normal day",
          "Normal day",
          "Normal day",
          "Normal day",
          "Normal day",
          "Holiday",
          "Normal day",
          "Normal day",
          "Normal day",
          "Normal day",
          "Normal day",
          "Normal day",
          "Normal day",
          "Normal day",
          "Normal day",
          "Normal day",
          "Normal day",
          "Normal day",
          "Normal day",
          "Normal day",
          "Normal day",
          "Normal day",
          "Normal day",
          "Normal day",
          "Normal day",
          "Normal day",
          "Holiday",
          "Normal day",
          "Normal day",
          "Normal day",
          "Normal day",
          "Normal day",
          "Normal day",
          "Normal day",
          "Normal day",
          "Normal day",
          "Normal day",
          "Normal day",
          "Normal day",
          "Normal day",
          "Normal day",
          "Holiday",
          "Normal day",
          "Normal day",
          "Normal day",
          "Normal day",
          "Holiday",
          "Normal day",
          "Normal day",
          "Normal day",
          "Normal day",
          "Normal day",
          "Normal day",
          "Normal day",
          "Normal day",
          "Normal day",
          "Normal day",
          "Normal day",
          "Normal day",
          "Normal day",
          "Normal day",
          "Normal day",
          "Normal day",
          "Normal day",
          "Normal day",
          "Normal day",
          "Normal day",
          "Normal day",
          "Normal day",
          "Normal day",
          "Normal day",
          "Normal day",
          "Normal day",
          "Normal day",
          "Normal day",
          "Normal day",
          "Normal day",
          "Normal day",
          "Normal day",
          "Normal day",
          "Normal day",
          "Normal day",
          "Normal day",
          "Normal day",
          "Normal day",
          "Normal day",
          "Normal day",
          "Normal day",
          "Normal day",
          "Normal day",
          "Holiday",
          "Normal day",
          "Normal day",
          "Holiday",
          "Normal day",
          "Normal day",
          "Normal day",
          "Normal day",
          "Normal day",
          "Normal day",
          "Normal day",
          "Normal day",
          "Normal day",
          "Normal day",
          "Normal day",
          "Normal day",
          "Holiday",
          "Normal day",
          "Holiday",
          "Holiday",
          "Normal day",
          "Normal day",
          "Normal day",
          "Normal day",
          "Normal day",
          "Normal day",
          "Normal day",
          "Normal day",
          "Normal day",
          "Normal day",
          "Normal day",
          "Normal day",
          "Normal day",
          "Normal day",
          "Normal day",
          "Normal day",
          "Normal day",
          "Normal day",
          "Normal day",
          "Normal day",
          "Normal day",
          "Normal day",
          "Normal day",
          "Normal day",
          "Normal day",
          "Normal day",
          "Normal day",
          "Normal day",
          "Normal day",
          "Normal day",
          "Normal day",
          "Normal day",
          "Normal day",
          "Normal day",
          "Normal day",
          "Normal day",
          "Normal day",
          "Normal day",
          "Normal day",
          "Normal day",
          "Normal day",
          "Normal day",
          "Normal day",
          "Normal day",
          "Normal day",
          "Normal day",
          "Normal day",
          "Normal day",
          "Normal day",
          "Normal day",
          "Normal day",
          "Normal day",
          "Normal day",
          "Holiday",
          "Normal day",
          "Normal day",
          "Normal day",
          "Normal day",
          "Normal day",
          "Normal day",
          "Normal day",
          "Holiday",
          "Normal day",
          "Normal day",
          "Normal day",
          "Normal day",
          "Normal day",
          "Normal day",
          "Normal day",
          "Normal day",
          "Holiday",
          "Normal day",
          "Normal day",
          "Normal day",
          "Normal day",
          "Normal day",
          "Normal day",
          "Holiday",
          "Normal day",
          "Normal day",
          "Normal day",
          "Normal day",
          "Normal day",
          "Normal day",
          "Normal day",
          "Normal day",
          "Normal day",
          "Normal day",
          "Normal day",
          "Normal day",
          "Normal day",
          "Normal day",
          "Normal day",
          "Normal day",
          "Normal day",
          "Normal day",
          "Normal day",
          "Normal day",
          "Normal day",
          "Normal day",
          "Normal day",
          "Normal day",
          "Normal day",
          "Normal day",
          "Normal day",
          "Normal day",
          "Normal day",
          "Normal day",
          "Normal day",
          "Normal day",
          "Normal day",
          "Normal day",
          "Normal day",
          "Normal day",
          "Normal day",
          "Normal day",
          "Normal day",
          "Normal day",
          "Normal day",
          "Normal day",
          "Normal day",
          "Normal day",
          "Normal day",
          "Normal day",
          "Holiday",
          "Normal day",
          "Normal day",
          "Normal day",
          "Normal day",
          "Normal day",
          "Normal day",
          "Normal day",
          "Normal day",
          "Normal day",
          "Normal day",
          "Normal day",
          "Normal day",
          "Normal day",
          "Normal day",
          "Normal day",
          "Normal day",
          "Normal day",
          "Normal day",
          "Normal day",
          "Normal day",
          "Normal day",
          "Normal day",
          "Normal day",
          "Normal day",
          "Normal day",
          "Normal day",
          "Normal day",
          "Normal day",
          "Normal day",
          "Normal day",
          "Normal day",
          "Normal day",
          "Normal day",
          "Normal day",
          "Normal day",
          "Normal day",
          "Normal day",
          "Holiday",
          "Normal day",
          "Normal day",
          "Normal day",
          "Normal day",
          "Normal day",
          "Normal day",
          "Normal day",
          "Normal day",
          "Normal day",
          "Normal day",
          "Normal day",
          "Normal day",
          "Normal day",
          "Normal day",
          "Normal day",
          "Normal day",
          "Normal day",
          "Normal day",
          "Normal day",
          "Normal day",
          "Normal day",
          "Normal day",
          "Normal day",
          "Normal day",
          "Holiday",
          "Normal day",
          "Normal day",
          "Normal day",
          "Normal day",
          "Normal day",
          "Normal day",
          "Normal day",
          "Normal day",
          "Normal day",
          "Normal day",
          "Normal day",
          "Normal day",
          "Normal day",
          "Normal day",
          "Normal day",
          "Holiday",
          "Normal day",
          "Normal day",
          "Normal day",
          "Normal day",
          "Normal day",
          "Normal day",
          "Normal day",
          "Normal day",
          "Normal day",
          "Normal day",
          "Normal day",
          "Normal day",
          "Normal day",
          "Normal day",
          "Holiday",
          "Normal day",
          "Normal day",
          "Normal day",
          "Normal day",
          "Normal day",
          "Normal day",
          "Normal day",
          "Normal day",
          "Normal day",
          "Normal day",
          "Normal day",
          "Normal day",
          "Normal day",
          "Normal day",
          "Normal day",
          "Normal day",
          "Normal day",
          "Normal day",
          "Normal day",
          "Normal day",
          "Normal day",
          "Normal day",
          "Normal day",
          "Normal day",
          "Normal day",
          "Normal day",
          "Normal day",
          "Normal day",
          "Normal day",
          "Normal day",
          "Normal day",
          "Normal day",
          "Normal day",
          "Normal day",
          "Normal day",
          "Normal day",
          "Normal day",
          "Normal day",
          "Normal day",
          "Normal day",
          "Normal day",
          "Normal day",
          "Normal day",
          "Normal day",
          "Normal day",
          "Normal day",
          "Normal day",
          "Normal day",
          "Normal day",
          "Normal day",
          "Normal day",
          "Normal day",
          "Normal day",
          "Normal day",
          "Normal day",
          "Normal day",
          "Normal day",
          "Normal day",
          "Normal day",
          "Normal day",
          "Normal day",
          "Normal day",
          "Normal day",
          "Normal day",
          "Normal day",
          "Normal day",
          "Normal day",
          "Normal day",
          "Normal day",
          "Normal day",
          "Normal day",
          "Normal day",
          "Normal day",
          "Normal day",
          "Normal day",
          "Normal day",
          "Normal day",
          "Normal day",
          "Normal day",
          "Normal day",
          "Normal day",
          "Normal day",
          "Normal day",
          "Normal day",
          "Normal day",
          "Normal day",
          "Normal day",
          "Normal day",
          "Normal day",
          "Normal day",
          "Normal day",
          "Normal day",
          "Normal day",
          "Normal day",
          "Normal day",
          "Normal day",
          "Normal day",
          "Normal day",
          "Normal day",
          "Normal day",
          "Normal day",
          "Normal day",
          "Normal day",
          "Normal day",
          "Normal day",
          "Normal day",
          "Normal day",
          "Normal day",
          "Normal day",
          "Normal day",
          "Normal day",
          "Normal day",
          "Normal day",
          "Normal day",
          "Normal day",
          "Normal day",
          "Normal day",
          "Normal day",
          "Normal day",
          "Normal day",
          "Normal day",
          "Normal day",
          "Normal day",
          "Normal day",
          "Normal day",
          "Normal day",
          "Normal day",
          "Normal day",
          "Normal day",
          "Normal day",
          "Normal day",
          "Normal day",
          "Normal day",
          "Normal day",
          "Normal day",
          "Normal day",
          "Normal day",
          "Normal day",
          "Normal day",
          "Normal day",
          "Normal day",
          "Normal day",
          "Normal day",
          "Normal day",
          "Normal day",
          "Normal day",
          "Normal day",
          "Normal day",
          "Normal day",
          "Normal day",
          "Normal day",
          "Normal day",
          "Normal day",
          "Normal day",
          "Normal day",
          "Normal day",
          "Normal day",
          "Normal day",
          "Normal day",
          "Normal day",
          "Normal day",
          "Normal day",
          "Normal day",
          "Normal day",
          "Normal day",
          "Normal day",
          "Normal day",
          "Normal day",
          "Normal day",
          "Normal day",
          "Normal day",
          "Normal day",
          "Normal day",
          "Normal day",
          "Normal day",
          "Normal day",
          "Normal day",
          "Normal day",
          "Normal day",
          "Normal day",
          "Normal day",
          "Normal day",
          "Normal day",
          "Normal day",
          "Normal day",
          "Normal day",
          "Normal day",
          "Normal day",
          "Normal day",
          "Normal day",
          "Normal day",
          "Normal day",
          "Normal day",
          "Normal day",
          "Normal day",
          "Normal day",
          "Normal day",
          "Normal day",
          "Normal day",
          "Normal day",
          "Normal day",
          "Normal day",
          "Normal day",
          "Normal day",
          "Normal day",
          "Normal day",
          "Normal day",
          "Normal day",
          "Normal day",
          "Normal day",
          "Normal day",
          "Normal day",
          "Normal day",
          "Normal day",
          "Normal day",
          "Normal day",
          "Normal day",
          "Normal day",
          "Normal day",
          "Normal day",
          "Normal day",
          "Normal day",
          "Normal day",
          "Normal day",
          "Normal day",
          "Normal day",
          "Normal day",
          "Normal day",
          "Normal day",
          "Normal day",
          "Normal day",
          "Normal day",
          "Normal day",
          "Normal day",
          "Normal day",
          "Normal day",
          "Normal day",
          "Normal day",
          "Normal day",
          "Normal day",
          "Normal day",
          "Normal day",
          "Normal day",
          "Normal day",
          "Normal day",
          "Normal day",
          "Normal day",
          "Normal day",
          "Normal day",
          "Normal day",
          "Normal day",
          "Normal day",
          "Normal day",
          "Normal day",
          "Normal day",
          "Normal day",
          "Normal day",
          "Normal day",
          "Normal day",
          "Normal day",
          "Normal day",
          "Normal day",
          "Normal day",
          "Normal day",
          "Normal day",
          "Normal day",
          "Normal day",
          "Normal day",
          "Normal day",
          "Normal day",
          "Normal day",
          "Normal day",
          "Normal day",
          "Normal day",
          "Normal day",
          "Normal day",
          "Normal day",
          "Normal day",
          "Normal day",
          "Normal day",
          "Normal day",
          "Normal day",
          "Normal day",
          "Normal day",
          "Normal day",
          "Normal day",
          "Normal day",
          "Normal day",
          "Normal day",
          "Normal day",
          "Normal day",
          "Normal day",
          "Normal day",
          "Normal day",
          "Normal day",
          "Normal day",
          "Normal day",
          "Normal day",
          "Normal day",
          "Normal day",
          "Normal day",
          "Normal day",
          "Normal day",
          "Normal day",
          "Normal day",
          "Normal day",
          "Normal day",
          "Normal day",
          "Normal day",
          "Normal day",
          "Normal day",
          "Normal day",
          "Normal day",
          "Normal day",
          "Normal day",
          "Normal day",
          "Normal day",
          "Normal day",
          "Normal day",
          "Normal day",
          "Normal day",
          "Normal day",
          "Normal day",
          "Normal day",
          "Normal day",
          "Normal day",
          "Normal day",
          "Normal day",
          "Normal day",
          "Normal day",
          "Normal day",
          "Normal day",
          "Normal day",
          "Normal day",
          "Normal day",
          "Normal day",
          "Normal day",
          "Normal day",
          "Normal day",
          "Normal day",
          "Normal day",
          "Normal day",
          "Normal day",
          "Normal day",
          "Normal day",
          "Normal day",
          "Normal day",
          "Normal day",
          "Normal day",
          "Normal day",
          "Normal day",
          "Normal day",
          "Normal day",
          "Normal day",
          "Normal day",
          "Normal day",
          "Normal day",
          "Normal day",
          "Normal day",
          "Normal day",
          "Normal day",
          "Normal day",
          "Normal day",
          "Normal day",
          "Normal day",
          "Normal day",
          "Normal day",
          "Normal day",
          "Normal day",
          "Normal day",
          "Normal day",
          "Normal day",
          "Normal day",
          "Normal day",
          "Normal day",
          "Normal day",
          "Normal day",
          "Normal day",
          "Normal day",
          "Normal day",
          "Normal day",
          "Normal day",
          "Normal day",
          "Normal day",
          "Normal day",
          "Normal day",
          "Normal day",
          "Normal day",
          "Normal day",
          "Normal day",
          "Normal day",
          "Normal day",
          "Normal day",
          "Normal day",
          "Normal day",
          "Normal day",
          "Normal day",
          "Normal day",
          "Normal day",
          "Normal day",
          "Normal day",
          "Normal day",
          "Normal day",
          "Normal day",
          "Normal day",
          "Normal day",
          "Normal day",
          "Normal day",
          "Normal day",
          "Normal day",
          "Normal day",
          "Normal day",
          "Normal day",
          "Normal day",
          "Normal day",
          "Normal day",
          "Normal day",
          "Normal day",
          "Normal day",
          "Normal day",
          "Normal day",
          "Normal day",
          "Normal day",
          "Normal day",
          "Normal day",
          "Normal day",
          "Normal day",
          "Normal day",
          "Normal day",
          "Normal day",
          "Normal day",
          "Normal day",
          "Normal day",
          "Normal day",
          "Normal day",
          "Normal day",
          "Normal day",
          "Normal day",
          "Normal day",
          "Normal day",
          "Normal day",
          "Normal day",
          "Normal day",
          "Normal day",
          "Normal day",
          "Normal day",
          "Normal day",
          "Normal day",
          "Normal day",
          "Normal day",
          "Normal day",
          "Normal day",
          "Normal day",
          "Normal day",
          "Normal day",
          "Normal day",
          "Normal day",
          "Normal day",
          "Normal day",
          "Normal day",
          "Normal day",
          "Normal day",
          "Normal day",
          "Normal day",
          "Normal day",
          "Normal day",
          "Normal day",
          "Normal day",
          "Normal day",
          "Normal day",
          "Normal day",
          "Normal day",
          "Normal day",
          "Normal day",
          "Normal day",
          "Normal day",
          "Normal day",
          "Normal day",
          "Normal day",
          "Normal day",
          "Normal day",
          "Normal day",
          "Normal day",
          "Normal day",
          "Normal day",
          "Normal day",
          "Normal day",
          "Normal day",
          "Normal day",
          "Normal day",
          "Normal day",
          "Normal day",
          "Normal day",
          "Normal day",
          "Normal day",
          "Normal day",
          "Normal day",
          "Normal day",
          "Normal day",
          "Normal day",
          "Normal day",
          "Normal day",
          "Normal day",
          "Normal day",
          "Normal day",
          "Normal day",
          "Normal day",
          "Normal day",
          "Normal day",
          "Normal day",
          "Normal day",
          "Normal day",
          "Normal day",
          "Normal day",
          "Normal day",
          "Normal day",
          "Normal day",
          "Normal day",
          "Normal day",
          "Normal day",
          "Normal day",
          "Normal day",
          "Normal day",
          "Normal day",
          "Normal day",
          "Normal day",
          "Normal day",
          "Normal day",
          "Normal day",
          "Normal day",
          "Normal day",
          "Normal day",
          "Normal day",
          "Normal day",
          "Normal day",
          "Normal day",
          "Normal day",
          "Normal day",
          "Normal day",
          "Normal day",
          "Normal day",
          "Normal day",
          "Normal day",
          "Normal day",
          "Normal day",
          "Holiday",
          "Normal day",
          "Normal day",
          "Normal day",
          "Normal day",
          "Normal day",
          "Normal day",
          "Normal day",
          "Normal day",
          "Normal day",
          "Normal day",
          "Normal day",
          "Holiday",
          "Normal day",
          "Holiday",
          "Normal day",
          "Normal day",
          "Normal day",
          "Normal day",
          "Normal day",
          "Normal day",
          "Normal day",
          "Normal day",
          "Normal day",
          "Normal day",
          "Normal day",
          "Normal day",
          "Normal day",
          "Normal day",
          "Normal day",
          "Normal day",
          "Normal day",
          "Normal day",
          "Normal day",
          "Normal day",
          "Normal day",
          "Normal day",
          "Normal day",
          "Normal day",
          "Normal day",
          "Normal day",
          "Normal day",
          "Normal day",
          "Normal day",
          "Normal day",
          "Normal day",
          "Normal day",
          "Normal day",
          "Normal day",
          "Normal day",
          "Normal day",
          "Normal day",
          "Normal day",
          "Normal day",
          "Normal day",
          "Normal day",
          "Normal day",
          "Normal day",
          "Normal day",
          "Normal day",
          "Normal day",
          "Normal day",
          "Normal day",
          "Normal day",
          "Normal day",
          "Normal day",
          "Normal day",
          "Normal day",
          "Normal day",
          "Normal day",
          "Normal day",
          "Normal day",
          "Normal day",
          "Normal day",
          "Normal day",
          "Normal day",
          "Normal day",
          "Normal day",
          "Normal day",
          "Normal day",
          "Normal day",
          "Normal day",
          "Normal day",
          "Normal day",
          "Normal day",
          "Normal day",
          "Normal day",
          "Normal day",
          "Normal day",
          "Normal day",
          "Normal day",
          "Normal day",
          "Normal day",
          "Normal day",
          "Normal day",
          "Normal day",
          "Normal day",
          "Normal day",
          "Normal day",
          "Normal day",
          "Normal day",
          "Normal day",
          "Normal day",
          "Normal day",
          "Normal day",
          "Holiday",
          "Normal day",
          "Normal day",
          "Normal day",
          "Normal day",
          "Normal day",
          "Normal day",
          "Normal day",
          "Normal day",
          "Normal day",
          "Holiday",
          "Normal day",
          "Normal day",
          "Normal day",
          "Holiday",
          "Normal day",
          "Normal day",
          "Normal day",
          "Normal day",
          "Normal day",
          "Normal day",
          "Normal day",
          "Normal day",
          "Normal day",
          "Normal day",
          "Normal day",
          "Normal day",
          "Normal day",
          "Normal day",
          "Normal day",
          "Normal day",
          "Normal day",
          "Normal day",
          "Normal day",
          "Normal day",
          "Normal day",
          "Normal day",
          "Normal day",
          "Normal day",
          "Normal day",
          "Normal day",
          "Holiday",
          "Normal day",
          "Normal day",
          "Normal day",
          "Normal day",
          "Normal day",
          "Normal day",
          "Normal day",
          "Normal day",
          "Normal day",
          "Normal day",
          "Normal day",
          "Normal day",
          "Normal day",
          "Normal day",
          "Normal day",
          "Normal day",
          "Normal day",
          "Normal day",
          "Normal day",
          "Normal day",
          "Normal day",
          "Normal day",
          "Normal day",
          "Normal day",
          "Normal day",
          "Normal day",
          "Normal day",
          "Normal day",
          "Normal day",
          "Normal day",
          "Normal day",
          "Holiday",
          "Normal day",
          "Normal day",
          "Normal day",
          "Normal day",
          "Normal day",
          "Normal day",
          "Normal day",
          "Normal day",
          "Normal day",
          "Normal day",
          "Normal day",
          "Normal day",
          "Normal day",
          "Normal day",
          "Normal day",
          "Normal day",
          "Normal day",
          "Normal day",
          "Normal day",
          "Normal day",
          "Normal day",
          "Holiday",
          "Normal day",
          "Normal day",
          "Normal day",
          "Normal day",
          "Normal day",
          "Normal day",
          "Normal day",
          "Normal day",
          "Normal day",
          "Normal day",
          "Normal day",
          "Normal day",
          "Normal day",
          "Normal day",
          "Normal day",
          "Normal day",
          "Normal day",
          "Normal day",
          "Normal day",
          "Normal day",
          "Holiday",
          "Holiday",
          "Normal day",
          "Normal day",
          "Normal day",
          "Normal day",
          "Normal day",
          "Normal day",
          "Normal day",
          "Normal day",
          "Normal day",
          "Normal day",
          "Normal day",
          "Normal day",
          "Normal day",
          "Normal day",
          "Normal day",
          "Normal day",
          "Normal day",
          "Normal day",
          "Normal day",
          "Normal day",
          "Normal day",
          "Normal day",
          "Normal day",
          "Normal day",
          "Normal day",
          "Normal day",
          "Normal day",
          "Normal day",
          "Normal day",
          "Normal day",
          "Normal day",
          "Normal day",
          "Normal day",
          "Normal day",
          "Normal day",
          "Normal day",
          "Normal day",
          "Normal day",
          "Normal day",
          "Normal day",
          "Normal day",
          "Normal day",
          "Normal day",
          "Normal day",
          "Normal day",
          "Normal day",
          "Normal day",
          "Normal day",
          "Normal day",
          "Normal day",
          "Normal day",
          "Normal day",
          "Normal day",
          "Normal day",
          "Normal day",
          "Normal day",
          "Normal day",
          "Normal day",
          "Normal day",
          "Normal day",
          "Normal day",
          "Holiday",
          "Normal day",
          "Normal day",
          "Normal day",
          "Holiday",
          "Normal day",
          "Normal day",
          "Normal day",
          "Normal day",
          "Normal day",
          "Normal day",
          "Normal day",
          "Normal day",
          "Normal day",
          "Normal day",
          "Normal day",
          "Normal day",
          "Normal day",
          "Holiday",
          "Normal day",
          "Normal day",
          "Normal day",
          "Normal day",
          "Normal day",
          "Normal day",
          "Normal day",
          "Normal day",
          "Normal day",
          "Normal day",
          "Normal day",
          "Normal day",
          "Normal day",
          "Holiday",
          "Normal day",
          "Normal day",
          "Normal day",
          "Normal day",
          "Normal day",
          "Normal day",
          "Normal day",
          "Normal day",
          "Normal day",
          "Normal day",
          "Normal day",
          "Normal day",
          "Normal day",
          "Normal day",
          "Normal day",
          "Normal day",
          "Normal day",
          "Normal day",
          "Normal day",
          "Normal day",
          "Normal day",
          "Normal day",
          "Normal day",
          "Normal day",
          "Normal day",
          "Normal day",
          "Holiday",
          "Normal day",
          "Normal day",
          "Normal day",
          "Normal day",
          "Normal day",
          "Normal day",
          "Normal day",
          "Normal day",
          "Normal day",
          "Normal day",
          "Normal day",
          "Normal day",
          "Holiday",
          "Normal day",
          "Normal day",
          "Normal day",
          "Normal day",
          "Normal day",
          "Normal day",
          "Normal day",
          "Normal day",
          "Normal day",
          "Normal day",
          "Normal day",
          "Normal day",
          "Normal day",
          "Normal day",
          "Normal day",
          "Normal day",
          "Normal day",
          "Normal day",
          "Normal day",
          "Normal day",
          "Normal day",
          "Normal day",
          "Normal day",
          "Normal day",
          "Normal day",
          "Normal day",
          "Normal day",
          "Normal day",
          "Normal day",
          "Normal day",
          "Normal day",
          "Normal day",
          "Normal day",
          "Normal day",
          "Normal day",
          "Normal day",
          "Normal day",
          "Normal day",
          "Normal day",
          "Normal day",
          "Normal day",
          "Holiday",
          "Normal day",
          "Normal day",
          "Normal day",
          "Normal day",
          "Normal day",
          "Normal day",
          "Normal day",
          "Normal day",
          "Normal day",
          "Normal day",
          "Normal day",
          "Normal day",
          "Normal day",
          "Normal day",
          "Normal day",
          "Normal day",
          "Normal day",
          "Normal day",
          "Normal day",
          "Normal day",
          "Normal day",
          "Normal day",
          "Normal day",
          "Normal day",
          "Normal day",
          "Normal day",
          "Normal day",
          "Normal day",
          "Normal day",
          "Normal day",
          "Normal day",
          "Normal day",
          "Normal day",
          "Normal day",
          "Normal day",
          "Normal day",
          "Normal day",
          "Normal day",
          "Normal day",
          "Normal day",
          "Normal day",
          "Normal day",
          "Normal day",
          "Normal day",
          "Normal day",
          "Normal day",
          "Normal day",
          "Normal day",
          "Normal day",
          "Normal day",
          "Normal day",
          "Normal day",
          "Normal day",
          "Normal day",
          "Normal day",
          "Normal day",
          "Normal day",
          "Normal day",
          "Holiday",
          "Normal day",
          "Normal day",
          "Normal day",
          "Normal day",
          "Normal day",
          "Normal day",
          "Normal day",
          "Normal day",
          "Normal day",
          "Normal day",
          "Holiday",
          "Normal day",
          "Normal day",
          "Normal day",
          "Normal day",
          "Normal day",
          "Normal day",
          "Normal day",
          "Normal day",
          "Normal day",
          "Holiday",
          "Normal day",
          "Normal day",
          "Holiday",
          "Normal day",
          "Normal day",
          "Normal day",
          "Normal day",
          "Normal day",
          "Normal day",
          "Normal day",
          "Normal day",
          "Normal day",
          "Normal day",
          "Normal day",
          "Normal day",
          "Normal day",
          "Normal day",
          "Normal day",
          "Normal day",
          "Normal day",
          "Normal day",
          "Normal day",
          "Normal day",
          "Normal day",
          "Normal day",
          "Normal day",
          "Normal day",
          "Normal day",
          "Normal day",
          "Normal day",
          "Normal day",
          "Normal day",
          "Normal day",
          "Normal day",
          "Holiday",
          "Normal day",
          "Normal day",
          "Normal day",
          "Normal day",
          "Normal day",
          "Normal day",
          "Normal day",
          "Normal day",
          "Normal day",
          "Normal day",
          "Holiday",
          "Normal day",
          "Normal day",
          "Normal day",
          "Normal day",
          "Normal day",
          "Normal day",
          "Normal day",
          "Normal day",
          "Normal day",
          "Normal day",
          "Normal day",
          "Normal day",
          "Holiday",
          "Normal day",
          "Normal day",
          "Normal day",
          "Normal day",
          "Normal day",
          "Holiday",
          "Normal day",
          "Normal day",
          "Normal day",
          "Normal day",
          "Normal day",
          "Normal day",
          "Normal day",
          "Normal day",
          "Normal day",
          "Normal day",
          "Normal day",
          "Normal day",
          "Holiday",
          "Normal day",
          "Normal day",
          "Normal day",
          "Normal day",
          "Holiday",
          "Normal day",
          "Holiday",
          "Normal day",
          "Normal day",
          "Normal day",
          "Normal day",
          "Normal day",
          "Normal day",
          "Normal day",
          "Normal day",
          "Normal day",
          "Normal day",
          "Normal day",
          "Normal day",
          "Normal day",
          "Normal day",
          "Normal day",
          "Normal day",
          "Normal day",
          "Normal day",
          "Normal day",
          "Holiday",
          "Holiday",
          "Normal day",
          "Normal day",
          "Normal day",
          "Normal day",
          "Normal day",
          "Normal day",
          "Normal day",
          "Normal day",
          "Normal day",
          "Normal day",
          "Normal day",
          "Normal day",
          "Normal day",
          "Normal day",
          "Normal day",
          "Normal day",
          "Normal day",
          "Normal day",
          "Normal day",
          "Normal day",
          "Normal day",
          "Normal day",
          "Normal day",
          "Normal day",
          "Normal day",
          "Normal day",
          "Normal day",
          "Normal day",
          "Normal day",
          "Normal day",
          "Normal day",
          "Normal day",
          "Normal day",
          "Normal day",
          "Normal day",
          "Normal day",
          "Normal day",
          "Normal day",
          "Normal day",
          "Normal day",
          "Normal day",
          "Normal day",
          "Normal day",
          "Normal day",
          "Normal day",
          "Holiday",
          "Normal day",
          "Normal day",
          "Normal day",
          "Normal day",
          "Normal day",
          "Normal day",
          "Normal day",
          "Normal day",
          "Normal day",
          "Normal day",
          "Normal day",
          "Normal day",
          "Normal day",
          "Normal day",
          "Normal day",
          "Normal day",
          "Normal day",
          "Normal day",
          "Normal day",
          "Normal day",
          "Normal day",
          "Normal day",
          "Normal day",
          "Holiday",
          "Normal day",
          "Normal day",
          "Normal day",
          "Normal day",
          "Normal day",
          "Normal day",
          "Normal day",
          "Normal day",
          "Normal day",
          "Normal day",
          "Normal day",
          "Normal day",
          "Normal day",
          "Normal day",
          "Normal day",
          "Normal day",
          "Normal day",
          "Normal day",
          "Normal day",
          "Normal day",
          "Normal day",
          "Holiday",
          "Normal day",
          "Normal day",
          "Normal day",
          "Normal day",
          "Normal day",
          "Normal day",
          "Normal day",
          "Normal day",
          "Normal day",
          "Normal day",
          "Normal day",
          "Holiday",
          "Normal day",
          "Normal day",
          "Normal day",
          "Normal day",
          "Normal day",
          "Normal day",
          "Normal day",
          "Normal day",
          "Normal day",
          "Normal day",
          "Normal day",
          "Normal day",
          "Normal day",
          "Normal day",
          "Normal day",
          "Normal day",
          "Holiday",
          "Holiday",
          "Holiday",
          "Holiday",
          "Holiday",
          "Holiday",
          "Normal day",
          "Normal day",
          "Normal day",
          "Normal day",
          "Normal day",
          "Normal day",
          "Normal day",
          "Holiday",
          "Normal day",
          "Normal day",
          "Normal day",
          "Normal day",
          "Normal day",
          "Normal day",
          "Normal day",
          "Normal day",
          "Normal day",
          "Normal day",
          "Normal day",
          "Normal day",
          "Normal day",
          "Normal day",
          "Normal day",
          "Normal day",
          "Normal day",
          "Normal day",
          "Normal day",
          "Normal day",
          "Normal day",
          "Normal day",
          "Normal day",
          "Normal day",
          "Normal day",
          "Normal day",
          "Normal day",
          "Normal day",
          "Normal day",
          "Normal day",
          "Normal day",
          "Normal day",
          "Normal day",
          "Normal day",
          "Normal day",
          "Normal day",
          "Normal day",
          "Normal day",
          "Normal day",
          "Normal day",
          "Normal day",
          "Normal day",
          "Normal day",
          "Normal day",
          "Normal day",
          "Normal day",
          "Normal day",
          "Normal day",
          "Normal day",
          "Normal day",
          "Normal day",
          "Normal day",
          "Holiday",
          "Normal day",
          "Normal day",
          "Normal day",
          "Normal day",
          "Normal day",
          "Holiday",
          "Normal day",
          "Normal day",
          "Normal day",
          "Normal day",
          "Normal day",
          "Normal day",
          "Normal day",
          "Normal day",
          "Normal day",
          "Normal day",
          "Normal day",
          "Normal day",
          "Normal day",
          "Normal day",
          "Normal day",
          "Normal day",
          "Normal day",
          "Normal day",
          "Normal day",
          "Normal day",
          "Normal day",
          "Normal day",
          "Normal day",
          "Normal day",
          "Holiday",
          "Normal day",
          "Holiday",
          "Normal day",
          "Normal day",
          "Normal day",
          "Normal day",
          "Normal day",
          "Normal day",
          "Holiday",
          "Normal day",
          "Normal day",
          "Normal day",
          "Holiday",
          "Normal day",
          "Normal day",
          "Normal day",
          "Normal day",
          "Normal day",
          "Normal day",
          "Normal day",
          "Normal day",
          "Normal day",
          "Normal day",
          "Normal day",
          "Normal day",
          "Normal day",
          "Normal day",
          "Normal day",
          "Normal day",
          "Normal day",
          "Normal day",
          "Normal day",
          "Normal day",
          "Normal day",
          "Normal day",
          "Normal day",
          "Normal day",
          "Normal day",
          "Normal day",
          "Normal day",
          "Holiday",
          "Normal day",
          "Holiday",
          "Normal day",
          "Normal day",
          "Normal day",
          "Normal day",
          "Holiday",
          "Normal day",
          "Normal day",
          "Normal day",
          "Normal day",
          "Normal day",
          "Normal day",
          "Normal day",
          "Normal day",
          "Normal day",
          "Normal day",
          "Normal day",
          "Normal day",
          "Normal day",
          "Normal day",
          "Normal day",
          "Normal day",
          "Normal day",
          "Holiday",
          "Holiday",
          "Normal day",
          "Normal day",
          "Normal day",
          "Holiday",
          "Normal day",
          "Normal day",
          "Normal day",
          "Normal day",
          "Normal day",
          "Normal day",
          "Normal day",
          "Normal day",
          "Normal day",
          "Normal day",
          "Normal day",
          "Normal day",
          "Holiday",
          "Normal day",
          "Normal day",
          "Normal day",
          "Normal day",
          "Normal day",
          "Normal day",
          "Normal day",
          "Holiday",
          "Normal day",
          "Normal day",
          "Normal day",
          "Normal day",
          "Normal day",
          "Normal day",
          "Normal day",
          "Normal day",
          "Normal day",
          "Normal day",
          "Normal day",
          "Normal day",
          "Normal day",
          "Normal day",
          "Normal day",
          "Normal day",
          "Normal day",
          "Normal day",
          "Normal day",
          "Normal day",
          "Normal day",
          "Normal day",
          "Normal day",
          "Normal day",
          "Normal day",
          "Normal day",
          "Normal day",
          "Normal day",
          "Normal day",
          "Normal day",
          "Normal day",
          "Normal day",
          "Normal day",
          "Normal day",
          "Normal day",
          "Holiday",
          "Normal day",
          "Normal day",
          "Normal day",
          "Normal day",
          "Normal day",
          "Normal day",
          "Normal day",
          "Normal day",
          "Normal day",
          "Normal day",
          "Normal day",
          "Normal day",
          "Normal day",
          "Normal day",
          "Normal day",
          "Normal day",
          "Holiday",
          "Normal day",
          "Normal day",
          "Normal day",
          "Normal day",
          "Normal day",
          "Normal day",
          "Normal day",
          "Normal day",
          "Normal day",
          "Normal day",
          "Normal day",
          "Normal day",
          "Normal day",
          "Normal day",
          "Normal day",
          "Normal day",
          "Normal day",
          "Normal day",
          "Normal day",
          "Normal day",
          "Holiday",
          "Normal day",
          "Normal day",
          "Holiday",
          "Normal day",
          "Normal day",
          "Normal day",
          "Normal day",
          "Normal day",
          "Normal day",
          "Normal day",
          "Normal day",
          "Normal day",
          "Normal day",
          "Normal day",
          "Normal day",
          "Normal day",
          "Normal day",
          "Normal day",
          "Normal day",
          "Normal day",
          "Normal day",
          "Normal day",
          "Normal day",
          "Normal day",
          "Normal day",
          "Normal day",
          "Normal day",
          "Normal day",
          "Normal day",
          "Normal day",
          "Normal day",
          "Normal day",
          "Normal day",
          "Normal day",
          "Normal day",
          "Normal day",
          "Normal day",
          "Normal day",
          "Normal day",
          "Normal day",
          "Normal day",
          "Normal day",
          "Normal day",
          "Normal day",
          "Normal day",
          "Normal day",
          "Normal day",
          "Normal day",
          "Holiday",
          "Normal day",
          "Normal day",
          "Normal day",
          "Normal day",
          "Normal day",
          "Normal day",
          "Normal day",
          "Holiday",
          "Normal day",
          "Normal day",
          "Normal day",
          "Normal day",
          "Normal day",
          "Normal day",
          "Normal day",
          "Normal day",
          "Normal day",
          "Normal day",
          "Normal day",
          "Normal day",
          "Normal day",
          "Normal day",
          "Normal day",
          "Normal day",
          "Normal day",
          "Normal day",
          "Normal day",
          "Normal day",
          "Normal day",
          "Normal day",
          "Normal day",
          "Normal day",
          "Holiday",
          "Normal day",
          "Normal day",
          "Normal day",
          "Normal day",
          "Normal day",
          "Holiday",
          "Normal day",
          "Normal day",
          "Normal day",
          "Normal day",
          "Holiday",
          "Normal day",
          "Normal day",
          "Normal day",
          "Normal day",
          "Normal day",
          "Normal day",
          "Normal day",
          "Normal day",
          "Normal day",
          "Normal day",
          "Normal day",
          "Holiday",
          "Normal day",
          "Normal day",
          "Normal day",
          "Holiday",
          "Normal day",
          "Normal day",
          "Normal day",
          "Holiday",
          "Normal day",
          "Holiday",
          "Holiday",
          "Normal day",
          "Normal day",
          "Normal day",
          "Normal day",
          "Normal day",
          "Normal day",
          "Normal day",
          "Normal day",
          "Normal day",
          "Normal day",
          "Normal day",
          "Normal day",
          "Normal day",
          "Normal day",
          "Normal day",
          "Normal day",
          "Normal day",
          "Holiday",
          "Normal day",
          "Normal day",
          "Normal day",
          "Normal day",
          "Normal day",
          "Normal day",
          "Holiday",
          "Normal day",
          "Normal day",
          "Normal day",
          "Normal day",
          "Normal day",
          "Normal day",
          "Normal day",
          "Normal day",
          "Normal day",
          "Normal day",
          "Normal day",
          "Normal day",
          "Normal day",
          "Normal day",
          "Normal day",
          "Normal day",
          "Normal day",
          "Normal day",
          "Normal day",
          "Normal day",
          "Normal day",
          "Normal day",
          "Normal day",
          "Normal day",
          "Normal day",
          "Normal day",
          "Normal day",
          "Holiday",
          "Normal day",
          "Normal day",
          "Normal day",
          "Normal day",
          "Normal day",
          "Normal day",
          "Normal day",
          "Normal day",
          "Normal day",
          "Normal day",
          "Normal day",
          "Normal day",
          "Normal day",
          "Normal day",
          "Normal day",
          "Normal day",
          "Normal day",
          "Normal day",
          "Normal day",
          "Normal day",
          "Normal day",
          "Normal day",
          "Normal day",
          "Holiday",
          "Normal day",
          "Normal day",
          "Normal day",
          "Normal day",
          "Normal day",
          "Normal day",
          "Normal day",
          "Normal day",
          "Normal day",
          "Holiday",
          "Normal day",
          "Normal day",
          "Normal day",
          "Normal day",
          "Normal day",
          "Normal day",
          "Normal day",
          "Normal day",
          "Normal day",
          "Normal day",
          "Normal day",
          "Normal day",
          "Normal day",
          "Normal day",
          "Normal day",
          "Normal day",
          "Normal day",
          "Normal day",
          "Normal day",
          "Normal day",
          "Normal day",
          "Normal day",
          "Normal day",
          "Normal day",
          "Normal day",
          "Normal day",
          "Normal day",
          "Normal day",
          "Normal day",
          "Normal day",
          "Normal day",
          "Normal day",
          "Holiday",
          "Normal day",
          "Normal day",
          "Normal day",
          "Normal day",
          "Normal day",
          "Normal day",
          "Normal day",
          "Normal day",
          "Normal day",
          "Holiday",
          "Normal day",
          "Normal day",
          "Normal day",
          "Normal day",
          "Normal day",
          "Normal day",
          "Normal day",
          "Holiday",
          "Holiday",
          "Normal day",
          "Normal day",
          "Normal day",
          "Normal day",
          "Normal day",
          "Normal day",
          "Normal day",
          "Normal day",
          "Normal day",
          "Normal day",
          "Normal day",
          "Normal day",
          "Normal day",
          "Normal day",
          "Normal day",
          "Normal day",
          "Normal day",
          "Holiday",
          "Normal day",
          "Holiday",
          "Normal day",
          "Normal day",
          "Normal day",
          "Holiday",
          "Holiday",
          "Normal day",
          "Holiday",
          "Normal day",
          "Normal day",
          "Holiday",
          "Normal day",
          "Normal day",
          "Normal day",
          "Normal day",
          "Normal day",
          "Normal day",
          "Normal day",
          "Normal day",
          "Normal day",
          "Normal day",
          "Normal day",
          "Normal day",
          "Normal day",
          "Normal day",
          "Holiday",
          "Normal day",
          "Normal day",
          "Normal day",
          "Normal day",
          "Normal day",
          "Normal day",
          "Normal day",
          "Normal day",
          "Holiday",
          "Normal day",
          "Normal day",
          "Normal day",
          "Normal day",
          "Normal day",
          "Normal day",
          "Normal day",
          "Normal day",
          "Normal day",
          "Normal day",
          "Normal day",
          "Normal day",
          "Normal day",
          "Normal day",
          "Normal day",
          "Normal day",
          "Normal day",
          "Normal day",
          "Normal day",
          "Normal day",
          "Normal day",
          "Normal day",
          "Holiday",
          "Holiday",
          "Holiday",
          "Normal day",
          "Normal day",
          "Normal day",
          "Normal day",
          "Holiday",
          "Holiday",
          "Normal day",
          "Normal day",
          "Normal day",
          "Normal day",
          "Normal day",
          "Normal day",
          "Normal day",
          "Holiday",
          "Normal day",
          "Normal day",
          "Normal day",
          "Normal day",
          "Normal day",
          "Normal day",
          "Normal day",
          "Normal day",
          "Normal day",
          "Holiday",
          "Normal day",
          "Normal day",
          "Normal day",
          "Normal day",
          "Normal day",
          "Holiday",
          "Normal day",
          "Normal day",
          "Normal day",
          "Normal day",
          "Normal day",
          "Normal day",
          "Normal day",
          "Normal day",
          "Normal day",
          "Normal day",
          "Normal day",
          "Normal day",
          "Normal day",
          "Normal day",
          "Normal day",
          "Normal day",
          "Normal day",
          "Normal day",
          "Normal day",
          "Normal day",
          "Holiday",
          "Holiday",
          "Normal day",
          "Normal day",
          "Normal day",
          "Normal day",
          "Normal day",
          "Normal day",
          "Normal day",
          "Normal day",
          "Normal day",
          "Normal day",
          "Normal day",
          "Holiday",
          "Normal day",
          "Normal day",
          "Normal day",
          "Holiday",
          "Normal day",
          "Normal day",
          "Normal day",
          "Normal day",
          "Normal day",
          "Normal day",
          "Normal day",
          "Normal day",
          "Normal day",
          "Normal day",
          "Holiday",
          "Holiday",
          "Normal day",
          "Holiday",
          "Normal day",
          "Normal day",
          "Normal day",
          "Normal day",
          "Normal day",
          "Normal day",
          "Normal day",
          "Holiday",
          "Normal day",
          "Normal day",
          "Normal day",
          "Normal day",
          "Normal day",
          "Normal day",
          "Holiday",
          "Normal day",
          "Normal day",
          "Holiday",
          "Normal day",
          "Normal day",
          "Normal day",
          "Normal day",
          "Normal day",
          "Holiday",
          "Normal day",
          "Normal day",
          "Normal day",
          "Normal day",
          "Holiday",
          "Normal day",
          "Normal day",
          "Normal day",
          "Normal day",
          "Normal day",
          "Normal day",
          "Normal day",
          "Normal day",
          "Normal day",
          "Normal day",
          "Normal day",
          "Normal day",
          "Holiday",
          "Normal day",
          "Normal day",
          "Normal day",
          "Holiday",
          "Holiday",
          "Holiday",
          "Holiday",
          "Holiday",
          "Holiday",
          "Holiday",
          "Holiday",
          "Normal day",
          "Normal day",
          "Normal day",
          "Normal day",
          "Normal day",
          "Normal day",
          "Normal day",
          "Normal day",
          "Normal day",
          "Normal day",
          "Normal day",
          "Normal day",
          "Normal day",
          "Normal day",
          "Normal day",
          "Normal day",
          "Normal day",
          "Normal day",
          "Normal day",
          "Normal day",
          "Normal day",
          "Normal day",
          "Normal day",
          "Normal day",
          "Normal day",
          "Normal day",
          "Normal day",
          "Normal day",
          "Normal day",
          "Normal day",
          "Normal day",
          "Holiday",
          "Holiday",
          "Holiday",
          "Normal day",
          "Normal day",
          "Normal day",
          "Normal day",
          "Normal day",
          "Normal day",
          "Normal day",
          "Normal day",
          "Normal day",
          "Normal day",
          "Normal day",
          "Normal day",
          "Normal day",
          "Normal day",
          "Normal day",
          "Normal day",
          "Normal day",
          "Normal day",
          "Normal day",
          "Normal day",
          "Normal day",
          "Normal day",
          "Normal day",
          "Holiday",
          "Normal day",
          "Normal day",
          "Normal day",
          "Normal day",
          "Normal day",
          "Normal day",
          "Normal day",
          "Normal day",
          "Normal day",
          "Normal day",
          "Normal day",
          "Normal day",
          "Normal day",
          "Normal day",
          "Normal day",
          "Normal day",
          "Normal day",
          "Normal day",
          "Normal day",
          "Normal day",
          "Holiday",
          "Normal day",
          "Normal day",
          "Normal day",
          "Normal day",
          "Normal day",
          "Normal day",
          "Normal day",
          "Normal day",
          "Normal day",
          "Normal day",
          "Normal day",
          "Normal day",
          "Normal day",
          "Normal day",
          "Holiday",
          "Normal day",
          "Normal day",
          "Holiday",
          "Normal day",
          "Normal day",
          "Normal day",
          "Normal day",
          "Normal day",
          "Normal day",
          "Normal day",
          "Normal day",
          "Normal day",
          "Normal day",
          "Normal day",
          "Normal day",
          "Normal day",
          "Normal day",
          "Normal day",
          "Normal day",
          "Normal day",
          "Normal day",
          "Normal day",
          "Normal day",
          "Holiday",
          "Normal day",
          "Normal day",
          "Normal day",
          "Holiday",
          "Holiday",
          "Normal day",
          "Normal day",
          "Normal day",
          "Normal day",
          "Normal day",
          "Normal day",
          "Holiday",
          "Holiday",
          "Normal day",
          "Normal day",
          "Normal day",
          "Normal day",
          "Normal day",
          "Normal day",
          "Normal day",
          "Normal day",
          "Normal day",
          "Normal day",
          "Normal day",
          "Normal day",
          "Normal day",
          "Normal day",
          "Normal day",
          "Normal day",
          "Normal day",
          "Holiday",
          "Normal day",
          "Normal day",
          "Holiday",
          "Normal day",
          "Normal day",
          "Normal day",
          "Normal day",
          "Normal day",
          "Normal day",
          "Holiday",
          "Holiday",
          "Normal day",
          "Normal day",
          "Normal day",
          "Normal day",
          "Normal day",
          "Normal day",
          "Holiday",
          "Normal day",
          "Normal day",
          "Holiday",
          "Holiday",
          "Holiday",
          "Normal day",
          "Normal day",
          "Normal day",
          "Normal day",
          "Normal day",
          "Normal day",
          "Normal day",
          "Normal day",
          "Normal day",
          "Normal day",
          "Normal day",
          "Normal day",
          "Normal day",
          "Normal day",
          "Normal day",
          "Normal day",
          "Normal day",
          "Normal day",
          "Normal day",
          "Normal day",
          "Holiday",
          "Normal day",
          "Normal day",
          "Normal day",
          "Normal day",
          "Normal day",
          "Normal day",
          "Normal day",
          "Normal day",
          "Normal day",
          "Normal day",
          "Normal day",
          "Normal day",
          "Normal day",
          "Normal day",
          "Normal day",
          "Normal day",
          "Normal day",
          "Normal day",
          "Normal day",
          "Normal day",
          "Normal day",
          "Normal day",
          "Normal day",
          "Normal day",
          "Holiday",
          "Normal day",
          "Normal day",
          "Normal day",
          "Normal day",
          "Normal day",
          "Normal day",
          "Normal day",
          "Normal day",
          "Normal day",
          "Normal day",
          "Normal day",
          "Holiday",
          "Normal day",
          "Holiday",
          "Holiday",
          "Normal day",
          "Normal day",
          "Normal day",
          "Holiday",
          "Holiday",
          "Normal day",
          "Normal day",
          "Normal day",
          "Normal day",
          "Normal day",
          "Holiday",
          "Normal day",
          "Normal day",
          "Normal day"
         ],
         "xaxis": "x",
         "yaxis": "y"
        },
        {
         "alignmentgroup": "True",
         "bingroup": "x",
         "hovertemplate": "member_casual=casual<br>holidays=%{x}<br>count=%{y}<extra></extra>",
         "legendgroup": "casual",
         "marker": {
          "color": "#EF553B",
          "pattern": {
           "shape": ""
          }
         },
         "name": "casual",
         "offsetgroup": "casual",
         "orientation": "v",
         "showlegend": true,
         "type": "histogram",
         "x": [
          "Normal day",
          "Holiday",
          "Normal day",
          "Normal day",
          "Normal day",
          "Normal day",
          "Normal day",
          "Normal day",
          "Normal day",
          "Normal day",
          "Normal day",
          "Normal day",
          "Normal day",
          "Normal day",
          "Normal day",
          "Normal day",
          "Normal day",
          "Normal day",
          "Normal day",
          "Normal day",
          "Normal day",
          "Normal day",
          "Normal day",
          "Normal day",
          "Normal day",
          "Normal day",
          "Normal day",
          "Normal day",
          "Normal day",
          "Holiday",
          "Normal day",
          "Normal day",
          "Holiday",
          "Normal day",
          "Normal day",
          "Normal day",
          "Normal day",
          "Normal day",
          "Normal day",
          "Normal day",
          "Normal day",
          "Normal day",
          "Normal day",
          "Normal day",
          "Normal day",
          "Normal day",
          "Holiday",
          "Normal day",
          "Normal day",
          "Normal day",
          "Normal day",
          "Normal day",
          "Normal day",
          "Normal day",
          "Normal day",
          "Normal day",
          "Normal day",
          "Normal day",
          "Normal day",
          "Normal day",
          "Normal day",
          "Normal day",
          "Normal day",
          "Normal day",
          "Normal day",
          "Normal day",
          "Normal day",
          "Normal day",
          "Normal day",
          "Normal day",
          "Normal day",
          "Normal day",
          "Normal day",
          "Normal day",
          "Normal day",
          "Normal day",
          "Normal day",
          "Normal day",
          "Normal day",
          "Normal day",
          "Normal day",
          "Normal day",
          "Normal day",
          "Normal day",
          "Normal day",
          "Normal day",
          "Normal day",
          "Normal day",
          "Normal day",
          "Normal day",
          "Normal day",
          "Normal day",
          "Normal day",
          "Normal day",
          "Normal day",
          "Normal day",
          "Normal day",
          "Normal day",
          "Normal day",
          "Normal day",
          "Normal day",
          "Normal day",
          "Normal day",
          "Normal day",
          "Normal day",
          "Normal day",
          "Normal day",
          "Normal day",
          "Normal day",
          "Normal day",
          "Normal day",
          "Normal day",
          "Normal day",
          "Normal day",
          "Normal day",
          "Normal day",
          "Normal day",
          "Normal day",
          "Normal day",
          "Normal day",
          "Normal day",
          "Normal day",
          "Normal day",
          "Normal day",
          "Normal day",
          "Normal day",
          "Normal day",
          "Normal day",
          "Normal day",
          "Normal day",
          "Normal day",
          "Normal day",
          "Normal day",
          "Normal day",
          "Normal day",
          "Normal day",
          "Normal day",
          "Normal day",
          "Normal day",
          "Normal day",
          "Normal day",
          "Normal day",
          "Normal day",
          "Normal day",
          "Normal day",
          "Normal day",
          "Normal day",
          "Normal day",
          "Normal day",
          "Normal day",
          "Normal day",
          "Normal day",
          "Normal day",
          "Normal day",
          "Normal day",
          "Normal day",
          "Normal day",
          "Normal day",
          "Normal day",
          "Normal day",
          "Normal day",
          "Normal day",
          "Normal day",
          "Normal day",
          "Normal day",
          "Normal day",
          "Normal day",
          "Normal day",
          "Normal day",
          "Normal day",
          "Normal day",
          "Normal day",
          "Normal day",
          "Normal day",
          "Normal day",
          "Normal day",
          "Normal day",
          "Normal day",
          "Normal day",
          "Normal day",
          "Normal day",
          "Normal day",
          "Normal day",
          "Normal day",
          "Normal day",
          "Normal day",
          "Normal day",
          "Normal day",
          "Normal day",
          "Normal day",
          "Holiday",
          "Normal day",
          "Normal day",
          "Normal day",
          "Normal day",
          "Normal day",
          "Normal day",
          "Normal day",
          "Normal day",
          "Normal day",
          "Normal day",
          "Normal day",
          "Normal day",
          "Normal day",
          "Normal day",
          "Normal day",
          "Normal day",
          "Normal day",
          "Normal day",
          "Normal day",
          "Normal day",
          "Normal day",
          "Holiday",
          "Normal day",
          "Normal day",
          "Holiday",
          "Holiday",
          "Holiday",
          "Normal day",
          "Holiday",
          "Holiday",
          "Normal day",
          "Holiday",
          "Normal day",
          "Normal day",
          "Normal day",
          "Holiday",
          "Normal day",
          "Normal day",
          "Normal day",
          "Normal day",
          "Normal day",
          "Normal day",
          "Normal day",
          "Holiday",
          "Holiday",
          "Normal day",
          "Normal day",
          "Normal day",
          "Holiday",
          "Normal day",
          "Normal day",
          "Normal day",
          "Normal day",
          "Normal day",
          "Normal day",
          "Normal day",
          "Normal day",
          "Holiday",
          "Normal day",
          "Normal day",
          "Normal day",
          "Normal day",
          "Normal day",
          "Normal day",
          "Normal day",
          "Normal day",
          "Normal day",
          "Normal day",
          "Normal day",
          "Normal day",
          "Normal day",
          "Normal day",
          "Normal day",
          "Normal day",
          "Normal day",
          "Holiday",
          "Normal day",
          "Normal day",
          "Normal day",
          "Normal day",
          "Normal day",
          "Normal day",
          "Normal day",
          "Normal day",
          "Normal day",
          "Normal day",
          "Normal day",
          "Normal day",
          "Normal day",
          "Normal day",
          "Normal day",
          "Normal day",
          "Holiday",
          "Holiday",
          "Normal day",
          "Holiday",
          "Normal day",
          "Normal day",
          "Normal day",
          "Normal day",
          "Normal day",
          "Normal day",
          "Normal day",
          "Normal day",
          "Normal day",
          "Normal day",
          "Normal day",
          "Normal day",
          "Normal day",
          "Normal day",
          "Normal day",
          "Normal day",
          "Normal day",
          "Normal day",
          "Normal day",
          "Normal day",
          "Normal day",
          "Normal day",
          "Normal day",
          "Normal day",
          "Normal day",
          "Normal day",
          "Normal day",
          "Holiday",
          "Normal day",
          "Normal day",
          "Normal day",
          "Normal day",
          "Normal day",
          "Normal day",
          "Normal day",
          "Normal day",
          "Holiday",
          "Normal day",
          "Normal day",
          "Normal day",
          "Normal day",
          "Normal day",
          "Holiday",
          "Normal day",
          "Normal day",
          "Normal day",
          "Holiday",
          "Normal day",
          "Normal day",
          "Normal day",
          "Normal day",
          "Normal day",
          "Normal day",
          "Holiday",
          "Holiday",
          "Normal day",
          "Normal day",
          "Normal day",
          "Normal day",
          "Normal day",
          "Normal day",
          "Normal day",
          "Holiday",
          "Normal day",
          "Normal day",
          "Normal day",
          "Normal day",
          "Normal day",
          "Holiday",
          "Normal day",
          "Normal day",
          "Holiday",
          "Normal day",
          "Normal day",
          "Normal day",
          "Normal day",
          "Holiday",
          "Normal day",
          "Normal day",
          "Normal day",
          "Normal day",
          "Normal day",
          "Normal day",
          "Normal day",
          "Normal day",
          "Normal day",
          "Holiday",
          "Normal day",
          "Normal day",
          "Holiday",
          "Normal day",
          "Normal day",
          "Normal day",
          "Normal day",
          "Normal day",
          "Normal day",
          "Normal day",
          "Normal day",
          "Normal day",
          "Normal day",
          "Normal day",
          "Normal day",
          "Normal day",
          "Normal day",
          "Normal day",
          "Normal day",
          "Normal day",
          "Normal day",
          "Normal day",
          "Normal day",
          "Normal day",
          "Normal day",
          "Normal day",
          "Normal day",
          "Normal day",
          "Normal day",
          "Normal day",
          "Normal day",
          "Normal day",
          "Normal day",
          "Normal day",
          "Normal day",
          "Holiday",
          "Normal day",
          "Normal day",
          "Normal day",
          "Normal day",
          "Normal day",
          "Normal day",
          "Holiday",
          "Normal day",
          "Normal day",
          "Normal day",
          "Normal day",
          "Normal day",
          "Normal day",
          "Normal day",
          "Normal day",
          "Normal day",
          "Holiday",
          "Normal day",
          "Normal day",
          "Normal day",
          "Normal day",
          "Normal day",
          "Normal day",
          "Normal day",
          "Holiday",
          "Normal day",
          "Normal day",
          "Normal day",
          "Normal day",
          "Normal day",
          "Normal day",
          "Normal day",
          "Normal day",
          "Normal day",
          "Normal day",
          "Normal day",
          "Normal day",
          "Normal day",
          "Normal day",
          "Normal day",
          "Normal day",
          "Normal day",
          "Normal day",
          "Normal day",
          "Normal day",
          "Normal day",
          "Normal day",
          "Normal day",
          "Normal day",
          "Normal day",
          "Normal day",
          "Normal day",
          "Normal day",
          "Normal day",
          "Normal day",
          "Normal day",
          "Holiday",
          "Normal day",
          "Normal day",
          "Normal day",
          "Normal day",
          "Normal day",
          "Normal day",
          "Normal day",
          "Normal day",
          "Normal day",
          "Normal day",
          "Normal day",
          "Normal day",
          "Normal day",
          "Normal day",
          "Normal day",
          "Holiday",
          "Normal day",
          "Normal day",
          "Normal day",
          "Normal day",
          "Normal day",
          "Normal day",
          "Normal day",
          "Normal day",
          "Normal day",
          "Normal day",
          "Holiday",
          "Normal day",
          "Normal day",
          "Normal day",
          "Normal day",
          "Normal day",
          "Normal day",
          "Normal day",
          "Normal day",
          "Holiday",
          "Normal day",
          "Normal day",
          "Holiday",
          "Normal day",
          "Normal day",
          "Holiday",
          "Holiday",
          "Normal day",
          "Holiday",
          "Normal day",
          "Normal day",
          "Normal day",
          "Normal day",
          "Normal day",
          "Holiday",
          "Normal day",
          "Normal day",
          "Normal day",
          "Normal day",
          "Normal day",
          "Holiday",
          "Holiday",
          "Normal day",
          "Normal day",
          "Holiday",
          "Normal day",
          "Normal day",
          "Normal day",
          "Normal day",
          "Normal day",
          "Normal day",
          "Normal day",
          "Normal day",
          "Normal day",
          "Normal day",
          "Normal day",
          "Normal day",
          "Normal day",
          "Normal day",
          "Normal day",
          "Normal day",
          "Normal day",
          "Normal day",
          "Normal day",
          "Normal day",
          "Normal day",
          "Normal day",
          "Normal day",
          "Normal day",
          "Holiday",
          "Normal day",
          "Normal day",
          "Normal day",
          "Normal day",
          "Normal day",
          "Normal day",
          "Normal day",
          "Normal day",
          "Normal day",
          "Normal day",
          "Normal day",
          "Holiday",
          "Normal day",
          "Normal day",
          "Holiday",
          "Normal day",
          "Normal day",
          "Normal day",
          "Normal day",
          "Normal day",
          "Normal day",
          "Normal day",
          "Normal day",
          "Normal day",
          "Holiday",
          "Normal day",
          "Normal day",
          "Normal day",
          "Normal day",
          "Normal day",
          "Normal day",
          "Normal day",
          "Holiday",
          "Normal day",
          "Normal day",
          "Normal day",
          "Normal day",
          "Normal day",
          "Normal day",
          "Normal day",
          "Normal day",
          "Normal day",
          "Normal day",
          "Normal day",
          "Normal day",
          "Normal day",
          "Normal day",
          "Normal day",
          "Normal day",
          "Normal day",
          "Normal day",
          "Normal day",
          "Normal day",
          "Normal day",
          "Normal day",
          "Normal day",
          "Normal day",
          "Normal day",
          "Normal day",
          "Normal day",
          "Normal day",
          "Normal day",
          "Normal day",
          "Normal day",
          "Normal day",
          "Normal day",
          "Normal day",
          "Normal day",
          "Normal day",
          "Normal day",
          "Normal day",
          "Normal day",
          "Normal day",
          "Normal day",
          "Normal day",
          "Normal day",
          "Normal day",
          "Normal day",
          "Normal day",
          "Normal day",
          "Normal day",
          "Normal day",
          "Normal day",
          "Normal day",
          "Normal day",
          "Normal day",
          "Normal day",
          "Normal day",
          "Normal day",
          "Normal day",
          "Normal day",
          "Normal day",
          "Normal day",
          "Normal day",
          "Normal day",
          "Normal day",
          "Normal day",
          "Normal day",
          "Normal day",
          "Normal day",
          "Normal day",
          "Normal day",
          "Normal day",
          "Normal day",
          "Normal day",
          "Normal day",
          "Normal day",
          "Normal day",
          "Normal day",
          "Normal day",
          "Normal day",
          "Normal day",
          "Normal day",
          "Normal day",
          "Normal day",
          "Normal day",
          "Normal day",
          "Normal day",
          "Normal day",
          "Normal day",
          "Normal day",
          "Normal day",
          "Normal day",
          "Normal day",
          "Normal day",
          "Normal day",
          "Normal day",
          "Normal day",
          "Normal day",
          "Normal day",
          "Normal day",
          "Normal day",
          "Normal day",
          "Normal day",
          "Normal day",
          "Normal day",
          "Normal day",
          "Normal day",
          "Normal day",
          "Normal day",
          "Normal day",
          "Normal day",
          "Normal day",
          "Normal day",
          "Normal day",
          "Normal day",
          "Normal day",
          "Normal day",
          "Normal day",
          "Normal day",
          "Normal day",
          "Normal day",
          "Normal day",
          "Normal day",
          "Normal day",
          "Normal day",
          "Normal day",
          "Normal day",
          "Normal day",
          "Normal day",
          "Normal day",
          "Normal day",
          "Normal day",
          "Normal day",
          "Normal day",
          "Normal day",
          "Normal day",
          "Normal day",
          "Normal day",
          "Normal day",
          "Normal day",
          "Normal day",
          "Normal day",
          "Normal day",
          "Normal day",
          "Normal day",
          "Normal day",
          "Normal day",
          "Normal day",
          "Normal day",
          "Normal day",
          "Normal day",
          "Normal day",
          "Normal day",
          "Normal day",
          "Normal day",
          "Normal day",
          "Normal day",
          "Normal day",
          "Normal day",
          "Normal day",
          "Normal day",
          "Normal day",
          "Normal day",
          "Normal day",
          "Normal day",
          "Normal day",
          "Normal day",
          "Normal day",
          "Normal day",
          "Normal day",
          "Normal day",
          "Normal day",
          "Normal day",
          "Normal day",
          "Normal day",
          "Normal day",
          "Normal day",
          "Normal day",
          "Normal day",
          "Normal day",
          "Normal day",
          "Normal day",
          "Normal day",
          "Normal day",
          "Normal day",
          "Normal day",
          "Normal day",
          "Normal day",
          "Normal day",
          "Normal day",
          "Normal day",
          "Normal day",
          "Normal day",
          "Normal day",
          "Normal day",
          "Normal day",
          "Normal day",
          "Normal day",
          "Normal day",
          "Normal day",
          "Normal day",
          "Normal day",
          "Normal day",
          "Normal day",
          "Normal day",
          "Normal day",
          "Normal day",
          "Normal day",
          "Normal day",
          "Normal day",
          "Normal day",
          "Normal day",
          "Normal day",
          "Normal day",
          "Normal day",
          "Normal day",
          "Normal day",
          "Normal day",
          "Normal day",
          "Normal day",
          "Normal day",
          "Normal day",
          "Normal day",
          "Normal day",
          "Normal day",
          "Holiday",
          "Normal day",
          "Normal day",
          "Normal day",
          "Normal day",
          "Normal day",
          "Holiday",
          "Normal day",
          "Normal day",
          "Normal day",
          "Holiday",
          "Normal day",
          "Holiday",
          "Normal day",
          "Normal day",
          "Normal day",
          "Normal day",
          "Normal day",
          "Normal day",
          "Normal day",
          "Normal day",
          "Normal day",
          "Normal day",
          "Normal day",
          "Normal day",
          "Normal day",
          "Normal day",
          "Normal day",
          "Normal day",
          "Normal day",
          "Normal day",
          "Normal day",
          "Normal day",
          "Normal day",
          "Normal day",
          "Normal day",
          "Normal day",
          "Normal day",
          "Normal day",
          "Normal day",
          "Normal day",
          "Normal day",
          "Normal day",
          "Normal day",
          "Normal day",
          "Normal day",
          "Normal day",
          "Normal day",
          "Normal day",
          "Normal day",
          "Normal day",
          "Normal day",
          "Normal day",
          "Normal day",
          "Normal day",
          "Normal day",
          "Normal day",
          "Normal day",
          "Normal day",
          "Normal day",
          "Normal day",
          "Normal day",
          "Holiday",
          "Normal day",
          "Normal day",
          "Normal day",
          "Normal day",
          "Holiday",
          "Normal day",
          "Normal day",
          "Normal day",
          "Normal day",
          "Normal day",
          "Normal day",
          "Normal day",
          "Normal day",
          "Normal day",
          "Holiday",
          "Normal day",
          "Normal day",
          "Holiday",
          "Normal day",
          "Normal day",
          "Normal day",
          "Normal day",
          "Normal day",
          "Holiday",
          "Normal day",
          "Normal day",
          "Holiday",
          "Normal day",
          "Normal day",
          "Normal day",
          "Normal day",
          "Normal day",
          "Normal day",
          "Normal day",
          "Normal day",
          "Normal day",
          "Normal day",
          "Normal day",
          "Normal day",
          "Normal day",
          "Normal day",
          "Normal day",
          "Normal day",
          "Normal day",
          "Normal day",
          "Normal day",
          "Normal day",
          "Normal day",
          "Normal day",
          "Normal day",
          "Holiday",
          "Normal day",
          "Normal day",
          "Normal day",
          "Normal day",
          "Holiday",
          "Holiday",
          "Normal day",
          "Normal day",
          "Normal day",
          "Normal day",
          "Normal day",
          "Normal day",
          "Holiday",
          "Normal day",
          "Normal day",
          "Holiday",
          "Normal day",
          "Normal day",
          "Normal day",
          "Normal day",
          "Normal day",
          "Normal day",
          "Normal day",
          "Normal day",
          "Normal day",
          "Normal day",
          "Normal day",
          "Normal day",
          "Normal day",
          "Normal day",
          "Holiday",
          "Normal day",
          "Normal day",
          "Normal day",
          "Normal day",
          "Normal day",
          "Normal day",
          "Normal day",
          "Normal day",
          "Normal day",
          "Normal day",
          "Normal day",
          "Holiday",
          "Normal day",
          "Normal day",
          "Normal day",
          "Normal day",
          "Holiday",
          "Normal day",
          "Normal day",
          "Normal day",
          "Normal day",
          "Normal day",
          "Holiday",
          "Normal day",
          "Normal day",
          "Normal day",
          "Normal day",
          "Normal day",
          "Normal day",
          "Normal day",
          "Normal day",
          "Normal day",
          "Normal day",
          "Normal day",
          "Normal day",
          "Normal day",
          "Normal day",
          "Normal day",
          "Normal day",
          "Normal day",
          "Normal day",
          "Normal day",
          "Normal day",
          "Normal day",
          "Normal day",
          "Normal day",
          "Normal day",
          "Normal day",
          "Normal day",
          "Normal day",
          "Holiday",
          "Normal day",
          "Normal day",
          "Holiday",
          "Normal day",
          "Normal day",
          "Normal day",
          "Normal day",
          "Normal day",
          "Normal day",
          "Normal day",
          "Normal day",
          "Normal day",
          "Normal day",
          "Normal day",
          "Normal day",
          "Normal day",
          "Normal day",
          "Normal day",
          "Holiday",
          "Normal day",
          "Normal day",
          "Normal day",
          "Normal day",
          "Normal day",
          "Holiday",
          "Normal day",
          "Normal day",
          "Normal day",
          "Normal day",
          "Normal day",
          "Normal day",
          "Normal day",
          "Normal day",
          "Normal day",
          "Normal day",
          "Normal day",
          "Normal day",
          "Normal day",
          "Normal day",
          "Normal day",
          "Normal day",
          "Normal day",
          "Normal day",
          "Holiday",
          "Holiday",
          "Normal day",
          "Holiday",
          "Holiday",
          "Normal day",
          "Normal day",
          "Holiday",
          "Normal day",
          "Normal day",
          "Normal day",
          "Normal day",
          "Normal day",
          "Normal day",
          "Normal day",
          "Normal day",
          "Normal day",
          "Normal day",
          "Normal day",
          "Normal day",
          "Normal day",
          "Normal day",
          "Normal day",
          "Normal day",
          "Normal day",
          "Normal day",
          "Holiday",
          "Normal day",
          "Normal day",
          "Normal day",
          "Normal day",
          "Normal day",
          "Normal day",
          "Normal day",
          "Normal day",
          "Normal day",
          "Normal day",
          "Normal day",
          "Normal day",
          "Holiday",
          "Normal day",
          "Normal day",
          "Normal day",
          "Normal day",
          "Normal day",
          "Normal day",
          "Normal day",
          "Normal day",
          "Normal day",
          "Normal day",
          "Normal day",
          "Normal day",
          "Normal day",
          "Normal day",
          "Normal day",
          "Normal day",
          "Normal day",
          "Normal day",
          "Normal day",
          "Normal day",
          "Normal day",
          "Normal day",
          "Normal day",
          "Normal day",
          "Normal day",
          "Normal day",
          "Normal day",
          "Normal day",
          "Normal day",
          "Normal day",
          "Normal day",
          "Holiday",
          "Normal day",
          "Normal day",
          "Normal day",
          "Normal day",
          "Normal day",
          "Normal day",
          "Normal day",
          "Normal day",
          "Normal day",
          "Normal day",
          "Normal day",
          "Normal day",
          "Holiday",
          "Normal day",
          "Normal day",
          "Normal day",
          "Normal day",
          "Normal day",
          "Normal day",
          "Normal day",
          "Normal day",
          "Normal day",
          "Normal day",
          "Normal day",
          "Normal day",
          "Normal day",
          "Normal day",
          "Normal day",
          "Normal day",
          "Normal day",
          "Normal day",
          "Normal day",
          "Holiday",
          "Normal day",
          "Normal day",
          "Normal day",
          "Normal day",
          "Normal day",
          "Normal day",
          "Normal day",
          "Normal day",
          "Holiday",
          "Normal day",
          "Normal day",
          "Normal day",
          "Normal day",
          "Holiday",
          "Normal day",
          "Normal day",
          "Normal day",
          "Normal day",
          "Normal day",
          "Normal day",
          "Normal day",
          "Normal day",
          "Normal day",
          "Normal day",
          "Normal day",
          "Normal day",
          "Normal day",
          "Normal day",
          "Normal day",
          "Normal day",
          "Normal day",
          "Normal day",
          "Normal day",
          "Normal day",
          "Normal day",
          "Normal day",
          "Normal day",
          "Normal day",
          "Normal day",
          "Normal day",
          "Normal day",
          "Normal day",
          "Normal day",
          "Normal day",
          "Normal day",
          "Normal day",
          "Normal day",
          "Normal day",
          "Normal day",
          "Normal day",
          "Normal day",
          "Normal day",
          "Normal day",
          "Normal day",
          "Holiday",
          "Normal day",
          "Normal day",
          "Normal day",
          "Normal day",
          "Normal day",
          "Normal day",
          "Normal day",
          "Normal day",
          "Normal day",
          "Normal day",
          "Normal day",
          "Normal day",
          "Normal day",
          "Normal day",
          "Normal day",
          "Normal day",
          "Normal day",
          "Normal day",
          "Normal day",
          "Normal day",
          "Holiday",
          "Normal day",
          "Normal day",
          "Normal day",
          "Normal day",
          "Normal day",
          "Normal day",
          "Normal day",
          "Holiday",
          "Normal day",
          "Normal day",
          "Normal day",
          "Holiday",
          "Normal day",
          "Normal day",
          "Normal day",
          "Normal day",
          "Normal day",
          "Normal day",
          "Normal day",
          "Normal day",
          "Normal day",
          "Holiday",
          "Normal day",
          "Holiday",
          "Normal day",
          "Normal day",
          "Normal day",
          "Normal day",
          "Normal day",
          "Normal day",
          "Normal day",
          "Normal day",
          "Normal day",
          "Normal day",
          "Normal day",
          "Normal day",
          "Normal day",
          "Normal day",
          "Holiday",
          "Normal day",
          "Normal day",
          "Normal day",
          "Normal day",
          "Normal day",
          "Normal day",
          "Normal day",
          "Normal day",
          "Normal day",
          "Normal day",
          "Normal day",
          "Normal day",
          "Normal day",
          "Normal day",
          "Normal day",
          "Normal day",
          "Normal day",
          "Normal day",
          "Normal day",
          "Normal day",
          "Normal day",
          "Normal day",
          "Normal day",
          "Normal day",
          "Holiday",
          "Normal day",
          "Normal day",
          "Normal day",
          "Normal day",
          "Normal day",
          "Normal day",
          "Normal day",
          "Normal day",
          "Normal day",
          "Normal day",
          "Normal day",
          "Normal day",
          "Normal day",
          "Normal day",
          "Normal day",
          "Normal day",
          "Normal day",
          "Normal day",
          "Normal day",
          "Normal day",
          "Normal day",
          "Normal day",
          "Normal day",
          "Normal day",
          "Normal day",
          "Normal day",
          "Normal day",
          "Normal day",
          "Normal day",
          "Normal day",
          "Normal day",
          "Normal day",
          "Normal day",
          "Normal day",
          "Normal day",
          "Normal day",
          "Normal day",
          "Normal day",
          "Normal day",
          "Normal day",
          "Normal day",
          "Normal day",
          "Normal day",
          "Normal day",
          "Normal day",
          "Normal day",
          "Normal day",
          "Holiday",
          "Normal day",
          "Normal day",
          "Holiday",
          "Normal day",
          "Normal day",
          "Normal day",
          "Normal day",
          "Normal day",
          "Normal day",
          "Normal day",
          "Normal day",
          "Normal day",
          "Normal day",
          "Normal day",
          "Normal day",
          "Normal day",
          "Normal day",
          "Normal day",
          "Holiday",
          "Normal day",
          "Normal day",
          "Normal day",
          "Normal day",
          "Normal day",
          "Normal day",
          "Normal day",
          "Normal day",
          "Normal day",
          "Normal day",
          "Normal day",
          "Normal day",
          "Normal day",
          "Normal day",
          "Holiday",
          "Normal day",
          "Holiday",
          "Normal day",
          "Holiday",
          "Normal day",
          "Normal day",
          "Normal day",
          "Normal day",
          "Normal day",
          "Normal day",
          "Normal day",
          "Normal day",
          "Normal day",
          "Normal day",
          "Normal day",
          "Normal day",
          "Holiday",
          "Normal day",
          "Normal day",
          "Normal day",
          "Normal day",
          "Normal day",
          "Normal day",
          "Normal day",
          "Normal day",
          "Normal day",
          "Normal day",
          "Normal day",
          "Normal day",
          "Normal day",
          "Normal day",
          "Normal day",
          "Normal day",
          "Normal day",
          "Normal day",
          "Normal day",
          "Holiday",
          "Normal day",
          "Normal day",
          "Normal day",
          "Normal day",
          "Normal day",
          "Normal day",
          "Normal day",
          "Normal day",
          "Normal day",
          "Normal day",
          "Normal day",
          "Normal day",
          "Normal day",
          "Normal day",
          "Normal day",
          "Normal day",
          "Holiday",
          "Holiday",
          "Normal day",
          "Normal day",
          "Normal day",
          "Normal day",
          "Normal day",
          "Normal day",
          "Normal day",
          "Normal day",
          "Normal day",
          "Normal day",
          "Normal day",
          "Holiday",
          "Normal day",
          "Normal day",
          "Normal day",
          "Normal day",
          "Normal day",
          "Normal day",
          "Normal day",
          "Normal day",
          "Normal day",
          "Holiday",
          "Normal day",
          "Normal day",
          "Normal day",
          "Normal day",
          "Normal day",
          "Normal day",
          "Normal day",
          "Normal day",
          "Normal day",
          "Normal day",
          "Normal day",
          "Normal day",
          "Normal day",
          "Normal day",
          "Normal day",
          "Holiday",
          "Normal day",
          "Normal day",
          "Holiday",
          "Normal day",
          "Normal day",
          "Normal day",
          "Normal day",
          "Normal day",
          "Normal day",
          "Normal day",
          "Normal day",
          "Normal day",
          "Normal day",
          "Normal day",
          "Normal day",
          "Normal day",
          "Normal day",
          "Normal day",
          "Normal day",
          "Normal day",
          "Normal day",
          "Holiday",
          "Normal day",
          "Normal day",
          "Normal day",
          "Holiday",
          "Normal day",
          "Normal day",
          "Normal day",
          "Normal day",
          "Normal day",
          "Normal day",
          "Normal day",
          "Normal day",
          "Normal day",
          "Normal day",
          "Normal day",
          "Holiday",
          "Normal day",
          "Normal day",
          "Holiday",
          "Normal day",
          "Normal day",
          "Normal day",
          "Normal day",
          "Normal day",
          "Normal day",
          "Normal day",
          "Normal day",
          "Normal day",
          "Normal day",
          "Holiday",
          "Normal day",
          "Normal day",
          "Normal day",
          "Holiday",
          "Normal day",
          "Normal day",
          "Normal day",
          "Normal day",
          "Normal day",
          "Normal day",
          "Normal day",
          "Normal day",
          "Holiday",
          "Normal day",
          "Normal day",
          "Holiday",
          "Normal day",
          "Normal day",
          "Normal day",
          "Normal day",
          "Normal day",
          "Normal day",
          "Normal day",
          "Normal day",
          "Normal day",
          "Holiday",
          "Normal day",
          "Holiday",
          "Normal day",
          "Normal day",
          "Normal day",
          "Normal day",
          "Normal day",
          "Normal day",
          "Normal day",
          "Normal day",
          "Normal day",
          "Holiday",
          "Normal day",
          "Normal day",
          "Normal day",
          "Normal day",
          "Normal day",
          "Normal day",
          "Normal day",
          "Normal day",
          "Normal day",
          "Normal day",
          "Normal day",
          "Normal day",
          "Normal day",
          "Normal day",
          "Normal day",
          "Normal day",
          "Normal day",
          "Normal day",
          "Normal day",
          "Normal day",
          "Normal day",
          "Holiday",
          "Normal day",
          "Holiday",
          "Normal day",
          "Normal day",
          "Normal day",
          "Normal day",
          "Normal day",
          "Normal day",
          "Normal day",
          "Normal day",
          "Normal day",
          "Normal day",
          "Normal day",
          "Normal day",
          "Normal day",
          "Holiday",
          "Normal day",
          "Normal day",
          "Holiday",
          "Normal day",
          "Normal day",
          "Holiday",
          "Normal day",
          "Normal day",
          "Normal day",
          "Normal day",
          "Normal day",
          "Normal day",
          "Normal day",
          "Normal day",
          "Normal day",
          "Normal day",
          "Normal day",
          "Holiday",
          "Normal day",
          "Normal day",
          "Normal day",
          "Normal day",
          "Normal day",
          "Normal day",
          "Normal day",
          "Normal day",
          "Normal day",
          "Normal day",
          "Normal day",
          "Normal day",
          "Normal day",
          "Normal day",
          "Normal day",
          "Normal day",
          "Normal day",
          "Normal day",
          "Normal day",
          "Normal day",
          "Holiday",
          "Normal day",
          "Normal day",
          "Normal day",
          "Normal day",
          "Normal day",
          "Normal day",
          "Normal day",
          "Normal day",
          "Normal day",
          "Normal day",
          "Normal day",
          "Normal day",
          "Normal day",
          "Normal day",
          "Normal day",
          "Normal day",
          "Normal day",
          "Holiday",
          "Normal day",
          "Normal day",
          "Normal day",
          "Normal day",
          "Normal day",
          "Normal day",
          "Normal day",
          "Normal day",
          "Normal day",
          "Normal day",
          "Holiday",
          "Normal day",
          "Normal day",
          "Normal day",
          "Normal day",
          "Normal day",
          "Normal day",
          "Normal day",
          "Normal day",
          "Normal day",
          "Normal day",
          "Normal day",
          "Normal day",
          "Normal day",
          "Normal day",
          "Normal day",
          "Normal day",
          "Normal day",
          "Normal day",
          "Normal day",
          "Normal day",
          "Normal day",
          "Normal day",
          "Normal day",
          "Normal day",
          "Normal day",
          "Normal day",
          "Normal day",
          "Normal day",
          "Normal day",
          "Normal day",
          "Normal day",
          "Normal day",
          "Normal day",
          "Normal day",
          "Normal day",
          "Normal day",
          "Normal day",
          "Normal day",
          "Normal day",
          "Normal day",
          "Normal day",
          "Normal day",
          "Normal day",
          "Normal day",
          "Normal day",
          "Normal day",
          "Normal day",
          "Normal day",
          "Normal day",
          "Normal day",
          "Normal day",
          "Normal day",
          "Normal day",
          "Normal day",
          "Normal day",
          "Normal day",
          "Holiday",
          "Normal day",
          "Normal day",
          "Normal day",
          "Normal day",
          "Normal day",
          "Normal day",
          "Normal day",
          "Normal day",
          "Normal day",
          "Normal day",
          "Normal day",
          "Normal day",
          "Normal day",
          "Normal day",
          "Normal day",
          "Normal day",
          "Normal day",
          "Normal day",
          "Normal day",
          "Normal day",
          "Normal day",
          "Normal day",
          "Normal day",
          "Normal day",
          "Normal day",
          "Normal day",
          "Normal day",
          "Normal day",
          "Normal day",
          "Normal day",
          "Normal day",
          "Normal day",
          "Normal day",
          "Normal day",
          "Normal day",
          "Normal day",
          "Holiday",
          "Normal day",
          "Normal day",
          "Normal day",
          "Normal day",
          "Normal day",
          "Normal day",
          "Normal day",
          "Normal day",
          "Normal day",
          "Normal day",
          "Normal day",
          "Normal day",
          "Normal day",
          "Normal day",
          "Normal day",
          "Normal day",
          "Normal day",
          "Normal day",
          "Normal day",
          "Normal day",
          "Normal day",
          "Normal day",
          "Normal day",
          "Normal day",
          "Normal day",
          "Normal day",
          "Normal day",
          "Normal day",
          "Normal day",
          "Normal day",
          "Holiday",
          "Normal day",
          "Normal day",
          "Normal day",
          "Normal day",
          "Normal day",
          "Normal day",
          "Normal day",
          "Holiday",
          "Normal day",
          "Normal day",
          "Normal day",
          "Normal day",
          "Normal day",
          "Normal day",
          "Normal day",
          "Normal day",
          "Normal day",
          "Normal day",
          "Normal day",
          "Holiday",
          "Normal day",
          "Normal day",
          "Normal day",
          "Normal day",
          "Normal day",
          "Normal day",
          "Normal day",
          "Normal day",
          "Normal day",
          "Normal day",
          "Normal day",
          "Holiday",
          "Normal day",
          "Normal day",
          "Normal day",
          "Normal day",
          "Holiday",
          "Normal day",
          "Normal day",
          "Normal day",
          "Normal day",
          "Normal day",
          "Normal day",
          "Normal day",
          "Normal day",
          "Normal day",
          "Normal day",
          "Normal day",
          "Normal day",
          "Normal day",
          "Normal day",
          "Normal day",
          "Normal day",
          "Normal day",
          "Normal day",
          "Normal day",
          "Normal day",
          "Normal day",
          "Normal day",
          "Normal day",
          "Normal day",
          "Normal day",
          "Normal day",
          "Normal day",
          "Holiday",
          "Normal day",
          "Normal day",
          "Normal day",
          "Holiday",
          "Normal day",
          "Normal day",
          "Normal day",
          "Normal day",
          "Normal day",
          "Normal day",
          "Normal day",
          "Normal day",
          "Normal day",
          "Normal day",
          "Normal day",
          "Normal day",
          "Normal day",
          "Normal day",
          "Normal day",
          "Normal day",
          "Normal day",
          "Holiday",
          "Normal day",
          "Normal day",
          "Normal day",
          "Normal day",
          "Normal day",
          "Normal day",
          "Normal day",
          "Normal day",
          "Normal day",
          "Normal day",
          "Normal day",
          "Holiday",
          "Normal day",
          "Normal day",
          "Normal day",
          "Normal day",
          "Normal day",
          "Normal day",
          "Normal day",
          "Normal day",
          "Normal day",
          "Normal day",
          "Normal day",
          "Normal day",
          "Normal day",
          "Normal day",
          "Normal day",
          "Holiday",
          "Normal day",
          "Normal day",
          "Normal day",
          "Normal day",
          "Normal day",
          "Normal day",
          "Normal day",
          "Normal day",
          "Normal day",
          "Normal day",
          "Normal day",
          "Normal day",
          "Normal day",
          "Normal day",
          "Normal day",
          "Normal day",
          "Normal day",
          "Normal day",
          "Normal day",
          "Normal day",
          "Normal day",
          "Normal day",
          "Normal day",
          "Normal day",
          "Normal day",
          "Normal day",
          "Normal day",
          "Normal day",
          "Holiday",
          "Normal day",
          "Normal day",
          "Normal day",
          "Normal day",
          "Normal day",
          "Normal day",
          "Normal day",
          "Normal day",
          "Normal day",
          "Normal day",
          "Normal day",
          "Normal day",
          "Normal day",
          "Normal day",
          "Holiday",
          "Normal day",
          "Normal day",
          "Normal day",
          "Normal day",
          "Normal day",
          "Normal day",
          "Holiday",
          "Normal day",
          "Normal day",
          "Normal day",
          "Normal day",
          "Normal day",
          "Normal day",
          "Normal day",
          "Normal day",
          "Normal day",
          "Normal day",
          "Normal day",
          "Normal day",
          "Normal day",
          "Normal day",
          "Normal day",
          "Normal day",
          "Normal day",
          "Normal day",
          "Normal day",
          "Normal day",
          "Normal day",
          "Normal day",
          "Normal day",
          "Normal day",
          "Normal day",
          "Normal day",
          "Normal day",
          "Normal day",
          "Normal day",
          "Normal day",
          "Normal day",
          "Normal day",
          "Normal day",
          "Normal day",
          "Normal day",
          "Normal day",
          "Normal day",
          "Normal day",
          "Normal day",
          "Normal day",
          "Normal day",
          "Normal day",
          "Normal day",
          "Normal day",
          "Normal day",
          "Normal day",
          "Normal day",
          "Normal day",
          "Normal day",
          "Normal day",
          "Normal day",
          "Normal day",
          "Normal day",
          "Normal day",
          "Normal day",
          "Normal day",
          "Normal day",
          "Normal day",
          "Normal day",
          "Normal day",
          "Normal day",
          "Normal day",
          "Normal day",
          "Normal day",
          "Normal day",
          "Normal day",
          "Normal day",
          "Normal day",
          "Normal day",
          "Normal day",
          "Normal day",
          "Normal day",
          "Normal day",
          "Normal day",
          "Normal day",
          "Normal day",
          "Holiday",
          "Holiday",
          "Normal day",
          "Normal day",
          "Normal day",
          "Normal day",
          "Normal day",
          "Normal day",
          "Normal day",
          "Normal day",
          "Normal day",
          "Normal day",
          "Normal day",
          "Normal day",
          "Normal day",
          "Normal day",
          "Normal day",
          "Normal day",
          "Normal day",
          "Normal day",
          "Normal day",
          "Normal day",
          "Normal day",
          "Normal day",
          "Normal day",
          "Normal day",
          "Normal day",
          "Normal day",
          "Normal day",
          "Holiday",
          "Normal day",
          "Normal day",
          "Normal day",
          "Normal day",
          "Normal day",
          "Normal day",
          "Normal day",
          "Normal day",
          "Normal day",
          "Normal day",
          "Normal day",
          "Normal day",
          "Normal day",
          "Normal day",
          "Normal day",
          "Normal day",
          "Normal day",
          "Normal day",
          "Normal day",
          "Normal day",
          "Normal day",
          "Normal day",
          "Normal day",
          "Normal day",
          "Normal day",
          "Normal day",
          "Normal day",
          "Normal day",
          "Normal day",
          "Normal day",
          "Normal day",
          "Normal day",
          "Normal day",
          "Normal day",
          "Normal day",
          "Normal day",
          "Holiday",
          "Normal day",
          "Normal day",
          "Normal day",
          "Normal day",
          "Normal day",
          "Normal day",
          "Normal day",
          "Normal day",
          "Normal day",
          "Normal day",
          "Normal day",
          "Normal day",
          "Normal day",
          "Normal day",
          "Normal day",
          "Normal day",
          "Normal day",
          "Normal day",
          "Normal day",
          "Normal day",
          "Normal day",
          "Normal day",
          "Normal day",
          "Normal day",
          "Normal day",
          "Holiday",
          "Normal day",
          "Normal day",
          "Normal day",
          "Normal day",
          "Normal day",
          "Normal day",
          "Normal day",
          "Normal day",
          "Normal day",
          "Normal day",
          "Normal day",
          "Normal day",
          "Normal day",
          "Normal day",
          "Normal day",
          "Normal day",
          "Holiday",
          "Normal day",
          "Holiday",
          "Normal day",
          "Holiday",
          "Normal day",
          "Normal day",
          "Holiday",
          "Normal day",
          "Normal day",
          "Normal day",
          "Normal day",
          "Normal day",
          "Normal day",
          "Normal day",
          "Normal day",
          "Normal day",
          "Normal day",
          "Normal day",
          "Normal day",
          "Normal day",
          "Normal day",
          "Normal day",
          "Normal day",
          "Normal day",
          "Normal day",
          "Normal day",
          "Normal day",
          "Normal day",
          "Normal day",
          "Holiday",
          "Normal day",
          "Normal day",
          "Normal day",
          "Normal day",
          "Normal day",
          "Normal day",
          "Normal day",
          "Normal day",
          "Normal day",
          "Holiday",
          "Normal day",
          "Normal day",
          "Normal day",
          "Normal day",
          "Normal day",
          "Normal day",
          "Normal day",
          "Normal day",
          "Normal day",
          "Normal day",
          "Normal day",
          "Normal day",
          "Normal day",
          "Normal day",
          "Normal day",
          "Normal day",
          "Normal day",
          "Normal day",
          "Holiday",
          "Holiday",
          "Normal day",
          "Normal day",
          "Normal day",
          "Normal day",
          "Normal day",
          "Normal day",
          "Normal day",
          "Normal day",
          "Normal day",
          "Normal day",
          "Normal day",
          "Normal day",
          "Normal day",
          "Normal day",
          "Holiday",
          "Normal day",
          "Normal day",
          "Normal day",
          "Normal day",
          "Normal day",
          "Normal day",
          "Normal day",
          "Normal day",
          "Normal day",
          "Normal day",
          "Holiday",
          "Normal day",
          "Normal day",
          "Normal day",
          "Normal day",
          "Normal day",
          "Normal day",
          "Normal day",
          "Normal day",
          "Normal day",
          "Normal day",
          "Normal day",
          "Normal day",
          "Normal day",
          "Normal day",
          "Normal day",
          "Holiday",
          "Normal day",
          "Normal day",
          "Normal day",
          "Normal day",
          "Normal day",
          "Normal day",
          "Normal day",
          "Holiday",
          "Normal day",
          "Normal day",
          "Normal day",
          "Normal day",
          "Normal day",
          "Normal day",
          "Normal day",
          "Normal day",
          "Normal day",
          "Normal day",
          "Normal day",
          "Normal day",
          "Normal day",
          "Normal day",
          "Normal day",
          "Holiday",
          "Normal day",
          "Normal day",
          "Normal day",
          "Normal day",
          "Normal day",
          "Normal day",
          "Normal day",
          "Normal day",
          "Normal day",
          "Normal day",
          "Normal day",
          "Normal day",
          "Normal day",
          "Normal day",
          "Normal day",
          "Normal day",
          "Normal day",
          "Normal day",
          "Normal day",
          "Normal day",
          "Normal day",
          "Normal day",
          "Normal day",
          "Normal day",
          "Normal day",
          "Normal day",
          "Normal day",
          "Normal day",
          "Normal day",
          "Normal day",
          "Normal day",
          "Normal day",
          "Normal day",
          "Normal day",
          "Normal day",
          "Normal day",
          "Normal day",
          "Normal day",
          "Normal day",
          "Normal day",
          "Normal day",
          "Holiday",
          "Normal day",
          "Normal day",
          "Normal day",
          "Normal day",
          "Normal day",
          "Normal day",
          "Normal day",
          "Normal day",
          "Normal day",
          "Normal day",
          "Normal day",
          "Normal day",
          "Normal day",
          "Normal day",
          "Normal day",
          "Normal day",
          "Normal day",
          "Normal day",
          "Holiday",
          "Normal day",
          "Normal day",
          "Normal day",
          "Normal day",
          "Normal day",
          "Normal day",
          "Normal day",
          "Normal day",
          "Normal day",
          "Normal day",
          "Normal day",
          "Normal day",
          "Normal day",
          "Normal day",
          "Normal day",
          "Normal day",
          "Normal day",
          "Normal day",
          "Holiday",
          "Normal day",
          "Normal day",
          "Normal day",
          "Normal day",
          "Normal day",
          "Normal day",
          "Holiday",
          "Normal day",
          "Normal day",
          "Normal day",
          "Normal day",
          "Normal day",
          "Normal day",
          "Normal day",
          "Normal day",
          "Normal day",
          "Normal day",
          "Normal day",
          "Normal day",
          "Normal day",
          "Normal day",
          "Normal day",
          "Normal day",
          "Normal day",
          "Normal day",
          "Normal day",
          "Normal day",
          "Normal day",
          "Normal day",
          "Normal day",
          "Normal day",
          "Normal day",
          "Normal day",
          "Normal day",
          "Normal day",
          "Normal day",
          "Normal day",
          "Normal day",
          "Normal day",
          "Normal day",
          "Holiday",
          "Normal day",
          "Normal day",
          "Normal day",
          "Normal day",
          "Normal day",
          "Normal day",
          "Normal day",
          "Normal day",
          "Normal day",
          "Normal day",
          "Normal day",
          "Holiday",
          "Normal day",
          "Normal day",
          "Normal day",
          "Normal day",
          "Normal day",
          "Normal day",
          "Normal day",
          "Normal day",
          "Normal day",
          "Normal day",
          "Normal day",
          "Normal day",
          "Normal day",
          "Normal day",
          "Normal day",
          "Normal day",
          "Normal day",
          "Normal day",
          "Normal day",
          "Normal day",
          "Holiday",
          "Normal day",
          "Normal day",
          "Normal day",
          "Normal day",
          "Normal day",
          "Normal day",
          "Normal day",
          "Normal day",
          "Normal day",
          "Normal day",
          "Normal day",
          "Normal day",
          "Normal day",
          "Normal day",
          "Normal day",
          "Holiday",
          "Normal day",
          "Normal day",
          "Normal day",
          "Normal day",
          "Normal day",
          "Normal day",
          "Normal day",
          "Normal day",
          "Normal day",
          "Holiday",
          "Normal day",
          "Normal day",
          "Normal day",
          "Normal day",
          "Normal day",
          "Normal day",
          "Normal day",
          "Normal day",
          "Normal day",
          "Normal day",
          "Normal day",
          "Normal day",
          "Normal day",
          "Normal day",
          "Normal day",
          "Normal day",
          "Normal day",
          "Normal day",
          "Normal day",
          "Holiday",
          "Normal day",
          "Normal day",
          "Normal day",
          "Normal day",
          "Normal day",
          "Normal day",
          "Normal day",
          "Normal day",
          "Normal day",
          "Normal day",
          "Normal day",
          "Normal day",
          "Normal day",
          "Normal day",
          "Holiday",
          "Normal day",
          "Normal day",
          "Normal day",
          "Normal day",
          "Normal day",
          "Normal day",
          "Normal day",
          "Normal day",
          "Normal day",
          "Normal day",
          "Normal day",
          "Normal day",
          "Normal day",
          "Normal day",
          "Normal day",
          "Normal day",
          "Normal day",
          "Normal day",
          "Normal day",
          "Normal day",
          "Normal day",
          "Normal day",
          "Normal day",
          "Normal day",
          "Normal day",
          "Normal day",
          "Normal day",
          "Normal day",
          "Normal day",
          "Holiday",
          "Normal day",
          "Normal day",
          "Normal day",
          "Normal day",
          "Normal day",
          "Normal day",
          "Normal day",
          "Normal day",
          "Normal day",
          "Normal day",
          "Normal day",
          "Normal day",
          "Normal day",
          "Normal day",
          "Normal day",
          "Normal day",
          "Normal day",
          "Normal day",
          "Holiday",
          "Holiday",
          "Normal day",
          "Normal day",
          "Holiday",
          "Normal day",
          "Normal day",
          "Normal day",
          "Normal day",
          "Normal day",
          "Holiday",
          "Normal day",
          "Normal day",
          "Normal day",
          "Normal day",
          "Normal day",
          "Normal day",
          "Normal day",
          "Normal day",
          "Normal day",
          "Normal day",
          "Normal day",
          "Normal day",
          "Normal day",
          "Normal day",
          "Normal day",
          "Normal day",
          "Holiday",
          "Normal day",
          "Normal day",
          "Normal day",
          "Normal day",
          "Normal day",
          "Normal day",
          "Normal day",
          "Normal day",
          "Normal day",
          "Normal day",
          "Normal day",
          "Normal day",
          "Normal day",
          "Normal day",
          "Normal day",
          "Normal day",
          "Normal day",
          "Normal day",
          "Normal day",
          "Normal day",
          "Normal day",
          "Normal day",
          "Normal day",
          "Normal day",
          "Normal day",
          "Normal day",
          "Normal day",
          "Normal day",
          "Normal day",
          "Normal day",
          "Normal day",
          "Normal day",
          "Normal day",
          "Normal day",
          "Holiday",
          "Normal day",
          "Normal day",
          "Normal day",
          "Normal day",
          "Normal day",
          "Normal day",
          "Normal day",
          "Normal day",
          "Normal day",
          "Normal day",
          "Normal day",
          "Normal day",
          "Normal day",
          "Normal day",
          "Normal day",
          "Holiday",
          "Normal day",
          "Normal day",
          "Normal day",
          "Normal day",
          "Normal day",
          "Normal day",
          "Holiday",
          "Normal day",
          "Normal day",
          "Normal day",
          "Holiday",
          "Normal day",
          "Holiday",
          "Normal day",
          "Normal day",
          "Normal day",
          "Normal day",
          "Normal day",
          "Normal day",
          "Normal day",
          "Normal day",
          "Normal day",
          "Holiday",
          "Normal day",
          "Normal day",
          "Normal day",
          "Normal day",
          "Normal day",
          "Normal day",
          "Holiday",
          "Normal day",
          "Normal day",
          "Normal day",
          "Normal day",
          "Normal day",
          "Normal day",
          "Normal day",
          "Normal day",
          "Normal day",
          "Normal day",
          "Normal day",
          "Holiday",
          "Normal day",
          "Normal day",
          "Normal day",
          "Normal day",
          "Normal day",
          "Normal day",
          "Normal day",
          "Normal day",
          "Normal day",
          "Normal day",
          "Normal day",
          "Normal day",
          "Normal day",
          "Normal day",
          "Normal day",
          "Normal day",
          "Normal day",
          "Normal day",
          "Normal day",
          "Normal day",
          "Normal day",
          "Normal day",
          "Normal day",
          "Normal day",
          "Normal day",
          "Normal day",
          "Normal day",
          "Normal day",
          "Normal day",
          "Normal day",
          "Normal day",
          "Normal day",
          "Normal day",
          "Normal day",
          "Normal day",
          "Normal day",
          "Normal day",
          "Normal day",
          "Normal day",
          "Normal day",
          "Holiday",
          "Normal day",
          "Normal day",
          "Normal day",
          "Holiday",
          "Normal day",
          "Holiday",
          "Normal day",
          "Normal day",
          "Normal day",
          "Normal day",
          "Normal day",
          "Normal day",
          "Normal day",
          "Normal day",
          "Normal day",
          "Normal day",
          "Normal day",
          "Normal day",
          "Normal day",
          "Normal day",
          "Normal day",
          "Normal day",
          "Normal day",
          "Normal day",
          "Normal day",
          "Normal day",
          "Normal day",
          "Normal day",
          "Holiday",
          "Normal day",
          "Normal day",
          "Normal day",
          "Normal day",
          "Normal day",
          "Normal day",
          "Normal day",
          "Normal day",
          "Normal day",
          "Normal day",
          "Normal day",
          "Normal day",
          "Normal day",
          "Normal day",
          "Normal day",
          "Normal day",
          "Normal day",
          "Normal day",
          "Normal day",
          "Normal day",
          "Normal day",
          "Normal day",
          "Normal day",
          "Normal day",
          "Holiday",
          "Normal day",
          "Normal day",
          "Normal day",
          "Normal day",
          "Normal day",
          "Normal day",
          "Normal day",
          "Normal day",
          "Normal day",
          "Normal day",
          "Normal day",
          "Normal day",
          "Normal day",
          "Normal day",
          "Normal day",
          "Normal day",
          "Normal day",
          "Normal day",
          "Normal day",
          "Normal day",
          "Normal day",
          "Normal day",
          "Normal day",
          "Normal day",
          "Normal day",
          "Holiday",
          "Normal day",
          "Normal day",
          "Normal day",
          "Normal day",
          "Normal day",
          "Normal day",
          "Normal day",
          "Normal day",
          "Normal day",
          "Normal day",
          "Normal day",
          "Normal day",
          "Normal day",
          "Normal day",
          "Normal day",
          "Normal day",
          "Normal day",
          "Normal day",
          "Normal day",
          "Normal day",
          "Normal day",
          "Normal day",
          "Normal day",
          "Normal day",
          "Normal day",
          "Normal day",
          "Normal day",
          "Normal day",
          "Normal day",
          "Normal day",
          "Normal day",
          "Holiday",
          "Normal day",
          "Holiday",
          "Normal day",
          "Normal day",
          "Normal day",
          "Holiday",
          "Normal day",
          "Normal day",
          "Normal day",
          "Normal day",
          "Normal day",
          "Normal day",
          "Normal day",
          "Normal day",
          "Normal day",
          "Normal day",
          "Normal day",
          "Normal day",
          "Normal day",
          "Normal day",
          "Normal day",
          "Normal day",
          "Normal day",
          "Normal day",
          "Normal day",
          "Normal day",
          "Normal day",
          "Normal day",
          "Normal day",
          "Normal day",
          "Normal day",
          "Holiday",
          "Normal day",
          "Normal day",
          "Holiday",
          "Normal day",
          "Normal day",
          "Normal day",
          "Normal day",
          "Normal day",
          "Normal day",
          "Normal day",
          "Normal day",
          "Holiday",
          "Normal day",
          "Normal day",
          "Normal day",
          "Normal day",
          "Normal day",
          "Normal day",
          "Normal day",
          "Normal day",
          "Normal day",
          "Holiday",
          "Normal day",
          "Normal day",
          "Normal day",
          "Holiday",
          "Normal day",
          "Normal day",
          "Normal day",
          "Holiday",
          "Normal day",
          "Normal day",
          "Normal day",
          "Normal day",
          "Normal day",
          "Normal day",
          "Normal day",
          "Normal day",
          "Normal day",
          "Normal day",
          "Normal day",
          "Normal day",
          "Normal day",
          "Normal day",
          "Normal day",
          "Normal day",
          "Normal day",
          "Normal day",
          "Normal day",
          "Normal day",
          "Normal day",
          "Normal day",
          "Normal day",
          "Normal day",
          "Normal day",
          "Normal day",
          "Normal day",
          "Normal day",
          "Normal day",
          "Normal day",
          "Normal day",
          "Normal day",
          "Normal day",
          "Normal day",
          "Normal day",
          "Normal day",
          "Normal day",
          "Normal day",
          "Normal day",
          "Normal day",
          "Normal day",
          "Normal day",
          "Normal day",
          "Normal day",
          "Normal day",
          "Normal day",
          "Normal day",
          "Normal day",
          "Normal day",
          "Normal day",
          "Holiday",
          "Normal day",
          "Normal day",
          "Normal day",
          "Normal day",
          "Normal day",
          "Normal day",
          "Normal day",
          "Normal day",
          "Holiday",
          "Normal day",
          "Normal day",
          "Normal day",
          "Normal day",
          "Normal day",
          "Normal day",
          "Normal day",
          "Normal day",
          "Normal day",
          "Normal day",
          "Normal day",
          "Normal day",
          "Normal day",
          "Normal day",
          "Normal day",
          "Normal day",
          "Normal day",
          "Normal day",
          "Normal day",
          "Normal day",
          "Normal day",
          "Normal day",
          "Normal day",
          "Normal day",
          "Normal day",
          "Normal day",
          "Normal day",
          "Normal day",
          "Normal day",
          "Normal day",
          "Normal day",
          "Normal day",
          "Normal day",
          "Normal day",
          "Normal day",
          "Normal day",
          "Normal day",
          "Normal day",
          "Normal day",
          "Normal day",
          "Normal day",
          "Normal day",
          "Normal day",
          "Normal day",
          "Normal day",
          "Normal day",
          "Normal day",
          "Normal day",
          "Normal day",
          "Normal day",
          "Normal day",
          "Normal day",
          "Normal day",
          "Normal day",
          "Normal day",
          "Normal day",
          "Normal day",
          "Normal day",
          "Normal day",
          "Normal day",
          "Normal day",
          "Normal day",
          "Normal day",
          "Normal day",
          "Normal day",
          "Normal day",
          "Normal day",
          "Normal day",
          "Normal day",
          "Normal day",
          "Holiday",
          "Normal day",
          "Normal day",
          "Normal day",
          "Normal day",
          "Normal day",
          "Normal day",
          "Normal day",
          "Normal day",
          "Normal day",
          "Normal day",
          "Normal day",
          "Holiday",
          "Normal day",
          "Normal day",
          "Normal day",
          "Normal day",
          "Normal day",
          "Normal day",
          "Normal day",
          "Normal day",
          "Normal day",
          "Normal day",
          "Holiday",
          "Normal day",
          "Normal day",
          "Normal day",
          "Normal day",
          "Normal day",
          "Normal day",
          "Normal day",
          "Normal day",
          "Normal day",
          "Normal day",
          "Normal day",
          "Holiday",
          "Holiday",
          "Holiday",
          "Normal day",
          "Normal day",
          "Normal day",
          "Normal day",
          "Holiday",
          "Normal day",
          "Normal day",
          "Normal day",
          "Normal day",
          "Normal day",
          "Normal day",
          "Normal day",
          "Normal day",
          "Normal day",
          "Normal day",
          "Normal day",
          "Normal day",
          "Normal day",
          "Normal day",
          "Holiday",
          "Normal day",
          "Normal day",
          "Normal day",
          "Normal day",
          "Normal day",
          "Normal day",
          "Normal day",
          "Normal day",
          "Normal day",
          "Normal day",
          "Normal day",
          "Normal day",
          "Normal day",
          "Normal day",
          "Normal day",
          "Normal day",
          "Normal day",
          "Normal day",
          "Normal day",
          "Normal day",
          "Normal day",
          "Normal day",
          "Normal day",
          "Normal day",
          "Normal day",
          "Normal day",
          "Normal day",
          "Normal day",
          "Normal day",
          "Normal day",
          "Normal day",
          "Normal day",
          "Normal day",
          "Holiday",
          "Normal day",
          "Normal day",
          "Normal day",
          "Holiday",
          "Normal day",
          "Holiday",
          "Normal day",
          "Normal day",
          "Normal day",
          "Normal day",
          "Normal day",
          "Holiday",
          "Normal day",
          "Normal day",
          "Normal day",
          "Normal day",
          "Normal day",
          "Normal day",
          "Normal day",
          "Normal day",
          "Normal day",
          "Normal day",
          "Normal day",
          "Normal day",
          "Normal day",
          "Normal day",
          "Normal day",
          "Normal day",
          "Normal day",
          "Normal day",
          "Normal day",
          "Normal day",
          "Normal day",
          "Holiday",
          "Normal day",
          "Normal day",
          "Normal day",
          "Normal day",
          "Normal day",
          "Normal day",
          "Normal day",
          "Normal day",
          "Normal day",
          "Normal day",
          "Normal day",
          "Holiday",
          "Normal day",
          "Normal day",
          "Normal day",
          "Normal day",
          "Normal day",
          "Normal day",
          "Normal day",
          "Normal day",
          "Normal day",
          "Normal day",
          "Normal day",
          "Normal day",
          "Normal day",
          "Normal day",
          "Normal day",
          "Normal day",
          "Holiday",
          "Normal day",
          "Normal day",
          "Normal day",
          "Normal day",
          "Normal day",
          "Normal day",
          "Normal day",
          "Normal day",
          "Normal day",
          "Normal day",
          "Normal day",
          "Normal day",
          "Normal day",
          "Holiday",
          "Normal day",
          "Normal day",
          "Normal day",
          "Normal day",
          "Normal day",
          "Normal day",
          "Normal day",
          "Normal day",
          "Normal day",
          "Normal day",
          "Normal day",
          "Normal day",
          "Normal day",
          "Normal day",
          "Holiday",
          "Normal day",
          "Normal day",
          "Holiday",
          "Normal day",
          "Normal day",
          "Holiday",
          "Normal day",
          "Normal day",
          "Normal day",
          "Normal day",
          "Normal day",
          "Normal day",
          "Normal day",
          "Normal day",
          "Normal day",
          "Normal day",
          "Normal day",
          "Normal day",
          "Normal day",
          "Normal day",
          "Normal day",
          "Normal day",
          "Normal day",
          "Normal day",
          "Holiday",
          "Normal day",
          "Normal day",
          "Normal day",
          "Normal day",
          "Normal day",
          "Normal day",
          "Normal day",
          "Normal day",
          "Normal day",
          "Normal day",
          "Normal day",
          "Normal day",
          "Normal day",
          "Normal day",
          "Normal day",
          "Normal day",
          "Normal day",
          "Normal day",
          "Normal day",
          "Normal day",
          "Normal day",
          "Normal day",
          "Normal day",
          "Normal day",
          "Normal day",
          "Normal day",
          "Normal day",
          "Normal day",
          "Normal day",
          "Normal day",
          "Normal day",
          "Normal day",
          "Normal day",
          "Normal day",
          "Normal day",
          "Normal day",
          "Normal day",
          "Normal day",
          "Normal day",
          "Normal day",
          "Normal day",
          "Normal day",
          "Normal day",
          "Normal day",
          "Normal day",
          "Normal day",
          "Normal day",
          "Normal day",
          "Normal day",
          "Normal day",
          "Normal day",
          "Normal day",
          "Holiday",
          "Normal day",
          "Normal day",
          "Normal day",
          "Normal day",
          "Normal day",
          "Normal day",
          "Normal day",
          "Normal day",
          "Normal day",
          "Normal day",
          "Holiday",
          "Normal day",
          "Normal day",
          "Normal day",
          "Normal day",
          "Normal day",
          "Holiday",
          "Normal day",
          "Normal day",
          "Normal day",
          "Normal day",
          "Holiday",
          "Normal day",
          "Normal day",
          "Normal day",
          "Normal day",
          "Normal day",
          "Normal day",
          "Normal day",
          "Normal day",
          "Normal day",
          "Normal day",
          "Normal day",
          "Normal day",
          "Normal day",
          "Normal day",
          "Normal day",
          "Normal day",
          "Normal day",
          "Normal day",
          "Normal day",
          "Normal day",
          "Normal day",
          "Normal day",
          "Normal day",
          "Normal day",
          "Normal day",
          "Normal day",
          "Normal day",
          "Normal day",
          "Normal day",
          "Normal day",
          "Normal day",
          "Normal day",
          "Normal day",
          "Normal day",
          "Normal day",
          "Normal day",
          "Normal day",
          "Normal day",
          "Normal day",
          "Normal day",
          "Normal day",
          "Normal day",
          "Holiday",
          "Normal day",
          "Normal day",
          "Holiday",
          "Normal day",
          "Normal day",
          "Normal day",
          "Normal day",
          "Normal day",
          "Normal day",
          "Normal day",
          "Normal day",
          "Holiday",
          "Normal day",
          "Normal day",
          "Normal day",
          "Normal day",
          "Normal day",
          "Normal day",
          "Normal day",
          "Normal day",
          "Normal day",
          "Normal day",
          "Normal day",
          "Normal day",
          "Normal day",
          "Normal day",
          "Holiday",
          "Normal day",
          "Normal day",
          "Normal day",
          "Normal day",
          "Normal day",
          "Normal day",
          "Normal day",
          "Normal day",
          "Normal day",
          "Normal day",
          "Normal day",
          "Holiday",
          "Normal day",
          "Normal day",
          "Normal day",
          "Normal day",
          "Normal day",
          "Normal day",
          "Normal day",
          "Normal day",
          "Normal day",
          "Normal day",
          "Normal day",
          "Normal day",
          "Normal day",
          "Normal day",
          "Normal day",
          "Normal day",
          "Normal day",
          "Normal day",
          "Normal day",
          "Normal day",
          "Normal day",
          "Normal day",
          "Normal day",
          "Normal day",
          "Normal day",
          "Normal day",
          "Normal day",
          "Normal day",
          "Normal day",
          "Normal day",
          "Normal day",
          "Normal day",
          "Normal day",
          "Normal day",
          "Normal day",
          "Normal day",
          "Normal day",
          "Normal day",
          "Normal day",
          "Normal day",
          "Normal day",
          "Normal day",
          "Normal day",
          "Normal day",
          "Normal day",
          "Normal day",
          "Normal day",
          "Normal day",
          "Normal day",
          "Normal day",
          "Normal day",
          "Normal day",
          "Normal day",
          "Normal day",
          "Normal day",
          "Normal day",
          "Normal day",
          "Normal day",
          "Holiday",
          "Normal day",
          "Normal day",
          "Normal day",
          "Normal day",
          "Normal day",
          "Normal day",
          "Normal day",
          "Normal day",
          "Normal day",
          "Normal day",
          "Normal day",
          "Normal day",
          "Normal day",
          "Normal day",
          "Normal day",
          "Normal day",
          "Normal day",
          "Normal day",
          "Normal day",
          "Normal day",
          "Normal day",
          "Normal day",
          "Normal day",
          "Normal day",
          "Normal day",
          "Normal day",
          "Normal day",
          "Normal day",
          "Normal day",
          "Holiday",
          "Normal day",
          "Normal day",
          "Normal day",
          "Holiday",
          "Normal day",
          "Normal day",
          "Holiday",
          "Normal day",
          "Normal day",
          "Normal day",
          "Normal day",
          "Holiday",
          "Normal day",
          "Normal day",
          "Normal day",
          "Holiday",
          "Normal day",
          "Normal day",
          "Normal day",
          "Normal day",
          "Normal day",
          "Normal day",
          "Holiday",
          "Normal day",
          "Normal day",
          "Normal day",
          "Normal day",
          "Holiday",
          "Normal day",
          "Normal day",
          "Normal day",
          "Normal day",
          "Normal day",
          "Normal day",
          "Normal day",
          "Normal day",
          "Normal day",
          "Normal day",
          "Normal day",
          "Normal day",
          "Normal day",
          "Normal day",
          "Normal day",
          "Normal day",
          "Normal day",
          "Normal day",
          "Normal day",
          "Normal day",
          "Normal day",
          "Normal day",
          "Normal day",
          "Holiday",
          "Normal day",
          "Normal day",
          "Normal day",
          "Normal day",
          "Normal day",
          "Normal day",
          "Normal day",
          "Normal day",
          "Normal day",
          "Normal day",
          "Normal day",
          "Normal day",
          "Normal day",
          "Normal day",
          "Normal day",
          "Normal day",
          "Holiday",
          "Normal day",
          "Normal day",
          "Normal day",
          "Normal day",
          "Normal day",
          "Normal day",
          "Holiday",
          "Normal day",
          "Normal day",
          "Normal day",
          "Normal day",
          "Normal day",
          "Normal day",
          "Normal day",
          "Normal day",
          "Normal day",
          "Normal day",
          "Holiday",
          "Normal day",
          "Normal day",
          "Normal day",
          "Normal day",
          "Normal day",
          "Normal day",
          "Normal day",
          "Normal day",
          "Normal day",
          "Normal day",
          "Normal day",
          "Normal day",
          "Normal day",
          "Normal day",
          "Normal day",
          "Normal day",
          "Normal day",
          "Normal day",
          "Normal day",
          "Normal day",
          "Normal day",
          "Normal day",
          "Holiday",
          "Normal day",
          "Normal day",
          "Normal day",
          "Normal day",
          "Normal day",
          "Normal day",
          "Normal day",
          "Normal day",
          "Normal day",
          "Normal day",
          "Normal day",
          "Normal day",
          "Normal day",
          "Normal day",
          "Normal day",
          "Normal day",
          "Holiday",
          "Holiday",
          "Normal day",
          "Normal day",
          "Normal day",
          "Normal day",
          "Normal day",
          "Normal day",
          "Normal day",
          "Normal day",
          "Normal day",
          "Normal day",
          "Normal day",
          "Normal day",
          "Normal day",
          "Normal day",
          "Holiday",
          "Normal day",
          "Normal day",
          "Normal day",
          "Normal day",
          "Normal day",
          "Normal day",
          "Normal day",
          "Normal day",
          "Normal day",
          "Normal day",
          "Normal day",
          "Normal day",
          "Normal day",
          "Normal day",
          "Normal day",
          "Normal day",
          "Normal day",
          "Normal day",
          "Normal day",
          "Normal day",
          "Normal day",
          "Normal day",
          "Normal day",
          "Normal day",
          "Normal day",
          "Normal day",
          "Normal day",
          "Normal day",
          "Normal day",
          "Normal day",
          "Normal day",
          "Normal day",
          "Holiday",
          "Normal day",
          "Normal day",
          "Normal day",
          "Normal day",
          "Normal day",
          "Normal day",
          "Normal day",
          "Normal day",
          "Normal day",
          "Normal day",
          "Normal day",
          "Normal day",
          "Normal day",
          "Normal day",
          "Normal day",
          "Normal day",
          "Holiday",
          "Normal day",
          "Normal day",
          "Normal day",
          "Normal day",
          "Normal day",
          "Normal day",
          "Holiday",
          "Holiday",
          "Normal day",
          "Normal day",
          "Normal day",
          "Normal day",
          "Normal day",
          "Normal day",
          "Normal day",
          "Holiday",
          "Normal day",
          "Normal day",
          "Holiday",
          "Normal day",
          "Normal day",
          "Normal day",
          "Normal day",
          "Normal day",
          "Normal day",
          "Normal day",
          "Normal day",
          "Holiday",
          "Normal day",
          "Normal day",
          "Normal day",
          "Normal day",
          "Normal day",
          "Normal day",
          "Normal day",
          "Normal day",
          "Normal day",
          "Holiday",
          "Normal day",
          "Normal day",
          "Normal day",
          "Normal day",
          "Normal day",
          "Normal day",
          "Normal day",
          "Normal day",
          "Normal day",
          "Normal day",
          "Normal day",
          "Normal day",
          "Normal day",
          "Normal day",
          "Normal day",
          "Normal day",
          "Normal day",
          "Normal day",
          "Normal day",
          "Normal day",
          "Normal day",
          "Normal day",
          "Normal day",
          "Normal day",
          "Normal day",
          "Normal day",
          "Normal day",
          "Normal day",
          "Normal day",
          "Normal day",
          "Normal day",
          "Normal day",
          "Normal day",
          "Normal day",
          "Normal day",
          "Normal day",
          "Normal day",
          "Normal day",
          "Normal day",
          "Normal day",
          "Normal day",
          "Normal day",
          "Normal day",
          "Normal day",
          "Normal day",
          "Normal day",
          "Normal day",
          "Normal day",
          "Normal day",
          "Normal day",
          "Normal day",
          "Normal day",
          "Normal day",
          "Normal day",
          "Normal day",
          "Normal day",
          "Normal day",
          "Normal day",
          "Normal day",
          "Normal day",
          "Normal day",
          "Normal day",
          "Normal day",
          "Normal day",
          "Normal day",
          "Normal day",
          "Normal day",
          "Normal day",
          "Normal day",
          "Normal day",
          "Normal day",
          "Holiday",
          "Normal day",
          "Normal day",
          "Normal day",
          "Normal day",
          "Normal day",
          "Normal day",
          "Normal day",
          "Normal day",
          "Normal day",
          "Normal day",
          "Normal day",
          "Normal day",
          "Normal day",
          "Normal day",
          "Holiday",
          "Normal day",
          "Normal day",
          "Normal day",
          "Normal day",
          "Normal day",
          "Normal day",
          "Normal day",
          "Normal day",
          "Normal day",
          "Normal day",
          "Normal day",
          "Normal day",
          "Holiday",
          "Normal day",
          "Normal day",
          "Normal day",
          "Normal day",
          "Normal day",
          "Normal day",
          "Normal day",
          "Normal day",
          "Normal day",
          "Normal day",
          "Normal day",
          "Normal day",
          "Normal day",
          "Normal day",
          "Holiday",
          "Normal day",
          "Normal day",
          "Normal day",
          "Holiday",
          "Normal day",
          "Normal day",
          "Normal day",
          "Holiday",
          "Normal day",
          "Normal day",
          "Normal day",
          "Normal day",
          "Normal day",
          "Normal day",
          "Normal day",
          "Normal day",
          "Normal day",
          "Normal day",
          "Normal day",
          "Normal day",
          "Normal day",
          "Normal day",
          "Normal day",
          "Normal day",
          "Normal day",
          "Normal day",
          "Normal day",
          "Normal day",
          "Normal day",
          "Normal day",
          "Normal day",
          "Holiday",
          "Normal day",
          "Holiday",
          "Normal day",
          "Normal day",
          "Normal day",
          "Normal day",
          "Holiday",
          "Normal day",
          "Normal day",
          "Normal day",
          "Normal day",
          "Normal day",
          "Normal day",
          "Normal day",
          "Normal day",
          "Normal day",
          "Normal day",
          "Normal day",
          "Normal day",
          "Normal day",
          "Normal day",
          "Normal day",
          "Normal day",
          "Normal day",
          "Normal day",
          "Normal day",
          "Normal day",
          "Normal day",
          "Normal day",
          "Normal day",
          "Normal day",
          "Normal day",
          "Normal day",
          "Normal day",
          "Normal day",
          "Normal day",
          "Normal day",
          "Normal day",
          "Normal day",
          "Normal day",
          "Normal day",
          "Normal day",
          "Normal day",
          "Normal day",
          "Normal day",
          "Normal day",
          "Normal day",
          "Normal day",
          "Normal day",
          "Normal day",
          "Holiday",
          "Normal day",
          "Normal day",
          "Normal day",
          "Normal day",
          "Normal day",
          "Normal day",
          "Normal day",
          "Normal day",
          "Normal day",
          "Normal day",
          "Normal day",
          "Normal day",
          "Normal day",
          "Normal day",
          "Normal day",
          "Normal day",
          "Normal day",
          "Normal day",
          "Normal day",
          "Normal day",
          "Normal day",
          "Holiday",
          "Normal day",
          "Normal day",
          "Normal day",
          "Normal day",
          "Normal day",
          "Normal day",
          "Holiday",
          "Normal day",
          "Normal day",
          "Normal day",
          "Normal day",
          "Normal day",
          "Normal day",
          "Normal day",
          "Normal day",
          "Normal day",
          "Holiday",
          "Normal day",
          "Normal day",
          "Normal day",
          "Normal day",
          "Normal day",
          "Normal day",
          "Normal day",
          "Normal day",
          "Normal day",
          "Normal day",
          "Normal day",
          "Normal day",
          "Normal day",
          "Normal day",
          "Normal day",
          "Normal day",
          "Normal day",
          "Normal day",
          "Normal day",
          "Normal day",
          "Normal day",
          "Normal day",
          "Normal day",
          "Normal day",
          "Normal day",
          "Normal day",
          "Normal day",
          "Normal day",
          "Normal day",
          "Holiday",
          "Normal day",
          "Normal day",
          "Normal day",
          "Normal day",
          "Normal day",
          "Normal day",
          "Normal day",
          "Normal day",
          "Normal day",
          "Normal day",
          "Normal day",
          "Normal day",
          "Normal day",
          "Normal day",
          "Normal day",
          "Normal day",
          "Normal day",
          "Normal day",
          "Normal day",
          "Normal day",
          "Normal day",
          "Normal day",
          "Normal day",
          "Normal day",
          "Normal day",
          "Normal day",
          "Normal day",
          "Normal day",
          "Normal day",
          "Normal day",
          "Normal day",
          "Holiday",
          "Normal day",
          "Normal day",
          "Normal day",
          "Normal day",
          "Normal day",
          "Normal day",
          "Normal day",
          "Normal day",
          "Normal day",
          "Normal day",
          "Normal day",
          "Normal day",
          "Normal day",
          "Normal day",
          "Normal day",
          "Normal day",
          "Normal day",
          "Normal day",
          "Normal day",
          "Normal day",
          "Normal day",
          "Normal day",
          "Holiday",
          "Normal day",
          "Normal day",
          "Normal day",
          "Normal day",
          "Normal day",
          "Normal day",
          "Normal day",
          "Normal day",
          "Normal day",
          "Normal day",
          "Normal day",
          "Normal day",
          "Normal day",
          "Holiday",
          "Holiday",
          "Normal day",
          "Normal day",
          "Normal day",
          "Normal day",
          "Normal day",
          "Normal day",
          "Normal day",
          "Normal day",
          "Normal day",
          "Normal day",
          "Normal day",
          "Normal day",
          "Normal day",
          "Normal day",
          "Normal day",
          "Normal day",
          "Normal day",
          "Normal day",
          "Normal day",
          "Normal day",
          "Normal day",
          "Normal day",
          "Normal day",
          "Normal day",
          "Normal day",
          "Normal day",
          "Normal day",
          "Normal day",
          "Normal day",
          "Normal day",
          "Normal day",
          "Normal day",
          "Normal day",
          "Normal day",
          "Normal day",
          "Holiday",
          "Normal day",
          "Normal day",
          "Normal day",
          "Normal day",
          "Normal day",
          "Normal day",
          "Normal day",
          "Normal day",
          "Normal day",
          "Normal day",
          "Holiday",
          "Normal day",
          "Normal day",
          "Normal day",
          "Normal day",
          "Normal day",
          "Normal day",
          "Normal day",
          "Normal day",
          "Normal day",
          "Normal day",
          "Normal day",
          "Normal day",
          "Normal day",
          "Normal day",
          "Normal day",
          "Normal day",
          "Normal day",
          "Holiday",
          "Normal day",
          "Normal day",
          "Normal day",
          "Normal day",
          "Normal day",
          "Normal day",
          "Normal day",
          "Normal day",
          "Normal day",
          "Normal day",
          "Normal day",
          "Holiday",
          "Normal day",
          "Normal day",
          "Holiday",
          "Normal day",
          "Normal day",
          "Normal day",
          "Normal day",
          "Normal day",
          "Normal day",
          "Normal day",
          "Normal day",
          "Normal day",
          "Normal day",
          "Normal day",
          "Normal day",
          "Normal day",
          "Normal day",
          "Normal day",
          "Holiday",
          "Normal day",
          "Normal day",
          "Normal day",
          "Normal day",
          "Normal day",
          "Normal day",
          "Normal day",
          "Normal day",
          "Normal day",
          "Holiday",
          "Normal day",
          "Holiday",
          "Normal day",
          "Normal day"
         ],
         "xaxis": "x",
         "yaxis": "y"
        }
       ],
       "layout": {
        "barmode": "relative",
        "legend": {
         "title": {
          "text": "member_casual"
         },
         "tracegroupgap": 0
        },
        "margin": {
         "t": 60
        },
        "template": {
         "data": {
          "bar": [
           {
            "error_x": {
             "color": "#2a3f5f"
            },
            "error_y": {
             "color": "#2a3f5f"
            },
            "marker": {
             "line": {
              "color": "#E5ECF6",
              "width": 0.5
             },
             "pattern": {
              "fillmode": "overlay",
              "size": 10,
              "solidity": 0.2
             }
            },
            "type": "bar"
           }
          ],
          "barpolar": [
           {
            "marker": {
             "line": {
              "color": "#E5ECF6",
              "width": 0.5
             },
             "pattern": {
              "fillmode": "overlay",
              "size": 10,
              "solidity": 0.2
             }
            },
            "type": "barpolar"
           }
          ],
          "carpet": [
           {
            "aaxis": {
             "endlinecolor": "#2a3f5f",
             "gridcolor": "white",
             "linecolor": "white",
             "minorgridcolor": "white",
             "startlinecolor": "#2a3f5f"
            },
            "baxis": {
             "endlinecolor": "#2a3f5f",
             "gridcolor": "white",
             "linecolor": "white",
             "minorgridcolor": "white",
             "startlinecolor": "#2a3f5f"
            },
            "type": "carpet"
           }
          ],
          "choropleth": [
           {
            "colorbar": {
             "outlinewidth": 0,
             "ticks": ""
            },
            "type": "choropleth"
           }
          ],
          "contour": [
           {
            "colorbar": {
             "outlinewidth": 0,
             "ticks": ""
            },
            "colorscale": [
             [
              0,
              "#0d0887"
             ],
             [
              0.1111111111111111,
              "#46039f"
             ],
             [
              0.2222222222222222,
              "#7201a8"
             ],
             [
              0.3333333333333333,
              "#9c179e"
             ],
             [
              0.4444444444444444,
              "#bd3786"
             ],
             [
              0.5555555555555556,
              "#d8576b"
             ],
             [
              0.6666666666666666,
              "#ed7953"
             ],
             [
              0.7777777777777778,
              "#fb9f3a"
             ],
             [
              0.8888888888888888,
              "#fdca26"
             ],
             [
              1,
              "#f0f921"
             ]
            ],
            "type": "contour"
           }
          ],
          "contourcarpet": [
           {
            "colorbar": {
             "outlinewidth": 0,
             "ticks": ""
            },
            "type": "contourcarpet"
           }
          ],
          "heatmap": [
           {
            "colorbar": {
             "outlinewidth": 0,
             "ticks": ""
            },
            "colorscale": [
             [
              0,
              "#0d0887"
             ],
             [
              0.1111111111111111,
              "#46039f"
             ],
             [
              0.2222222222222222,
              "#7201a8"
             ],
             [
              0.3333333333333333,
              "#9c179e"
             ],
             [
              0.4444444444444444,
              "#bd3786"
             ],
             [
              0.5555555555555556,
              "#d8576b"
             ],
             [
              0.6666666666666666,
              "#ed7953"
             ],
             [
              0.7777777777777778,
              "#fb9f3a"
             ],
             [
              0.8888888888888888,
              "#fdca26"
             ],
             [
              1,
              "#f0f921"
             ]
            ],
            "type": "heatmap"
           }
          ],
          "heatmapgl": [
           {
            "colorbar": {
             "outlinewidth": 0,
             "ticks": ""
            },
            "colorscale": [
             [
              0,
              "#0d0887"
             ],
             [
              0.1111111111111111,
              "#46039f"
             ],
             [
              0.2222222222222222,
              "#7201a8"
             ],
             [
              0.3333333333333333,
              "#9c179e"
             ],
             [
              0.4444444444444444,
              "#bd3786"
             ],
             [
              0.5555555555555556,
              "#d8576b"
             ],
             [
              0.6666666666666666,
              "#ed7953"
             ],
             [
              0.7777777777777778,
              "#fb9f3a"
             ],
             [
              0.8888888888888888,
              "#fdca26"
             ],
             [
              1,
              "#f0f921"
             ]
            ],
            "type": "heatmapgl"
           }
          ],
          "histogram": [
           {
            "marker": {
             "pattern": {
              "fillmode": "overlay",
              "size": 10,
              "solidity": 0.2
             }
            },
            "type": "histogram"
           }
          ],
          "histogram2d": [
           {
            "colorbar": {
             "outlinewidth": 0,
             "ticks": ""
            },
            "colorscale": [
             [
              0,
              "#0d0887"
             ],
             [
              0.1111111111111111,
              "#46039f"
             ],
             [
              0.2222222222222222,
              "#7201a8"
             ],
             [
              0.3333333333333333,
              "#9c179e"
             ],
             [
              0.4444444444444444,
              "#bd3786"
             ],
             [
              0.5555555555555556,
              "#d8576b"
             ],
             [
              0.6666666666666666,
              "#ed7953"
             ],
             [
              0.7777777777777778,
              "#fb9f3a"
             ],
             [
              0.8888888888888888,
              "#fdca26"
             ],
             [
              1,
              "#f0f921"
             ]
            ],
            "type": "histogram2d"
           }
          ],
          "histogram2dcontour": [
           {
            "colorbar": {
             "outlinewidth": 0,
             "ticks": ""
            },
            "colorscale": [
             [
              0,
              "#0d0887"
             ],
             [
              0.1111111111111111,
              "#46039f"
             ],
             [
              0.2222222222222222,
              "#7201a8"
             ],
             [
              0.3333333333333333,
              "#9c179e"
             ],
             [
              0.4444444444444444,
              "#bd3786"
             ],
             [
              0.5555555555555556,
              "#d8576b"
             ],
             [
              0.6666666666666666,
              "#ed7953"
             ],
             [
              0.7777777777777778,
              "#fb9f3a"
             ],
             [
              0.8888888888888888,
              "#fdca26"
             ],
             [
              1,
              "#f0f921"
             ]
            ],
            "type": "histogram2dcontour"
           }
          ],
          "mesh3d": [
           {
            "colorbar": {
             "outlinewidth": 0,
             "ticks": ""
            },
            "type": "mesh3d"
           }
          ],
          "parcoords": [
           {
            "line": {
             "colorbar": {
              "outlinewidth": 0,
              "ticks": ""
             }
            },
            "type": "parcoords"
           }
          ],
          "pie": [
           {
            "automargin": true,
            "type": "pie"
           }
          ],
          "scatter": [
           {
            "fillpattern": {
             "fillmode": "overlay",
             "size": 10,
             "solidity": 0.2
            },
            "type": "scatter"
           }
          ],
          "scatter3d": [
           {
            "line": {
             "colorbar": {
              "outlinewidth": 0,
              "ticks": ""
             }
            },
            "marker": {
             "colorbar": {
              "outlinewidth": 0,
              "ticks": ""
             }
            },
            "type": "scatter3d"
           }
          ],
          "scattercarpet": [
           {
            "marker": {
             "colorbar": {
              "outlinewidth": 0,
              "ticks": ""
             }
            },
            "type": "scattercarpet"
           }
          ],
          "scattergeo": [
           {
            "marker": {
             "colorbar": {
              "outlinewidth": 0,
              "ticks": ""
             }
            },
            "type": "scattergeo"
           }
          ],
          "scattergl": [
           {
            "marker": {
             "colorbar": {
              "outlinewidth": 0,
              "ticks": ""
             }
            },
            "type": "scattergl"
           }
          ],
          "scattermapbox": [
           {
            "marker": {
             "colorbar": {
              "outlinewidth": 0,
              "ticks": ""
             }
            },
            "type": "scattermapbox"
           }
          ],
          "scatterpolar": [
           {
            "marker": {
             "colorbar": {
              "outlinewidth": 0,
              "ticks": ""
             }
            },
            "type": "scatterpolar"
           }
          ],
          "scatterpolargl": [
           {
            "marker": {
             "colorbar": {
              "outlinewidth": 0,
              "ticks": ""
             }
            },
            "type": "scatterpolargl"
           }
          ],
          "scatterternary": [
           {
            "marker": {
             "colorbar": {
              "outlinewidth": 0,
              "ticks": ""
             }
            },
            "type": "scatterternary"
           }
          ],
          "surface": [
           {
            "colorbar": {
             "outlinewidth": 0,
             "ticks": ""
            },
            "colorscale": [
             [
              0,
              "#0d0887"
             ],
             [
              0.1111111111111111,
              "#46039f"
             ],
             [
              0.2222222222222222,
              "#7201a8"
             ],
             [
              0.3333333333333333,
              "#9c179e"
             ],
             [
              0.4444444444444444,
              "#bd3786"
             ],
             [
              0.5555555555555556,
              "#d8576b"
             ],
             [
              0.6666666666666666,
              "#ed7953"
             ],
             [
              0.7777777777777778,
              "#fb9f3a"
             ],
             [
              0.8888888888888888,
              "#fdca26"
             ],
             [
              1,
              "#f0f921"
             ]
            ],
            "type": "surface"
           }
          ],
          "table": [
           {
            "cells": {
             "fill": {
              "color": "#EBF0F8"
             },
             "line": {
              "color": "white"
             }
            },
            "header": {
             "fill": {
              "color": "#C8D4E3"
             },
             "line": {
              "color": "white"
             }
            },
            "type": "table"
           }
          ]
         },
         "layout": {
          "annotationdefaults": {
           "arrowcolor": "#2a3f5f",
           "arrowhead": 0,
           "arrowwidth": 1
          },
          "autotypenumbers": "strict",
          "coloraxis": {
           "colorbar": {
            "outlinewidth": 0,
            "ticks": ""
           }
          },
          "colorscale": {
           "diverging": [
            [
             0,
             "#8e0152"
            ],
            [
             0.1,
             "#c51b7d"
            ],
            [
             0.2,
             "#de77ae"
            ],
            [
             0.3,
             "#f1b6da"
            ],
            [
             0.4,
             "#fde0ef"
            ],
            [
             0.5,
             "#f7f7f7"
            ],
            [
             0.6,
             "#e6f5d0"
            ],
            [
             0.7,
             "#b8e186"
            ],
            [
             0.8,
             "#7fbc41"
            ],
            [
             0.9,
             "#4d9221"
            ],
            [
             1,
             "#276419"
            ]
           ],
           "sequential": [
            [
             0,
             "#0d0887"
            ],
            [
             0.1111111111111111,
             "#46039f"
            ],
            [
             0.2222222222222222,
             "#7201a8"
            ],
            [
             0.3333333333333333,
             "#9c179e"
            ],
            [
             0.4444444444444444,
             "#bd3786"
            ],
            [
             0.5555555555555556,
             "#d8576b"
            ],
            [
             0.6666666666666666,
             "#ed7953"
            ],
            [
             0.7777777777777778,
             "#fb9f3a"
            ],
            [
             0.8888888888888888,
             "#fdca26"
            ],
            [
             1,
             "#f0f921"
            ]
           ],
           "sequentialminus": [
            [
             0,
             "#0d0887"
            ],
            [
             0.1111111111111111,
             "#46039f"
            ],
            [
             0.2222222222222222,
             "#7201a8"
            ],
            [
             0.3333333333333333,
             "#9c179e"
            ],
            [
             0.4444444444444444,
             "#bd3786"
            ],
            [
             0.5555555555555556,
             "#d8576b"
            ],
            [
             0.6666666666666666,
             "#ed7953"
            ],
            [
             0.7777777777777778,
             "#fb9f3a"
            ],
            [
             0.8888888888888888,
             "#fdca26"
            ],
            [
             1,
             "#f0f921"
            ]
           ]
          },
          "colorway": [
           "#636efa",
           "#EF553B",
           "#00cc96",
           "#ab63fa",
           "#FFA15A",
           "#19d3f3",
           "#FF6692",
           "#B6E880",
           "#FF97FF",
           "#FECB52"
          ],
          "font": {
           "color": "#2a3f5f"
          },
          "geo": {
           "bgcolor": "white",
           "lakecolor": "white",
           "landcolor": "#E5ECF6",
           "showlakes": true,
           "showland": true,
           "subunitcolor": "white"
          },
          "hoverlabel": {
           "align": "left"
          },
          "hovermode": "closest",
          "mapbox": {
           "style": "light"
          },
          "paper_bgcolor": "white",
          "plot_bgcolor": "#E5ECF6",
          "polar": {
           "angularaxis": {
            "gridcolor": "white",
            "linecolor": "white",
            "ticks": ""
           },
           "bgcolor": "#E5ECF6",
           "radialaxis": {
            "gridcolor": "white",
            "linecolor": "white",
            "ticks": ""
           }
          },
          "scene": {
           "xaxis": {
            "backgroundcolor": "#E5ECF6",
            "gridcolor": "white",
            "gridwidth": 2,
            "linecolor": "white",
            "showbackground": true,
            "ticks": "",
            "zerolinecolor": "white"
           },
           "yaxis": {
            "backgroundcolor": "#E5ECF6",
            "gridcolor": "white",
            "gridwidth": 2,
            "linecolor": "white",
            "showbackground": true,
            "ticks": "",
            "zerolinecolor": "white"
           },
           "zaxis": {
            "backgroundcolor": "#E5ECF6",
            "gridcolor": "white",
            "gridwidth": 2,
            "linecolor": "white",
            "showbackground": true,
            "ticks": "",
            "zerolinecolor": "white"
           }
          },
          "shapedefaults": {
           "line": {
            "color": "#2a3f5f"
           }
          },
          "ternary": {
           "aaxis": {
            "gridcolor": "white",
            "linecolor": "white",
            "ticks": ""
           },
           "baxis": {
            "gridcolor": "white",
            "linecolor": "white",
            "ticks": ""
           },
           "bgcolor": "#E5ECF6",
           "caxis": {
            "gridcolor": "white",
            "linecolor": "white",
            "ticks": ""
           }
          },
          "title": {
           "x": 0.05
          },
          "xaxis": {
           "automargin": true,
           "gridcolor": "white",
           "linecolor": "white",
           "ticks": "",
           "title": {
            "standoff": 15
           },
           "zerolinecolor": "white",
           "zerolinewidth": 2
          },
          "yaxis": {
           "automargin": true,
           "gridcolor": "white",
           "linecolor": "white",
           "ticks": "",
           "title": {
            "standoff": 15
           },
           "zerolinecolor": "white",
           "zerolinewidth": 2
          }
         }
        },
        "xaxis": {
         "anchor": "y",
         "domain": [
          0,
          1
         ],
         "title": {
          "text": "holidays"
         }
        },
        "yaxis": {
         "anchor": "x",
         "domain": [
          0,
          1
         ],
         "title": {
          "text": "count"
         }
        }
       }
      },
      "text/html": [
       "<div>                            <div id=\"1ac0d88b-77f6-4af3-82c8-e1a01e53ccba\" class=\"plotly-graph-div\" style=\"height:525px; width:100%;\"></div>            <script type=\"text/javascript\">                require([\"plotly\"], function(Plotly) {                    window.PLOTLYENV=window.PLOTLYENV || {};                                    if (document.getElementById(\"1ac0d88b-77f6-4af3-82c8-e1a01e53ccba\")) {                    Plotly.newPlot(                        \"1ac0d88b-77f6-4af3-82c8-e1a01e53ccba\",                        [{\"alignmentgroup\":\"True\",\"bingroup\":\"x\",\"hovertemplate\":\"member_casual=member<br>holidays=%{x}<br>count=%{y}<extra></extra>\",\"legendgroup\":\"member\",\"marker\":{\"color\":\"#636efa\",\"pattern\":{\"shape\":\"\"}},\"name\":\"member\",\"offsetgroup\":\"member\",\"orientation\":\"v\",\"showlegend\":true,\"x\":[\"Holiday\",\"Normal day\",\"Normal day\",\"Holiday\",\"Normal day\",\"Normal day\",\"Normal day\",\"Normal day\",\"Normal day\",\"Normal day\",\"Normal day\",\"Normal day\",\"Normal day\",\"Normal day\",\"Normal day\",\"Normal day\",\"Normal day\",\"Normal day\",\"Normal day\",\"Normal day\",\"Holiday\",\"Normal day\",\"Normal day\",\"Normal day\",\"Normal day\",\"Normal day\",\"Normal day\",\"Normal day\",\"Normal day\",\"Normal day\",\"Normal day\",\"Normal day\",\"Normal day\",\"Normal day\",\"Normal day\",\"Normal day\",\"Normal day\",\"Normal day\",\"Normal day\",\"Normal day\",\"Normal day\",\"Normal day\",\"Normal day\",\"Normal day\",\"Normal day\",\"Normal day\",\"Normal day\",\"Normal day\",\"Normal day\",\"Normal day\",\"Normal day\",\"Normal day\",\"Normal day\",\"Normal day\",\"Normal day\",\"Normal day\",\"Normal day\",\"Normal day\",\"Normal day\",\"Normal day\",\"Normal day\",\"Normal day\",\"Holiday\",\"Normal day\",\"Normal day\",\"Normal day\",\"Normal day\",\"Normal day\",\"Normal day\",\"Normal day\",\"Normal day\",\"Normal day\",\"Normal day\",\"Normal day\",\"Normal day\",\"Normal day\",\"Normal day\",\"Normal day\",\"Normal day\",\"Normal day\",\"Normal day\",\"Normal day\",\"Holiday\",\"Normal day\",\"Normal day\",\"Normal day\",\"Normal day\",\"Normal day\",\"Holiday\",\"Normal day\",\"Normal day\",\"Normal day\",\"Normal day\",\"Normal day\",\"Normal day\",\"Normal day\",\"Normal day\",\"Holiday\",\"Normal day\",\"Normal day\",\"Normal day\",\"Normal day\",\"Normal day\",\"Normal day\",\"Normal day\",\"Normal day\",\"Normal day\",\"Normal day\",\"Normal day\",\"Normal day\",\"Normal day\",\"Normal day\",\"Normal day\",\"Holiday\",\"Normal day\",\"Holiday\",\"Normal day\",\"Normal day\",\"Normal day\",\"Normal day\",\"Normal day\",\"Normal day\",\"Normal day\",\"Normal day\",\"Normal day\",\"Normal day\",\"Normal day\",\"Normal day\",\"Normal day\",\"Holiday\",\"Normal day\",\"Normal day\",\"Normal day\",\"Normal day\",\"Normal day\",\"Normal day\",\"Normal day\",\"Normal day\",\"Normal day\",\"Normal day\",\"Normal day\",\"Normal day\",\"Normal day\",\"Normal day\",\"Normal day\",\"Normal day\",\"Normal day\",\"Normal day\",\"Normal day\",\"Normal day\",\"Normal day\",\"Normal day\",\"Holiday\",\"Normal day\",\"Normal day\",\"Normal day\",\"Normal day\",\"Normal day\",\"Normal day\",\"Normal day\",\"Normal day\",\"Normal day\",\"Normal day\",\"Normal day\",\"Normal day\",\"Normal day\",\"Normal day\",\"Normal day\",\"Normal day\",\"Normal day\",\"Normal day\",\"Normal day\",\"Normal day\",\"Normal day\",\"Normal day\",\"Normal day\",\"Normal day\",\"Normal day\",\"Normal day\",\"Normal day\",\"Normal day\",\"Normal day\",\"Normal day\",\"Normal day\",\"Normal day\",\"Normal day\",\"Normal day\",\"Normal day\",\"Holiday\",\"Normal day\",\"Normal day\",\"Normal day\",\"Normal day\",\"Normal day\",\"Normal day\",\"Normal day\",\"Normal day\",\"Normal day\",\"Normal day\",\"Normal day\",\"Normal day\",\"Normal day\",\"Normal day\",\"Normal day\",\"Normal day\",\"Holiday\",\"Normal day\",\"Holiday\",\"Normal day\",\"Normal day\",\"Normal day\",\"Normal day\",\"Normal day\",\"Normal day\",\"Holiday\",\"Normal day\",\"Normal day\",\"Holiday\",\"Normal day\",\"Normal day\",\"Normal day\",\"Normal day\",\"Normal day\",\"Normal day\",\"Normal day\",\"Normal day\",\"Normal day\",\"Normal day\",\"Normal day\",\"Normal day\",\"Normal day\",\"Normal day\",\"Normal day\",\"Normal day\",\"Normal day\",\"Normal day\",\"Normal day\",\"Normal day\",\"Normal day\",\"Normal day\",\"Normal day\",\"Normal day\",\"Normal day\",\"Normal day\",\"Normal day\",\"Normal day\",\"Normal day\",\"Normal day\",\"Normal day\",\"Normal day\",\"Normal day\",\"Normal day\",\"Normal day\",\"Normal day\",\"Normal day\",\"Normal day\",\"Normal day\",\"Normal day\",\"Normal day\",\"Normal day\",\"Normal day\",\"Normal day\",\"Normal day\",\"Normal day\",\"Normal day\",\"Normal day\",\"Normal day\",\"Normal day\",\"Normal day\",\"Normal day\",\"Normal day\",\"Normal day\",\"Normal day\",\"Normal day\",\"Normal day\",\"Normal day\",\"Normal day\",\"Normal day\",\"Normal day\",\"Normal day\",\"Normal day\",\"Normal day\",\"Normal day\",\"Normal day\",\"Normal day\",\"Normal day\",\"Normal day\",\"Normal day\",\"Normal day\",\"Normal day\",\"Normal day\",\"Normal day\",\"Normal day\",\"Normal day\",\"Normal day\",\"Normal day\",\"Normal day\",\"Normal day\",\"Normal day\",\"Normal day\",\"Normal day\",\"Normal day\",\"Normal day\",\"Normal day\",\"Normal day\",\"Normal day\",\"Normal day\",\"Normal day\",\"Normal day\",\"Normal day\",\"Normal day\",\"Normal day\",\"Normal day\",\"Normal day\",\"Normal day\",\"Normal day\",\"Normal day\",\"Normal day\",\"Normal day\",\"Normal day\",\"Normal day\",\"Normal day\",\"Normal day\",\"Normal day\",\"Normal day\",\"Normal day\",\"Normal day\",\"Normal day\",\"Normal day\",\"Normal day\",\"Normal day\",\"Normal day\",\"Normal day\",\"Normal day\",\"Normal day\",\"Normal day\",\"Normal day\",\"Normal day\",\"Normal day\",\"Normal day\",\"Normal day\",\"Normal day\",\"Normal day\",\"Normal day\",\"Normal day\",\"Normal day\",\"Normal day\",\"Normal day\",\"Normal day\",\"Normal day\",\"Normal day\",\"Normal day\",\"Normal day\",\"Normal day\",\"Normal day\",\"Normal day\",\"Normal day\",\"Normal day\",\"Normal day\",\"Normal day\",\"Normal day\",\"Normal day\",\"Normal day\",\"Normal day\",\"Normal day\",\"Normal day\",\"Normal day\",\"Normal day\",\"Normal day\",\"Normal day\",\"Normal day\",\"Normal day\",\"Normal day\",\"Normal day\",\"Normal day\",\"Normal day\",\"Normal day\",\"Normal day\",\"Normal day\",\"Normal day\",\"Normal day\",\"Normal day\",\"Normal day\",\"Normal day\",\"Normal day\",\"Normal day\",\"Normal day\",\"Normal day\",\"Normal day\",\"Normal day\",\"Normal day\",\"Normal day\",\"Normal day\",\"Normal day\",\"Normal day\",\"Normal day\",\"Normal day\",\"Normal day\",\"Normal day\",\"Normal day\",\"Normal day\",\"Normal day\",\"Normal day\",\"Normal day\",\"Normal day\",\"Normal day\",\"Normal day\",\"Normal day\",\"Normal day\",\"Normal day\",\"Normal day\",\"Normal day\",\"Normal day\",\"Normal day\",\"Normal day\",\"Normal day\",\"Normal day\",\"Normal day\",\"Normal day\",\"Normal day\",\"Normal day\",\"Normal day\",\"Normal day\",\"Normal day\",\"Normal day\",\"Normal day\",\"Normal day\",\"Normal day\",\"Normal day\",\"Normal day\",\"Normal day\",\"Normal day\",\"Normal day\",\"Normal day\",\"Normal day\",\"Normal day\",\"Normal day\",\"Normal day\",\"Normal day\",\"Normal day\",\"Normal day\",\"Normal day\",\"Normal day\",\"Normal day\",\"Normal day\",\"Normal day\",\"Normal day\",\"Normal day\",\"Normal day\",\"Normal day\",\"Normal day\",\"Normal day\",\"Normal day\",\"Normal day\",\"Normal day\",\"Normal day\",\"Normal day\",\"Normal day\",\"Normal day\",\"Normal day\",\"Normal day\",\"Normal day\",\"Normal day\",\"Normal day\",\"Normal day\",\"Normal day\",\"Normal day\",\"Normal day\",\"Normal day\",\"Normal day\",\"Normal day\",\"Normal day\",\"Normal day\",\"Normal day\",\"Normal day\",\"Normal day\",\"Normal day\",\"Normal day\",\"Normal day\",\"Normal day\",\"Normal day\",\"Normal day\",\"Normal day\",\"Normal day\",\"Normal day\",\"Normal day\",\"Normal day\",\"Normal day\",\"Normal day\",\"Normal day\",\"Normal day\",\"Normal day\",\"Normal day\",\"Normal day\",\"Normal day\",\"Normal day\",\"Normal day\",\"Normal day\",\"Normal day\",\"Normal day\",\"Normal day\",\"Normal day\",\"Normal day\",\"Normal day\",\"Normal day\",\"Normal day\",\"Normal day\",\"Normal day\",\"Normal day\",\"Normal day\",\"Normal day\",\"Normal day\",\"Normal day\",\"Normal day\",\"Normal day\",\"Normal day\",\"Normal day\",\"Normal day\",\"Normal day\",\"Normal day\",\"Normal day\",\"Normal day\",\"Normal day\",\"Normal day\",\"Normal day\",\"Normal day\",\"Normal day\",\"Normal day\",\"Normal day\",\"Normal day\",\"Normal day\",\"Normal day\",\"Normal day\",\"Normal day\",\"Normal day\",\"Normal day\",\"Normal day\",\"Normal day\",\"Normal day\",\"Normal day\",\"Normal day\",\"Normal day\",\"Normal day\",\"Normal day\",\"Normal day\",\"Normal day\",\"Normal day\",\"Normal day\",\"Normal day\",\"Normal day\",\"Normal day\",\"Normal day\",\"Normal day\",\"Normal day\",\"Normal day\",\"Normal day\",\"Normal day\",\"Normal day\",\"Normal day\",\"Normal day\",\"Normal day\",\"Normal day\",\"Normal day\",\"Normal day\",\"Normal day\",\"Normal day\",\"Normal day\",\"Normal day\",\"Normal day\",\"Normal day\",\"Normal day\",\"Normal day\",\"Normal day\",\"Normal day\",\"Normal day\",\"Normal day\",\"Normal day\",\"Normal day\",\"Normal day\",\"Normal day\",\"Normal day\",\"Normal day\",\"Normal day\",\"Normal day\",\"Normal day\",\"Normal day\",\"Normal day\",\"Normal day\",\"Normal day\",\"Normal day\",\"Normal day\",\"Normal day\",\"Normal day\",\"Normal day\",\"Normal day\",\"Normal day\",\"Normal day\",\"Normal day\",\"Normal day\",\"Normal day\",\"Normal day\",\"Normal day\",\"Normal day\",\"Normal day\",\"Normal day\",\"Normal day\",\"Normal day\",\"Normal day\",\"Normal day\",\"Normal day\",\"Normal day\",\"Normal day\",\"Normal day\",\"Normal day\",\"Normal day\",\"Normal day\",\"Normal day\",\"Normal day\",\"Normal day\",\"Normal day\",\"Normal day\",\"Normal day\",\"Normal day\",\"Normal day\",\"Normal day\",\"Normal day\",\"Normal day\",\"Normal day\",\"Normal day\",\"Normal day\",\"Normal day\",\"Normal day\",\"Normal day\",\"Normal day\",\"Normal day\",\"Normal day\",\"Normal day\",\"Normal day\",\"Normal day\",\"Normal day\",\"Normal day\",\"Normal day\",\"Normal day\",\"Normal day\",\"Normal day\",\"Normal day\",\"Normal day\",\"Normal day\",\"Normal day\",\"Normal day\",\"Normal day\",\"Normal day\",\"Normal day\",\"Normal day\",\"Normal day\",\"Normal day\",\"Normal day\",\"Normal day\",\"Normal day\",\"Normal day\",\"Normal day\",\"Normal day\",\"Normal day\",\"Normal day\",\"Normal day\",\"Normal day\",\"Normal day\",\"Normal day\",\"Normal day\",\"Normal day\",\"Normal day\",\"Normal day\",\"Normal day\",\"Normal day\",\"Normal day\",\"Normal day\",\"Normal day\",\"Normal day\",\"Normal day\",\"Normal day\",\"Normal day\",\"Normal day\",\"Normal day\",\"Normal day\",\"Normal day\",\"Normal day\",\"Normal day\",\"Normal day\",\"Normal day\",\"Normal day\",\"Normal day\",\"Normal day\",\"Normal day\",\"Normal day\",\"Normal day\",\"Normal day\",\"Normal day\",\"Normal day\",\"Normal day\",\"Normal day\",\"Normal day\",\"Normal day\",\"Normal day\",\"Normal day\",\"Normal day\",\"Normal day\",\"Normal day\",\"Normal day\",\"Normal day\",\"Normal day\",\"Normal day\",\"Normal day\",\"Normal day\",\"Normal day\",\"Holiday\",\"Normal day\",\"Normal day\",\"Normal day\",\"Normal day\",\"Normal day\",\"Normal day\",\"Normal day\",\"Normal day\",\"Normal day\",\"Normal day\",\"Normal day\",\"Normal day\",\"Holiday\",\"Normal day\",\"Normal day\",\"Holiday\",\"Holiday\",\"Normal day\",\"Normal day\",\"Normal day\",\"Normal day\",\"Normal day\",\"Normal day\",\"Normal day\",\"Normal day\",\"Normal day\",\"Normal day\",\"Normal day\",\"Normal day\",\"Normal day\",\"Normal day\",\"Normal day\",\"Normal day\",\"Normal day\",\"Normal day\",\"Normal day\",\"Normal day\",\"Normal day\",\"Normal day\",\"Normal day\",\"Normal day\",\"Normal day\",\"Normal day\",\"Normal day\",\"Normal day\",\"Normal day\",\"Normal day\",\"Normal day\",\"Normal day\",\"Normal day\",\"Normal day\",\"Normal day\",\"Normal day\",\"Holiday\",\"Normal day\",\"Normal day\",\"Normal day\",\"Normal day\",\"Normal day\",\"Normal day\",\"Normal day\",\"Normal day\",\"Normal day\",\"Holiday\",\"Normal day\",\"Normal day\",\"Normal day\",\"Normal day\",\"Normal day\",\"Normal day\",\"Normal day\",\"Normal day\",\"Normal day\",\"Normal day\",\"Holiday\",\"Normal day\",\"Normal day\",\"Normal day\",\"Normal day\",\"Normal day\",\"Holiday\",\"Normal day\",\"Normal day\",\"Normal day\",\"Normal day\",\"Holiday\",\"Normal day\",\"Normal day\",\"Normal day\",\"Normal day\",\"Normal day\",\"Normal day\",\"Normal day\",\"Normal day\",\"Normal day\",\"Holiday\",\"Normal day\",\"Normal day\",\"Normal day\",\"Normal day\",\"Normal day\",\"Normal day\",\"Normal day\",\"Normal day\",\"Normal day\",\"Normal day\",\"Holiday\",\"Normal day\",\"Normal day\",\"Normal day\",\"Normal day\",\"Normal day\",\"Normal day\",\"Normal day\",\"Normal day\",\"Normal day\",\"Normal day\",\"Normal day\",\"Normal day\",\"Normal day\",\"Holiday\",\"Normal day\",\"Normal day\",\"Normal day\",\"Normal day\",\"Normal day\",\"Normal day\",\"Normal day\",\"Normal day\",\"Normal day\",\"Normal day\",\"Normal day\",\"Normal day\",\"Normal day\",\"Normal day\",\"Normal day\",\"Normal day\",\"Normal day\",\"Normal day\",\"Holiday\",\"Normal day\",\"Normal day\",\"Normal day\",\"Normal day\",\"Normal day\",\"Normal day\",\"Normal day\",\"Normal day\",\"Holiday\",\"Normal day\",\"Normal day\",\"Normal day\",\"Normal day\",\"Normal day\",\"Normal day\",\"Normal day\",\"Normal day\",\"Normal day\",\"Normal day\",\"Normal day\",\"Normal day\",\"Normal day\",\"Normal day\",\"Normal day\",\"Normal day\",\"Normal day\",\"Normal day\",\"Normal day\",\"Normal day\",\"Normal day\",\"Normal day\",\"Normal day\",\"Normal day\",\"Normal day\",\"Normal day\",\"Normal day\",\"Normal day\",\"Normal day\",\"Normal day\",\"Normal day\",\"Normal day\",\"Normal day\",\"Normal day\",\"Normal day\",\"Normal day\",\"Normal day\",\"Normal day\",\"Normal day\",\"Normal day\",\"Normal day\",\"Normal day\",\"Normal day\",\"Normal day\",\"Normal day\",\"Normal day\",\"Normal day\",\"Normal day\",\"Normal day\",\"Normal day\",\"Normal day\",\"Normal day\",\"Holiday\",\"Normal day\",\"Normal day\",\"Normal day\",\"Holiday\",\"Normal day\",\"Normal day\",\"Normal day\",\"Normal day\",\"Normal day\",\"Normal day\",\"Normal day\",\"Normal day\",\"Normal day\",\"Normal day\",\"Holiday\",\"Normal day\",\"Normal day\",\"Normal day\",\"Normal day\",\"Normal day\",\"Normal day\",\"Normal day\",\"Normal day\",\"Normal day\",\"Normal day\",\"Normal day\",\"Normal day\",\"Normal day\",\"Normal day\",\"Normal day\",\"Normal day\",\"Normal day\",\"Normal day\",\"Normal day\",\"Normal day\",\"Normal day\",\"Normal day\",\"Normal day\",\"Holiday\",\"Normal day\",\"Normal day\",\"Normal day\",\"Normal day\",\"Normal day\",\"Normal day\",\"Normal day\",\"Holiday\",\"Holiday\",\"Normal day\",\"Normal day\",\"Normal day\",\"Normal day\",\"Normal day\",\"Normal day\",\"Normal day\",\"Normal day\",\"Normal day\",\"Normal day\",\"Normal day\",\"Holiday\",\"Normal day\",\"Normal day\",\"Normal day\",\"Normal day\",\"Normal day\",\"Normal day\",\"Normal day\",\"Normal day\",\"Normal day\",\"Normal day\",\"Normal day\",\"Normal day\",\"Normal day\",\"Normal day\",\"Normal day\",\"Normal day\",\"Normal day\",\"Normal day\",\"Normal day\",\"Normal day\",\"Normal day\",\"Normal day\",\"Normal day\",\"Normal day\",\"Normal day\",\"Normal day\",\"Normal day\",\"Normal day\",\"Normal day\",\"Normal day\",\"Normal day\",\"Normal day\",\"Normal day\",\"Holiday\",\"Normal day\",\"Normal day\",\"Normal day\",\"Normal day\",\"Normal day\",\"Normal day\",\"Normal day\",\"Normal day\",\"Normal day\",\"Normal day\",\"Normal day\",\"Normal day\",\"Normal day\",\"Normal day\",\"Normal day\",\"Normal day\",\"Normal day\",\"Holiday\",\"Normal day\",\"Normal day\",\"Normal day\",\"Holiday\",\"Normal day\",\"Normal day\",\"Normal day\",\"Normal day\",\"Normal day\",\"Normal day\",\"Normal day\",\"Normal day\",\"Normal day\",\"Holiday\",\"Holiday\",\"Normal day\",\"Normal day\",\"Normal day\",\"Normal day\",\"Normal day\",\"Normal day\",\"Normal day\",\"Normal day\",\"Normal day\",\"Normal day\",\"Normal day\",\"Normal day\",\"Normal day\",\"Normal day\",\"Normal day\",\"Normal day\",\"Normal day\",\"Normal day\",\"Normal day\",\"Normal day\",\"Normal day\",\"Normal day\",\"Normal day\",\"Normal day\",\"Normal day\",\"Normal day\",\"Normal day\",\"Normal day\",\"Normal day\",\"Normal day\",\"Normal day\",\"Normal day\",\"Normal day\",\"Normal day\",\"Normal day\",\"Normal day\",\"Normal day\",\"Normal day\",\"Normal day\",\"Normal day\",\"Normal day\",\"Normal day\",\"Normal day\",\"Normal day\",\"Normal day\",\"Normal day\",\"Normal day\",\"Normal day\",\"Holiday\",\"Normal day\",\"Normal day\",\"Normal day\",\"Normal day\",\"Normal day\",\"Normal day\",\"Normal day\",\"Normal day\",\"Normal day\",\"Normal day\",\"Normal day\",\"Normal day\",\"Normal day\",\"Normal day\",\"Normal day\",\"Normal day\",\"Holiday\",\"Normal day\",\"Normal day\",\"Normal day\",\"Normal day\",\"Normal day\",\"Holiday\",\"Normal day\",\"Normal day\",\"Normal day\",\"Normal day\",\"Normal day\",\"Normal day\",\"Normal day\",\"Normal day\",\"Normal day\",\"Holiday\",\"Normal day\",\"Normal day\",\"Normal day\",\"Normal day\",\"Normal day\",\"Normal day\",\"Normal day\",\"Normal day\",\"Holiday\",\"Normal day\",\"Normal day\",\"Normal day\",\"Normal day\",\"Normal day\",\"Normal day\",\"Normal day\",\"Normal day\",\"Holiday\",\"Normal day\",\"Normal day\",\"Normal day\",\"Normal day\",\"Normal day\",\"Holiday\",\"Normal day\",\"Holiday\",\"Normal day\",\"Holiday\",\"Normal day\",\"Normal day\",\"Normal day\",\"Normal day\",\"Normal day\",\"Normal day\",\"Normal day\",\"Normal day\",\"Normal day\",\"Normal day\",\"Normal day\",\"Normal day\",\"Normal day\",\"Normal day\",\"Normal day\",\"Normal day\",\"Normal day\",\"Normal day\",\"Normal day\",\"Normal day\",\"Normal day\",\"Normal day\",\"Holiday\",\"Holiday\",\"Normal day\",\"Normal day\",\"Normal day\",\"Normal day\",\"Normal day\",\"Normal day\",\"Normal day\",\"Normal day\",\"Normal day\",\"Normal day\",\"Holiday\",\"Normal day\",\"Normal day\",\"Normal day\",\"Normal day\",\"Normal day\",\"Normal day\",\"Normal day\",\"Normal day\",\"Normal day\",\"Normal day\",\"Normal day\",\"Normal day\",\"Normal day\",\"Normal day\",\"Normal day\",\"Normal day\",\"Normal day\",\"Normal day\",\"Normal day\",\"Normal day\",\"Normal day\",\"Normal day\",\"Holiday\",\"Normal day\",\"Normal day\",\"Normal day\",\"Normal day\",\"Normal day\",\"Normal day\",\"Normal day\",\"Normal day\",\"Normal day\",\"Normal day\",\"Normal day\",\"Normal day\",\"Normal day\",\"Normal day\",\"Normal day\",\"Normal day\",\"Normal day\",\"Normal day\",\"Holiday\",\"Normal day\",\"Holiday\",\"Normal day\",\"Normal day\",\"Normal day\",\"Normal day\",\"Normal day\",\"Normal day\",\"Normal day\",\"Normal day\",\"Normal day\",\"Normal day\",\"Normal day\",\"Normal day\",\"Normal day\",\"Normal day\",\"Normal day\",\"Normal day\",\"Normal day\",\"Normal day\",\"Holiday\",\"Normal day\",\"Normal day\",\"Normal day\",\"Normal day\",\"Normal day\",\"Normal day\",\"Normal day\",\"Normal day\",\"Normal day\",\"Normal day\",\"Holiday\",\"Normal day\",\"Normal day\",\"Normal day\",\"Normal day\",\"Normal day\",\"Normal day\",\"Normal day\",\"Normal day\",\"Normal day\",\"Holiday\",\"Normal day\",\"Holiday\",\"Normal day\",\"Normal day\",\"Normal day\",\"Normal day\",\"Holiday\",\"Normal day\",\"Normal day\",\"Normal day\",\"Normal day\",\"Normal day\",\"Normal day\",\"Normal day\",\"Normal day\",\"Normal day\",\"Normal day\",\"Normal day\",\"Normal day\",\"Normal day\",\"Holiday\",\"Normal day\",\"Normal day\",\"Holiday\",\"Normal day\",\"Normal day\",\"Normal day\",\"Normal day\",\"Normal day\",\"Normal day\",\"Normal day\",\"Normal day\",\"Normal day\",\"Normal day\",\"Normal day\",\"Normal day\",\"Normal day\",\"Normal day\",\"Normal day\",\"Normal day\",\"Normal day\",\"Normal day\",\"Normal day\",\"Normal day\",\"Normal day\",\"Holiday\",\"Normal day\",\"Normal day\",\"Holiday\",\"Normal day\",\"Normal day\",\"Normal day\",\"Normal day\",\"Normal day\",\"Normal day\",\"Normal day\",\"Normal day\",\"Normal day\",\"Normal day\",\"Normal day\",\"Normal day\",\"Normal day\",\"Normal day\",\"Normal day\",\"Normal day\",\"Holiday\",\"Normal day\",\"Normal day\",\"Normal day\",\"Normal day\",\"Normal day\",\"Normal day\",\"Normal day\",\"Normal day\",\"Normal day\",\"Normal day\",\"Normal day\",\"Normal day\",\"Normal day\",\"Normal day\",\"Normal day\",\"Normal day\",\"Normal day\",\"Normal day\",\"Normal day\",\"Normal day\",\"Normal day\",\"Normal day\",\"Normal day\",\"Normal day\",\"Normal day\",\"Normal day\",\"Normal day\",\"Normal day\",\"Normal day\",\"Normal day\",\"Holiday\",\"Normal day\",\"Normal day\",\"Normal day\",\"Normal day\",\"Normal day\",\"Normal day\",\"Normal day\",\"Normal day\",\"Normal day\",\"Normal day\",\"Holiday\",\"Normal day\",\"Normal day\",\"Holiday\",\"Normal day\",\"Normal day\",\"Normal day\",\"Normal day\",\"Normal day\",\"Normal day\",\"Normal day\",\"Normal day\",\"Normal day\",\"Normal day\",\"Normal day\",\"Normal day\",\"Normal day\",\"Normal day\",\"Normal day\",\"Normal day\",\"Normal day\",\"Normal day\",\"Normal day\",\"Normal day\",\"Holiday\",\"Normal day\",\"Normal day\",\"Normal day\",\"Normal day\",\"Normal day\",\"Normal day\",\"Normal day\",\"Normal day\",\"Normal day\",\"Normal day\",\"Normal day\",\"Normal day\",\"Normal day\",\"Normal day\",\"Normal day\",\"Normal day\",\"Normal day\",\"Normal day\",\"Holiday\",\"Normal day\",\"Normal day\",\"Normal day\",\"Normal day\",\"Normal day\",\"Normal day\",\"Normal day\",\"Normal day\",\"Holiday\",\"Normal day\",\"Holiday\",\"Normal day\",\"Normal day\",\"Holiday\",\"Normal day\",\"Normal day\",\"Normal day\",\"Normal day\",\"Holiday\",\"Normal day\",\"Normal day\",\"Normal day\",\"Normal day\",\"Holiday\",\"Normal day\",\"Normal day\",\"Normal day\",\"Normal day\",\"Holiday\",\"Normal day\",\"Normal day\",\"Normal day\",\"Normal day\",\"Normal day\",\"Normal day\",\"Holiday\",\"Holiday\",\"Normal day\",\"Normal day\",\"Normal day\",\"Normal day\",\"Normal day\",\"Normal day\",\"Normal day\",\"Normal day\",\"Normal day\",\"Holiday\",\"Normal day\",\"Normal day\",\"Normal day\",\"Normal day\",\"Normal day\",\"Normal day\",\"Normal day\",\"Normal day\",\"Normal day\",\"Normal day\",\"Normal day\",\"Normal day\",\"Normal day\",\"Normal day\",\"Normal day\",\"Holiday\",\"Normal day\",\"Normal day\",\"Normal day\",\"Normal day\",\"Normal day\",\"Normal day\",\"Normal day\",\"Normal day\",\"Normal day\",\"Normal day\",\"Normal day\",\"Normal day\",\"Normal day\",\"Normal day\",\"Normal day\",\"Normal day\",\"Normal day\",\"Normal day\",\"Normal day\",\"Normal day\",\"Holiday\",\"Holiday\",\"Normal day\",\"Normal day\",\"Normal day\",\"Normal day\",\"Normal day\",\"Normal day\",\"Holiday\",\"Normal day\",\"Normal day\",\"Normal day\",\"Normal day\",\"Normal day\",\"Normal day\",\"Normal day\",\"Normal day\",\"Normal day\",\"Normal day\",\"Normal day\",\"Normal day\",\"Normal day\",\"Normal day\",\"Normal day\",\"Normal day\",\"Normal day\",\"Normal day\",\"Normal day\",\"Normal day\",\"Normal day\",\"Normal day\",\"Normal day\",\"Normal day\",\"Normal day\",\"Normal day\",\"Normal day\",\"Normal day\",\"Normal day\",\"Normal day\",\"Holiday\",\"Normal day\",\"Normal day\",\"Normal day\",\"Normal day\",\"Normal day\",\"Holiday\",\"Normal day\",\"Normal day\",\"Normal day\",\"Normal day\",\"Normal day\",\"Normal day\",\"Normal day\",\"Normal day\",\"Normal day\",\"Normal day\",\"Normal day\",\"Normal day\",\"Normal day\",\"Normal day\",\"Normal day\",\"Normal day\",\"Normal day\",\"Normal day\",\"Normal day\",\"Normal day\",\"Normal day\",\"Normal day\",\"Holiday\",\"Normal day\",\"Normal day\",\"Normal day\",\"Normal day\",\"Normal day\",\"Normal day\",\"Normal day\",\"Normal day\",\"Normal day\",\"Normal day\",\"Normal day\",\"Normal day\",\"Normal day\",\"Normal day\",\"Normal day\",\"Normal day\",\"Normal day\",\"Normal day\",\"Normal day\",\"Normal day\",\"Holiday\",\"Normal day\",\"Normal day\",\"Normal day\",\"Normal day\",\"Normal day\",\"Normal day\",\"Normal day\",\"Normal day\",\"Normal day\",\"Normal day\",\"Normal day\",\"Normal day\",\"Normal day\",\"Normal day\",\"Holiday\",\"Normal day\",\"Normal day\",\"Normal day\",\"Normal day\",\"Holiday\",\"Normal day\",\"Normal day\",\"Normal day\",\"Normal day\",\"Normal day\",\"Normal day\",\"Normal day\",\"Normal day\",\"Normal day\",\"Normal day\",\"Normal day\",\"Normal day\",\"Normal day\",\"Normal day\",\"Normal day\",\"Normal day\",\"Normal day\",\"Normal day\",\"Normal day\",\"Normal day\",\"Normal day\",\"Normal day\",\"Normal day\",\"Normal day\",\"Normal day\",\"Normal day\",\"Normal day\",\"Normal day\",\"Normal day\",\"Normal day\",\"Normal day\",\"Normal day\",\"Normal day\",\"Normal day\",\"Normal day\",\"Normal day\",\"Normal day\",\"Normal day\",\"Normal day\",\"Normal day\",\"Normal day\",\"Normal day\",\"Normal day\",\"Holiday\",\"Normal day\",\"Normal day\",\"Holiday\",\"Normal day\",\"Normal day\",\"Normal day\",\"Normal day\",\"Normal day\",\"Normal day\",\"Normal day\",\"Normal day\",\"Normal day\",\"Normal day\",\"Normal day\",\"Normal day\",\"Holiday\",\"Normal day\",\"Holiday\",\"Holiday\",\"Normal day\",\"Normal day\",\"Normal day\",\"Normal day\",\"Normal day\",\"Normal day\",\"Normal day\",\"Normal day\",\"Normal day\",\"Normal day\",\"Normal day\",\"Normal day\",\"Normal day\",\"Normal day\",\"Normal day\",\"Normal day\",\"Normal day\",\"Normal day\",\"Normal day\",\"Normal day\",\"Normal day\",\"Normal day\",\"Normal day\",\"Normal day\",\"Normal day\",\"Normal day\",\"Normal day\",\"Normal day\",\"Normal day\",\"Normal day\",\"Normal day\",\"Normal day\",\"Normal day\",\"Normal day\",\"Normal day\",\"Normal day\",\"Normal day\",\"Normal day\",\"Normal day\",\"Normal day\",\"Normal day\",\"Normal day\",\"Normal day\",\"Normal day\",\"Normal day\",\"Normal day\",\"Normal day\",\"Normal day\",\"Normal day\",\"Normal day\",\"Normal day\",\"Normal day\",\"Normal day\",\"Holiday\",\"Normal day\",\"Normal day\",\"Normal day\",\"Normal day\",\"Normal day\",\"Normal day\",\"Normal day\",\"Holiday\",\"Normal day\",\"Normal day\",\"Normal day\",\"Normal day\",\"Normal day\",\"Normal day\",\"Normal day\",\"Normal day\",\"Holiday\",\"Normal day\",\"Normal day\",\"Normal day\",\"Normal day\",\"Normal day\",\"Normal day\",\"Holiday\",\"Normal day\",\"Normal day\",\"Normal day\",\"Normal day\",\"Normal day\",\"Normal day\",\"Normal day\",\"Normal day\",\"Normal day\",\"Normal day\",\"Normal day\",\"Normal day\",\"Normal day\",\"Normal day\",\"Normal day\",\"Normal day\",\"Normal day\",\"Normal day\",\"Normal day\",\"Normal day\",\"Normal day\",\"Normal day\",\"Normal day\",\"Normal day\",\"Normal day\",\"Normal day\",\"Normal day\",\"Normal day\",\"Normal day\",\"Normal day\",\"Normal day\",\"Normal day\",\"Normal day\",\"Normal day\",\"Normal day\",\"Normal day\",\"Normal day\",\"Normal day\",\"Normal day\",\"Normal day\",\"Normal day\",\"Normal day\",\"Normal day\",\"Normal day\",\"Normal day\",\"Normal day\",\"Holiday\",\"Normal day\",\"Normal day\",\"Normal day\",\"Normal day\",\"Normal day\",\"Normal day\",\"Normal day\",\"Normal day\",\"Normal day\",\"Normal day\",\"Normal day\",\"Normal day\",\"Normal day\",\"Normal day\",\"Normal day\",\"Normal day\",\"Normal day\",\"Normal day\",\"Normal day\",\"Normal day\",\"Normal day\",\"Normal day\",\"Normal day\",\"Normal day\",\"Normal day\",\"Normal day\",\"Normal day\",\"Normal day\",\"Normal day\",\"Normal day\",\"Normal day\",\"Normal day\",\"Normal day\",\"Normal day\",\"Normal day\",\"Normal day\",\"Normal day\",\"Holiday\",\"Normal day\",\"Normal day\",\"Normal day\",\"Normal day\",\"Normal day\",\"Normal day\",\"Normal day\",\"Normal day\",\"Normal day\",\"Normal day\",\"Normal day\",\"Normal day\",\"Normal day\",\"Normal day\",\"Normal day\",\"Normal day\",\"Normal day\",\"Normal day\",\"Normal day\",\"Normal day\",\"Normal day\",\"Normal day\",\"Normal day\",\"Normal day\",\"Holiday\",\"Normal day\",\"Normal day\",\"Normal day\",\"Normal day\",\"Normal day\",\"Normal day\",\"Normal day\",\"Normal day\",\"Normal day\",\"Normal day\",\"Normal day\",\"Normal day\",\"Normal day\",\"Normal day\",\"Normal day\",\"Holiday\",\"Normal day\",\"Normal day\",\"Normal day\",\"Normal day\",\"Normal day\",\"Normal day\",\"Normal day\",\"Normal day\",\"Normal day\",\"Normal day\",\"Normal day\",\"Normal day\",\"Normal day\",\"Normal day\",\"Holiday\",\"Normal day\",\"Normal day\",\"Normal day\",\"Normal day\",\"Normal day\",\"Normal day\",\"Normal day\",\"Normal day\",\"Normal day\",\"Normal day\",\"Normal day\",\"Normal day\",\"Normal day\",\"Normal day\",\"Normal day\",\"Normal day\",\"Normal day\",\"Normal day\",\"Normal day\",\"Normal day\",\"Normal day\",\"Normal day\",\"Normal day\",\"Normal day\",\"Normal day\",\"Normal day\",\"Normal day\",\"Normal day\",\"Normal day\",\"Normal day\",\"Normal day\",\"Normal day\",\"Normal day\",\"Normal day\",\"Normal day\",\"Normal day\",\"Normal day\",\"Normal day\",\"Normal day\",\"Normal day\",\"Normal day\",\"Normal day\",\"Normal day\",\"Normal day\",\"Normal day\",\"Normal day\",\"Normal day\",\"Normal day\",\"Normal day\",\"Normal day\",\"Normal day\",\"Normal day\",\"Normal day\",\"Normal day\",\"Normal day\",\"Normal day\",\"Normal day\",\"Normal day\",\"Normal day\",\"Normal day\",\"Normal day\",\"Normal day\",\"Normal day\",\"Normal day\",\"Normal day\",\"Normal day\",\"Normal day\",\"Normal day\",\"Normal day\",\"Normal day\",\"Normal day\",\"Normal day\",\"Normal day\",\"Normal day\",\"Normal day\",\"Normal day\",\"Normal day\",\"Normal day\",\"Normal day\",\"Normal day\",\"Normal day\",\"Normal day\",\"Normal day\",\"Normal day\",\"Normal day\",\"Normal day\",\"Normal day\",\"Normal day\",\"Normal day\",\"Normal day\",\"Normal day\",\"Normal day\",\"Normal day\",\"Normal day\",\"Normal day\",\"Normal day\",\"Normal day\",\"Normal day\",\"Normal day\",\"Normal day\",\"Normal day\",\"Normal day\",\"Normal day\",\"Normal day\",\"Normal day\",\"Normal day\",\"Normal day\",\"Normal day\",\"Normal day\",\"Normal day\",\"Normal day\",\"Normal day\",\"Normal day\",\"Normal day\",\"Normal day\",\"Normal day\",\"Normal day\",\"Normal day\",\"Normal day\",\"Normal day\",\"Normal day\",\"Normal day\",\"Normal day\",\"Normal day\",\"Normal day\",\"Normal day\",\"Normal day\",\"Normal day\",\"Normal day\",\"Normal day\",\"Normal day\",\"Normal day\",\"Normal day\",\"Normal day\",\"Normal day\",\"Normal day\",\"Normal day\",\"Normal day\",\"Normal day\",\"Normal day\",\"Normal day\",\"Normal day\",\"Normal day\",\"Normal day\",\"Normal day\",\"Normal day\",\"Normal day\",\"Normal day\",\"Normal day\",\"Normal day\",\"Normal day\",\"Normal day\",\"Normal day\",\"Normal day\",\"Normal day\",\"Normal day\",\"Normal day\",\"Normal day\",\"Normal day\",\"Normal day\",\"Normal day\",\"Normal day\",\"Normal day\",\"Normal day\",\"Normal day\",\"Normal day\",\"Normal day\",\"Normal day\",\"Normal day\",\"Normal day\",\"Normal day\",\"Normal day\",\"Normal day\",\"Normal day\",\"Normal day\",\"Normal day\",\"Normal day\",\"Normal day\",\"Normal day\",\"Normal day\",\"Normal day\",\"Normal day\",\"Normal day\",\"Normal day\",\"Normal day\",\"Normal day\",\"Normal day\",\"Normal day\",\"Normal day\",\"Normal day\",\"Normal day\",\"Normal day\",\"Normal day\",\"Normal day\",\"Normal day\",\"Normal day\",\"Normal day\",\"Normal day\",\"Normal day\",\"Normal day\",\"Normal day\",\"Normal day\",\"Normal day\",\"Normal day\",\"Normal day\",\"Normal day\",\"Normal day\",\"Normal day\",\"Normal day\",\"Normal day\",\"Normal day\",\"Normal day\",\"Normal day\",\"Normal day\",\"Normal day\",\"Normal day\",\"Normal day\",\"Normal day\",\"Normal day\",\"Normal day\",\"Normal day\",\"Normal day\",\"Normal day\",\"Normal day\",\"Normal day\",\"Normal day\",\"Normal day\",\"Normal day\",\"Normal day\",\"Normal day\",\"Normal day\",\"Normal day\",\"Normal day\",\"Normal day\",\"Normal day\",\"Normal day\",\"Normal day\",\"Normal day\",\"Normal day\",\"Normal day\",\"Normal day\",\"Normal day\",\"Normal day\",\"Normal day\",\"Normal day\",\"Normal day\",\"Normal day\",\"Normal day\",\"Normal day\",\"Normal day\",\"Normal day\",\"Normal day\",\"Normal day\",\"Normal day\",\"Normal day\",\"Normal day\",\"Normal day\",\"Normal day\",\"Normal day\",\"Normal day\",\"Normal day\",\"Normal day\",\"Normal day\",\"Normal day\",\"Normal day\",\"Normal day\",\"Normal day\",\"Normal day\",\"Normal day\",\"Normal day\",\"Normal day\",\"Normal day\",\"Normal day\",\"Normal day\",\"Normal day\",\"Normal day\",\"Normal day\",\"Normal day\",\"Normal day\",\"Normal day\",\"Normal day\",\"Normal day\",\"Normal day\",\"Normal day\",\"Normal day\",\"Normal day\",\"Normal day\",\"Normal day\",\"Normal day\",\"Normal day\",\"Normal day\",\"Normal day\",\"Normal day\",\"Normal day\",\"Normal day\",\"Normal day\",\"Normal day\",\"Normal day\",\"Normal day\",\"Normal day\",\"Normal day\",\"Normal day\",\"Normal day\",\"Normal day\",\"Normal day\",\"Normal day\",\"Normal day\",\"Normal day\",\"Normal day\",\"Normal day\",\"Normal day\",\"Normal day\",\"Normal day\",\"Normal day\",\"Normal day\",\"Normal day\",\"Normal day\",\"Normal day\",\"Normal day\",\"Normal day\",\"Normal day\",\"Normal day\",\"Normal day\",\"Normal day\",\"Normal day\",\"Normal day\",\"Normal day\",\"Normal day\",\"Normal day\",\"Normal day\",\"Normal day\",\"Normal day\",\"Normal day\",\"Normal day\",\"Normal day\",\"Normal day\",\"Normal day\",\"Normal day\",\"Normal day\",\"Normal day\",\"Normal day\",\"Normal day\",\"Normal day\",\"Normal day\",\"Normal day\",\"Normal day\",\"Normal day\",\"Normal day\",\"Normal day\",\"Normal day\",\"Normal day\",\"Normal day\",\"Normal day\",\"Normal day\",\"Normal day\",\"Normal day\",\"Normal day\",\"Normal day\",\"Normal day\",\"Normal day\",\"Normal day\",\"Normal day\",\"Normal day\",\"Normal day\",\"Normal day\",\"Normal day\",\"Normal day\",\"Normal day\",\"Normal day\",\"Normal day\",\"Normal day\",\"Normal day\",\"Normal day\",\"Normal day\",\"Normal day\",\"Normal day\",\"Normal day\",\"Normal day\",\"Normal day\",\"Normal day\",\"Normal day\",\"Normal day\",\"Normal day\",\"Normal day\",\"Normal day\",\"Normal day\",\"Normal day\",\"Normal day\",\"Normal day\",\"Normal day\",\"Normal day\",\"Normal day\",\"Normal day\",\"Normal day\",\"Normal day\",\"Normal day\",\"Normal day\",\"Normal day\",\"Normal day\",\"Normal day\",\"Normal day\",\"Normal day\",\"Normal day\",\"Normal day\",\"Normal day\",\"Normal day\",\"Normal day\",\"Normal day\",\"Normal day\",\"Normal day\",\"Normal day\",\"Normal day\",\"Normal day\",\"Normal day\",\"Normal day\",\"Normal day\",\"Normal day\",\"Normal day\",\"Normal day\",\"Normal day\",\"Normal day\",\"Normal day\",\"Normal day\",\"Normal day\",\"Normal day\",\"Normal day\",\"Normal day\",\"Normal day\",\"Normal day\",\"Normal day\",\"Normal day\",\"Normal day\",\"Normal day\",\"Normal day\",\"Normal day\",\"Normal day\",\"Normal day\",\"Normal day\",\"Normal day\",\"Normal day\",\"Normal day\",\"Normal day\",\"Normal day\",\"Normal day\",\"Normal day\",\"Normal day\",\"Normal day\",\"Normal day\",\"Normal day\",\"Normal day\",\"Normal day\",\"Normal day\",\"Normal day\",\"Normal day\",\"Normal day\",\"Normal day\",\"Normal day\",\"Normal day\",\"Normal day\",\"Normal day\",\"Normal day\",\"Normal day\",\"Normal day\",\"Normal day\",\"Normal day\",\"Normal day\",\"Normal day\",\"Normal day\",\"Normal day\",\"Normal day\",\"Normal day\",\"Normal day\",\"Normal day\",\"Normal day\",\"Normal day\",\"Normal day\",\"Normal day\",\"Normal day\",\"Normal day\",\"Normal day\",\"Normal day\",\"Normal day\",\"Normal day\",\"Normal day\",\"Normal day\",\"Normal day\",\"Normal day\",\"Normal day\",\"Normal day\",\"Normal day\",\"Normal day\",\"Normal day\",\"Normal day\",\"Normal day\",\"Normal day\",\"Normal day\",\"Normal day\",\"Normal day\",\"Normal day\",\"Normal day\",\"Normal day\",\"Normal day\",\"Normal day\",\"Normal day\",\"Normal day\",\"Normal day\",\"Normal day\",\"Normal day\",\"Normal day\",\"Normal day\",\"Normal day\",\"Normal day\",\"Normal day\",\"Normal day\",\"Normal day\",\"Normal day\",\"Normal day\",\"Normal day\",\"Normal day\",\"Normal day\",\"Normal day\",\"Normal day\",\"Normal day\",\"Normal day\",\"Normal day\",\"Normal day\",\"Normal day\",\"Normal day\",\"Normal day\",\"Normal day\",\"Normal day\",\"Normal day\",\"Normal day\",\"Normal day\",\"Normal day\",\"Normal day\",\"Normal day\",\"Normal day\",\"Normal day\",\"Normal day\",\"Normal day\",\"Normal day\",\"Normal day\",\"Normal day\",\"Normal day\",\"Holiday\",\"Normal day\",\"Normal day\",\"Normal day\",\"Normal day\",\"Normal day\",\"Normal day\",\"Normal day\",\"Normal day\",\"Normal day\",\"Normal day\",\"Normal day\",\"Holiday\",\"Normal day\",\"Holiday\",\"Normal day\",\"Normal day\",\"Normal day\",\"Normal day\",\"Normal day\",\"Normal day\",\"Normal day\",\"Normal day\",\"Normal day\",\"Normal day\",\"Normal day\",\"Normal day\",\"Normal day\",\"Normal day\",\"Normal day\",\"Normal day\",\"Normal day\",\"Normal day\",\"Normal day\",\"Normal day\",\"Normal day\",\"Normal day\",\"Normal day\",\"Normal day\",\"Normal day\",\"Normal day\",\"Normal day\",\"Normal day\",\"Normal day\",\"Normal day\",\"Normal day\",\"Normal day\",\"Normal day\",\"Normal day\",\"Normal day\",\"Normal day\",\"Normal day\",\"Normal day\",\"Normal day\",\"Normal day\",\"Normal day\",\"Normal day\",\"Normal day\",\"Normal day\",\"Normal day\",\"Normal day\",\"Normal day\",\"Normal day\",\"Normal day\",\"Normal day\",\"Normal day\",\"Normal day\",\"Normal day\",\"Normal day\",\"Normal day\",\"Normal day\",\"Normal day\",\"Normal day\",\"Normal day\",\"Normal day\",\"Normal day\",\"Normal day\",\"Normal day\",\"Normal day\",\"Normal day\",\"Normal day\",\"Normal day\",\"Normal day\",\"Normal day\",\"Normal day\",\"Normal day\",\"Normal day\",\"Normal day\",\"Normal day\",\"Normal day\",\"Normal day\",\"Normal day\",\"Normal day\",\"Normal day\",\"Normal day\",\"Normal day\",\"Normal day\",\"Normal day\",\"Normal day\",\"Normal day\",\"Normal day\",\"Normal day\",\"Normal day\",\"Normal day\",\"Normal day\",\"Holiday\",\"Normal day\",\"Normal day\",\"Normal day\",\"Normal day\",\"Normal day\",\"Normal day\",\"Normal day\",\"Normal day\",\"Normal day\",\"Holiday\",\"Normal day\",\"Normal day\",\"Normal day\",\"Holiday\",\"Normal day\",\"Normal day\",\"Normal day\",\"Normal day\",\"Normal day\",\"Normal day\",\"Normal day\",\"Normal day\",\"Normal day\",\"Normal day\",\"Normal day\",\"Normal day\",\"Normal day\",\"Normal day\",\"Normal day\",\"Normal day\",\"Normal day\",\"Normal day\",\"Normal day\",\"Normal day\",\"Normal day\",\"Normal day\",\"Normal day\",\"Normal day\",\"Normal day\",\"Normal day\",\"Holiday\",\"Normal day\",\"Normal day\",\"Normal day\",\"Normal day\",\"Normal day\",\"Normal day\",\"Normal day\",\"Normal day\",\"Normal day\",\"Normal day\",\"Normal day\",\"Normal day\",\"Normal day\",\"Normal day\",\"Normal day\",\"Normal day\",\"Normal day\",\"Normal day\",\"Normal day\",\"Normal day\",\"Normal day\",\"Normal day\",\"Normal day\",\"Normal day\",\"Normal day\",\"Normal day\",\"Normal day\",\"Normal day\",\"Normal day\",\"Normal day\",\"Normal day\",\"Holiday\",\"Normal day\",\"Normal day\",\"Normal day\",\"Normal day\",\"Normal day\",\"Normal day\",\"Normal day\",\"Normal day\",\"Normal day\",\"Normal day\",\"Normal day\",\"Normal day\",\"Normal day\",\"Normal day\",\"Normal day\",\"Normal day\",\"Normal day\",\"Normal day\",\"Normal day\",\"Normal day\",\"Normal day\",\"Holiday\",\"Normal day\",\"Normal day\",\"Normal day\",\"Normal day\",\"Normal day\",\"Normal day\",\"Normal day\",\"Normal day\",\"Normal day\",\"Normal day\",\"Normal day\",\"Normal day\",\"Normal day\",\"Normal day\",\"Normal day\",\"Normal day\",\"Normal day\",\"Normal day\",\"Normal day\",\"Normal day\",\"Holiday\",\"Holiday\",\"Normal day\",\"Normal day\",\"Normal day\",\"Normal day\",\"Normal day\",\"Normal day\",\"Normal day\",\"Normal day\",\"Normal day\",\"Normal day\",\"Normal day\",\"Normal day\",\"Normal day\",\"Normal day\",\"Normal day\",\"Normal day\",\"Normal day\",\"Normal day\",\"Normal day\",\"Normal day\",\"Normal day\",\"Normal day\",\"Normal day\",\"Normal day\",\"Normal day\",\"Normal day\",\"Normal day\",\"Normal day\",\"Normal day\",\"Normal day\",\"Normal day\",\"Normal day\",\"Normal day\",\"Normal day\",\"Normal day\",\"Normal day\",\"Normal day\",\"Normal day\",\"Normal day\",\"Normal day\",\"Normal day\",\"Normal day\",\"Normal day\",\"Normal day\",\"Normal day\",\"Normal day\",\"Normal day\",\"Normal day\",\"Normal day\",\"Normal day\",\"Normal day\",\"Normal day\",\"Normal day\",\"Normal day\",\"Normal day\",\"Normal day\",\"Normal day\",\"Normal day\",\"Normal day\",\"Normal day\",\"Normal day\",\"Holiday\",\"Normal day\",\"Normal day\",\"Normal day\",\"Holiday\",\"Normal day\",\"Normal day\",\"Normal day\",\"Normal day\",\"Normal day\",\"Normal day\",\"Normal day\",\"Normal day\",\"Normal day\",\"Normal day\",\"Normal day\",\"Normal day\",\"Normal day\",\"Holiday\",\"Normal day\",\"Normal day\",\"Normal day\",\"Normal day\",\"Normal day\",\"Normal day\",\"Normal day\",\"Normal day\",\"Normal day\",\"Normal day\",\"Normal day\",\"Normal day\",\"Normal day\",\"Holiday\",\"Normal day\",\"Normal day\",\"Normal day\",\"Normal day\",\"Normal day\",\"Normal day\",\"Normal day\",\"Normal day\",\"Normal day\",\"Normal day\",\"Normal day\",\"Normal day\",\"Normal day\",\"Normal day\",\"Normal day\",\"Normal day\",\"Normal day\",\"Normal day\",\"Normal day\",\"Normal day\",\"Normal day\",\"Normal day\",\"Normal day\",\"Normal day\",\"Normal day\",\"Normal day\",\"Holiday\",\"Normal day\",\"Normal day\",\"Normal day\",\"Normal day\",\"Normal day\",\"Normal day\",\"Normal day\",\"Normal day\",\"Normal day\",\"Normal day\",\"Normal day\",\"Normal day\",\"Holiday\",\"Normal day\",\"Normal day\",\"Normal day\",\"Normal day\",\"Normal day\",\"Normal day\",\"Normal day\",\"Normal day\",\"Normal day\",\"Normal day\",\"Normal day\",\"Normal day\",\"Normal day\",\"Normal day\",\"Normal day\",\"Normal day\",\"Normal day\",\"Normal day\",\"Normal day\",\"Normal day\",\"Normal day\",\"Normal day\",\"Normal day\",\"Normal day\",\"Normal day\",\"Normal day\",\"Normal day\",\"Normal day\",\"Normal day\",\"Normal day\",\"Normal day\",\"Normal day\",\"Normal day\",\"Normal day\",\"Normal day\",\"Normal day\",\"Normal day\",\"Normal day\",\"Normal day\",\"Normal day\",\"Normal day\",\"Holiday\",\"Normal day\",\"Normal day\",\"Normal day\",\"Normal day\",\"Normal day\",\"Normal day\",\"Normal day\",\"Normal day\",\"Normal day\",\"Normal day\",\"Normal day\",\"Normal day\",\"Normal day\",\"Normal day\",\"Normal day\",\"Normal day\",\"Normal day\",\"Normal day\",\"Normal day\",\"Normal day\",\"Normal day\",\"Normal day\",\"Normal day\",\"Normal day\",\"Normal day\",\"Normal day\",\"Normal day\",\"Normal day\",\"Normal day\",\"Normal day\",\"Normal day\",\"Normal day\",\"Normal day\",\"Normal day\",\"Normal day\",\"Normal day\",\"Normal day\",\"Normal day\",\"Normal day\",\"Normal day\",\"Normal day\",\"Normal day\",\"Normal day\",\"Normal day\",\"Normal day\",\"Normal day\",\"Normal day\",\"Normal day\",\"Normal day\",\"Normal day\",\"Normal day\",\"Normal day\",\"Normal day\",\"Normal day\",\"Normal day\",\"Normal day\",\"Normal day\",\"Normal day\",\"Holiday\",\"Normal day\",\"Normal day\",\"Normal day\",\"Normal day\",\"Normal day\",\"Normal day\",\"Normal day\",\"Normal day\",\"Normal day\",\"Normal day\",\"Holiday\",\"Normal day\",\"Normal day\",\"Normal day\",\"Normal day\",\"Normal day\",\"Normal day\",\"Normal day\",\"Normal day\",\"Normal day\",\"Holiday\",\"Normal day\",\"Normal day\",\"Holiday\",\"Normal day\",\"Normal day\",\"Normal day\",\"Normal day\",\"Normal day\",\"Normal day\",\"Normal day\",\"Normal day\",\"Normal day\",\"Normal day\",\"Normal day\",\"Normal day\",\"Normal day\",\"Normal day\",\"Normal day\",\"Normal day\",\"Normal day\",\"Normal day\",\"Normal day\",\"Normal day\",\"Normal day\",\"Normal day\",\"Normal day\",\"Normal day\",\"Normal day\",\"Normal day\",\"Normal day\",\"Normal day\",\"Normal day\",\"Normal day\",\"Normal day\",\"Holiday\",\"Normal day\",\"Normal day\",\"Normal day\",\"Normal day\",\"Normal day\",\"Normal day\",\"Normal day\",\"Normal day\",\"Normal day\",\"Normal day\",\"Holiday\",\"Normal day\",\"Normal day\",\"Normal day\",\"Normal day\",\"Normal day\",\"Normal day\",\"Normal day\",\"Normal day\",\"Normal day\",\"Normal day\",\"Normal day\",\"Normal day\",\"Holiday\",\"Normal day\",\"Normal day\",\"Normal day\",\"Normal day\",\"Normal day\",\"Holiday\",\"Normal day\",\"Normal day\",\"Normal day\",\"Normal day\",\"Normal day\",\"Normal day\",\"Normal day\",\"Normal day\",\"Normal day\",\"Normal day\",\"Normal day\",\"Normal day\",\"Holiday\",\"Normal day\",\"Normal day\",\"Normal day\",\"Normal day\",\"Holiday\",\"Normal day\",\"Holiday\",\"Normal day\",\"Normal day\",\"Normal day\",\"Normal day\",\"Normal day\",\"Normal day\",\"Normal day\",\"Normal day\",\"Normal day\",\"Normal day\",\"Normal day\",\"Normal day\",\"Normal day\",\"Normal day\",\"Normal day\",\"Normal day\",\"Normal day\",\"Normal day\",\"Normal day\",\"Holiday\",\"Holiday\",\"Normal day\",\"Normal day\",\"Normal day\",\"Normal day\",\"Normal day\",\"Normal day\",\"Normal day\",\"Normal day\",\"Normal day\",\"Normal day\",\"Normal day\",\"Normal day\",\"Normal day\",\"Normal day\",\"Normal day\",\"Normal day\",\"Normal day\",\"Normal day\",\"Normal day\",\"Normal day\",\"Normal day\",\"Normal day\",\"Normal day\",\"Normal day\",\"Normal day\",\"Normal day\",\"Normal day\",\"Normal day\",\"Normal day\",\"Normal day\",\"Normal day\",\"Normal day\",\"Normal day\",\"Normal day\",\"Normal day\",\"Normal day\",\"Normal day\",\"Normal day\",\"Normal day\",\"Normal day\",\"Normal day\",\"Normal day\",\"Normal day\",\"Normal day\",\"Normal day\",\"Holiday\",\"Normal day\",\"Normal day\",\"Normal day\",\"Normal day\",\"Normal day\",\"Normal day\",\"Normal day\",\"Normal day\",\"Normal day\",\"Normal day\",\"Normal day\",\"Normal day\",\"Normal day\",\"Normal day\",\"Normal day\",\"Normal day\",\"Normal day\",\"Normal day\",\"Normal day\",\"Normal day\",\"Normal day\",\"Normal day\",\"Normal day\",\"Holiday\",\"Normal day\",\"Normal day\",\"Normal day\",\"Normal day\",\"Normal day\",\"Normal day\",\"Normal day\",\"Normal day\",\"Normal day\",\"Normal day\",\"Normal day\",\"Normal day\",\"Normal day\",\"Normal day\",\"Normal day\",\"Normal day\",\"Normal day\",\"Normal day\",\"Normal day\",\"Normal day\",\"Normal day\",\"Holiday\",\"Normal day\",\"Normal day\",\"Normal day\",\"Normal day\",\"Normal day\",\"Normal day\",\"Normal day\",\"Normal day\",\"Normal day\",\"Normal day\",\"Normal day\",\"Holiday\",\"Normal day\",\"Normal day\",\"Normal day\",\"Normal day\",\"Normal day\",\"Normal day\",\"Normal day\",\"Normal day\",\"Normal day\",\"Normal day\",\"Normal day\",\"Normal day\",\"Normal day\",\"Normal day\",\"Normal day\",\"Normal day\",\"Holiday\",\"Holiday\",\"Holiday\",\"Holiday\",\"Holiday\",\"Holiday\",\"Normal day\",\"Normal day\",\"Normal day\",\"Normal day\",\"Normal day\",\"Normal day\",\"Normal day\",\"Holiday\",\"Normal day\",\"Normal day\",\"Normal day\",\"Normal day\",\"Normal day\",\"Normal day\",\"Normal day\",\"Normal day\",\"Normal day\",\"Normal day\",\"Normal day\",\"Normal day\",\"Normal day\",\"Normal day\",\"Normal day\",\"Normal day\",\"Normal day\",\"Normal day\",\"Normal day\",\"Normal day\",\"Normal day\",\"Normal day\",\"Normal day\",\"Normal day\",\"Normal day\",\"Normal day\",\"Normal day\",\"Normal day\",\"Normal day\",\"Normal day\",\"Normal day\",\"Normal day\",\"Normal day\",\"Normal day\",\"Normal day\",\"Normal day\",\"Normal day\",\"Normal day\",\"Normal day\",\"Normal day\",\"Normal day\",\"Normal day\",\"Normal day\",\"Normal day\",\"Normal day\",\"Normal day\",\"Normal day\",\"Normal day\",\"Normal day\",\"Normal day\",\"Normal day\",\"Normal day\",\"Holiday\",\"Normal day\",\"Normal day\",\"Normal day\",\"Normal day\",\"Normal day\",\"Holiday\",\"Normal day\",\"Normal day\",\"Normal day\",\"Normal day\",\"Normal day\",\"Normal day\",\"Normal day\",\"Normal day\",\"Normal day\",\"Normal day\",\"Normal day\",\"Normal day\",\"Normal day\",\"Normal day\",\"Normal day\",\"Normal day\",\"Normal day\",\"Normal day\",\"Normal day\",\"Normal day\",\"Normal day\",\"Normal day\",\"Normal day\",\"Normal day\",\"Holiday\",\"Normal day\",\"Holiday\",\"Normal day\",\"Normal day\",\"Normal day\",\"Normal day\",\"Normal day\",\"Normal day\",\"Holiday\",\"Normal day\",\"Normal day\",\"Normal day\",\"Holiday\",\"Normal day\",\"Normal day\",\"Normal day\",\"Normal day\",\"Normal day\",\"Normal day\",\"Normal day\",\"Normal day\",\"Normal day\",\"Normal day\",\"Normal day\",\"Normal day\",\"Normal day\",\"Normal day\",\"Normal day\",\"Normal day\",\"Normal day\",\"Normal day\",\"Normal day\",\"Normal day\",\"Normal day\",\"Normal day\",\"Normal day\",\"Normal day\",\"Normal day\",\"Normal day\",\"Normal day\",\"Holiday\",\"Normal day\",\"Holiday\",\"Normal day\",\"Normal day\",\"Normal day\",\"Normal day\",\"Holiday\",\"Normal day\",\"Normal day\",\"Normal day\",\"Normal day\",\"Normal day\",\"Normal day\",\"Normal day\",\"Normal day\",\"Normal day\",\"Normal day\",\"Normal day\",\"Normal day\",\"Normal day\",\"Normal day\",\"Normal day\",\"Normal day\",\"Normal day\",\"Holiday\",\"Holiday\",\"Normal day\",\"Normal day\",\"Normal day\",\"Holiday\",\"Normal day\",\"Normal day\",\"Normal day\",\"Normal day\",\"Normal day\",\"Normal day\",\"Normal day\",\"Normal day\",\"Normal day\",\"Normal day\",\"Normal day\",\"Normal day\",\"Holiday\",\"Normal day\",\"Normal day\",\"Normal day\",\"Normal day\",\"Normal day\",\"Normal day\",\"Normal day\",\"Holiday\",\"Normal day\",\"Normal day\",\"Normal day\",\"Normal day\",\"Normal day\",\"Normal day\",\"Normal day\",\"Normal day\",\"Normal day\",\"Normal day\",\"Normal day\",\"Normal day\",\"Normal day\",\"Normal day\",\"Normal day\",\"Normal day\",\"Normal day\",\"Normal day\",\"Normal day\",\"Normal day\",\"Normal day\",\"Normal day\",\"Normal day\",\"Normal day\",\"Normal day\",\"Normal day\",\"Normal day\",\"Normal day\",\"Normal day\",\"Normal day\",\"Normal day\",\"Normal day\",\"Normal day\",\"Normal day\",\"Normal day\",\"Holiday\",\"Normal day\",\"Normal day\",\"Normal day\",\"Normal day\",\"Normal day\",\"Normal day\",\"Normal day\",\"Normal day\",\"Normal day\",\"Normal day\",\"Normal day\",\"Normal day\",\"Normal day\",\"Normal day\",\"Normal day\",\"Normal day\",\"Holiday\",\"Normal day\",\"Normal day\",\"Normal day\",\"Normal day\",\"Normal day\",\"Normal day\",\"Normal day\",\"Normal day\",\"Normal day\",\"Normal day\",\"Normal day\",\"Normal day\",\"Normal day\",\"Normal day\",\"Normal day\",\"Normal day\",\"Normal day\",\"Normal day\",\"Normal day\",\"Normal day\",\"Holiday\",\"Normal day\",\"Normal day\",\"Holiday\",\"Normal day\",\"Normal day\",\"Normal day\",\"Normal day\",\"Normal day\",\"Normal day\",\"Normal day\",\"Normal day\",\"Normal day\",\"Normal day\",\"Normal day\",\"Normal day\",\"Normal day\",\"Normal day\",\"Normal day\",\"Normal day\",\"Normal day\",\"Normal day\",\"Normal day\",\"Normal day\",\"Normal day\",\"Normal day\",\"Normal day\",\"Normal day\",\"Normal day\",\"Normal day\",\"Normal day\",\"Normal day\",\"Normal day\",\"Normal day\",\"Normal day\",\"Normal day\",\"Normal day\",\"Normal day\",\"Normal day\",\"Normal day\",\"Normal day\",\"Normal day\",\"Normal day\",\"Normal day\",\"Normal day\",\"Normal day\",\"Normal day\",\"Normal day\",\"Normal day\",\"Holiday\",\"Normal day\",\"Normal day\",\"Normal day\",\"Normal day\",\"Normal day\",\"Normal day\",\"Normal day\",\"Holiday\",\"Normal day\",\"Normal day\",\"Normal day\",\"Normal day\",\"Normal day\",\"Normal day\",\"Normal day\",\"Normal day\",\"Normal day\",\"Normal day\",\"Normal day\",\"Normal day\",\"Normal day\",\"Normal day\",\"Normal day\",\"Normal day\",\"Normal day\",\"Normal day\",\"Normal day\",\"Normal day\",\"Normal day\",\"Normal day\",\"Normal day\",\"Normal day\",\"Holiday\",\"Normal day\",\"Normal day\",\"Normal day\",\"Normal day\",\"Normal day\",\"Holiday\",\"Normal day\",\"Normal day\",\"Normal day\",\"Normal day\",\"Holiday\",\"Normal day\",\"Normal day\",\"Normal day\",\"Normal day\",\"Normal day\",\"Normal day\",\"Normal day\",\"Normal day\",\"Normal day\",\"Normal day\",\"Normal day\",\"Holiday\",\"Normal day\",\"Normal day\",\"Normal day\",\"Holiday\",\"Normal day\",\"Normal day\",\"Normal day\",\"Holiday\",\"Normal day\",\"Holiday\",\"Holiday\",\"Normal day\",\"Normal day\",\"Normal day\",\"Normal day\",\"Normal day\",\"Normal day\",\"Normal day\",\"Normal day\",\"Normal day\",\"Normal day\",\"Normal day\",\"Normal day\",\"Normal day\",\"Normal day\",\"Normal day\",\"Normal day\",\"Normal day\",\"Holiday\",\"Normal day\",\"Normal day\",\"Normal day\",\"Normal day\",\"Normal day\",\"Normal day\",\"Holiday\",\"Normal day\",\"Normal day\",\"Normal day\",\"Normal day\",\"Normal day\",\"Normal day\",\"Normal day\",\"Normal day\",\"Normal day\",\"Normal day\",\"Normal day\",\"Normal day\",\"Normal day\",\"Normal day\",\"Normal day\",\"Normal day\",\"Normal day\",\"Normal day\",\"Normal day\",\"Normal day\",\"Normal day\",\"Normal day\",\"Normal day\",\"Normal day\",\"Normal day\",\"Normal day\",\"Normal day\",\"Holiday\",\"Normal day\",\"Normal day\",\"Normal day\",\"Normal day\",\"Normal day\",\"Normal day\",\"Normal day\",\"Normal day\",\"Normal day\",\"Normal day\",\"Normal day\",\"Normal day\",\"Normal day\",\"Normal day\",\"Normal day\",\"Normal day\",\"Normal day\",\"Normal day\",\"Normal day\",\"Normal day\",\"Normal day\",\"Normal day\",\"Normal day\",\"Holiday\",\"Normal day\",\"Normal day\",\"Normal day\",\"Normal day\",\"Normal day\",\"Normal day\",\"Normal day\",\"Normal day\",\"Normal day\",\"Holiday\",\"Normal day\",\"Normal day\",\"Normal day\",\"Normal day\",\"Normal day\",\"Normal day\",\"Normal day\",\"Normal day\",\"Normal day\",\"Normal day\",\"Normal day\",\"Normal day\",\"Normal day\",\"Normal day\",\"Normal day\",\"Normal day\",\"Normal day\",\"Normal day\",\"Normal day\",\"Normal day\",\"Normal day\",\"Normal day\",\"Normal day\",\"Normal day\",\"Normal day\",\"Normal day\",\"Normal day\",\"Normal day\",\"Normal day\",\"Normal day\",\"Normal day\",\"Normal day\",\"Holiday\",\"Normal day\",\"Normal day\",\"Normal day\",\"Normal day\",\"Normal day\",\"Normal day\",\"Normal day\",\"Normal day\",\"Normal day\",\"Holiday\",\"Normal day\",\"Normal day\",\"Normal day\",\"Normal day\",\"Normal day\",\"Normal day\",\"Normal day\",\"Holiday\",\"Holiday\",\"Normal day\",\"Normal day\",\"Normal day\",\"Normal day\",\"Normal day\",\"Normal day\",\"Normal day\",\"Normal day\",\"Normal day\",\"Normal day\",\"Normal day\",\"Normal day\",\"Normal day\",\"Normal day\",\"Normal day\",\"Normal day\",\"Normal day\",\"Holiday\",\"Normal day\",\"Holiday\",\"Normal day\",\"Normal day\",\"Normal day\",\"Holiday\",\"Holiday\",\"Normal day\",\"Holiday\",\"Normal day\",\"Normal day\",\"Holiday\",\"Normal day\",\"Normal day\",\"Normal day\",\"Normal day\",\"Normal day\",\"Normal day\",\"Normal day\",\"Normal day\",\"Normal day\",\"Normal day\",\"Normal day\",\"Normal day\",\"Normal day\",\"Normal day\",\"Holiday\",\"Normal day\",\"Normal day\",\"Normal day\",\"Normal day\",\"Normal day\",\"Normal day\",\"Normal day\",\"Normal day\",\"Holiday\",\"Normal day\",\"Normal day\",\"Normal day\",\"Normal day\",\"Normal day\",\"Normal day\",\"Normal day\",\"Normal day\",\"Normal day\",\"Normal day\",\"Normal day\",\"Normal day\",\"Normal day\",\"Normal day\",\"Normal day\",\"Normal day\",\"Normal day\",\"Normal day\",\"Normal day\",\"Normal day\",\"Normal day\",\"Normal day\",\"Holiday\",\"Holiday\",\"Holiday\",\"Normal day\",\"Normal day\",\"Normal day\",\"Normal day\",\"Holiday\",\"Holiday\",\"Normal day\",\"Normal day\",\"Normal day\",\"Normal day\",\"Normal day\",\"Normal day\",\"Normal day\",\"Holiday\",\"Normal day\",\"Normal day\",\"Normal day\",\"Normal day\",\"Normal day\",\"Normal day\",\"Normal day\",\"Normal day\",\"Normal day\",\"Holiday\",\"Normal day\",\"Normal day\",\"Normal day\",\"Normal day\",\"Normal day\",\"Holiday\",\"Normal day\",\"Normal day\",\"Normal day\",\"Normal day\",\"Normal day\",\"Normal day\",\"Normal day\",\"Normal day\",\"Normal day\",\"Normal day\",\"Normal day\",\"Normal day\",\"Normal day\",\"Normal day\",\"Normal day\",\"Normal day\",\"Normal day\",\"Normal day\",\"Normal day\",\"Normal day\",\"Holiday\",\"Holiday\",\"Normal day\",\"Normal day\",\"Normal day\",\"Normal day\",\"Normal day\",\"Normal day\",\"Normal day\",\"Normal day\",\"Normal day\",\"Normal day\",\"Normal day\",\"Holiday\",\"Normal day\",\"Normal day\",\"Normal day\",\"Holiday\",\"Normal day\",\"Normal day\",\"Normal day\",\"Normal day\",\"Normal day\",\"Normal day\",\"Normal day\",\"Normal day\",\"Normal day\",\"Normal day\",\"Holiday\",\"Holiday\",\"Normal day\",\"Holiday\",\"Normal day\",\"Normal day\",\"Normal day\",\"Normal day\",\"Normal day\",\"Normal day\",\"Normal day\",\"Holiday\",\"Normal day\",\"Normal day\",\"Normal day\",\"Normal day\",\"Normal day\",\"Normal day\",\"Holiday\",\"Normal day\",\"Normal day\",\"Holiday\",\"Normal day\",\"Normal day\",\"Normal day\",\"Normal day\",\"Normal day\",\"Holiday\",\"Normal day\",\"Normal day\",\"Normal day\",\"Normal day\",\"Holiday\",\"Normal day\",\"Normal day\",\"Normal day\",\"Normal day\",\"Normal day\",\"Normal day\",\"Normal day\",\"Normal day\",\"Normal day\",\"Normal day\",\"Normal day\",\"Normal day\",\"Holiday\",\"Normal day\",\"Normal day\",\"Normal day\",\"Holiday\",\"Holiday\",\"Holiday\",\"Holiday\",\"Holiday\",\"Holiday\",\"Holiday\",\"Holiday\",\"Normal day\",\"Normal day\",\"Normal day\",\"Normal day\",\"Normal day\",\"Normal day\",\"Normal day\",\"Normal day\",\"Normal day\",\"Normal day\",\"Normal day\",\"Normal day\",\"Normal day\",\"Normal day\",\"Normal day\",\"Normal day\",\"Normal day\",\"Normal day\",\"Normal day\",\"Normal day\",\"Normal day\",\"Normal day\",\"Normal day\",\"Normal day\",\"Normal day\",\"Normal day\",\"Normal day\",\"Normal day\",\"Normal day\",\"Normal day\",\"Normal day\",\"Holiday\",\"Holiday\",\"Holiday\",\"Normal day\",\"Normal day\",\"Normal day\",\"Normal day\",\"Normal day\",\"Normal day\",\"Normal day\",\"Normal day\",\"Normal day\",\"Normal day\",\"Normal day\",\"Normal day\",\"Normal day\",\"Normal day\",\"Normal day\",\"Normal day\",\"Normal day\",\"Normal day\",\"Normal day\",\"Normal day\",\"Normal day\",\"Normal day\",\"Normal day\",\"Holiday\",\"Normal day\",\"Normal day\",\"Normal day\",\"Normal day\",\"Normal day\",\"Normal day\",\"Normal day\",\"Normal day\",\"Normal day\",\"Normal day\",\"Normal day\",\"Normal day\",\"Normal day\",\"Normal day\",\"Normal day\",\"Normal day\",\"Normal day\",\"Normal day\",\"Normal day\",\"Normal day\",\"Holiday\",\"Normal day\",\"Normal day\",\"Normal day\",\"Normal day\",\"Normal day\",\"Normal day\",\"Normal day\",\"Normal day\",\"Normal day\",\"Normal day\",\"Normal day\",\"Normal day\",\"Normal day\",\"Normal day\",\"Holiday\",\"Normal day\",\"Normal day\",\"Holiday\",\"Normal day\",\"Normal day\",\"Normal day\",\"Normal day\",\"Normal day\",\"Normal day\",\"Normal day\",\"Normal day\",\"Normal day\",\"Normal day\",\"Normal day\",\"Normal day\",\"Normal day\",\"Normal day\",\"Normal day\",\"Normal day\",\"Normal day\",\"Normal day\",\"Normal day\",\"Normal day\",\"Holiday\",\"Normal day\",\"Normal day\",\"Normal day\",\"Holiday\",\"Holiday\",\"Normal day\",\"Normal day\",\"Normal day\",\"Normal day\",\"Normal day\",\"Normal day\",\"Holiday\",\"Holiday\",\"Normal day\",\"Normal day\",\"Normal day\",\"Normal day\",\"Normal day\",\"Normal day\",\"Normal day\",\"Normal day\",\"Normal day\",\"Normal day\",\"Normal day\",\"Normal day\",\"Normal day\",\"Normal day\",\"Normal day\",\"Normal day\",\"Normal day\",\"Holiday\",\"Normal day\",\"Normal day\",\"Holiday\",\"Normal day\",\"Normal day\",\"Normal day\",\"Normal day\",\"Normal day\",\"Normal day\",\"Holiday\",\"Holiday\",\"Normal day\",\"Normal day\",\"Normal day\",\"Normal day\",\"Normal day\",\"Normal day\",\"Holiday\",\"Normal day\",\"Normal day\",\"Holiday\",\"Holiday\",\"Holiday\",\"Normal day\",\"Normal day\",\"Normal day\",\"Normal day\",\"Normal day\",\"Normal day\",\"Normal day\",\"Normal day\",\"Normal day\",\"Normal day\",\"Normal day\",\"Normal day\",\"Normal day\",\"Normal day\",\"Normal day\",\"Normal day\",\"Normal day\",\"Normal day\",\"Normal day\",\"Normal day\",\"Holiday\",\"Normal day\",\"Normal day\",\"Normal day\",\"Normal day\",\"Normal day\",\"Normal day\",\"Normal day\",\"Normal day\",\"Normal day\",\"Normal day\",\"Normal day\",\"Normal day\",\"Normal day\",\"Normal day\",\"Normal day\",\"Normal day\",\"Normal day\",\"Normal day\",\"Normal day\",\"Normal day\",\"Normal day\",\"Normal day\",\"Normal day\",\"Normal day\",\"Holiday\",\"Normal day\",\"Normal day\",\"Normal day\",\"Normal day\",\"Normal day\",\"Normal day\",\"Normal day\",\"Normal day\",\"Normal day\",\"Normal day\",\"Normal day\",\"Holiday\",\"Normal day\",\"Holiday\",\"Holiday\",\"Normal day\",\"Normal day\",\"Normal day\",\"Holiday\",\"Holiday\",\"Normal day\",\"Normal day\",\"Normal day\",\"Normal day\",\"Normal day\",\"Holiday\",\"Normal day\",\"Normal day\",\"Normal day\"],\"xaxis\":\"x\",\"yaxis\":\"y\",\"type\":\"histogram\"},{\"alignmentgroup\":\"True\",\"bingroup\":\"x\",\"hovertemplate\":\"member_casual=casual<br>holidays=%{x}<br>count=%{y}<extra></extra>\",\"legendgroup\":\"casual\",\"marker\":{\"color\":\"#EF553B\",\"pattern\":{\"shape\":\"\"}},\"name\":\"casual\",\"offsetgroup\":\"casual\",\"orientation\":\"v\",\"showlegend\":true,\"x\":[\"Normal day\",\"Holiday\",\"Normal day\",\"Normal day\",\"Normal day\",\"Normal day\",\"Normal day\",\"Normal day\",\"Normal day\",\"Normal day\",\"Normal day\",\"Normal day\",\"Normal day\",\"Normal day\",\"Normal day\",\"Normal day\",\"Normal day\",\"Normal day\",\"Normal day\",\"Normal day\",\"Normal day\",\"Normal day\",\"Normal day\",\"Normal day\",\"Normal day\",\"Normal day\",\"Normal day\",\"Normal day\",\"Normal day\",\"Holiday\",\"Normal day\",\"Normal day\",\"Holiday\",\"Normal day\",\"Normal day\",\"Normal day\",\"Normal day\",\"Normal day\",\"Normal day\",\"Normal day\",\"Normal day\",\"Normal day\",\"Normal day\",\"Normal day\",\"Normal day\",\"Normal day\",\"Holiday\",\"Normal day\",\"Normal day\",\"Normal day\",\"Normal day\",\"Normal day\",\"Normal day\",\"Normal day\",\"Normal day\",\"Normal day\",\"Normal day\",\"Normal day\",\"Normal day\",\"Normal day\",\"Normal day\",\"Normal day\",\"Normal day\",\"Normal day\",\"Normal day\",\"Normal day\",\"Normal day\",\"Normal day\",\"Normal day\",\"Normal day\",\"Normal day\",\"Normal day\",\"Normal day\",\"Normal day\",\"Normal day\",\"Normal day\",\"Normal day\",\"Normal day\",\"Normal day\",\"Normal day\",\"Normal day\",\"Normal day\",\"Normal day\",\"Normal day\",\"Normal day\",\"Normal day\",\"Normal day\",\"Normal day\",\"Normal day\",\"Normal day\",\"Normal day\",\"Normal day\",\"Normal day\",\"Normal day\",\"Normal day\",\"Normal day\",\"Normal day\",\"Normal day\",\"Normal day\",\"Normal day\",\"Normal day\",\"Normal day\",\"Normal day\",\"Normal day\",\"Normal day\",\"Normal day\",\"Normal day\",\"Normal day\",\"Normal day\",\"Normal day\",\"Normal day\",\"Normal day\",\"Normal day\",\"Normal day\",\"Normal day\",\"Normal day\",\"Normal day\",\"Normal day\",\"Normal day\",\"Normal day\",\"Normal day\",\"Normal day\",\"Normal day\",\"Normal day\",\"Normal day\",\"Normal day\",\"Normal day\",\"Normal day\",\"Normal day\",\"Normal day\",\"Normal day\",\"Normal day\",\"Normal day\",\"Normal day\",\"Normal day\",\"Normal day\",\"Normal day\",\"Normal day\",\"Normal day\",\"Normal day\",\"Normal day\",\"Normal day\",\"Normal day\",\"Normal day\",\"Normal day\",\"Normal day\",\"Normal day\",\"Normal day\",\"Normal day\",\"Normal day\",\"Normal day\",\"Normal day\",\"Normal day\",\"Normal day\",\"Normal day\",\"Normal day\",\"Normal day\",\"Normal day\",\"Normal day\",\"Normal day\",\"Normal day\",\"Normal day\",\"Normal day\",\"Normal day\",\"Normal day\",\"Normal day\",\"Normal day\",\"Normal day\",\"Normal day\",\"Normal day\",\"Normal day\",\"Normal day\",\"Normal day\",\"Normal day\",\"Normal day\",\"Normal day\",\"Normal day\",\"Normal day\",\"Normal day\",\"Normal day\",\"Normal day\",\"Normal day\",\"Normal day\",\"Normal day\",\"Normal day\",\"Normal day\",\"Normal day\",\"Normal day\",\"Normal day\",\"Normal day\",\"Holiday\",\"Normal day\",\"Normal day\",\"Normal day\",\"Normal day\",\"Normal day\",\"Normal day\",\"Normal day\",\"Normal day\",\"Normal day\",\"Normal day\",\"Normal day\",\"Normal day\",\"Normal day\",\"Normal day\",\"Normal day\",\"Normal day\",\"Normal day\",\"Normal day\",\"Normal day\",\"Normal day\",\"Normal day\",\"Holiday\",\"Normal day\",\"Normal day\",\"Holiday\",\"Holiday\",\"Holiday\",\"Normal day\",\"Holiday\",\"Holiday\",\"Normal day\",\"Holiday\",\"Normal day\",\"Normal day\",\"Normal day\",\"Holiday\",\"Normal day\",\"Normal day\",\"Normal day\",\"Normal day\",\"Normal day\",\"Normal day\",\"Normal day\",\"Holiday\",\"Holiday\",\"Normal day\",\"Normal day\",\"Normal day\",\"Holiday\",\"Normal day\",\"Normal day\",\"Normal day\",\"Normal day\",\"Normal day\",\"Normal day\",\"Normal day\",\"Normal day\",\"Holiday\",\"Normal day\",\"Normal day\",\"Normal day\",\"Normal day\",\"Normal day\",\"Normal day\",\"Normal day\",\"Normal day\",\"Normal day\",\"Normal day\",\"Normal day\",\"Normal day\",\"Normal day\",\"Normal day\",\"Normal day\",\"Normal day\",\"Normal day\",\"Holiday\",\"Normal day\",\"Normal day\",\"Normal day\",\"Normal day\",\"Normal day\",\"Normal day\",\"Normal day\",\"Normal day\",\"Normal day\",\"Normal day\",\"Normal day\",\"Normal day\",\"Normal day\",\"Normal day\",\"Normal day\",\"Normal day\",\"Holiday\",\"Holiday\",\"Normal day\",\"Holiday\",\"Normal day\",\"Normal day\",\"Normal day\",\"Normal day\",\"Normal day\",\"Normal day\",\"Normal day\",\"Normal day\",\"Normal day\",\"Normal day\",\"Normal day\",\"Normal day\",\"Normal day\",\"Normal day\",\"Normal day\",\"Normal day\",\"Normal day\",\"Normal day\",\"Normal day\",\"Normal day\",\"Normal day\",\"Normal day\",\"Normal day\",\"Normal day\",\"Normal day\",\"Normal day\",\"Normal day\",\"Holiday\",\"Normal day\",\"Normal day\",\"Normal day\",\"Normal day\",\"Normal day\",\"Normal day\",\"Normal day\",\"Normal day\",\"Holiday\",\"Normal day\",\"Normal day\",\"Normal day\",\"Normal day\",\"Normal day\",\"Holiday\",\"Normal day\",\"Normal day\",\"Normal day\",\"Holiday\",\"Normal day\",\"Normal day\",\"Normal day\",\"Normal day\",\"Normal day\",\"Normal day\",\"Holiday\",\"Holiday\",\"Normal day\",\"Normal day\",\"Normal day\",\"Normal day\",\"Normal day\",\"Normal day\",\"Normal day\",\"Holiday\",\"Normal day\",\"Normal day\",\"Normal day\",\"Normal day\",\"Normal day\",\"Holiday\",\"Normal day\",\"Normal day\",\"Holiday\",\"Normal day\",\"Normal day\",\"Normal day\",\"Normal day\",\"Holiday\",\"Normal day\",\"Normal day\",\"Normal day\",\"Normal day\",\"Normal day\",\"Normal day\",\"Normal day\",\"Normal day\",\"Normal day\",\"Holiday\",\"Normal day\",\"Normal day\",\"Holiday\",\"Normal day\",\"Normal day\",\"Normal day\",\"Normal day\",\"Normal day\",\"Normal day\",\"Normal day\",\"Normal day\",\"Normal day\",\"Normal day\",\"Normal day\",\"Normal day\",\"Normal day\",\"Normal day\",\"Normal day\",\"Normal day\",\"Normal day\",\"Normal day\",\"Normal day\",\"Normal day\",\"Normal day\",\"Normal day\",\"Normal day\",\"Normal day\",\"Normal day\",\"Normal day\",\"Normal day\",\"Normal day\",\"Normal day\",\"Normal day\",\"Normal day\",\"Normal day\",\"Holiday\",\"Normal day\",\"Normal day\",\"Normal day\",\"Normal day\",\"Normal day\",\"Normal day\",\"Holiday\",\"Normal day\",\"Normal day\",\"Normal day\",\"Normal day\",\"Normal day\",\"Normal day\",\"Normal day\",\"Normal day\",\"Normal day\",\"Holiday\",\"Normal day\",\"Normal day\",\"Normal day\",\"Normal day\",\"Normal day\",\"Normal day\",\"Normal day\",\"Holiday\",\"Normal day\",\"Normal day\",\"Normal day\",\"Normal day\",\"Normal day\",\"Normal day\",\"Normal day\",\"Normal day\",\"Normal day\",\"Normal day\",\"Normal day\",\"Normal day\",\"Normal day\",\"Normal day\",\"Normal day\",\"Normal day\",\"Normal day\",\"Normal day\",\"Normal day\",\"Normal day\",\"Normal day\",\"Normal day\",\"Normal day\",\"Normal day\",\"Normal day\",\"Normal day\",\"Normal day\",\"Normal day\",\"Normal day\",\"Normal day\",\"Normal day\",\"Holiday\",\"Normal day\",\"Normal day\",\"Normal day\",\"Normal day\",\"Normal day\",\"Normal day\",\"Normal day\",\"Normal day\",\"Normal day\",\"Normal day\",\"Normal day\",\"Normal day\",\"Normal day\",\"Normal day\",\"Normal day\",\"Holiday\",\"Normal day\",\"Normal day\",\"Normal day\",\"Normal day\",\"Normal day\",\"Normal day\",\"Normal day\",\"Normal day\",\"Normal day\",\"Normal day\",\"Holiday\",\"Normal day\",\"Normal day\",\"Normal day\",\"Normal day\",\"Normal day\",\"Normal day\",\"Normal day\",\"Normal day\",\"Holiday\",\"Normal day\",\"Normal day\",\"Holiday\",\"Normal day\",\"Normal day\",\"Holiday\",\"Holiday\",\"Normal day\",\"Holiday\",\"Normal day\",\"Normal day\",\"Normal day\",\"Normal day\",\"Normal day\",\"Holiday\",\"Normal day\",\"Normal day\",\"Normal day\",\"Normal day\",\"Normal day\",\"Holiday\",\"Holiday\",\"Normal day\",\"Normal day\",\"Holiday\",\"Normal day\",\"Normal day\",\"Normal day\",\"Normal day\",\"Normal day\",\"Normal day\",\"Normal day\",\"Normal day\",\"Normal day\",\"Normal day\",\"Normal day\",\"Normal day\",\"Normal day\",\"Normal day\",\"Normal day\",\"Normal day\",\"Normal day\",\"Normal day\",\"Normal day\",\"Normal day\",\"Normal day\",\"Normal day\",\"Normal day\",\"Normal day\",\"Holiday\",\"Normal day\",\"Normal day\",\"Normal day\",\"Normal day\",\"Normal day\",\"Normal day\",\"Normal day\",\"Normal day\",\"Normal day\",\"Normal day\",\"Normal day\",\"Holiday\",\"Normal day\",\"Normal day\",\"Holiday\",\"Normal day\",\"Normal day\",\"Normal day\",\"Normal day\",\"Normal day\",\"Normal day\",\"Normal day\",\"Normal day\",\"Normal day\",\"Holiday\",\"Normal day\",\"Normal day\",\"Normal day\",\"Normal day\",\"Normal day\",\"Normal day\",\"Normal day\",\"Holiday\",\"Normal day\",\"Normal day\",\"Normal day\",\"Normal day\",\"Normal day\",\"Normal day\",\"Normal day\",\"Normal day\",\"Normal day\",\"Normal day\",\"Normal day\",\"Normal day\",\"Normal day\",\"Normal day\",\"Normal day\",\"Normal day\",\"Normal day\",\"Normal day\",\"Normal day\",\"Normal day\",\"Normal day\",\"Normal day\",\"Normal day\",\"Normal day\",\"Normal day\",\"Normal day\",\"Normal day\",\"Normal day\",\"Normal day\",\"Normal day\",\"Normal day\",\"Normal day\",\"Normal day\",\"Normal day\",\"Normal day\",\"Normal day\",\"Normal day\",\"Normal day\",\"Normal day\",\"Normal day\",\"Normal day\",\"Normal day\",\"Normal day\",\"Normal day\",\"Normal day\",\"Normal day\",\"Normal day\",\"Normal day\",\"Normal day\",\"Normal day\",\"Normal day\",\"Normal day\",\"Normal day\",\"Normal day\",\"Normal day\",\"Normal day\",\"Normal day\",\"Normal day\",\"Normal day\",\"Normal day\",\"Normal day\",\"Normal day\",\"Normal day\",\"Normal day\",\"Normal day\",\"Normal day\",\"Normal day\",\"Normal day\",\"Normal day\",\"Normal day\",\"Normal day\",\"Normal day\",\"Normal day\",\"Normal day\",\"Normal day\",\"Normal day\",\"Normal day\",\"Normal day\",\"Normal day\",\"Normal day\",\"Normal day\",\"Normal day\",\"Normal day\",\"Normal day\",\"Normal day\",\"Normal day\",\"Normal day\",\"Normal day\",\"Normal day\",\"Normal day\",\"Normal day\",\"Normal day\",\"Normal day\",\"Normal day\",\"Normal day\",\"Normal day\",\"Normal day\",\"Normal day\",\"Normal day\",\"Normal day\",\"Normal day\",\"Normal day\",\"Normal day\",\"Normal day\",\"Normal day\",\"Normal day\",\"Normal day\",\"Normal day\",\"Normal day\",\"Normal day\",\"Normal day\",\"Normal day\",\"Normal day\",\"Normal day\",\"Normal day\",\"Normal day\",\"Normal day\",\"Normal day\",\"Normal day\",\"Normal day\",\"Normal day\",\"Normal day\",\"Normal day\",\"Normal day\",\"Normal day\",\"Normal day\",\"Normal day\",\"Normal day\",\"Normal day\",\"Normal day\",\"Normal day\",\"Normal day\",\"Normal day\",\"Normal day\",\"Normal day\",\"Normal day\",\"Normal day\",\"Normal day\",\"Normal day\",\"Normal day\",\"Normal day\",\"Normal day\",\"Normal day\",\"Normal day\",\"Normal day\",\"Normal day\",\"Normal day\",\"Normal day\",\"Normal day\",\"Normal day\",\"Normal day\",\"Normal day\",\"Normal day\",\"Normal day\",\"Normal day\",\"Normal day\",\"Normal day\",\"Normal day\",\"Normal day\",\"Normal day\",\"Normal day\",\"Normal day\",\"Normal day\",\"Normal day\",\"Normal day\",\"Normal day\",\"Normal day\",\"Normal day\",\"Normal day\",\"Normal day\",\"Normal day\",\"Normal day\",\"Normal day\",\"Normal day\",\"Normal day\",\"Normal day\",\"Normal day\",\"Normal day\",\"Normal day\",\"Normal day\",\"Normal day\",\"Normal day\",\"Normal day\",\"Normal day\",\"Normal day\",\"Normal day\",\"Normal day\",\"Normal day\",\"Normal day\",\"Normal day\",\"Normal day\",\"Normal day\",\"Normal day\",\"Normal day\",\"Normal day\",\"Normal day\",\"Normal day\",\"Normal day\",\"Normal day\",\"Normal day\",\"Normal day\",\"Normal day\",\"Normal day\",\"Normal day\",\"Normal day\",\"Normal day\",\"Normal day\",\"Normal day\",\"Normal day\",\"Normal day\",\"Normal day\",\"Normal day\",\"Normal day\",\"Normal day\",\"Normal day\",\"Normal day\",\"Normal day\",\"Normal day\",\"Normal day\",\"Normal day\",\"Normal day\",\"Normal day\",\"Normal day\",\"Holiday\",\"Normal day\",\"Normal day\",\"Normal day\",\"Normal day\",\"Normal day\",\"Holiday\",\"Normal day\",\"Normal day\",\"Normal day\",\"Holiday\",\"Normal day\",\"Holiday\",\"Normal day\",\"Normal day\",\"Normal day\",\"Normal day\",\"Normal day\",\"Normal day\",\"Normal day\",\"Normal day\",\"Normal day\",\"Normal day\",\"Normal day\",\"Normal day\",\"Normal day\",\"Normal day\",\"Normal day\",\"Normal day\",\"Normal day\",\"Normal day\",\"Normal day\",\"Normal day\",\"Normal day\",\"Normal day\",\"Normal day\",\"Normal day\",\"Normal day\",\"Normal day\",\"Normal day\",\"Normal day\",\"Normal day\",\"Normal day\",\"Normal day\",\"Normal day\",\"Normal day\",\"Normal day\",\"Normal day\",\"Normal day\",\"Normal day\",\"Normal day\",\"Normal day\",\"Normal day\",\"Normal day\",\"Normal day\",\"Normal day\",\"Normal day\",\"Normal day\",\"Normal day\",\"Normal day\",\"Normal day\",\"Normal day\",\"Holiday\",\"Normal day\",\"Normal day\",\"Normal day\",\"Normal day\",\"Holiday\",\"Normal day\",\"Normal day\",\"Normal day\",\"Normal day\",\"Normal day\",\"Normal day\",\"Normal day\",\"Normal day\",\"Normal day\",\"Holiday\",\"Normal day\",\"Normal day\",\"Holiday\",\"Normal day\",\"Normal day\",\"Normal day\",\"Normal day\",\"Normal day\",\"Holiday\",\"Normal day\",\"Normal day\",\"Holiday\",\"Normal day\",\"Normal day\",\"Normal day\",\"Normal day\",\"Normal day\",\"Normal day\",\"Normal day\",\"Normal day\",\"Normal day\",\"Normal day\",\"Normal day\",\"Normal day\",\"Normal day\",\"Normal day\",\"Normal day\",\"Normal day\",\"Normal day\",\"Normal day\",\"Normal day\",\"Normal day\",\"Normal day\",\"Normal day\",\"Normal day\",\"Holiday\",\"Normal day\",\"Normal day\",\"Normal day\",\"Normal day\",\"Holiday\",\"Holiday\",\"Normal day\",\"Normal day\",\"Normal day\",\"Normal day\",\"Normal day\",\"Normal day\",\"Holiday\",\"Normal day\",\"Normal day\",\"Holiday\",\"Normal day\",\"Normal day\",\"Normal day\",\"Normal day\",\"Normal day\",\"Normal day\",\"Normal day\",\"Normal day\",\"Normal day\",\"Normal day\",\"Normal day\",\"Normal day\",\"Normal day\",\"Normal day\",\"Holiday\",\"Normal day\",\"Normal day\",\"Normal day\",\"Normal day\",\"Normal day\",\"Normal day\",\"Normal day\",\"Normal day\",\"Normal day\",\"Normal day\",\"Normal day\",\"Holiday\",\"Normal day\",\"Normal day\",\"Normal day\",\"Normal day\",\"Holiday\",\"Normal day\",\"Normal day\",\"Normal day\",\"Normal day\",\"Normal day\",\"Holiday\",\"Normal day\",\"Normal day\",\"Normal day\",\"Normal day\",\"Normal day\",\"Normal day\",\"Normal day\",\"Normal day\",\"Normal day\",\"Normal day\",\"Normal day\",\"Normal day\",\"Normal day\",\"Normal day\",\"Normal day\",\"Normal day\",\"Normal day\",\"Normal day\",\"Normal day\",\"Normal day\",\"Normal day\",\"Normal day\",\"Normal day\",\"Normal day\",\"Normal day\",\"Normal day\",\"Normal day\",\"Holiday\",\"Normal day\",\"Normal day\",\"Holiday\",\"Normal day\",\"Normal day\",\"Normal day\",\"Normal day\",\"Normal day\",\"Normal day\",\"Normal day\",\"Normal day\",\"Normal day\",\"Normal day\",\"Normal day\",\"Normal day\",\"Normal day\",\"Normal day\",\"Normal day\",\"Holiday\",\"Normal day\",\"Normal day\",\"Normal day\",\"Normal day\",\"Normal day\",\"Holiday\",\"Normal day\",\"Normal day\",\"Normal day\",\"Normal day\",\"Normal day\",\"Normal day\",\"Normal day\",\"Normal day\",\"Normal day\",\"Normal day\",\"Normal day\",\"Normal day\",\"Normal day\",\"Normal day\",\"Normal day\",\"Normal day\",\"Normal day\",\"Normal day\",\"Holiday\",\"Holiday\",\"Normal day\",\"Holiday\",\"Holiday\",\"Normal day\",\"Normal day\",\"Holiday\",\"Normal day\",\"Normal day\",\"Normal day\",\"Normal day\",\"Normal day\",\"Normal day\",\"Normal day\",\"Normal day\",\"Normal day\",\"Normal day\",\"Normal day\",\"Normal day\",\"Normal day\",\"Normal day\",\"Normal day\",\"Normal day\",\"Normal day\",\"Normal day\",\"Holiday\",\"Normal day\",\"Normal day\",\"Normal day\",\"Normal day\",\"Normal day\",\"Normal day\",\"Normal day\",\"Normal day\",\"Normal day\",\"Normal day\",\"Normal day\",\"Normal day\",\"Holiday\",\"Normal day\",\"Normal day\",\"Normal day\",\"Normal day\",\"Normal day\",\"Normal day\",\"Normal day\",\"Normal day\",\"Normal day\",\"Normal day\",\"Normal day\",\"Normal day\",\"Normal day\",\"Normal day\",\"Normal day\",\"Normal day\",\"Normal day\",\"Normal day\",\"Normal day\",\"Normal day\",\"Normal day\",\"Normal day\",\"Normal day\",\"Normal day\",\"Normal day\",\"Normal day\",\"Normal day\",\"Normal day\",\"Normal day\",\"Normal day\",\"Normal day\",\"Holiday\",\"Normal day\",\"Normal day\",\"Normal day\",\"Normal day\",\"Normal day\",\"Normal day\",\"Normal day\",\"Normal day\",\"Normal day\",\"Normal day\",\"Normal day\",\"Normal day\",\"Holiday\",\"Normal day\",\"Normal day\",\"Normal day\",\"Normal day\",\"Normal day\",\"Normal day\",\"Normal day\",\"Normal day\",\"Normal day\",\"Normal day\",\"Normal day\",\"Normal day\",\"Normal day\",\"Normal day\",\"Normal day\",\"Normal day\",\"Normal day\",\"Normal day\",\"Normal day\",\"Holiday\",\"Normal day\",\"Normal day\",\"Normal day\",\"Normal day\",\"Normal day\",\"Normal day\",\"Normal day\",\"Normal day\",\"Holiday\",\"Normal day\",\"Normal day\",\"Normal day\",\"Normal day\",\"Holiday\",\"Normal day\",\"Normal day\",\"Normal day\",\"Normal day\",\"Normal day\",\"Normal day\",\"Normal day\",\"Normal day\",\"Normal day\",\"Normal day\",\"Normal day\",\"Normal day\",\"Normal day\",\"Normal day\",\"Normal day\",\"Normal day\",\"Normal day\",\"Normal day\",\"Normal day\",\"Normal day\",\"Normal day\",\"Normal day\",\"Normal day\",\"Normal day\",\"Normal day\",\"Normal day\",\"Normal day\",\"Normal day\",\"Normal day\",\"Normal day\",\"Normal day\",\"Normal day\",\"Normal day\",\"Normal day\",\"Normal day\",\"Normal day\",\"Normal day\",\"Normal day\",\"Normal day\",\"Normal day\",\"Holiday\",\"Normal day\",\"Normal day\",\"Normal day\",\"Normal day\",\"Normal day\",\"Normal day\",\"Normal day\",\"Normal day\",\"Normal day\",\"Normal day\",\"Normal day\",\"Normal day\",\"Normal day\",\"Normal day\",\"Normal day\",\"Normal day\",\"Normal day\",\"Normal day\",\"Normal day\",\"Normal day\",\"Holiday\",\"Normal day\",\"Normal day\",\"Normal day\",\"Normal day\",\"Normal day\",\"Normal day\",\"Normal day\",\"Holiday\",\"Normal day\",\"Normal day\",\"Normal day\",\"Holiday\",\"Normal day\",\"Normal day\",\"Normal day\",\"Normal day\",\"Normal day\",\"Normal day\",\"Normal day\",\"Normal day\",\"Normal day\",\"Holiday\",\"Normal day\",\"Holiday\",\"Normal day\",\"Normal day\",\"Normal day\",\"Normal day\",\"Normal day\",\"Normal day\",\"Normal day\",\"Normal day\",\"Normal day\",\"Normal day\",\"Normal day\",\"Normal day\",\"Normal day\",\"Normal day\",\"Holiday\",\"Normal day\",\"Normal day\",\"Normal day\",\"Normal day\",\"Normal day\",\"Normal day\",\"Normal day\",\"Normal day\",\"Normal day\",\"Normal day\",\"Normal day\",\"Normal day\",\"Normal day\",\"Normal day\",\"Normal day\",\"Normal day\",\"Normal day\",\"Normal day\",\"Normal day\",\"Normal day\",\"Normal day\",\"Normal day\",\"Normal day\",\"Normal day\",\"Holiday\",\"Normal day\",\"Normal day\",\"Normal day\",\"Normal day\",\"Normal day\",\"Normal day\",\"Normal day\",\"Normal day\",\"Normal day\",\"Normal day\",\"Normal day\",\"Normal day\",\"Normal day\",\"Normal day\",\"Normal day\",\"Normal day\",\"Normal day\",\"Normal day\",\"Normal day\",\"Normal day\",\"Normal day\",\"Normal day\",\"Normal day\",\"Normal day\",\"Normal day\",\"Normal day\",\"Normal day\",\"Normal day\",\"Normal day\",\"Normal day\",\"Normal day\",\"Normal day\",\"Normal day\",\"Normal day\",\"Normal day\",\"Normal day\",\"Normal day\",\"Normal day\",\"Normal day\",\"Normal day\",\"Normal day\",\"Normal day\",\"Normal day\",\"Normal day\",\"Normal day\",\"Normal day\",\"Normal day\",\"Holiday\",\"Normal day\",\"Normal day\",\"Holiday\",\"Normal day\",\"Normal day\",\"Normal day\",\"Normal day\",\"Normal day\",\"Normal day\",\"Normal day\",\"Normal day\",\"Normal day\",\"Normal day\",\"Normal day\",\"Normal day\",\"Normal day\",\"Normal day\",\"Normal day\",\"Holiday\",\"Normal day\",\"Normal day\",\"Normal day\",\"Normal day\",\"Normal day\",\"Normal day\",\"Normal day\",\"Normal day\",\"Normal day\",\"Normal day\",\"Normal day\",\"Normal day\",\"Normal day\",\"Normal day\",\"Holiday\",\"Normal day\",\"Holiday\",\"Normal day\",\"Holiday\",\"Normal day\",\"Normal day\",\"Normal day\",\"Normal day\",\"Normal day\",\"Normal day\",\"Normal day\",\"Normal day\",\"Normal day\",\"Normal day\",\"Normal day\",\"Normal day\",\"Holiday\",\"Normal day\",\"Normal day\",\"Normal day\",\"Normal day\",\"Normal day\",\"Normal day\",\"Normal day\",\"Normal day\",\"Normal day\",\"Normal day\",\"Normal day\",\"Normal day\",\"Normal day\",\"Normal day\",\"Normal day\",\"Normal day\",\"Normal day\",\"Normal day\",\"Normal day\",\"Holiday\",\"Normal day\",\"Normal day\",\"Normal day\",\"Normal day\",\"Normal day\",\"Normal day\",\"Normal day\",\"Normal day\",\"Normal day\",\"Normal day\",\"Normal day\",\"Normal day\",\"Normal day\",\"Normal day\",\"Normal day\",\"Normal day\",\"Holiday\",\"Holiday\",\"Normal day\",\"Normal day\",\"Normal day\",\"Normal day\",\"Normal day\",\"Normal day\",\"Normal day\",\"Normal day\",\"Normal day\",\"Normal day\",\"Normal day\",\"Holiday\",\"Normal day\",\"Normal day\",\"Normal day\",\"Normal day\",\"Normal day\",\"Normal day\",\"Normal day\",\"Normal day\",\"Normal day\",\"Holiday\",\"Normal day\",\"Normal day\",\"Normal day\",\"Normal day\",\"Normal day\",\"Normal day\",\"Normal day\",\"Normal day\",\"Normal day\",\"Normal day\",\"Normal day\",\"Normal day\",\"Normal day\",\"Normal day\",\"Normal day\",\"Holiday\",\"Normal day\",\"Normal day\",\"Holiday\",\"Normal day\",\"Normal day\",\"Normal day\",\"Normal day\",\"Normal day\",\"Normal day\",\"Normal day\",\"Normal day\",\"Normal day\",\"Normal day\",\"Normal day\",\"Normal day\",\"Normal day\",\"Normal day\",\"Normal day\",\"Normal day\",\"Normal day\",\"Normal day\",\"Holiday\",\"Normal day\",\"Normal day\",\"Normal day\",\"Holiday\",\"Normal day\",\"Normal day\",\"Normal day\",\"Normal day\",\"Normal day\",\"Normal day\",\"Normal day\",\"Normal day\",\"Normal day\",\"Normal day\",\"Normal day\",\"Holiday\",\"Normal day\",\"Normal day\",\"Holiday\",\"Normal day\",\"Normal day\",\"Normal day\",\"Normal day\",\"Normal day\",\"Normal day\",\"Normal day\",\"Normal day\",\"Normal day\",\"Normal day\",\"Holiday\",\"Normal day\",\"Normal day\",\"Normal day\",\"Holiday\",\"Normal day\",\"Normal day\",\"Normal day\",\"Normal day\",\"Normal day\",\"Normal day\",\"Normal day\",\"Normal day\",\"Holiday\",\"Normal day\",\"Normal day\",\"Holiday\",\"Normal day\",\"Normal day\",\"Normal day\",\"Normal day\",\"Normal day\",\"Normal day\",\"Normal day\",\"Normal day\",\"Normal day\",\"Holiday\",\"Normal day\",\"Holiday\",\"Normal day\",\"Normal day\",\"Normal day\",\"Normal day\",\"Normal day\",\"Normal day\",\"Normal day\",\"Normal day\",\"Normal day\",\"Holiday\",\"Normal day\",\"Normal day\",\"Normal day\",\"Normal day\",\"Normal day\",\"Normal day\",\"Normal day\",\"Normal day\",\"Normal day\",\"Normal day\",\"Normal day\",\"Normal day\",\"Normal day\",\"Normal day\",\"Normal day\",\"Normal day\",\"Normal day\",\"Normal day\",\"Normal day\",\"Normal day\",\"Normal day\",\"Holiday\",\"Normal day\",\"Holiday\",\"Normal day\",\"Normal day\",\"Normal day\",\"Normal day\",\"Normal day\",\"Normal day\",\"Normal day\",\"Normal day\",\"Normal day\",\"Normal day\",\"Normal day\",\"Normal day\",\"Normal day\",\"Holiday\",\"Normal day\",\"Normal day\",\"Holiday\",\"Normal day\",\"Normal day\",\"Holiday\",\"Normal day\",\"Normal day\",\"Normal day\",\"Normal day\",\"Normal day\",\"Normal day\",\"Normal day\",\"Normal day\",\"Normal day\",\"Normal day\",\"Normal day\",\"Holiday\",\"Normal day\",\"Normal day\",\"Normal day\",\"Normal day\",\"Normal day\",\"Normal day\",\"Normal day\",\"Normal day\",\"Normal day\",\"Normal day\",\"Normal day\",\"Normal day\",\"Normal day\",\"Normal day\",\"Normal day\",\"Normal day\",\"Normal day\",\"Normal day\",\"Normal day\",\"Normal day\",\"Holiday\",\"Normal day\",\"Normal day\",\"Normal day\",\"Normal day\",\"Normal day\",\"Normal day\",\"Normal day\",\"Normal day\",\"Normal day\",\"Normal day\",\"Normal day\",\"Normal day\",\"Normal day\",\"Normal day\",\"Normal day\",\"Normal day\",\"Normal day\",\"Holiday\",\"Normal day\",\"Normal day\",\"Normal day\",\"Normal day\",\"Normal day\",\"Normal day\",\"Normal day\",\"Normal day\",\"Normal day\",\"Normal day\",\"Holiday\",\"Normal day\",\"Normal day\",\"Normal day\",\"Normal day\",\"Normal day\",\"Normal day\",\"Normal day\",\"Normal day\",\"Normal day\",\"Normal day\",\"Normal day\",\"Normal day\",\"Normal day\",\"Normal day\",\"Normal day\",\"Normal day\",\"Normal day\",\"Normal day\",\"Normal day\",\"Normal day\",\"Normal day\",\"Normal day\",\"Normal day\",\"Normal day\",\"Normal day\",\"Normal day\",\"Normal day\",\"Normal day\",\"Normal day\",\"Normal day\",\"Normal day\",\"Normal day\",\"Normal day\",\"Normal day\",\"Normal day\",\"Normal day\",\"Normal day\",\"Normal day\",\"Normal day\",\"Normal day\",\"Normal day\",\"Normal day\",\"Normal day\",\"Normal day\",\"Normal day\",\"Normal day\",\"Normal day\",\"Normal day\",\"Normal day\",\"Normal day\",\"Normal day\",\"Normal day\",\"Normal day\",\"Normal day\",\"Normal day\",\"Normal day\",\"Holiday\",\"Normal day\",\"Normal day\",\"Normal day\",\"Normal day\",\"Normal day\",\"Normal day\",\"Normal day\",\"Normal day\",\"Normal day\",\"Normal day\",\"Normal day\",\"Normal day\",\"Normal day\",\"Normal day\",\"Normal day\",\"Normal day\",\"Normal day\",\"Normal day\",\"Normal day\",\"Normal day\",\"Normal day\",\"Normal day\",\"Normal day\",\"Normal day\",\"Normal day\",\"Normal day\",\"Normal day\",\"Normal day\",\"Normal day\",\"Normal day\",\"Normal day\",\"Normal day\",\"Normal day\",\"Normal day\",\"Normal day\",\"Normal day\",\"Holiday\",\"Normal day\",\"Normal day\",\"Normal day\",\"Normal day\",\"Normal day\",\"Normal day\",\"Normal day\",\"Normal day\",\"Normal day\",\"Normal day\",\"Normal day\",\"Normal day\",\"Normal day\",\"Normal day\",\"Normal day\",\"Normal day\",\"Normal day\",\"Normal day\",\"Normal day\",\"Normal day\",\"Normal day\",\"Normal day\",\"Normal day\",\"Normal day\",\"Normal day\",\"Normal day\",\"Normal day\",\"Normal day\",\"Normal day\",\"Normal day\",\"Holiday\",\"Normal day\",\"Normal day\",\"Normal day\",\"Normal day\",\"Normal day\",\"Normal day\",\"Normal day\",\"Holiday\",\"Normal day\",\"Normal day\",\"Normal day\",\"Normal day\",\"Normal day\",\"Normal day\",\"Normal day\",\"Normal day\",\"Normal day\",\"Normal day\",\"Normal day\",\"Holiday\",\"Normal day\",\"Normal day\",\"Normal day\",\"Normal day\",\"Normal day\",\"Normal day\",\"Normal day\",\"Normal day\",\"Normal day\",\"Normal day\",\"Normal day\",\"Holiday\",\"Normal day\",\"Normal day\",\"Normal day\",\"Normal day\",\"Holiday\",\"Normal day\",\"Normal day\",\"Normal day\",\"Normal day\",\"Normal day\",\"Normal day\",\"Normal day\",\"Normal day\",\"Normal day\",\"Normal day\",\"Normal day\",\"Normal day\",\"Normal day\",\"Normal day\",\"Normal day\",\"Normal day\",\"Normal day\",\"Normal day\",\"Normal day\",\"Normal day\",\"Normal day\",\"Normal day\",\"Normal day\",\"Normal day\",\"Normal day\",\"Normal day\",\"Normal day\",\"Holiday\",\"Normal day\",\"Normal day\",\"Normal day\",\"Holiday\",\"Normal day\",\"Normal day\",\"Normal day\",\"Normal day\",\"Normal day\",\"Normal day\",\"Normal day\",\"Normal day\",\"Normal day\",\"Normal day\",\"Normal day\",\"Normal day\",\"Normal day\",\"Normal day\",\"Normal day\",\"Normal day\",\"Normal day\",\"Holiday\",\"Normal day\",\"Normal day\",\"Normal day\",\"Normal day\",\"Normal day\",\"Normal day\",\"Normal day\",\"Normal day\",\"Normal day\",\"Normal day\",\"Normal day\",\"Holiday\",\"Normal day\",\"Normal day\",\"Normal day\",\"Normal day\",\"Normal day\",\"Normal day\",\"Normal day\",\"Normal day\",\"Normal day\",\"Normal day\",\"Normal day\",\"Normal day\",\"Normal day\",\"Normal day\",\"Normal day\",\"Holiday\",\"Normal day\",\"Normal day\",\"Normal day\",\"Normal day\",\"Normal day\",\"Normal day\",\"Normal day\",\"Normal day\",\"Normal day\",\"Normal day\",\"Normal day\",\"Normal day\",\"Normal day\",\"Normal day\",\"Normal day\",\"Normal day\",\"Normal day\",\"Normal day\",\"Normal day\",\"Normal day\",\"Normal day\",\"Normal day\",\"Normal day\",\"Normal day\",\"Normal day\",\"Normal day\",\"Normal day\",\"Normal day\",\"Holiday\",\"Normal day\",\"Normal day\",\"Normal day\",\"Normal day\",\"Normal day\",\"Normal day\",\"Normal day\",\"Normal day\",\"Normal day\",\"Normal day\",\"Normal day\",\"Normal day\",\"Normal day\",\"Normal day\",\"Holiday\",\"Normal day\",\"Normal day\",\"Normal day\",\"Normal day\",\"Normal day\",\"Normal day\",\"Holiday\",\"Normal day\",\"Normal day\",\"Normal day\",\"Normal day\",\"Normal day\",\"Normal day\",\"Normal day\",\"Normal day\",\"Normal day\",\"Normal day\",\"Normal day\",\"Normal day\",\"Normal day\",\"Normal day\",\"Normal day\",\"Normal day\",\"Normal day\",\"Normal day\",\"Normal day\",\"Normal day\",\"Normal day\",\"Normal day\",\"Normal day\",\"Normal day\",\"Normal day\",\"Normal day\",\"Normal day\",\"Normal day\",\"Normal day\",\"Normal day\",\"Normal day\",\"Normal day\",\"Normal day\",\"Normal day\",\"Normal day\",\"Normal day\",\"Normal day\",\"Normal day\",\"Normal day\",\"Normal day\",\"Normal day\",\"Normal day\",\"Normal day\",\"Normal day\",\"Normal day\",\"Normal day\",\"Normal day\",\"Normal day\",\"Normal day\",\"Normal day\",\"Normal day\",\"Normal day\",\"Normal day\",\"Normal day\",\"Normal day\",\"Normal day\",\"Normal day\",\"Normal day\",\"Normal day\",\"Normal day\",\"Normal day\",\"Normal day\",\"Normal day\",\"Normal day\",\"Normal day\",\"Normal day\",\"Normal day\",\"Normal day\",\"Normal day\",\"Normal day\",\"Normal day\",\"Normal day\",\"Normal day\",\"Normal day\",\"Normal day\",\"Normal day\",\"Holiday\",\"Holiday\",\"Normal day\",\"Normal day\",\"Normal day\",\"Normal day\",\"Normal day\",\"Normal day\",\"Normal day\",\"Normal day\",\"Normal day\",\"Normal day\",\"Normal day\",\"Normal day\",\"Normal day\",\"Normal day\",\"Normal day\",\"Normal day\",\"Normal day\",\"Normal day\",\"Normal day\",\"Normal day\",\"Normal day\",\"Normal day\",\"Normal day\",\"Normal day\",\"Normal day\",\"Normal day\",\"Normal day\",\"Holiday\",\"Normal day\",\"Normal day\",\"Normal day\",\"Normal day\",\"Normal day\",\"Normal day\",\"Normal day\",\"Normal day\",\"Normal day\",\"Normal day\",\"Normal day\",\"Normal day\",\"Normal day\",\"Normal day\",\"Normal day\",\"Normal day\",\"Normal day\",\"Normal day\",\"Normal day\",\"Normal day\",\"Normal day\",\"Normal day\",\"Normal day\",\"Normal day\",\"Normal day\",\"Normal day\",\"Normal day\",\"Normal day\",\"Normal day\",\"Normal day\",\"Normal day\",\"Normal day\",\"Normal day\",\"Normal day\",\"Normal day\",\"Normal day\",\"Holiday\",\"Normal day\",\"Normal day\",\"Normal day\",\"Normal day\",\"Normal day\",\"Normal day\",\"Normal day\",\"Normal day\",\"Normal day\",\"Normal day\",\"Normal day\",\"Normal day\",\"Normal day\",\"Normal day\",\"Normal day\",\"Normal day\",\"Normal day\",\"Normal day\",\"Normal day\",\"Normal day\",\"Normal day\",\"Normal day\",\"Normal day\",\"Normal day\",\"Normal day\",\"Holiday\",\"Normal day\",\"Normal day\",\"Normal day\",\"Normal day\",\"Normal day\",\"Normal day\",\"Normal day\",\"Normal day\",\"Normal day\",\"Normal day\",\"Normal day\",\"Normal day\",\"Normal day\",\"Normal day\",\"Normal day\",\"Normal day\",\"Holiday\",\"Normal day\",\"Holiday\",\"Normal day\",\"Holiday\",\"Normal day\",\"Normal day\",\"Holiday\",\"Normal day\",\"Normal day\",\"Normal day\",\"Normal day\",\"Normal day\",\"Normal day\",\"Normal day\",\"Normal day\",\"Normal day\",\"Normal day\",\"Normal day\",\"Normal day\",\"Normal day\",\"Normal day\",\"Normal day\",\"Normal day\",\"Normal day\",\"Normal day\",\"Normal day\",\"Normal day\",\"Normal day\",\"Normal day\",\"Holiday\",\"Normal day\",\"Normal day\",\"Normal day\",\"Normal day\",\"Normal day\",\"Normal day\",\"Normal day\",\"Normal day\",\"Normal day\",\"Holiday\",\"Normal day\",\"Normal day\",\"Normal day\",\"Normal day\",\"Normal day\",\"Normal day\",\"Normal day\",\"Normal day\",\"Normal day\",\"Normal day\",\"Normal day\",\"Normal day\",\"Normal day\",\"Normal day\",\"Normal day\",\"Normal day\",\"Normal day\",\"Normal day\",\"Holiday\",\"Holiday\",\"Normal day\",\"Normal day\",\"Normal day\",\"Normal day\",\"Normal day\",\"Normal day\",\"Normal day\",\"Normal day\",\"Normal day\",\"Normal day\",\"Normal day\",\"Normal day\",\"Normal day\",\"Normal day\",\"Holiday\",\"Normal day\",\"Normal day\",\"Normal day\",\"Normal day\",\"Normal day\",\"Normal day\",\"Normal day\",\"Normal day\",\"Normal day\",\"Normal day\",\"Holiday\",\"Normal day\",\"Normal day\",\"Normal day\",\"Normal day\",\"Normal day\",\"Normal day\",\"Normal day\",\"Normal day\",\"Normal day\",\"Normal day\",\"Normal day\",\"Normal day\",\"Normal day\",\"Normal day\",\"Normal day\",\"Holiday\",\"Normal day\",\"Normal day\",\"Normal day\",\"Normal day\",\"Normal day\",\"Normal day\",\"Normal day\",\"Holiday\",\"Normal day\",\"Normal day\",\"Normal day\",\"Normal day\",\"Normal day\",\"Normal day\",\"Normal day\",\"Normal day\",\"Normal day\",\"Normal day\",\"Normal day\",\"Normal day\",\"Normal day\",\"Normal day\",\"Normal day\",\"Holiday\",\"Normal day\",\"Normal day\",\"Normal day\",\"Normal day\",\"Normal day\",\"Normal day\",\"Normal day\",\"Normal day\",\"Normal day\",\"Normal day\",\"Normal day\",\"Normal day\",\"Normal day\",\"Normal day\",\"Normal day\",\"Normal day\",\"Normal day\",\"Normal day\",\"Normal day\",\"Normal day\",\"Normal day\",\"Normal day\",\"Normal day\",\"Normal day\",\"Normal day\",\"Normal day\",\"Normal day\",\"Normal day\",\"Normal day\",\"Normal day\",\"Normal day\",\"Normal day\",\"Normal day\",\"Normal day\",\"Normal day\",\"Normal day\",\"Normal day\",\"Normal day\",\"Normal day\",\"Normal day\",\"Normal day\",\"Holiday\",\"Normal day\",\"Normal day\",\"Normal day\",\"Normal day\",\"Normal day\",\"Normal day\",\"Normal day\",\"Normal day\",\"Normal day\",\"Normal day\",\"Normal day\",\"Normal day\",\"Normal day\",\"Normal day\",\"Normal day\",\"Normal day\",\"Normal day\",\"Normal day\",\"Holiday\",\"Normal day\",\"Normal day\",\"Normal day\",\"Normal day\",\"Normal day\",\"Normal day\",\"Normal day\",\"Normal day\",\"Normal day\",\"Normal day\",\"Normal day\",\"Normal day\",\"Normal day\",\"Normal day\",\"Normal day\",\"Normal day\",\"Normal day\",\"Normal day\",\"Holiday\",\"Normal day\",\"Normal day\",\"Normal day\",\"Normal day\",\"Normal day\",\"Normal day\",\"Holiday\",\"Normal day\",\"Normal day\",\"Normal day\",\"Normal day\",\"Normal day\",\"Normal day\",\"Normal day\",\"Normal day\",\"Normal day\",\"Normal day\",\"Normal day\",\"Normal day\",\"Normal day\",\"Normal day\",\"Normal day\",\"Normal day\",\"Normal day\",\"Normal day\",\"Normal day\",\"Normal day\",\"Normal day\",\"Normal day\",\"Normal day\",\"Normal day\",\"Normal day\",\"Normal day\",\"Normal day\",\"Normal day\",\"Normal day\",\"Normal day\",\"Normal day\",\"Normal day\",\"Normal day\",\"Holiday\",\"Normal day\",\"Normal day\",\"Normal day\",\"Normal day\",\"Normal day\",\"Normal day\",\"Normal day\",\"Normal day\",\"Normal day\",\"Normal day\",\"Normal day\",\"Holiday\",\"Normal day\",\"Normal day\",\"Normal day\",\"Normal day\",\"Normal day\",\"Normal day\",\"Normal day\",\"Normal day\",\"Normal day\",\"Normal day\",\"Normal day\",\"Normal day\",\"Normal day\",\"Normal day\",\"Normal day\",\"Normal day\",\"Normal day\",\"Normal day\",\"Normal day\",\"Normal day\",\"Holiday\",\"Normal day\",\"Normal day\",\"Normal day\",\"Normal day\",\"Normal day\",\"Normal day\",\"Normal day\",\"Normal day\",\"Normal day\",\"Normal day\",\"Normal day\",\"Normal day\",\"Normal day\",\"Normal day\",\"Normal day\",\"Holiday\",\"Normal day\",\"Normal day\",\"Normal day\",\"Normal day\",\"Normal day\",\"Normal day\",\"Normal day\",\"Normal day\",\"Normal day\",\"Holiday\",\"Normal day\",\"Normal day\",\"Normal day\",\"Normal day\",\"Normal day\",\"Normal day\",\"Normal day\",\"Normal day\",\"Normal day\",\"Normal day\",\"Normal day\",\"Normal day\",\"Normal day\",\"Normal day\",\"Normal day\",\"Normal day\",\"Normal day\",\"Normal day\",\"Normal day\",\"Holiday\",\"Normal day\",\"Normal day\",\"Normal day\",\"Normal day\",\"Normal day\",\"Normal day\",\"Normal day\",\"Normal day\",\"Normal day\",\"Normal day\",\"Normal day\",\"Normal day\",\"Normal day\",\"Normal day\",\"Holiday\",\"Normal day\",\"Normal day\",\"Normal day\",\"Normal day\",\"Normal day\",\"Normal day\",\"Normal day\",\"Normal day\",\"Normal day\",\"Normal day\",\"Normal day\",\"Normal day\",\"Normal day\",\"Normal day\",\"Normal day\",\"Normal day\",\"Normal day\",\"Normal day\",\"Normal day\",\"Normal day\",\"Normal day\",\"Normal day\",\"Normal day\",\"Normal day\",\"Normal day\",\"Normal day\",\"Normal day\",\"Normal day\",\"Normal day\",\"Holiday\",\"Normal day\",\"Normal day\",\"Normal day\",\"Normal day\",\"Normal day\",\"Normal day\",\"Normal day\",\"Normal day\",\"Normal day\",\"Normal day\",\"Normal day\",\"Normal day\",\"Normal day\",\"Normal day\",\"Normal day\",\"Normal day\",\"Normal day\",\"Normal day\",\"Holiday\",\"Holiday\",\"Normal day\",\"Normal day\",\"Holiday\",\"Normal day\",\"Normal day\",\"Normal day\",\"Normal day\",\"Normal day\",\"Holiday\",\"Normal day\",\"Normal day\",\"Normal day\",\"Normal day\",\"Normal day\",\"Normal day\",\"Normal day\",\"Normal day\",\"Normal day\",\"Normal day\",\"Normal day\",\"Normal day\",\"Normal day\",\"Normal day\",\"Normal day\",\"Normal day\",\"Holiday\",\"Normal day\",\"Normal day\",\"Normal day\",\"Normal day\",\"Normal day\",\"Normal day\",\"Normal day\",\"Normal day\",\"Normal day\",\"Normal day\",\"Normal day\",\"Normal day\",\"Normal day\",\"Normal day\",\"Normal day\",\"Normal day\",\"Normal day\",\"Normal day\",\"Normal day\",\"Normal day\",\"Normal day\",\"Normal day\",\"Normal day\",\"Normal day\",\"Normal day\",\"Normal day\",\"Normal day\",\"Normal day\",\"Normal day\",\"Normal day\",\"Normal day\",\"Normal day\",\"Normal day\",\"Normal day\",\"Holiday\",\"Normal day\",\"Normal day\",\"Normal day\",\"Normal day\",\"Normal day\",\"Normal day\",\"Normal day\",\"Normal day\",\"Normal day\",\"Normal day\",\"Normal day\",\"Normal day\",\"Normal day\",\"Normal day\",\"Normal day\",\"Holiday\",\"Normal day\",\"Normal day\",\"Normal day\",\"Normal day\",\"Normal day\",\"Normal day\",\"Holiday\",\"Normal day\",\"Normal day\",\"Normal day\",\"Holiday\",\"Normal day\",\"Holiday\",\"Normal day\",\"Normal day\",\"Normal day\",\"Normal day\",\"Normal day\",\"Normal day\",\"Normal day\",\"Normal day\",\"Normal day\",\"Holiday\",\"Normal day\",\"Normal day\",\"Normal day\",\"Normal day\",\"Normal day\",\"Normal day\",\"Holiday\",\"Normal day\",\"Normal day\",\"Normal day\",\"Normal day\",\"Normal day\",\"Normal day\",\"Normal day\",\"Normal day\",\"Normal day\",\"Normal day\",\"Normal day\",\"Holiday\",\"Normal day\",\"Normal day\",\"Normal day\",\"Normal day\",\"Normal day\",\"Normal day\",\"Normal day\",\"Normal day\",\"Normal day\",\"Normal day\",\"Normal day\",\"Normal day\",\"Normal day\",\"Normal day\",\"Normal day\",\"Normal day\",\"Normal day\",\"Normal day\",\"Normal day\",\"Normal day\",\"Normal day\",\"Normal day\",\"Normal day\",\"Normal day\",\"Normal day\",\"Normal day\",\"Normal day\",\"Normal day\",\"Normal day\",\"Normal day\",\"Normal day\",\"Normal day\",\"Normal day\",\"Normal day\",\"Normal day\",\"Normal day\",\"Normal day\",\"Normal day\",\"Normal day\",\"Normal day\",\"Holiday\",\"Normal day\",\"Normal day\",\"Normal day\",\"Holiday\",\"Normal day\",\"Holiday\",\"Normal day\",\"Normal day\",\"Normal day\",\"Normal day\",\"Normal day\",\"Normal day\",\"Normal day\",\"Normal day\",\"Normal day\",\"Normal day\",\"Normal day\",\"Normal day\",\"Normal day\",\"Normal day\",\"Normal day\",\"Normal day\",\"Normal day\",\"Normal day\",\"Normal day\",\"Normal day\",\"Normal day\",\"Normal day\",\"Holiday\",\"Normal day\",\"Normal day\",\"Normal day\",\"Normal day\",\"Normal day\",\"Normal day\",\"Normal day\",\"Normal day\",\"Normal day\",\"Normal day\",\"Normal day\",\"Normal day\",\"Normal day\",\"Normal day\",\"Normal day\",\"Normal day\",\"Normal day\",\"Normal day\",\"Normal day\",\"Normal day\",\"Normal day\",\"Normal day\",\"Normal day\",\"Normal day\",\"Holiday\",\"Normal day\",\"Normal day\",\"Normal day\",\"Normal day\",\"Normal day\",\"Normal day\",\"Normal day\",\"Normal day\",\"Normal day\",\"Normal day\",\"Normal day\",\"Normal day\",\"Normal day\",\"Normal day\",\"Normal day\",\"Normal day\",\"Normal day\",\"Normal day\",\"Normal day\",\"Normal day\",\"Normal day\",\"Normal day\",\"Normal day\",\"Normal day\",\"Normal day\",\"Holiday\",\"Normal day\",\"Normal day\",\"Normal day\",\"Normal day\",\"Normal day\",\"Normal day\",\"Normal day\",\"Normal day\",\"Normal day\",\"Normal day\",\"Normal day\",\"Normal day\",\"Normal day\",\"Normal day\",\"Normal day\",\"Normal day\",\"Normal day\",\"Normal day\",\"Normal day\",\"Normal day\",\"Normal day\",\"Normal day\",\"Normal day\",\"Normal day\",\"Normal day\",\"Normal day\",\"Normal day\",\"Normal day\",\"Normal day\",\"Normal day\",\"Normal day\",\"Holiday\",\"Normal day\",\"Holiday\",\"Normal day\",\"Normal day\",\"Normal day\",\"Holiday\",\"Normal day\",\"Normal day\",\"Normal day\",\"Normal day\",\"Normal day\",\"Normal day\",\"Normal day\",\"Normal day\",\"Normal day\",\"Normal day\",\"Normal day\",\"Normal day\",\"Normal day\",\"Normal day\",\"Normal day\",\"Normal day\",\"Normal day\",\"Normal day\",\"Normal day\",\"Normal day\",\"Normal day\",\"Normal day\",\"Normal day\",\"Normal day\",\"Normal day\",\"Holiday\",\"Normal day\",\"Normal day\",\"Holiday\",\"Normal day\",\"Normal day\",\"Normal day\",\"Normal day\",\"Normal day\",\"Normal day\",\"Normal day\",\"Normal day\",\"Holiday\",\"Normal day\",\"Normal day\",\"Normal day\",\"Normal day\",\"Normal day\",\"Normal day\",\"Normal day\",\"Normal day\",\"Normal day\",\"Holiday\",\"Normal day\",\"Normal day\",\"Normal day\",\"Holiday\",\"Normal day\",\"Normal day\",\"Normal day\",\"Holiday\",\"Normal day\",\"Normal day\",\"Normal day\",\"Normal day\",\"Normal day\",\"Normal day\",\"Normal day\",\"Normal day\",\"Normal day\",\"Normal day\",\"Normal day\",\"Normal day\",\"Normal day\",\"Normal day\",\"Normal day\",\"Normal day\",\"Normal day\",\"Normal day\",\"Normal day\",\"Normal day\",\"Normal day\",\"Normal day\",\"Normal day\",\"Normal day\",\"Normal day\",\"Normal day\",\"Normal day\",\"Normal day\",\"Normal day\",\"Normal day\",\"Normal day\",\"Normal day\",\"Normal day\",\"Normal day\",\"Normal day\",\"Normal day\",\"Normal day\",\"Normal day\",\"Normal day\",\"Normal day\",\"Normal day\",\"Normal day\",\"Normal day\",\"Normal day\",\"Normal day\",\"Normal day\",\"Normal day\",\"Normal day\",\"Normal day\",\"Normal day\",\"Holiday\",\"Normal day\",\"Normal day\",\"Normal day\",\"Normal day\",\"Normal day\",\"Normal day\",\"Normal day\",\"Normal day\",\"Holiday\",\"Normal day\",\"Normal day\",\"Normal day\",\"Normal day\",\"Normal day\",\"Normal day\",\"Normal day\",\"Normal day\",\"Normal day\",\"Normal day\",\"Normal day\",\"Normal day\",\"Normal day\",\"Normal day\",\"Normal day\",\"Normal day\",\"Normal day\",\"Normal day\",\"Normal day\",\"Normal day\",\"Normal day\",\"Normal day\",\"Normal day\",\"Normal day\",\"Normal day\",\"Normal day\",\"Normal day\",\"Normal day\",\"Normal day\",\"Normal day\",\"Normal day\",\"Normal day\",\"Normal day\",\"Normal day\",\"Normal day\",\"Normal day\",\"Normal day\",\"Normal day\",\"Normal day\",\"Normal day\",\"Normal day\",\"Normal day\",\"Normal day\",\"Normal day\",\"Normal day\",\"Normal day\",\"Normal day\",\"Normal day\",\"Normal day\",\"Normal day\",\"Normal day\",\"Normal day\",\"Normal day\",\"Normal day\",\"Normal day\",\"Normal day\",\"Normal day\",\"Normal day\",\"Normal day\",\"Normal day\",\"Normal day\",\"Normal day\",\"Normal day\",\"Normal day\",\"Normal day\",\"Normal day\",\"Normal day\",\"Normal day\",\"Normal day\",\"Normal day\",\"Holiday\",\"Normal day\",\"Normal day\",\"Normal day\",\"Normal day\",\"Normal day\",\"Normal day\",\"Normal day\",\"Normal day\",\"Normal day\",\"Normal day\",\"Normal day\",\"Holiday\",\"Normal day\",\"Normal day\",\"Normal day\",\"Normal day\",\"Normal day\",\"Normal day\",\"Normal day\",\"Normal day\",\"Normal day\",\"Normal day\",\"Holiday\",\"Normal day\",\"Normal day\",\"Normal day\",\"Normal day\",\"Normal day\",\"Normal day\",\"Normal day\",\"Normal day\",\"Normal day\",\"Normal day\",\"Normal day\",\"Holiday\",\"Holiday\",\"Holiday\",\"Normal day\",\"Normal day\",\"Normal day\",\"Normal day\",\"Holiday\",\"Normal day\",\"Normal day\",\"Normal day\",\"Normal day\",\"Normal day\",\"Normal day\",\"Normal day\",\"Normal day\",\"Normal day\",\"Normal day\",\"Normal day\",\"Normal day\",\"Normal day\",\"Normal day\",\"Holiday\",\"Normal day\",\"Normal day\",\"Normal day\",\"Normal day\",\"Normal day\",\"Normal day\",\"Normal day\",\"Normal day\",\"Normal day\",\"Normal day\",\"Normal day\",\"Normal day\",\"Normal day\",\"Normal day\",\"Normal day\",\"Normal day\",\"Normal day\",\"Normal day\",\"Normal day\",\"Normal day\",\"Normal day\",\"Normal day\",\"Normal day\",\"Normal day\",\"Normal day\",\"Normal day\",\"Normal day\",\"Normal day\",\"Normal day\",\"Normal day\",\"Normal day\",\"Normal day\",\"Normal day\",\"Holiday\",\"Normal day\",\"Normal day\",\"Normal day\",\"Holiday\",\"Normal day\",\"Holiday\",\"Normal day\",\"Normal day\",\"Normal day\",\"Normal day\",\"Normal day\",\"Holiday\",\"Normal day\",\"Normal day\",\"Normal day\",\"Normal day\",\"Normal day\",\"Normal day\",\"Normal day\",\"Normal day\",\"Normal day\",\"Normal day\",\"Normal day\",\"Normal day\",\"Normal day\",\"Normal day\",\"Normal day\",\"Normal day\",\"Normal day\",\"Normal day\",\"Normal day\",\"Normal day\",\"Normal day\",\"Holiday\",\"Normal day\",\"Normal day\",\"Normal day\",\"Normal day\",\"Normal day\",\"Normal day\",\"Normal day\",\"Normal day\",\"Normal day\",\"Normal day\",\"Normal day\",\"Holiday\",\"Normal day\",\"Normal day\",\"Normal day\",\"Normal day\",\"Normal day\",\"Normal day\",\"Normal day\",\"Normal day\",\"Normal day\",\"Normal day\",\"Normal day\",\"Normal day\",\"Normal day\",\"Normal day\",\"Normal day\",\"Normal day\",\"Holiday\",\"Normal day\",\"Normal day\",\"Normal day\",\"Normal day\",\"Normal day\",\"Normal day\",\"Normal day\",\"Normal day\",\"Normal day\",\"Normal day\",\"Normal day\",\"Normal day\",\"Normal day\",\"Holiday\",\"Normal day\",\"Normal day\",\"Normal day\",\"Normal day\",\"Normal day\",\"Normal day\",\"Normal day\",\"Normal day\",\"Normal day\",\"Normal day\",\"Normal day\",\"Normal day\",\"Normal day\",\"Normal day\",\"Holiday\",\"Normal day\",\"Normal day\",\"Holiday\",\"Normal day\",\"Normal day\",\"Holiday\",\"Normal day\",\"Normal day\",\"Normal day\",\"Normal day\",\"Normal day\",\"Normal day\",\"Normal day\",\"Normal day\",\"Normal day\",\"Normal day\",\"Normal day\",\"Normal day\",\"Normal day\",\"Normal day\",\"Normal day\",\"Normal day\",\"Normal day\",\"Normal day\",\"Holiday\",\"Normal day\",\"Normal day\",\"Normal day\",\"Normal day\",\"Normal day\",\"Normal day\",\"Normal day\",\"Normal day\",\"Normal day\",\"Normal day\",\"Normal day\",\"Normal day\",\"Normal day\",\"Normal day\",\"Normal day\",\"Normal day\",\"Normal day\",\"Normal day\",\"Normal day\",\"Normal day\",\"Normal day\",\"Normal day\",\"Normal day\",\"Normal day\",\"Normal day\",\"Normal day\",\"Normal day\",\"Normal day\",\"Normal day\",\"Normal day\",\"Normal day\",\"Normal day\",\"Normal day\",\"Normal day\",\"Normal day\",\"Normal day\",\"Normal day\",\"Normal day\",\"Normal day\",\"Normal day\",\"Normal day\",\"Normal day\",\"Normal day\",\"Normal day\",\"Normal day\",\"Normal day\",\"Normal day\",\"Normal day\",\"Normal day\",\"Normal day\",\"Normal day\",\"Normal day\",\"Holiday\",\"Normal day\",\"Normal day\",\"Normal day\",\"Normal day\",\"Normal day\",\"Normal day\",\"Normal day\",\"Normal day\",\"Normal day\",\"Normal day\",\"Holiday\",\"Normal day\",\"Normal day\",\"Normal day\",\"Normal day\",\"Normal day\",\"Holiday\",\"Normal day\",\"Normal day\",\"Normal day\",\"Normal day\",\"Holiday\",\"Normal day\",\"Normal day\",\"Normal day\",\"Normal day\",\"Normal day\",\"Normal day\",\"Normal day\",\"Normal day\",\"Normal day\",\"Normal day\",\"Normal day\",\"Normal day\",\"Normal day\",\"Normal day\",\"Normal day\",\"Normal day\",\"Normal day\",\"Normal day\",\"Normal day\",\"Normal day\",\"Normal day\",\"Normal day\",\"Normal day\",\"Normal day\",\"Normal day\",\"Normal day\",\"Normal day\",\"Normal day\",\"Normal day\",\"Normal day\",\"Normal day\",\"Normal day\",\"Normal day\",\"Normal day\",\"Normal day\",\"Normal day\",\"Normal day\",\"Normal day\",\"Normal day\",\"Normal day\",\"Normal day\",\"Normal day\",\"Holiday\",\"Normal day\",\"Normal day\",\"Holiday\",\"Normal day\",\"Normal day\",\"Normal day\",\"Normal day\",\"Normal day\",\"Normal day\",\"Normal day\",\"Normal day\",\"Holiday\",\"Normal day\",\"Normal day\",\"Normal day\",\"Normal day\",\"Normal day\",\"Normal day\",\"Normal day\",\"Normal day\",\"Normal day\",\"Normal day\",\"Normal day\",\"Normal day\",\"Normal day\",\"Normal day\",\"Holiday\",\"Normal day\",\"Normal day\",\"Normal day\",\"Normal day\",\"Normal day\",\"Normal day\",\"Normal day\",\"Normal day\",\"Normal day\",\"Normal day\",\"Normal day\",\"Holiday\",\"Normal day\",\"Normal day\",\"Normal day\",\"Normal day\",\"Normal day\",\"Normal day\",\"Normal day\",\"Normal day\",\"Normal day\",\"Normal day\",\"Normal day\",\"Normal day\",\"Normal day\",\"Normal day\",\"Normal day\",\"Normal day\",\"Normal day\",\"Normal day\",\"Normal day\",\"Normal day\",\"Normal day\",\"Normal day\",\"Normal day\",\"Normal day\",\"Normal day\",\"Normal day\",\"Normal day\",\"Normal day\",\"Normal day\",\"Normal day\",\"Normal day\",\"Normal day\",\"Normal day\",\"Normal day\",\"Normal day\",\"Normal day\",\"Normal day\",\"Normal day\",\"Normal day\",\"Normal day\",\"Normal day\",\"Normal day\",\"Normal day\",\"Normal day\",\"Normal day\",\"Normal day\",\"Normal day\",\"Normal day\",\"Normal day\",\"Normal day\",\"Normal day\",\"Normal day\",\"Normal day\",\"Normal day\",\"Normal day\",\"Normal day\",\"Normal day\",\"Normal day\",\"Holiday\",\"Normal day\",\"Normal day\",\"Normal day\",\"Normal day\",\"Normal day\",\"Normal day\",\"Normal day\",\"Normal day\",\"Normal day\",\"Normal day\",\"Normal day\",\"Normal day\",\"Normal day\",\"Normal day\",\"Normal day\",\"Normal day\",\"Normal day\",\"Normal day\",\"Normal day\",\"Normal day\",\"Normal day\",\"Normal day\",\"Normal day\",\"Normal day\",\"Normal day\",\"Normal day\",\"Normal day\",\"Normal day\",\"Normal day\",\"Holiday\",\"Normal day\",\"Normal day\",\"Normal day\",\"Holiday\",\"Normal day\",\"Normal day\",\"Holiday\",\"Normal day\",\"Normal day\",\"Normal day\",\"Normal day\",\"Holiday\",\"Normal day\",\"Normal day\",\"Normal day\",\"Holiday\",\"Normal day\",\"Normal day\",\"Normal day\",\"Normal day\",\"Normal day\",\"Normal day\",\"Holiday\",\"Normal day\",\"Normal day\",\"Normal day\",\"Normal day\",\"Holiday\",\"Normal day\",\"Normal day\",\"Normal day\",\"Normal day\",\"Normal day\",\"Normal day\",\"Normal day\",\"Normal day\",\"Normal day\",\"Normal day\",\"Normal day\",\"Normal day\",\"Normal day\",\"Normal day\",\"Normal day\",\"Normal day\",\"Normal day\",\"Normal day\",\"Normal day\",\"Normal day\",\"Normal day\",\"Normal day\",\"Normal day\",\"Holiday\",\"Normal day\",\"Normal day\",\"Normal day\",\"Normal day\",\"Normal day\",\"Normal day\",\"Normal day\",\"Normal day\",\"Normal day\",\"Normal day\",\"Normal day\",\"Normal day\",\"Normal day\",\"Normal day\",\"Normal day\",\"Normal day\",\"Holiday\",\"Normal day\",\"Normal day\",\"Normal day\",\"Normal day\",\"Normal day\",\"Normal day\",\"Holiday\",\"Normal day\",\"Normal day\",\"Normal day\",\"Normal day\",\"Normal day\",\"Normal day\",\"Normal day\",\"Normal day\",\"Normal day\",\"Normal day\",\"Holiday\",\"Normal day\",\"Normal day\",\"Normal day\",\"Normal day\",\"Normal day\",\"Normal day\",\"Normal day\",\"Normal day\",\"Normal day\",\"Normal day\",\"Normal day\",\"Normal day\",\"Normal day\",\"Normal day\",\"Normal day\",\"Normal day\",\"Normal day\",\"Normal day\",\"Normal day\",\"Normal day\",\"Normal day\",\"Normal day\",\"Holiday\",\"Normal day\",\"Normal day\",\"Normal day\",\"Normal day\",\"Normal day\",\"Normal day\",\"Normal day\",\"Normal day\",\"Normal day\",\"Normal day\",\"Normal day\",\"Normal day\",\"Normal day\",\"Normal day\",\"Normal day\",\"Normal day\",\"Holiday\",\"Holiday\",\"Normal day\",\"Normal day\",\"Normal day\",\"Normal day\",\"Normal day\",\"Normal day\",\"Normal day\",\"Normal day\",\"Normal day\",\"Normal day\",\"Normal day\",\"Normal day\",\"Normal day\",\"Normal day\",\"Holiday\",\"Normal day\",\"Normal day\",\"Normal day\",\"Normal day\",\"Normal day\",\"Normal day\",\"Normal day\",\"Normal day\",\"Normal day\",\"Normal day\",\"Normal day\",\"Normal day\",\"Normal day\",\"Normal day\",\"Normal day\",\"Normal day\",\"Normal day\",\"Normal day\",\"Normal day\",\"Normal day\",\"Normal day\",\"Normal day\",\"Normal day\",\"Normal day\",\"Normal day\",\"Normal day\",\"Normal day\",\"Normal day\",\"Normal day\",\"Normal day\",\"Normal day\",\"Normal day\",\"Holiday\",\"Normal day\",\"Normal day\",\"Normal day\",\"Normal day\",\"Normal day\",\"Normal day\",\"Normal day\",\"Normal day\",\"Normal day\",\"Normal day\",\"Normal day\",\"Normal day\",\"Normal day\",\"Normal day\",\"Normal day\",\"Normal day\",\"Holiday\",\"Normal day\",\"Normal day\",\"Normal day\",\"Normal day\",\"Normal day\",\"Normal day\",\"Holiday\",\"Holiday\",\"Normal day\",\"Normal day\",\"Normal day\",\"Normal day\",\"Normal day\",\"Normal day\",\"Normal day\",\"Holiday\",\"Normal day\",\"Normal day\",\"Holiday\",\"Normal day\",\"Normal day\",\"Normal day\",\"Normal day\",\"Normal day\",\"Normal day\",\"Normal day\",\"Normal day\",\"Holiday\",\"Normal day\",\"Normal day\",\"Normal day\",\"Normal day\",\"Normal day\",\"Normal day\",\"Normal day\",\"Normal day\",\"Normal day\",\"Holiday\",\"Normal day\",\"Normal day\",\"Normal day\",\"Normal day\",\"Normal day\",\"Normal day\",\"Normal day\",\"Normal day\",\"Normal day\",\"Normal day\",\"Normal day\",\"Normal day\",\"Normal day\",\"Normal day\",\"Normal day\",\"Normal day\",\"Normal day\",\"Normal day\",\"Normal day\",\"Normal day\",\"Normal day\",\"Normal day\",\"Normal day\",\"Normal day\",\"Normal day\",\"Normal day\",\"Normal day\",\"Normal day\",\"Normal day\",\"Normal day\",\"Normal day\",\"Normal day\",\"Normal day\",\"Normal day\",\"Normal day\",\"Normal day\",\"Normal day\",\"Normal day\",\"Normal day\",\"Normal day\",\"Normal day\",\"Normal day\",\"Normal day\",\"Normal day\",\"Normal day\",\"Normal day\",\"Normal day\",\"Normal day\",\"Normal day\",\"Normal day\",\"Normal day\",\"Normal day\",\"Normal day\",\"Normal day\",\"Normal day\",\"Normal day\",\"Normal day\",\"Normal day\",\"Normal day\",\"Normal day\",\"Normal day\",\"Normal day\",\"Normal day\",\"Normal day\",\"Normal day\",\"Normal day\",\"Normal day\",\"Normal day\",\"Normal day\",\"Normal day\",\"Normal day\",\"Holiday\",\"Normal day\",\"Normal day\",\"Normal day\",\"Normal day\",\"Normal day\",\"Normal day\",\"Normal day\",\"Normal day\",\"Normal day\",\"Normal day\",\"Normal day\",\"Normal day\",\"Normal day\",\"Normal day\",\"Holiday\",\"Normal day\",\"Normal day\",\"Normal day\",\"Normal day\",\"Normal day\",\"Normal day\",\"Normal day\",\"Normal day\",\"Normal day\",\"Normal day\",\"Normal day\",\"Normal day\",\"Holiday\",\"Normal day\",\"Normal day\",\"Normal day\",\"Normal day\",\"Normal day\",\"Normal day\",\"Normal day\",\"Normal day\",\"Normal day\",\"Normal day\",\"Normal day\",\"Normal day\",\"Normal day\",\"Normal day\",\"Holiday\",\"Normal day\",\"Normal day\",\"Normal day\",\"Holiday\",\"Normal day\",\"Normal day\",\"Normal day\",\"Holiday\",\"Normal day\",\"Normal day\",\"Normal day\",\"Normal day\",\"Normal day\",\"Normal day\",\"Normal day\",\"Normal day\",\"Normal day\",\"Normal day\",\"Normal day\",\"Normal day\",\"Normal day\",\"Normal day\",\"Normal day\",\"Normal day\",\"Normal day\",\"Normal day\",\"Normal day\",\"Normal day\",\"Normal day\",\"Normal day\",\"Normal day\",\"Holiday\",\"Normal day\",\"Holiday\",\"Normal day\",\"Normal day\",\"Normal day\",\"Normal day\",\"Holiday\",\"Normal day\",\"Normal day\",\"Normal day\",\"Normal day\",\"Normal day\",\"Normal day\",\"Normal day\",\"Normal day\",\"Normal day\",\"Normal day\",\"Normal day\",\"Normal day\",\"Normal day\",\"Normal day\",\"Normal day\",\"Normal day\",\"Normal day\",\"Normal day\",\"Normal day\",\"Normal day\",\"Normal day\",\"Normal day\",\"Normal day\",\"Normal day\",\"Normal day\",\"Normal day\",\"Normal day\",\"Normal day\",\"Normal day\",\"Normal day\",\"Normal day\",\"Normal day\",\"Normal day\",\"Normal day\",\"Normal day\",\"Normal day\",\"Normal day\",\"Normal day\",\"Normal day\",\"Normal day\",\"Normal day\",\"Normal day\",\"Normal day\",\"Holiday\",\"Normal day\",\"Normal day\",\"Normal day\",\"Normal day\",\"Normal day\",\"Normal day\",\"Normal day\",\"Normal day\",\"Normal day\",\"Normal day\",\"Normal day\",\"Normal day\",\"Normal day\",\"Normal day\",\"Normal day\",\"Normal day\",\"Normal day\",\"Normal day\",\"Normal day\",\"Normal day\",\"Normal day\",\"Holiday\",\"Normal day\",\"Normal day\",\"Normal day\",\"Normal day\",\"Normal day\",\"Normal day\",\"Holiday\",\"Normal day\",\"Normal day\",\"Normal day\",\"Normal day\",\"Normal day\",\"Normal day\",\"Normal day\",\"Normal day\",\"Normal day\",\"Holiday\",\"Normal day\",\"Normal day\",\"Normal day\",\"Normal day\",\"Normal day\",\"Normal day\",\"Normal day\",\"Normal day\",\"Normal day\",\"Normal day\",\"Normal day\",\"Normal day\",\"Normal day\",\"Normal day\",\"Normal day\",\"Normal day\",\"Normal day\",\"Normal day\",\"Normal day\",\"Normal day\",\"Normal day\",\"Normal day\",\"Normal day\",\"Normal day\",\"Normal day\",\"Normal day\",\"Normal day\",\"Normal day\",\"Normal day\",\"Holiday\",\"Normal day\",\"Normal day\",\"Normal day\",\"Normal day\",\"Normal day\",\"Normal day\",\"Normal day\",\"Normal day\",\"Normal day\",\"Normal day\",\"Normal day\",\"Normal day\",\"Normal day\",\"Normal day\",\"Normal day\",\"Normal day\",\"Normal day\",\"Normal day\",\"Normal day\",\"Normal day\",\"Normal day\",\"Normal day\",\"Normal day\",\"Normal day\",\"Normal day\",\"Normal day\",\"Normal day\",\"Normal day\",\"Normal day\",\"Normal day\",\"Normal day\",\"Holiday\",\"Normal day\",\"Normal day\",\"Normal day\",\"Normal day\",\"Normal day\",\"Normal day\",\"Normal day\",\"Normal day\",\"Normal day\",\"Normal day\",\"Normal day\",\"Normal day\",\"Normal day\",\"Normal day\",\"Normal day\",\"Normal day\",\"Normal day\",\"Normal day\",\"Normal day\",\"Normal day\",\"Normal day\",\"Normal day\",\"Holiday\",\"Normal day\",\"Normal day\",\"Normal day\",\"Normal day\",\"Normal day\",\"Normal day\",\"Normal day\",\"Normal day\",\"Normal day\",\"Normal day\",\"Normal day\",\"Normal day\",\"Normal day\",\"Holiday\",\"Holiday\",\"Normal day\",\"Normal day\",\"Normal day\",\"Normal day\",\"Normal day\",\"Normal day\",\"Normal day\",\"Normal day\",\"Normal day\",\"Normal day\",\"Normal day\",\"Normal day\",\"Normal day\",\"Normal day\",\"Normal day\",\"Normal day\",\"Normal day\",\"Normal day\",\"Normal day\",\"Normal day\",\"Normal day\",\"Normal day\",\"Normal day\",\"Normal day\",\"Normal day\",\"Normal day\",\"Normal day\",\"Normal day\",\"Normal day\",\"Normal day\",\"Normal day\",\"Normal day\",\"Normal day\",\"Normal day\",\"Normal day\",\"Holiday\",\"Normal day\",\"Normal day\",\"Normal day\",\"Normal day\",\"Normal day\",\"Normal day\",\"Normal day\",\"Normal day\",\"Normal day\",\"Normal day\",\"Holiday\",\"Normal day\",\"Normal day\",\"Normal day\",\"Normal day\",\"Normal day\",\"Normal day\",\"Normal day\",\"Normal day\",\"Normal day\",\"Normal day\",\"Normal day\",\"Normal day\",\"Normal day\",\"Normal day\",\"Normal day\",\"Normal day\",\"Normal day\",\"Holiday\",\"Normal day\",\"Normal day\",\"Normal day\",\"Normal day\",\"Normal day\",\"Normal day\",\"Normal day\",\"Normal day\",\"Normal day\",\"Normal day\",\"Normal day\",\"Holiday\",\"Normal day\",\"Normal day\",\"Holiday\",\"Normal day\",\"Normal day\",\"Normal day\",\"Normal day\",\"Normal day\",\"Normal day\",\"Normal day\",\"Normal day\",\"Normal day\",\"Normal day\",\"Normal day\",\"Normal day\",\"Normal day\",\"Normal day\",\"Normal day\",\"Holiday\",\"Normal day\",\"Normal day\",\"Normal day\",\"Normal day\",\"Normal day\",\"Normal day\",\"Normal day\",\"Normal day\",\"Normal day\",\"Holiday\",\"Normal day\",\"Holiday\",\"Normal day\",\"Normal day\"],\"xaxis\":\"x\",\"yaxis\":\"y\",\"type\":\"histogram\"}],                        {\"template\":{\"data\":{\"histogram2dcontour\":[{\"type\":\"histogram2dcontour\",\"colorbar\":{\"outlinewidth\":0,\"ticks\":\"\"},\"colorscale\":[[0.0,\"#0d0887\"],[0.1111111111111111,\"#46039f\"],[0.2222222222222222,\"#7201a8\"],[0.3333333333333333,\"#9c179e\"],[0.4444444444444444,\"#bd3786\"],[0.5555555555555556,\"#d8576b\"],[0.6666666666666666,\"#ed7953\"],[0.7777777777777778,\"#fb9f3a\"],[0.8888888888888888,\"#fdca26\"],[1.0,\"#f0f921\"]]}],\"choropleth\":[{\"type\":\"choropleth\",\"colorbar\":{\"outlinewidth\":0,\"ticks\":\"\"}}],\"histogram2d\":[{\"type\":\"histogram2d\",\"colorbar\":{\"outlinewidth\":0,\"ticks\":\"\"},\"colorscale\":[[0.0,\"#0d0887\"],[0.1111111111111111,\"#46039f\"],[0.2222222222222222,\"#7201a8\"],[0.3333333333333333,\"#9c179e\"],[0.4444444444444444,\"#bd3786\"],[0.5555555555555556,\"#d8576b\"],[0.6666666666666666,\"#ed7953\"],[0.7777777777777778,\"#fb9f3a\"],[0.8888888888888888,\"#fdca26\"],[1.0,\"#f0f921\"]]}],\"heatmap\":[{\"type\":\"heatmap\",\"colorbar\":{\"outlinewidth\":0,\"ticks\":\"\"},\"colorscale\":[[0.0,\"#0d0887\"],[0.1111111111111111,\"#46039f\"],[0.2222222222222222,\"#7201a8\"],[0.3333333333333333,\"#9c179e\"],[0.4444444444444444,\"#bd3786\"],[0.5555555555555556,\"#d8576b\"],[0.6666666666666666,\"#ed7953\"],[0.7777777777777778,\"#fb9f3a\"],[0.8888888888888888,\"#fdca26\"],[1.0,\"#f0f921\"]]}],\"heatmapgl\":[{\"type\":\"heatmapgl\",\"colorbar\":{\"outlinewidth\":0,\"ticks\":\"\"},\"colorscale\":[[0.0,\"#0d0887\"],[0.1111111111111111,\"#46039f\"],[0.2222222222222222,\"#7201a8\"],[0.3333333333333333,\"#9c179e\"],[0.4444444444444444,\"#bd3786\"],[0.5555555555555556,\"#d8576b\"],[0.6666666666666666,\"#ed7953\"],[0.7777777777777778,\"#fb9f3a\"],[0.8888888888888888,\"#fdca26\"],[1.0,\"#f0f921\"]]}],\"contourcarpet\":[{\"type\":\"contourcarpet\",\"colorbar\":{\"outlinewidth\":0,\"ticks\":\"\"}}],\"contour\":[{\"type\":\"contour\",\"colorbar\":{\"outlinewidth\":0,\"ticks\":\"\"},\"colorscale\":[[0.0,\"#0d0887\"],[0.1111111111111111,\"#46039f\"],[0.2222222222222222,\"#7201a8\"],[0.3333333333333333,\"#9c179e\"],[0.4444444444444444,\"#bd3786\"],[0.5555555555555556,\"#d8576b\"],[0.6666666666666666,\"#ed7953\"],[0.7777777777777778,\"#fb9f3a\"],[0.8888888888888888,\"#fdca26\"],[1.0,\"#f0f921\"]]}],\"surface\":[{\"type\":\"surface\",\"colorbar\":{\"outlinewidth\":0,\"ticks\":\"\"},\"colorscale\":[[0.0,\"#0d0887\"],[0.1111111111111111,\"#46039f\"],[0.2222222222222222,\"#7201a8\"],[0.3333333333333333,\"#9c179e\"],[0.4444444444444444,\"#bd3786\"],[0.5555555555555556,\"#d8576b\"],[0.6666666666666666,\"#ed7953\"],[0.7777777777777778,\"#fb9f3a\"],[0.8888888888888888,\"#fdca26\"],[1.0,\"#f0f921\"]]}],\"mesh3d\":[{\"type\":\"mesh3d\",\"colorbar\":{\"outlinewidth\":0,\"ticks\":\"\"}}],\"scatter\":[{\"fillpattern\":{\"fillmode\":\"overlay\",\"size\":10,\"solidity\":0.2},\"type\":\"scatter\"}],\"parcoords\":[{\"type\":\"parcoords\",\"line\":{\"colorbar\":{\"outlinewidth\":0,\"ticks\":\"\"}}}],\"scatterpolargl\":[{\"type\":\"scatterpolargl\",\"marker\":{\"colorbar\":{\"outlinewidth\":0,\"ticks\":\"\"}}}],\"bar\":[{\"error_x\":{\"color\":\"#2a3f5f\"},\"error_y\":{\"color\":\"#2a3f5f\"},\"marker\":{\"line\":{\"color\":\"#E5ECF6\",\"width\":0.5},\"pattern\":{\"fillmode\":\"overlay\",\"size\":10,\"solidity\":0.2}},\"type\":\"bar\"}],\"scattergeo\":[{\"type\":\"scattergeo\",\"marker\":{\"colorbar\":{\"outlinewidth\":0,\"ticks\":\"\"}}}],\"scatterpolar\":[{\"type\":\"scatterpolar\",\"marker\":{\"colorbar\":{\"outlinewidth\":0,\"ticks\":\"\"}}}],\"histogram\":[{\"marker\":{\"pattern\":{\"fillmode\":\"overlay\",\"size\":10,\"solidity\":0.2}},\"type\":\"histogram\"}],\"scattergl\":[{\"type\":\"scattergl\",\"marker\":{\"colorbar\":{\"outlinewidth\":0,\"ticks\":\"\"}}}],\"scatter3d\":[{\"type\":\"scatter3d\",\"line\":{\"colorbar\":{\"outlinewidth\":0,\"ticks\":\"\"}},\"marker\":{\"colorbar\":{\"outlinewidth\":0,\"ticks\":\"\"}}}],\"scattermapbox\":[{\"type\":\"scattermapbox\",\"marker\":{\"colorbar\":{\"outlinewidth\":0,\"ticks\":\"\"}}}],\"scatterternary\":[{\"type\":\"scatterternary\",\"marker\":{\"colorbar\":{\"outlinewidth\":0,\"ticks\":\"\"}}}],\"scattercarpet\":[{\"type\":\"scattercarpet\",\"marker\":{\"colorbar\":{\"outlinewidth\":0,\"ticks\":\"\"}}}],\"carpet\":[{\"aaxis\":{\"endlinecolor\":\"#2a3f5f\",\"gridcolor\":\"white\",\"linecolor\":\"white\",\"minorgridcolor\":\"white\",\"startlinecolor\":\"#2a3f5f\"},\"baxis\":{\"endlinecolor\":\"#2a3f5f\",\"gridcolor\":\"white\",\"linecolor\":\"white\",\"minorgridcolor\":\"white\",\"startlinecolor\":\"#2a3f5f\"},\"type\":\"carpet\"}],\"table\":[{\"cells\":{\"fill\":{\"color\":\"#EBF0F8\"},\"line\":{\"color\":\"white\"}},\"header\":{\"fill\":{\"color\":\"#C8D4E3\"},\"line\":{\"color\":\"white\"}},\"type\":\"table\"}],\"barpolar\":[{\"marker\":{\"line\":{\"color\":\"#E5ECF6\",\"width\":0.5},\"pattern\":{\"fillmode\":\"overlay\",\"size\":10,\"solidity\":0.2}},\"type\":\"barpolar\"}],\"pie\":[{\"automargin\":true,\"type\":\"pie\"}]},\"layout\":{\"autotypenumbers\":\"strict\",\"colorway\":[\"#636efa\",\"#EF553B\",\"#00cc96\",\"#ab63fa\",\"#FFA15A\",\"#19d3f3\",\"#FF6692\",\"#B6E880\",\"#FF97FF\",\"#FECB52\"],\"font\":{\"color\":\"#2a3f5f\"},\"hovermode\":\"closest\",\"hoverlabel\":{\"align\":\"left\"},\"paper_bgcolor\":\"white\",\"plot_bgcolor\":\"#E5ECF6\",\"polar\":{\"bgcolor\":\"#E5ECF6\",\"angularaxis\":{\"gridcolor\":\"white\",\"linecolor\":\"white\",\"ticks\":\"\"},\"radialaxis\":{\"gridcolor\":\"white\",\"linecolor\":\"white\",\"ticks\":\"\"}},\"ternary\":{\"bgcolor\":\"#E5ECF6\",\"aaxis\":{\"gridcolor\":\"white\",\"linecolor\":\"white\",\"ticks\":\"\"},\"baxis\":{\"gridcolor\":\"white\",\"linecolor\":\"white\",\"ticks\":\"\"},\"caxis\":{\"gridcolor\":\"white\",\"linecolor\":\"white\",\"ticks\":\"\"}},\"coloraxis\":{\"colorbar\":{\"outlinewidth\":0,\"ticks\":\"\"}},\"colorscale\":{\"sequential\":[[0.0,\"#0d0887\"],[0.1111111111111111,\"#46039f\"],[0.2222222222222222,\"#7201a8\"],[0.3333333333333333,\"#9c179e\"],[0.4444444444444444,\"#bd3786\"],[0.5555555555555556,\"#d8576b\"],[0.6666666666666666,\"#ed7953\"],[0.7777777777777778,\"#fb9f3a\"],[0.8888888888888888,\"#fdca26\"],[1.0,\"#f0f921\"]],\"sequentialminus\":[[0.0,\"#0d0887\"],[0.1111111111111111,\"#46039f\"],[0.2222222222222222,\"#7201a8\"],[0.3333333333333333,\"#9c179e\"],[0.4444444444444444,\"#bd3786\"],[0.5555555555555556,\"#d8576b\"],[0.6666666666666666,\"#ed7953\"],[0.7777777777777778,\"#fb9f3a\"],[0.8888888888888888,\"#fdca26\"],[1.0,\"#f0f921\"]],\"diverging\":[[0,\"#8e0152\"],[0.1,\"#c51b7d\"],[0.2,\"#de77ae\"],[0.3,\"#f1b6da\"],[0.4,\"#fde0ef\"],[0.5,\"#f7f7f7\"],[0.6,\"#e6f5d0\"],[0.7,\"#b8e186\"],[0.8,\"#7fbc41\"],[0.9,\"#4d9221\"],[1,\"#276419\"]]},\"xaxis\":{\"gridcolor\":\"white\",\"linecolor\":\"white\",\"ticks\":\"\",\"title\":{\"standoff\":15},\"zerolinecolor\":\"white\",\"automargin\":true,\"zerolinewidth\":2},\"yaxis\":{\"gridcolor\":\"white\",\"linecolor\":\"white\",\"ticks\":\"\",\"title\":{\"standoff\":15},\"zerolinecolor\":\"white\",\"automargin\":true,\"zerolinewidth\":2},\"scene\":{\"xaxis\":{\"backgroundcolor\":\"#E5ECF6\",\"gridcolor\":\"white\",\"linecolor\":\"white\",\"showbackground\":true,\"ticks\":\"\",\"zerolinecolor\":\"white\",\"gridwidth\":2},\"yaxis\":{\"backgroundcolor\":\"#E5ECF6\",\"gridcolor\":\"white\",\"linecolor\":\"white\",\"showbackground\":true,\"ticks\":\"\",\"zerolinecolor\":\"white\",\"gridwidth\":2},\"zaxis\":{\"backgroundcolor\":\"#E5ECF6\",\"gridcolor\":\"white\",\"linecolor\":\"white\",\"showbackground\":true,\"ticks\":\"\",\"zerolinecolor\":\"white\",\"gridwidth\":2}},\"shapedefaults\":{\"line\":{\"color\":\"#2a3f5f\"}},\"annotationdefaults\":{\"arrowcolor\":\"#2a3f5f\",\"arrowhead\":0,\"arrowwidth\":1},\"geo\":{\"bgcolor\":\"white\",\"landcolor\":\"#E5ECF6\",\"subunitcolor\":\"white\",\"showland\":true,\"showlakes\":true,\"lakecolor\":\"white\"},\"title\":{\"x\":0.05},\"mapbox\":{\"style\":\"light\"}}},\"xaxis\":{\"anchor\":\"y\",\"domain\":[0.0,1.0],\"title\":{\"text\":\"holidays\"}},\"yaxis\":{\"anchor\":\"x\",\"domain\":[0.0,1.0],\"title\":{\"text\":\"count\"}},\"legend\":{\"title\":{\"text\":\"member_casual\"},\"tracegroupgap\":0},\"margin\":{\"t\":60},\"barmode\":\"relative\"},                        {\"responsive\": true}                    ).then(function(){\n",
       "                            \n",
       "var gd = document.getElementById('1ac0d88b-77f6-4af3-82c8-e1a01e53ccba');\n",
       "var x = new MutationObserver(function (mutations, observer) {{\n",
       "        var display = window.getComputedStyle(gd).display;\n",
       "        if (!display || display === 'none') {{\n",
       "            console.log([gd, 'removed!']);\n",
       "            Plotly.purge(gd);\n",
       "            observer.disconnect();\n",
       "        }}\n",
       "}});\n",
       "\n",
       "// Listen for the removal of the full notebook cells\n",
       "var notebookContainer = gd.closest('#notebook-container');\n",
       "if (notebookContainer) {{\n",
       "    x.observe(notebookContainer, {childList: true});\n",
       "}}\n",
       "\n",
       "// Listen for the clearing of the current output cell\n",
       "var outputEl = gd.closest('.output');\n",
       "if (outputEl) {{\n",
       "    x.observe(outputEl, {childList: true});\n",
       "}}\n",
       "\n",
       "                        })                };                });            </script>        </div>"
      ]
     },
     "metadata": {},
     "output_type": "display_data"
    }
   ],
   "source": [
    "#fig = px.bar(df_smote_final, x='holidays', color='member_casual')\n",
    "fig = px.histogram(df_smote_final, x=\"holidays\", color=\"member_casual\")\n",
    "fig.show()"
   ]
  },
  {
   "cell_type": "markdown",
   "id": "17dff89d",
   "metadata": {},
   "source": [
    "**As we can see above, casual bikers ride more on a holiday and normal day. However, the total number of bikers are relatively smaller on a holiday.**"
   ]
  },
  {
   "cell_type": "markdown",
   "id": "7bbcc1d7",
   "metadata": {},
   "source": [
    "**3) Do member bikers ride more on weekdays?**"
   ]
  },
  {
   "cell_type": "code",
   "execution_count": 62,
   "id": "61d1b98d",
   "metadata": {},
   "outputs": [
    {
     "data": {
      "application/vnd.plotly.v1+json": {
       "config": {
        "plotlyServerURL": "https://plot.ly"
       },
       "data": [
        {
         "alignmentgroup": "True",
         "hovertemplate": "member_casual=casual<br>day_of_week=%{x}<br>counts=%{y}<extra></extra>",
         "legendgroup": "casual",
         "marker": {
          "color": "#636efa",
          "pattern": {
           "shape": ""
          }
         },
         "name": "casual",
         "offsetgroup": "casual",
         "orientation": "v",
         "showlegend": true,
         "textposition": "auto",
         "type": "bar",
         "x": [
          "Monday",
          "Tuesday",
          "Wednesday",
          "Thursday",
          "Friday",
          "Saturday",
          "Sunday"
         ],
         "xaxis": "x",
         "y": [
          450,
          563,
          478,
          617,
          664,
          952,
          405
         ],
         "yaxis": "y"
        },
        {
         "alignmentgroup": "True",
         "hovertemplate": "member_casual=member<br>day_of_week=%{x}<br>counts=%{y}<extra></extra>",
         "legendgroup": "member",
         "marker": {
          "color": "#EF553B",
          "pattern": {
           "shape": ""
          }
         },
         "name": "member",
         "offsetgroup": "member",
         "orientation": "v",
         "showlegend": true,
         "textposition": "auto",
         "type": "bar",
         "x": [
          "Monday",
          "Tuesday",
          "Wednesday",
          "Thursday",
          "Friday",
          "Saturday",
          "Sunday"
         ],
         "xaxis": "x",
         "y": [
          589,
          658,
          674,
          638,
          564,
          533,
          473
         ],
         "yaxis": "y"
        }
       ],
       "layout": {
        "barmode": "relative",
        "legend": {
         "title": {
          "text": "member_casual"
         },
         "tracegroupgap": 0
        },
        "margin": {
         "t": 60
        },
        "template": {
         "data": {
          "bar": [
           {
            "error_x": {
             "color": "#2a3f5f"
            },
            "error_y": {
             "color": "#2a3f5f"
            },
            "marker": {
             "line": {
              "color": "#E5ECF6",
              "width": 0.5
             },
             "pattern": {
              "fillmode": "overlay",
              "size": 10,
              "solidity": 0.2
             }
            },
            "type": "bar"
           }
          ],
          "barpolar": [
           {
            "marker": {
             "line": {
              "color": "#E5ECF6",
              "width": 0.5
             },
             "pattern": {
              "fillmode": "overlay",
              "size": 10,
              "solidity": 0.2
             }
            },
            "type": "barpolar"
           }
          ],
          "carpet": [
           {
            "aaxis": {
             "endlinecolor": "#2a3f5f",
             "gridcolor": "white",
             "linecolor": "white",
             "minorgridcolor": "white",
             "startlinecolor": "#2a3f5f"
            },
            "baxis": {
             "endlinecolor": "#2a3f5f",
             "gridcolor": "white",
             "linecolor": "white",
             "minorgridcolor": "white",
             "startlinecolor": "#2a3f5f"
            },
            "type": "carpet"
           }
          ],
          "choropleth": [
           {
            "colorbar": {
             "outlinewidth": 0,
             "ticks": ""
            },
            "type": "choropleth"
           }
          ],
          "contour": [
           {
            "colorbar": {
             "outlinewidth": 0,
             "ticks": ""
            },
            "colorscale": [
             [
              0,
              "#0d0887"
             ],
             [
              0.1111111111111111,
              "#46039f"
             ],
             [
              0.2222222222222222,
              "#7201a8"
             ],
             [
              0.3333333333333333,
              "#9c179e"
             ],
             [
              0.4444444444444444,
              "#bd3786"
             ],
             [
              0.5555555555555556,
              "#d8576b"
             ],
             [
              0.6666666666666666,
              "#ed7953"
             ],
             [
              0.7777777777777778,
              "#fb9f3a"
             ],
             [
              0.8888888888888888,
              "#fdca26"
             ],
             [
              1,
              "#f0f921"
             ]
            ],
            "type": "contour"
           }
          ],
          "contourcarpet": [
           {
            "colorbar": {
             "outlinewidth": 0,
             "ticks": ""
            },
            "type": "contourcarpet"
           }
          ],
          "heatmap": [
           {
            "colorbar": {
             "outlinewidth": 0,
             "ticks": ""
            },
            "colorscale": [
             [
              0,
              "#0d0887"
             ],
             [
              0.1111111111111111,
              "#46039f"
             ],
             [
              0.2222222222222222,
              "#7201a8"
             ],
             [
              0.3333333333333333,
              "#9c179e"
             ],
             [
              0.4444444444444444,
              "#bd3786"
             ],
             [
              0.5555555555555556,
              "#d8576b"
             ],
             [
              0.6666666666666666,
              "#ed7953"
             ],
             [
              0.7777777777777778,
              "#fb9f3a"
             ],
             [
              0.8888888888888888,
              "#fdca26"
             ],
             [
              1,
              "#f0f921"
             ]
            ],
            "type": "heatmap"
           }
          ],
          "heatmapgl": [
           {
            "colorbar": {
             "outlinewidth": 0,
             "ticks": ""
            },
            "colorscale": [
             [
              0,
              "#0d0887"
             ],
             [
              0.1111111111111111,
              "#46039f"
             ],
             [
              0.2222222222222222,
              "#7201a8"
             ],
             [
              0.3333333333333333,
              "#9c179e"
             ],
             [
              0.4444444444444444,
              "#bd3786"
             ],
             [
              0.5555555555555556,
              "#d8576b"
             ],
             [
              0.6666666666666666,
              "#ed7953"
             ],
             [
              0.7777777777777778,
              "#fb9f3a"
             ],
             [
              0.8888888888888888,
              "#fdca26"
             ],
             [
              1,
              "#f0f921"
             ]
            ],
            "type": "heatmapgl"
           }
          ],
          "histogram": [
           {
            "marker": {
             "pattern": {
              "fillmode": "overlay",
              "size": 10,
              "solidity": 0.2
             }
            },
            "type": "histogram"
           }
          ],
          "histogram2d": [
           {
            "colorbar": {
             "outlinewidth": 0,
             "ticks": ""
            },
            "colorscale": [
             [
              0,
              "#0d0887"
             ],
             [
              0.1111111111111111,
              "#46039f"
             ],
             [
              0.2222222222222222,
              "#7201a8"
             ],
             [
              0.3333333333333333,
              "#9c179e"
             ],
             [
              0.4444444444444444,
              "#bd3786"
             ],
             [
              0.5555555555555556,
              "#d8576b"
             ],
             [
              0.6666666666666666,
              "#ed7953"
             ],
             [
              0.7777777777777778,
              "#fb9f3a"
             ],
             [
              0.8888888888888888,
              "#fdca26"
             ],
             [
              1,
              "#f0f921"
             ]
            ],
            "type": "histogram2d"
           }
          ],
          "histogram2dcontour": [
           {
            "colorbar": {
             "outlinewidth": 0,
             "ticks": ""
            },
            "colorscale": [
             [
              0,
              "#0d0887"
             ],
             [
              0.1111111111111111,
              "#46039f"
             ],
             [
              0.2222222222222222,
              "#7201a8"
             ],
             [
              0.3333333333333333,
              "#9c179e"
             ],
             [
              0.4444444444444444,
              "#bd3786"
             ],
             [
              0.5555555555555556,
              "#d8576b"
             ],
             [
              0.6666666666666666,
              "#ed7953"
             ],
             [
              0.7777777777777778,
              "#fb9f3a"
             ],
             [
              0.8888888888888888,
              "#fdca26"
             ],
             [
              1,
              "#f0f921"
             ]
            ],
            "type": "histogram2dcontour"
           }
          ],
          "mesh3d": [
           {
            "colorbar": {
             "outlinewidth": 0,
             "ticks": ""
            },
            "type": "mesh3d"
           }
          ],
          "parcoords": [
           {
            "line": {
             "colorbar": {
              "outlinewidth": 0,
              "ticks": ""
             }
            },
            "type": "parcoords"
           }
          ],
          "pie": [
           {
            "automargin": true,
            "type": "pie"
           }
          ],
          "scatter": [
           {
            "fillpattern": {
             "fillmode": "overlay",
             "size": 10,
             "solidity": 0.2
            },
            "type": "scatter"
           }
          ],
          "scatter3d": [
           {
            "line": {
             "colorbar": {
              "outlinewidth": 0,
              "ticks": ""
             }
            },
            "marker": {
             "colorbar": {
              "outlinewidth": 0,
              "ticks": ""
             }
            },
            "type": "scatter3d"
           }
          ],
          "scattercarpet": [
           {
            "marker": {
             "colorbar": {
              "outlinewidth": 0,
              "ticks": ""
             }
            },
            "type": "scattercarpet"
           }
          ],
          "scattergeo": [
           {
            "marker": {
             "colorbar": {
              "outlinewidth": 0,
              "ticks": ""
             }
            },
            "type": "scattergeo"
           }
          ],
          "scattergl": [
           {
            "marker": {
             "colorbar": {
              "outlinewidth": 0,
              "ticks": ""
             }
            },
            "type": "scattergl"
           }
          ],
          "scattermapbox": [
           {
            "marker": {
             "colorbar": {
              "outlinewidth": 0,
              "ticks": ""
             }
            },
            "type": "scattermapbox"
           }
          ],
          "scatterpolar": [
           {
            "marker": {
             "colorbar": {
              "outlinewidth": 0,
              "ticks": ""
             }
            },
            "type": "scatterpolar"
           }
          ],
          "scatterpolargl": [
           {
            "marker": {
             "colorbar": {
              "outlinewidth": 0,
              "ticks": ""
             }
            },
            "type": "scatterpolargl"
           }
          ],
          "scatterternary": [
           {
            "marker": {
             "colorbar": {
              "outlinewidth": 0,
              "ticks": ""
             }
            },
            "type": "scatterternary"
           }
          ],
          "surface": [
           {
            "colorbar": {
             "outlinewidth": 0,
             "ticks": ""
            },
            "colorscale": [
             [
              0,
              "#0d0887"
             ],
             [
              0.1111111111111111,
              "#46039f"
             ],
             [
              0.2222222222222222,
              "#7201a8"
             ],
             [
              0.3333333333333333,
              "#9c179e"
             ],
             [
              0.4444444444444444,
              "#bd3786"
             ],
             [
              0.5555555555555556,
              "#d8576b"
             ],
             [
              0.6666666666666666,
              "#ed7953"
             ],
             [
              0.7777777777777778,
              "#fb9f3a"
             ],
             [
              0.8888888888888888,
              "#fdca26"
             ],
             [
              1,
              "#f0f921"
             ]
            ],
            "type": "surface"
           }
          ],
          "table": [
           {
            "cells": {
             "fill": {
              "color": "#EBF0F8"
             },
             "line": {
              "color": "white"
             }
            },
            "header": {
             "fill": {
              "color": "#C8D4E3"
             },
             "line": {
              "color": "white"
             }
            },
            "type": "table"
           }
          ]
         },
         "layout": {
          "annotationdefaults": {
           "arrowcolor": "#2a3f5f",
           "arrowhead": 0,
           "arrowwidth": 1
          },
          "autotypenumbers": "strict",
          "coloraxis": {
           "colorbar": {
            "outlinewidth": 0,
            "ticks": ""
           }
          },
          "colorscale": {
           "diverging": [
            [
             0,
             "#8e0152"
            ],
            [
             0.1,
             "#c51b7d"
            ],
            [
             0.2,
             "#de77ae"
            ],
            [
             0.3,
             "#f1b6da"
            ],
            [
             0.4,
             "#fde0ef"
            ],
            [
             0.5,
             "#f7f7f7"
            ],
            [
             0.6,
             "#e6f5d0"
            ],
            [
             0.7,
             "#b8e186"
            ],
            [
             0.8,
             "#7fbc41"
            ],
            [
             0.9,
             "#4d9221"
            ],
            [
             1,
             "#276419"
            ]
           ],
           "sequential": [
            [
             0,
             "#0d0887"
            ],
            [
             0.1111111111111111,
             "#46039f"
            ],
            [
             0.2222222222222222,
             "#7201a8"
            ],
            [
             0.3333333333333333,
             "#9c179e"
            ],
            [
             0.4444444444444444,
             "#bd3786"
            ],
            [
             0.5555555555555556,
             "#d8576b"
            ],
            [
             0.6666666666666666,
             "#ed7953"
            ],
            [
             0.7777777777777778,
             "#fb9f3a"
            ],
            [
             0.8888888888888888,
             "#fdca26"
            ],
            [
             1,
             "#f0f921"
            ]
           ],
           "sequentialminus": [
            [
             0,
             "#0d0887"
            ],
            [
             0.1111111111111111,
             "#46039f"
            ],
            [
             0.2222222222222222,
             "#7201a8"
            ],
            [
             0.3333333333333333,
             "#9c179e"
            ],
            [
             0.4444444444444444,
             "#bd3786"
            ],
            [
             0.5555555555555556,
             "#d8576b"
            ],
            [
             0.6666666666666666,
             "#ed7953"
            ],
            [
             0.7777777777777778,
             "#fb9f3a"
            ],
            [
             0.8888888888888888,
             "#fdca26"
            ],
            [
             1,
             "#f0f921"
            ]
           ]
          },
          "colorway": [
           "#636efa",
           "#EF553B",
           "#00cc96",
           "#ab63fa",
           "#FFA15A",
           "#19d3f3",
           "#FF6692",
           "#B6E880",
           "#FF97FF",
           "#FECB52"
          ],
          "font": {
           "color": "#2a3f5f"
          },
          "geo": {
           "bgcolor": "white",
           "lakecolor": "white",
           "landcolor": "#E5ECF6",
           "showlakes": true,
           "showland": true,
           "subunitcolor": "white"
          },
          "hoverlabel": {
           "align": "left"
          },
          "hovermode": "closest",
          "mapbox": {
           "style": "light"
          },
          "paper_bgcolor": "white",
          "plot_bgcolor": "#E5ECF6",
          "polar": {
           "angularaxis": {
            "gridcolor": "white",
            "linecolor": "white",
            "ticks": ""
           },
           "bgcolor": "#E5ECF6",
           "radialaxis": {
            "gridcolor": "white",
            "linecolor": "white",
            "ticks": ""
           }
          },
          "scene": {
           "xaxis": {
            "backgroundcolor": "#E5ECF6",
            "gridcolor": "white",
            "gridwidth": 2,
            "linecolor": "white",
            "showbackground": true,
            "ticks": "",
            "zerolinecolor": "white"
           },
           "yaxis": {
            "backgroundcolor": "#E5ECF6",
            "gridcolor": "white",
            "gridwidth": 2,
            "linecolor": "white",
            "showbackground": true,
            "ticks": "",
            "zerolinecolor": "white"
           },
           "zaxis": {
            "backgroundcolor": "#E5ECF6",
            "gridcolor": "white",
            "gridwidth": 2,
            "linecolor": "white",
            "showbackground": true,
            "ticks": "",
            "zerolinecolor": "white"
           }
          },
          "shapedefaults": {
           "line": {
            "color": "#2a3f5f"
           }
          },
          "ternary": {
           "aaxis": {
            "gridcolor": "white",
            "linecolor": "white",
            "ticks": ""
           },
           "baxis": {
            "gridcolor": "white",
            "linecolor": "white",
            "ticks": ""
           },
           "bgcolor": "#E5ECF6",
           "caxis": {
            "gridcolor": "white",
            "linecolor": "white",
            "ticks": ""
           }
          },
          "title": {
           "x": 0.05
          },
          "xaxis": {
           "automargin": true,
           "gridcolor": "white",
           "linecolor": "white",
           "ticks": "",
           "title": {
            "standoff": 15
           },
           "zerolinecolor": "white",
           "zerolinewidth": 2
          },
          "yaxis": {
           "automargin": true,
           "gridcolor": "white",
           "linecolor": "white",
           "ticks": "",
           "title": {
            "standoff": 15
           },
           "zerolinecolor": "white",
           "zerolinewidth": 2
          }
         }
        },
        "xaxis": {
         "anchor": "y",
         "domain": [
          0,
          1
         ],
         "title": {
          "text": "day_of_week"
         }
        },
        "yaxis": {
         "anchor": "x",
         "domain": [
          0,
          1
         ],
         "title": {
          "text": "counts"
         }
        }
       }
      },
      "text/html": [
       "<div>                            <div id=\"c727e710-d514-4a39-b438-717e132756db\" class=\"plotly-graph-div\" style=\"height:525px; width:100%;\"></div>            <script type=\"text/javascript\">                require([\"plotly\"], function(Plotly) {                    window.PLOTLYENV=window.PLOTLYENV || {};                                    if (document.getElementById(\"c727e710-d514-4a39-b438-717e132756db\")) {                    Plotly.newPlot(                        \"c727e710-d514-4a39-b438-717e132756db\",                        [{\"alignmentgroup\":\"True\",\"hovertemplate\":\"member_casual=casual<br>day_of_week=%{x}<br>counts=%{y}<extra></extra>\",\"legendgroup\":\"casual\",\"marker\":{\"color\":\"#636efa\",\"pattern\":{\"shape\":\"\"}},\"name\":\"casual\",\"offsetgroup\":\"casual\",\"orientation\":\"v\",\"showlegend\":true,\"textposition\":\"auto\",\"x\":[\"Monday\",\"Tuesday\",\"Wednesday\",\"Thursday\",\"Friday\",\"Saturday\",\"Sunday\"],\"xaxis\":\"x\",\"y\":[450,563,478,617,664,952,405],\"yaxis\":\"y\",\"type\":\"bar\"},{\"alignmentgroup\":\"True\",\"hovertemplate\":\"member_casual=member<br>day_of_week=%{x}<br>counts=%{y}<extra></extra>\",\"legendgroup\":\"member\",\"marker\":{\"color\":\"#EF553B\",\"pattern\":{\"shape\":\"\"}},\"name\":\"member\",\"offsetgroup\":\"member\",\"orientation\":\"v\",\"showlegend\":true,\"textposition\":\"auto\",\"x\":[\"Monday\",\"Tuesday\",\"Wednesday\",\"Thursday\",\"Friday\",\"Saturday\",\"Sunday\"],\"xaxis\":\"x\",\"y\":[589,658,674,638,564,533,473],\"yaxis\":\"y\",\"type\":\"bar\"}],                        {\"template\":{\"data\":{\"histogram2dcontour\":[{\"type\":\"histogram2dcontour\",\"colorbar\":{\"outlinewidth\":0,\"ticks\":\"\"},\"colorscale\":[[0.0,\"#0d0887\"],[0.1111111111111111,\"#46039f\"],[0.2222222222222222,\"#7201a8\"],[0.3333333333333333,\"#9c179e\"],[0.4444444444444444,\"#bd3786\"],[0.5555555555555556,\"#d8576b\"],[0.6666666666666666,\"#ed7953\"],[0.7777777777777778,\"#fb9f3a\"],[0.8888888888888888,\"#fdca26\"],[1.0,\"#f0f921\"]]}],\"choropleth\":[{\"type\":\"choropleth\",\"colorbar\":{\"outlinewidth\":0,\"ticks\":\"\"}}],\"histogram2d\":[{\"type\":\"histogram2d\",\"colorbar\":{\"outlinewidth\":0,\"ticks\":\"\"},\"colorscale\":[[0.0,\"#0d0887\"],[0.1111111111111111,\"#46039f\"],[0.2222222222222222,\"#7201a8\"],[0.3333333333333333,\"#9c179e\"],[0.4444444444444444,\"#bd3786\"],[0.5555555555555556,\"#d8576b\"],[0.6666666666666666,\"#ed7953\"],[0.7777777777777778,\"#fb9f3a\"],[0.8888888888888888,\"#fdca26\"],[1.0,\"#f0f921\"]]}],\"heatmap\":[{\"type\":\"heatmap\",\"colorbar\":{\"outlinewidth\":0,\"ticks\":\"\"},\"colorscale\":[[0.0,\"#0d0887\"],[0.1111111111111111,\"#46039f\"],[0.2222222222222222,\"#7201a8\"],[0.3333333333333333,\"#9c179e\"],[0.4444444444444444,\"#bd3786\"],[0.5555555555555556,\"#d8576b\"],[0.6666666666666666,\"#ed7953\"],[0.7777777777777778,\"#fb9f3a\"],[0.8888888888888888,\"#fdca26\"],[1.0,\"#f0f921\"]]}],\"heatmapgl\":[{\"type\":\"heatmapgl\",\"colorbar\":{\"outlinewidth\":0,\"ticks\":\"\"},\"colorscale\":[[0.0,\"#0d0887\"],[0.1111111111111111,\"#46039f\"],[0.2222222222222222,\"#7201a8\"],[0.3333333333333333,\"#9c179e\"],[0.4444444444444444,\"#bd3786\"],[0.5555555555555556,\"#d8576b\"],[0.6666666666666666,\"#ed7953\"],[0.7777777777777778,\"#fb9f3a\"],[0.8888888888888888,\"#fdca26\"],[1.0,\"#f0f921\"]]}],\"contourcarpet\":[{\"type\":\"contourcarpet\",\"colorbar\":{\"outlinewidth\":0,\"ticks\":\"\"}}],\"contour\":[{\"type\":\"contour\",\"colorbar\":{\"outlinewidth\":0,\"ticks\":\"\"},\"colorscale\":[[0.0,\"#0d0887\"],[0.1111111111111111,\"#46039f\"],[0.2222222222222222,\"#7201a8\"],[0.3333333333333333,\"#9c179e\"],[0.4444444444444444,\"#bd3786\"],[0.5555555555555556,\"#d8576b\"],[0.6666666666666666,\"#ed7953\"],[0.7777777777777778,\"#fb9f3a\"],[0.8888888888888888,\"#fdca26\"],[1.0,\"#f0f921\"]]}],\"surface\":[{\"type\":\"surface\",\"colorbar\":{\"outlinewidth\":0,\"ticks\":\"\"},\"colorscale\":[[0.0,\"#0d0887\"],[0.1111111111111111,\"#46039f\"],[0.2222222222222222,\"#7201a8\"],[0.3333333333333333,\"#9c179e\"],[0.4444444444444444,\"#bd3786\"],[0.5555555555555556,\"#d8576b\"],[0.6666666666666666,\"#ed7953\"],[0.7777777777777778,\"#fb9f3a\"],[0.8888888888888888,\"#fdca26\"],[1.0,\"#f0f921\"]]}],\"mesh3d\":[{\"type\":\"mesh3d\",\"colorbar\":{\"outlinewidth\":0,\"ticks\":\"\"}}],\"scatter\":[{\"fillpattern\":{\"fillmode\":\"overlay\",\"size\":10,\"solidity\":0.2},\"type\":\"scatter\"}],\"parcoords\":[{\"type\":\"parcoords\",\"line\":{\"colorbar\":{\"outlinewidth\":0,\"ticks\":\"\"}}}],\"scatterpolargl\":[{\"type\":\"scatterpolargl\",\"marker\":{\"colorbar\":{\"outlinewidth\":0,\"ticks\":\"\"}}}],\"bar\":[{\"error_x\":{\"color\":\"#2a3f5f\"},\"error_y\":{\"color\":\"#2a3f5f\"},\"marker\":{\"line\":{\"color\":\"#E5ECF6\",\"width\":0.5},\"pattern\":{\"fillmode\":\"overlay\",\"size\":10,\"solidity\":0.2}},\"type\":\"bar\"}],\"scattergeo\":[{\"type\":\"scattergeo\",\"marker\":{\"colorbar\":{\"outlinewidth\":0,\"ticks\":\"\"}}}],\"scatterpolar\":[{\"type\":\"scatterpolar\",\"marker\":{\"colorbar\":{\"outlinewidth\":0,\"ticks\":\"\"}}}],\"histogram\":[{\"marker\":{\"pattern\":{\"fillmode\":\"overlay\",\"size\":10,\"solidity\":0.2}},\"type\":\"histogram\"}],\"scattergl\":[{\"type\":\"scattergl\",\"marker\":{\"colorbar\":{\"outlinewidth\":0,\"ticks\":\"\"}}}],\"scatter3d\":[{\"type\":\"scatter3d\",\"line\":{\"colorbar\":{\"outlinewidth\":0,\"ticks\":\"\"}},\"marker\":{\"colorbar\":{\"outlinewidth\":0,\"ticks\":\"\"}}}],\"scattermapbox\":[{\"type\":\"scattermapbox\",\"marker\":{\"colorbar\":{\"outlinewidth\":0,\"ticks\":\"\"}}}],\"scatterternary\":[{\"type\":\"scatterternary\",\"marker\":{\"colorbar\":{\"outlinewidth\":0,\"ticks\":\"\"}}}],\"scattercarpet\":[{\"type\":\"scattercarpet\",\"marker\":{\"colorbar\":{\"outlinewidth\":0,\"ticks\":\"\"}}}],\"carpet\":[{\"aaxis\":{\"endlinecolor\":\"#2a3f5f\",\"gridcolor\":\"white\",\"linecolor\":\"white\",\"minorgridcolor\":\"white\",\"startlinecolor\":\"#2a3f5f\"},\"baxis\":{\"endlinecolor\":\"#2a3f5f\",\"gridcolor\":\"white\",\"linecolor\":\"white\",\"minorgridcolor\":\"white\",\"startlinecolor\":\"#2a3f5f\"},\"type\":\"carpet\"}],\"table\":[{\"cells\":{\"fill\":{\"color\":\"#EBF0F8\"},\"line\":{\"color\":\"white\"}},\"header\":{\"fill\":{\"color\":\"#C8D4E3\"},\"line\":{\"color\":\"white\"}},\"type\":\"table\"}],\"barpolar\":[{\"marker\":{\"line\":{\"color\":\"#E5ECF6\",\"width\":0.5},\"pattern\":{\"fillmode\":\"overlay\",\"size\":10,\"solidity\":0.2}},\"type\":\"barpolar\"}],\"pie\":[{\"automargin\":true,\"type\":\"pie\"}]},\"layout\":{\"autotypenumbers\":\"strict\",\"colorway\":[\"#636efa\",\"#EF553B\",\"#00cc96\",\"#ab63fa\",\"#FFA15A\",\"#19d3f3\",\"#FF6692\",\"#B6E880\",\"#FF97FF\",\"#FECB52\"],\"font\":{\"color\":\"#2a3f5f\"},\"hovermode\":\"closest\",\"hoverlabel\":{\"align\":\"left\"},\"paper_bgcolor\":\"white\",\"plot_bgcolor\":\"#E5ECF6\",\"polar\":{\"bgcolor\":\"#E5ECF6\",\"angularaxis\":{\"gridcolor\":\"white\",\"linecolor\":\"white\",\"ticks\":\"\"},\"radialaxis\":{\"gridcolor\":\"white\",\"linecolor\":\"white\",\"ticks\":\"\"}},\"ternary\":{\"bgcolor\":\"#E5ECF6\",\"aaxis\":{\"gridcolor\":\"white\",\"linecolor\":\"white\",\"ticks\":\"\"},\"baxis\":{\"gridcolor\":\"white\",\"linecolor\":\"white\",\"ticks\":\"\"},\"caxis\":{\"gridcolor\":\"white\",\"linecolor\":\"white\",\"ticks\":\"\"}},\"coloraxis\":{\"colorbar\":{\"outlinewidth\":0,\"ticks\":\"\"}},\"colorscale\":{\"sequential\":[[0.0,\"#0d0887\"],[0.1111111111111111,\"#46039f\"],[0.2222222222222222,\"#7201a8\"],[0.3333333333333333,\"#9c179e\"],[0.4444444444444444,\"#bd3786\"],[0.5555555555555556,\"#d8576b\"],[0.6666666666666666,\"#ed7953\"],[0.7777777777777778,\"#fb9f3a\"],[0.8888888888888888,\"#fdca26\"],[1.0,\"#f0f921\"]],\"sequentialminus\":[[0.0,\"#0d0887\"],[0.1111111111111111,\"#46039f\"],[0.2222222222222222,\"#7201a8\"],[0.3333333333333333,\"#9c179e\"],[0.4444444444444444,\"#bd3786\"],[0.5555555555555556,\"#d8576b\"],[0.6666666666666666,\"#ed7953\"],[0.7777777777777778,\"#fb9f3a\"],[0.8888888888888888,\"#fdca26\"],[1.0,\"#f0f921\"]],\"diverging\":[[0,\"#8e0152\"],[0.1,\"#c51b7d\"],[0.2,\"#de77ae\"],[0.3,\"#f1b6da\"],[0.4,\"#fde0ef\"],[0.5,\"#f7f7f7\"],[0.6,\"#e6f5d0\"],[0.7,\"#b8e186\"],[0.8,\"#7fbc41\"],[0.9,\"#4d9221\"],[1,\"#276419\"]]},\"xaxis\":{\"gridcolor\":\"white\",\"linecolor\":\"white\",\"ticks\":\"\",\"title\":{\"standoff\":15},\"zerolinecolor\":\"white\",\"automargin\":true,\"zerolinewidth\":2},\"yaxis\":{\"gridcolor\":\"white\",\"linecolor\":\"white\",\"ticks\":\"\",\"title\":{\"standoff\":15},\"zerolinecolor\":\"white\",\"automargin\":true,\"zerolinewidth\":2},\"scene\":{\"xaxis\":{\"backgroundcolor\":\"#E5ECF6\",\"gridcolor\":\"white\",\"linecolor\":\"white\",\"showbackground\":true,\"ticks\":\"\",\"zerolinecolor\":\"white\",\"gridwidth\":2},\"yaxis\":{\"backgroundcolor\":\"#E5ECF6\",\"gridcolor\":\"white\",\"linecolor\":\"white\",\"showbackground\":true,\"ticks\":\"\",\"zerolinecolor\":\"white\",\"gridwidth\":2},\"zaxis\":{\"backgroundcolor\":\"#E5ECF6\",\"gridcolor\":\"white\",\"linecolor\":\"white\",\"showbackground\":true,\"ticks\":\"\",\"zerolinecolor\":\"white\",\"gridwidth\":2}},\"shapedefaults\":{\"line\":{\"color\":\"#2a3f5f\"}},\"annotationdefaults\":{\"arrowcolor\":\"#2a3f5f\",\"arrowhead\":0,\"arrowwidth\":1},\"geo\":{\"bgcolor\":\"white\",\"landcolor\":\"#E5ECF6\",\"subunitcolor\":\"white\",\"showland\":true,\"showlakes\":true,\"lakecolor\":\"white\"},\"title\":{\"x\":0.05},\"mapbox\":{\"style\":\"light\"}}},\"xaxis\":{\"anchor\":\"y\",\"domain\":[0.0,1.0],\"title\":{\"text\":\"day_of_week\"}},\"yaxis\":{\"anchor\":\"x\",\"domain\":[0.0,1.0],\"title\":{\"text\":\"counts\"}},\"legend\":{\"title\":{\"text\":\"member_casual\"},\"tracegroupgap\":0},\"margin\":{\"t\":60},\"barmode\":\"relative\"},                        {\"responsive\": true}                    ).then(function(){\n",
       "                            \n",
       "var gd = document.getElementById('c727e710-d514-4a39-b438-717e132756db');\n",
       "var x = new MutationObserver(function (mutations, observer) {{\n",
       "        var display = window.getComputedStyle(gd).display;\n",
       "        if (!display || display === 'none') {{\n",
       "            console.log([gd, 'removed!']);\n",
       "            Plotly.purge(gd);\n",
       "            observer.disconnect();\n",
       "        }}\n",
       "}});\n",
       "\n",
       "// Listen for the removal of the full notebook cells\n",
       "var notebookContainer = gd.closest('#notebook-container');\n",
       "if (notebookContainer) {{\n",
       "    x.observe(notebookContainer, {childList: true});\n",
       "}}\n",
       "\n",
       "// Listen for the clearing of the current output cell\n",
       "var outputEl = gd.closest('.output');\n",
       "if (outputEl) {{\n",
       "    x.observe(outputEl, {childList: true});\n",
       "}}\n",
       "\n",
       "                        })                };                });            </script>        </div>"
      ]
     },
     "metadata": {},
     "output_type": "display_data"
    }
   ],
   "source": [
    "df2 =  df_smote_final.groupby(by=[\"day_of_week\", \"member_casual\"]).size().reset_index(name=\"counts\")\n",
    "map_week = {0: 'Monday', 1: 'Tuesday', 2:'Wednesday', 3:'Thursday',4:'Friday',5:'Saturday', 6:'Sunday'}\n",
    "df2['day_of_week'] = df2['day_of_week'].map(map_week)\n",
    "fig = px.bar(df2, x=\"day_of_week\", y=\"counts\",color=\"member_casual\",)\n",
    "fig.show()"
   ]
  },
  {
   "cell_type": "markdown",
   "id": "3ac6f8ba",
   "metadata": {},
   "source": [
    "**Member bikers do ride more on the weekdays compared to weekends.**"
   ]
  },
  {
   "cell_type": "markdown",
   "id": "7e090397",
   "metadata": {},
   "source": [
    "**4) Do member bikers ride consistently over the months?**"
   ]
  },
  {
   "cell_type": "code",
   "execution_count": 63,
   "id": "ad9d9465",
   "metadata": {},
   "outputs": [
    {
     "data": {
      "application/vnd.plotly.v1+json": {
       "config": {
        "plotlyServerURL": "https://plot.ly"
       },
       "data": [
        {
         "alignmentgroup": "True",
         "hovertemplate": "member_casual=casual<br>month=%{x}<br>counts=%{y}<extra></extra>",
         "legendgroup": "casual",
         "marker": {
          "color": "#636efa",
          "pattern": {
           "shape": ""
          }
         },
         "name": "casual",
         "offsetgroup": "casual",
         "orientation": "v",
         "showlegend": true,
         "textposition": "auto",
         "type": "bar",
         "x": [
          "January",
          "February",
          "March",
          "April",
          "May",
          "June",
          "July",
          "August",
          "September",
          "October",
          "November"
         ],
         "xaxis": "x",
         "y": [
          60,
          112,
          255,
          377,
          405,
          542,
          688,
          598,
          594,
          353,
          145
         ],
         "yaxis": "y"
        },
        {
         "alignmentgroup": "True",
         "hovertemplate": "member_casual=member<br>month=%{x}<br>counts=%{y}<extra></extra>",
         "legendgroup": "member",
         "marker": {
          "color": "#EF553B",
          "pattern": {
           "shape": ""
          }
         },
         "name": "member",
         "offsetgroup": "member",
         "orientation": "v",
         "showlegend": true,
         "textposition": "auto",
         "type": "bar",
         "x": [
          "January",
          "February",
          "March",
          "April",
          "May",
          "June",
          "July",
          "August",
          "September",
          "October",
          "November"
         ],
         "xaxis": "x",
         "y": [
          118,
          149,
          212,
          232,
          343,
          440,
          426,
          523,
          523,
          639,
          524
         ],
         "yaxis": "y"
        }
       ],
       "layout": {
        "barmode": "group",
        "legend": {
         "title": {
          "text": "member_casual"
         },
         "tracegroupgap": 0
        },
        "margin": {
         "t": 60
        },
        "template": {
         "data": {
          "bar": [
           {
            "error_x": {
             "color": "#2a3f5f"
            },
            "error_y": {
             "color": "#2a3f5f"
            },
            "marker": {
             "line": {
              "color": "#E5ECF6",
              "width": 0.5
             },
             "pattern": {
              "fillmode": "overlay",
              "size": 10,
              "solidity": 0.2
             }
            },
            "type": "bar"
           }
          ],
          "barpolar": [
           {
            "marker": {
             "line": {
              "color": "#E5ECF6",
              "width": 0.5
             },
             "pattern": {
              "fillmode": "overlay",
              "size": 10,
              "solidity": 0.2
             }
            },
            "type": "barpolar"
           }
          ],
          "carpet": [
           {
            "aaxis": {
             "endlinecolor": "#2a3f5f",
             "gridcolor": "white",
             "linecolor": "white",
             "minorgridcolor": "white",
             "startlinecolor": "#2a3f5f"
            },
            "baxis": {
             "endlinecolor": "#2a3f5f",
             "gridcolor": "white",
             "linecolor": "white",
             "minorgridcolor": "white",
             "startlinecolor": "#2a3f5f"
            },
            "type": "carpet"
           }
          ],
          "choropleth": [
           {
            "colorbar": {
             "outlinewidth": 0,
             "ticks": ""
            },
            "type": "choropleth"
           }
          ],
          "contour": [
           {
            "colorbar": {
             "outlinewidth": 0,
             "ticks": ""
            },
            "colorscale": [
             [
              0,
              "#0d0887"
             ],
             [
              0.1111111111111111,
              "#46039f"
             ],
             [
              0.2222222222222222,
              "#7201a8"
             ],
             [
              0.3333333333333333,
              "#9c179e"
             ],
             [
              0.4444444444444444,
              "#bd3786"
             ],
             [
              0.5555555555555556,
              "#d8576b"
             ],
             [
              0.6666666666666666,
              "#ed7953"
             ],
             [
              0.7777777777777778,
              "#fb9f3a"
             ],
             [
              0.8888888888888888,
              "#fdca26"
             ],
             [
              1,
              "#f0f921"
             ]
            ],
            "type": "contour"
           }
          ],
          "contourcarpet": [
           {
            "colorbar": {
             "outlinewidth": 0,
             "ticks": ""
            },
            "type": "contourcarpet"
           }
          ],
          "heatmap": [
           {
            "colorbar": {
             "outlinewidth": 0,
             "ticks": ""
            },
            "colorscale": [
             [
              0,
              "#0d0887"
             ],
             [
              0.1111111111111111,
              "#46039f"
             ],
             [
              0.2222222222222222,
              "#7201a8"
             ],
             [
              0.3333333333333333,
              "#9c179e"
             ],
             [
              0.4444444444444444,
              "#bd3786"
             ],
             [
              0.5555555555555556,
              "#d8576b"
             ],
             [
              0.6666666666666666,
              "#ed7953"
             ],
             [
              0.7777777777777778,
              "#fb9f3a"
             ],
             [
              0.8888888888888888,
              "#fdca26"
             ],
             [
              1,
              "#f0f921"
             ]
            ],
            "type": "heatmap"
           }
          ],
          "heatmapgl": [
           {
            "colorbar": {
             "outlinewidth": 0,
             "ticks": ""
            },
            "colorscale": [
             [
              0,
              "#0d0887"
             ],
             [
              0.1111111111111111,
              "#46039f"
             ],
             [
              0.2222222222222222,
              "#7201a8"
             ],
             [
              0.3333333333333333,
              "#9c179e"
             ],
             [
              0.4444444444444444,
              "#bd3786"
             ],
             [
              0.5555555555555556,
              "#d8576b"
             ],
             [
              0.6666666666666666,
              "#ed7953"
             ],
             [
              0.7777777777777778,
              "#fb9f3a"
             ],
             [
              0.8888888888888888,
              "#fdca26"
             ],
             [
              1,
              "#f0f921"
             ]
            ],
            "type": "heatmapgl"
           }
          ],
          "histogram": [
           {
            "marker": {
             "pattern": {
              "fillmode": "overlay",
              "size": 10,
              "solidity": 0.2
             }
            },
            "type": "histogram"
           }
          ],
          "histogram2d": [
           {
            "colorbar": {
             "outlinewidth": 0,
             "ticks": ""
            },
            "colorscale": [
             [
              0,
              "#0d0887"
             ],
             [
              0.1111111111111111,
              "#46039f"
             ],
             [
              0.2222222222222222,
              "#7201a8"
             ],
             [
              0.3333333333333333,
              "#9c179e"
             ],
             [
              0.4444444444444444,
              "#bd3786"
             ],
             [
              0.5555555555555556,
              "#d8576b"
             ],
             [
              0.6666666666666666,
              "#ed7953"
             ],
             [
              0.7777777777777778,
              "#fb9f3a"
             ],
             [
              0.8888888888888888,
              "#fdca26"
             ],
             [
              1,
              "#f0f921"
             ]
            ],
            "type": "histogram2d"
           }
          ],
          "histogram2dcontour": [
           {
            "colorbar": {
             "outlinewidth": 0,
             "ticks": ""
            },
            "colorscale": [
             [
              0,
              "#0d0887"
             ],
             [
              0.1111111111111111,
              "#46039f"
             ],
             [
              0.2222222222222222,
              "#7201a8"
             ],
             [
              0.3333333333333333,
              "#9c179e"
             ],
             [
              0.4444444444444444,
              "#bd3786"
             ],
             [
              0.5555555555555556,
              "#d8576b"
             ],
             [
              0.6666666666666666,
              "#ed7953"
             ],
             [
              0.7777777777777778,
              "#fb9f3a"
             ],
             [
              0.8888888888888888,
              "#fdca26"
             ],
             [
              1,
              "#f0f921"
             ]
            ],
            "type": "histogram2dcontour"
           }
          ],
          "mesh3d": [
           {
            "colorbar": {
             "outlinewidth": 0,
             "ticks": ""
            },
            "type": "mesh3d"
           }
          ],
          "parcoords": [
           {
            "line": {
             "colorbar": {
              "outlinewidth": 0,
              "ticks": ""
             }
            },
            "type": "parcoords"
           }
          ],
          "pie": [
           {
            "automargin": true,
            "type": "pie"
           }
          ],
          "scatter": [
           {
            "fillpattern": {
             "fillmode": "overlay",
             "size": 10,
             "solidity": 0.2
            },
            "type": "scatter"
           }
          ],
          "scatter3d": [
           {
            "line": {
             "colorbar": {
              "outlinewidth": 0,
              "ticks": ""
             }
            },
            "marker": {
             "colorbar": {
              "outlinewidth": 0,
              "ticks": ""
             }
            },
            "type": "scatter3d"
           }
          ],
          "scattercarpet": [
           {
            "marker": {
             "colorbar": {
              "outlinewidth": 0,
              "ticks": ""
             }
            },
            "type": "scattercarpet"
           }
          ],
          "scattergeo": [
           {
            "marker": {
             "colorbar": {
              "outlinewidth": 0,
              "ticks": ""
             }
            },
            "type": "scattergeo"
           }
          ],
          "scattergl": [
           {
            "marker": {
             "colorbar": {
              "outlinewidth": 0,
              "ticks": ""
             }
            },
            "type": "scattergl"
           }
          ],
          "scattermapbox": [
           {
            "marker": {
             "colorbar": {
              "outlinewidth": 0,
              "ticks": ""
             }
            },
            "type": "scattermapbox"
           }
          ],
          "scatterpolar": [
           {
            "marker": {
             "colorbar": {
              "outlinewidth": 0,
              "ticks": ""
             }
            },
            "type": "scatterpolar"
           }
          ],
          "scatterpolargl": [
           {
            "marker": {
             "colorbar": {
              "outlinewidth": 0,
              "ticks": ""
             }
            },
            "type": "scatterpolargl"
           }
          ],
          "scatterternary": [
           {
            "marker": {
             "colorbar": {
              "outlinewidth": 0,
              "ticks": ""
             }
            },
            "type": "scatterternary"
           }
          ],
          "surface": [
           {
            "colorbar": {
             "outlinewidth": 0,
             "ticks": ""
            },
            "colorscale": [
             [
              0,
              "#0d0887"
             ],
             [
              0.1111111111111111,
              "#46039f"
             ],
             [
              0.2222222222222222,
              "#7201a8"
             ],
             [
              0.3333333333333333,
              "#9c179e"
             ],
             [
              0.4444444444444444,
              "#bd3786"
             ],
             [
              0.5555555555555556,
              "#d8576b"
             ],
             [
              0.6666666666666666,
              "#ed7953"
             ],
             [
              0.7777777777777778,
              "#fb9f3a"
             ],
             [
              0.8888888888888888,
              "#fdca26"
             ],
             [
              1,
              "#f0f921"
             ]
            ],
            "type": "surface"
           }
          ],
          "table": [
           {
            "cells": {
             "fill": {
              "color": "#EBF0F8"
             },
             "line": {
              "color": "white"
             }
            },
            "header": {
             "fill": {
              "color": "#C8D4E3"
             },
             "line": {
              "color": "white"
             }
            },
            "type": "table"
           }
          ]
         },
         "layout": {
          "annotationdefaults": {
           "arrowcolor": "#2a3f5f",
           "arrowhead": 0,
           "arrowwidth": 1
          },
          "autotypenumbers": "strict",
          "coloraxis": {
           "colorbar": {
            "outlinewidth": 0,
            "ticks": ""
           }
          },
          "colorscale": {
           "diverging": [
            [
             0,
             "#8e0152"
            ],
            [
             0.1,
             "#c51b7d"
            ],
            [
             0.2,
             "#de77ae"
            ],
            [
             0.3,
             "#f1b6da"
            ],
            [
             0.4,
             "#fde0ef"
            ],
            [
             0.5,
             "#f7f7f7"
            ],
            [
             0.6,
             "#e6f5d0"
            ],
            [
             0.7,
             "#b8e186"
            ],
            [
             0.8,
             "#7fbc41"
            ],
            [
             0.9,
             "#4d9221"
            ],
            [
             1,
             "#276419"
            ]
           ],
           "sequential": [
            [
             0,
             "#0d0887"
            ],
            [
             0.1111111111111111,
             "#46039f"
            ],
            [
             0.2222222222222222,
             "#7201a8"
            ],
            [
             0.3333333333333333,
             "#9c179e"
            ],
            [
             0.4444444444444444,
             "#bd3786"
            ],
            [
             0.5555555555555556,
             "#d8576b"
            ],
            [
             0.6666666666666666,
             "#ed7953"
            ],
            [
             0.7777777777777778,
             "#fb9f3a"
            ],
            [
             0.8888888888888888,
             "#fdca26"
            ],
            [
             1,
             "#f0f921"
            ]
           ],
           "sequentialminus": [
            [
             0,
             "#0d0887"
            ],
            [
             0.1111111111111111,
             "#46039f"
            ],
            [
             0.2222222222222222,
             "#7201a8"
            ],
            [
             0.3333333333333333,
             "#9c179e"
            ],
            [
             0.4444444444444444,
             "#bd3786"
            ],
            [
             0.5555555555555556,
             "#d8576b"
            ],
            [
             0.6666666666666666,
             "#ed7953"
            ],
            [
             0.7777777777777778,
             "#fb9f3a"
            ],
            [
             0.8888888888888888,
             "#fdca26"
            ],
            [
             1,
             "#f0f921"
            ]
           ]
          },
          "colorway": [
           "#636efa",
           "#EF553B",
           "#00cc96",
           "#ab63fa",
           "#FFA15A",
           "#19d3f3",
           "#FF6692",
           "#B6E880",
           "#FF97FF",
           "#FECB52"
          ],
          "font": {
           "color": "#2a3f5f"
          },
          "geo": {
           "bgcolor": "white",
           "lakecolor": "white",
           "landcolor": "#E5ECF6",
           "showlakes": true,
           "showland": true,
           "subunitcolor": "white"
          },
          "hoverlabel": {
           "align": "left"
          },
          "hovermode": "closest",
          "mapbox": {
           "style": "light"
          },
          "paper_bgcolor": "white",
          "plot_bgcolor": "#E5ECF6",
          "polar": {
           "angularaxis": {
            "gridcolor": "white",
            "linecolor": "white",
            "ticks": ""
           },
           "bgcolor": "#E5ECF6",
           "radialaxis": {
            "gridcolor": "white",
            "linecolor": "white",
            "ticks": ""
           }
          },
          "scene": {
           "xaxis": {
            "backgroundcolor": "#E5ECF6",
            "gridcolor": "white",
            "gridwidth": 2,
            "linecolor": "white",
            "showbackground": true,
            "ticks": "",
            "zerolinecolor": "white"
           },
           "yaxis": {
            "backgroundcolor": "#E5ECF6",
            "gridcolor": "white",
            "gridwidth": 2,
            "linecolor": "white",
            "showbackground": true,
            "ticks": "",
            "zerolinecolor": "white"
           },
           "zaxis": {
            "backgroundcolor": "#E5ECF6",
            "gridcolor": "white",
            "gridwidth": 2,
            "linecolor": "white",
            "showbackground": true,
            "ticks": "",
            "zerolinecolor": "white"
           }
          },
          "shapedefaults": {
           "line": {
            "color": "#2a3f5f"
           }
          },
          "ternary": {
           "aaxis": {
            "gridcolor": "white",
            "linecolor": "white",
            "ticks": ""
           },
           "baxis": {
            "gridcolor": "white",
            "linecolor": "white",
            "ticks": ""
           },
           "bgcolor": "#E5ECF6",
           "caxis": {
            "gridcolor": "white",
            "linecolor": "white",
            "ticks": ""
           }
          },
          "title": {
           "x": 0.05
          },
          "xaxis": {
           "automargin": true,
           "gridcolor": "white",
           "linecolor": "white",
           "ticks": "",
           "title": {
            "standoff": 15
           },
           "zerolinecolor": "white",
           "zerolinewidth": 2
          },
          "yaxis": {
           "automargin": true,
           "gridcolor": "white",
           "linecolor": "white",
           "ticks": "",
           "title": {
            "standoff": 15
           },
           "zerolinecolor": "white",
           "zerolinewidth": 2
          }
         }
        },
        "xaxis": {
         "anchor": "y",
         "domain": [
          0,
          1
         ],
         "title": {
          "text": "month"
         }
        },
        "yaxis": {
         "anchor": "x",
         "domain": [
          0,
          1
         ],
         "title": {
          "text": "counts"
         }
        }
       }
      },
      "text/html": [
       "<div>                            <div id=\"2cdad9a1-87c3-496a-a9fe-575f3b78f32a\" class=\"plotly-graph-div\" style=\"height:525px; width:100%;\"></div>            <script type=\"text/javascript\">                require([\"plotly\"], function(Plotly) {                    window.PLOTLYENV=window.PLOTLYENV || {};                                    if (document.getElementById(\"2cdad9a1-87c3-496a-a9fe-575f3b78f32a\")) {                    Plotly.newPlot(                        \"2cdad9a1-87c3-496a-a9fe-575f3b78f32a\",                        [{\"alignmentgroup\":\"True\",\"hovertemplate\":\"member_casual=casual<br>month=%{x}<br>counts=%{y}<extra></extra>\",\"legendgroup\":\"casual\",\"marker\":{\"color\":\"#636efa\",\"pattern\":{\"shape\":\"\"}},\"name\":\"casual\",\"offsetgroup\":\"casual\",\"orientation\":\"v\",\"showlegend\":true,\"textposition\":\"auto\",\"x\":[\"January\",\"February\",\"March\",\"April\",\"May\",\"June\",\"July\",\"August\",\"September\",\"October\",\"November\"],\"xaxis\":\"x\",\"y\":[60,112,255,377,405,542,688,598,594,353,145],\"yaxis\":\"y\",\"type\":\"bar\"},{\"alignmentgroup\":\"True\",\"hovertemplate\":\"member_casual=member<br>month=%{x}<br>counts=%{y}<extra></extra>\",\"legendgroup\":\"member\",\"marker\":{\"color\":\"#EF553B\",\"pattern\":{\"shape\":\"\"}},\"name\":\"member\",\"offsetgroup\":\"member\",\"orientation\":\"v\",\"showlegend\":true,\"textposition\":\"auto\",\"x\":[\"January\",\"February\",\"March\",\"April\",\"May\",\"June\",\"July\",\"August\",\"September\",\"October\",\"November\"],\"xaxis\":\"x\",\"y\":[118,149,212,232,343,440,426,523,523,639,524],\"yaxis\":\"y\",\"type\":\"bar\"}],                        {\"template\":{\"data\":{\"histogram2dcontour\":[{\"type\":\"histogram2dcontour\",\"colorbar\":{\"outlinewidth\":0,\"ticks\":\"\"},\"colorscale\":[[0.0,\"#0d0887\"],[0.1111111111111111,\"#46039f\"],[0.2222222222222222,\"#7201a8\"],[0.3333333333333333,\"#9c179e\"],[0.4444444444444444,\"#bd3786\"],[0.5555555555555556,\"#d8576b\"],[0.6666666666666666,\"#ed7953\"],[0.7777777777777778,\"#fb9f3a\"],[0.8888888888888888,\"#fdca26\"],[1.0,\"#f0f921\"]]}],\"choropleth\":[{\"type\":\"choropleth\",\"colorbar\":{\"outlinewidth\":0,\"ticks\":\"\"}}],\"histogram2d\":[{\"type\":\"histogram2d\",\"colorbar\":{\"outlinewidth\":0,\"ticks\":\"\"},\"colorscale\":[[0.0,\"#0d0887\"],[0.1111111111111111,\"#46039f\"],[0.2222222222222222,\"#7201a8\"],[0.3333333333333333,\"#9c179e\"],[0.4444444444444444,\"#bd3786\"],[0.5555555555555556,\"#d8576b\"],[0.6666666666666666,\"#ed7953\"],[0.7777777777777778,\"#fb9f3a\"],[0.8888888888888888,\"#fdca26\"],[1.0,\"#f0f921\"]]}],\"heatmap\":[{\"type\":\"heatmap\",\"colorbar\":{\"outlinewidth\":0,\"ticks\":\"\"},\"colorscale\":[[0.0,\"#0d0887\"],[0.1111111111111111,\"#46039f\"],[0.2222222222222222,\"#7201a8\"],[0.3333333333333333,\"#9c179e\"],[0.4444444444444444,\"#bd3786\"],[0.5555555555555556,\"#d8576b\"],[0.6666666666666666,\"#ed7953\"],[0.7777777777777778,\"#fb9f3a\"],[0.8888888888888888,\"#fdca26\"],[1.0,\"#f0f921\"]]}],\"heatmapgl\":[{\"type\":\"heatmapgl\",\"colorbar\":{\"outlinewidth\":0,\"ticks\":\"\"},\"colorscale\":[[0.0,\"#0d0887\"],[0.1111111111111111,\"#46039f\"],[0.2222222222222222,\"#7201a8\"],[0.3333333333333333,\"#9c179e\"],[0.4444444444444444,\"#bd3786\"],[0.5555555555555556,\"#d8576b\"],[0.6666666666666666,\"#ed7953\"],[0.7777777777777778,\"#fb9f3a\"],[0.8888888888888888,\"#fdca26\"],[1.0,\"#f0f921\"]]}],\"contourcarpet\":[{\"type\":\"contourcarpet\",\"colorbar\":{\"outlinewidth\":0,\"ticks\":\"\"}}],\"contour\":[{\"type\":\"contour\",\"colorbar\":{\"outlinewidth\":0,\"ticks\":\"\"},\"colorscale\":[[0.0,\"#0d0887\"],[0.1111111111111111,\"#46039f\"],[0.2222222222222222,\"#7201a8\"],[0.3333333333333333,\"#9c179e\"],[0.4444444444444444,\"#bd3786\"],[0.5555555555555556,\"#d8576b\"],[0.6666666666666666,\"#ed7953\"],[0.7777777777777778,\"#fb9f3a\"],[0.8888888888888888,\"#fdca26\"],[1.0,\"#f0f921\"]]}],\"surface\":[{\"type\":\"surface\",\"colorbar\":{\"outlinewidth\":0,\"ticks\":\"\"},\"colorscale\":[[0.0,\"#0d0887\"],[0.1111111111111111,\"#46039f\"],[0.2222222222222222,\"#7201a8\"],[0.3333333333333333,\"#9c179e\"],[0.4444444444444444,\"#bd3786\"],[0.5555555555555556,\"#d8576b\"],[0.6666666666666666,\"#ed7953\"],[0.7777777777777778,\"#fb9f3a\"],[0.8888888888888888,\"#fdca26\"],[1.0,\"#f0f921\"]]}],\"mesh3d\":[{\"type\":\"mesh3d\",\"colorbar\":{\"outlinewidth\":0,\"ticks\":\"\"}}],\"scatter\":[{\"fillpattern\":{\"fillmode\":\"overlay\",\"size\":10,\"solidity\":0.2},\"type\":\"scatter\"}],\"parcoords\":[{\"type\":\"parcoords\",\"line\":{\"colorbar\":{\"outlinewidth\":0,\"ticks\":\"\"}}}],\"scatterpolargl\":[{\"type\":\"scatterpolargl\",\"marker\":{\"colorbar\":{\"outlinewidth\":0,\"ticks\":\"\"}}}],\"bar\":[{\"error_x\":{\"color\":\"#2a3f5f\"},\"error_y\":{\"color\":\"#2a3f5f\"},\"marker\":{\"line\":{\"color\":\"#E5ECF6\",\"width\":0.5},\"pattern\":{\"fillmode\":\"overlay\",\"size\":10,\"solidity\":0.2}},\"type\":\"bar\"}],\"scattergeo\":[{\"type\":\"scattergeo\",\"marker\":{\"colorbar\":{\"outlinewidth\":0,\"ticks\":\"\"}}}],\"scatterpolar\":[{\"type\":\"scatterpolar\",\"marker\":{\"colorbar\":{\"outlinewidth\":0,\"ticks\":\"\"}}}],\"histogram\":[{\"marker\":{\"pattern\":{\"fillmode\":\"overlay\",\"size\":10,\"solidity\":0.2}},\"type\":\"histogram\"}],\"scattergl\":[{\"type\":\"scattergl\",\"marker\":{\"colorbar\":{\"outlinewidth\":0,\"ticks\":\"\"}}}],\"scatter3d\":[{\"type\":\"scatter3d\",\"line\":{\"colorbar\":{\"outlinewidth\":0,\"ticks\":\"\"}},\"marker\":{\"colorbar\":{\"outlinewidth\":0,\"ticks\":\"\"}}}],\"scattermapbox\":[{\"type\":\"scattermapbox\",\"marker\":{\"colorbar\":{\"outlinewidth\":0,\"ticks\":\"\"}}}],\"scatterternary\":[{\"type\":\"scatterternary\",\"marker\":{\"colorbar\":{\"outlinewidth\":0,\"ticks\":\"\"}}}],\"scattercarpet\":[{\"type\":\"scattercarpet\",\"marker\":{\"colorbar\":{\"outlinewidth\":0,\"ticks\":\"\"}}}],\"carpet\":[{\"aaxis\":{\"endlinecolor\":\"#2a3f5f\",\"gridcolor\":\"white\",\"linecolor\":\"white\",\"minorgridcolor\":\"white\",\"startlinecolor\":\"#2a3f5f\"},\"baxis\":{\"endlinecolor\":\"#2a3f5f\",\"gridcolor\":\"white\",\"linecolor\":\"white\",\"minorgridcolor\":\"white\",\"startlinecolor\":\"#2a3f5f\"},\"type\":\"carpet\"}],\"table\":[{\"cells\":{\"fill\":{\"color\":\"#EBF0F8\"},\"line\":{\"color\":\"white\"}},\"header\":{\"fill\":{\"color\":\"#C8D4E3\"},\"line\":{\"color\":\"white\"}},\"type\":\"table\"}],\"barpolar\":[{\"marker\":{\"line\":{\"color\":\"#E5ECF6\",\"width\":0.5},\"pattern\":{\"fillmode\":\"overlay\",\"size\":10,\"solidity\":0.2}},\"type\":\"barpolar\"}],\"pie\":[{\"automargin\":true,\"type\":\"pie\"}]},\"layout\":{\"autotypenumbers\":\"strict\",\"colorway\":[\"#636efa\",\"#EF553B\",\"#00cc96\",\"#ab63fa\",\"#FFA15A\",\"#19d3f3\",\"#FF6692\",\"#B6E880\",\"#FF97FF\",\"#FECB52\"],\"font\":{\"color\":\"#2a3f5f\"},\"hovermode\":\"closest\",\"hoverlabel\":{\"align\":\"left\"},\"paper_bgcolor\":\"white\",\"plot_bgcolor\":\"#E5ECF6\",\"polar\":{\"bgcolor\":\"#E5ECF6\",\"angularaxis\":{\"gridcolor\":\"white\",\"linecolor\":\"white\",\"ticks\":\"\"},\"radialaxis\":{\"gridcolor\":\"white\",\"linecolor\":\"white\",\"ticks\":\"\"}},\"ternary\":{\"bgcolor\":\"#E5ECF6\",\"aaxis\":{\"gridcolor\":\"white\",\"linecolor\":\"white\",\"ticks\":\"\"},\"baxis\":{\"gridcolor\":\"white\",\"linecolor\":\"white\",\"ticks\":\"\"},\"caxis\":{\"gridcolor\":\"white\",\"linecolor\":\"white\",\"ticks\":\"\"}},\"coloraxis\":{\"colorbar\":{\"outlinewidth\":0,\"ticks\":\"\"}},\"colorscale\":{\"sequential\":[[0.0,\"#0d0887\"],[0.1111111111111111,\"#46039f\"],[0.2222222222222222,\"#7201a8\"],[0.3333333333333333,\"#9c179e\"],[0.4444444444444444,\"#bd3786\"],[0.5555555555555556,\"#d8576b\"],[0.6666666666666666,\"#ed7953\"],[0.7777777777777778,\"#fb9f3a\"],[0.8888888888888888,\"#fdca26\"],[1.0,\"#f0f921\"]],\"sequentialminus\":[[0.0,\"#0d0887\"],[0.1111111111111111,\"#46039f\"],[0.2222222222222222,\"#7201a8\"],[0.3333333333333333,\"#9c179e\"],[0.4444444444444444,\"#bd3786\"],[0.5555555555555556,\"#d8576b\"],[0.6666666666666666,\"#ed7953\"],[0.7777777777777778,\"#fb9f3a\"],[0.8888888888888888,\"#fdca26\"],[1.0,\"#f0f921\"]],\"diverging\":[[0,\"#8e0152\"],[0.1,\"#c51b7d\"],[0.2,\"#de77ae\"],[0.3,\"#f1b6da\"],[0.4,\"#fde0ef\"],[0.5,\"#f7f7f7\"],[0.6,\"#e6f5d0\"],[0.7,\"#b8e186\"],[0.8,\"#7fbc41\"],[0.9,\"#4d9221\"],[1,\"#276419\"]]},\"xaxis\":{\"gridcolor\":\"white\",\"linecolor\":\"white\",\"ticks\":\"\",\"title\":{\"standoff\":15},\"zerolinecolor\":\"white\",\"automargin\":true,\"zerolinewidth\":2},\"yaxis\":{\"gridcolor\":\"white\",\"linecolor\":\"white\",\"ticks\":\"\",\"title\":{\"standoff\":15},\"zerolinecolor\":\"white\",\"automargin\":true,\"zerolinewidth\":2},\"scene\":{\"xaxis\":{\"backgroundcolor\":\"#E5ECF6\",\"gridcolor\":\"white\",\"linecolor\":\"white\",\"showbackground\":true,\"ticks\":\"\",\"zerolinecolor\":\"white\",\"gridwidth\":2},\"yaxis\":{\"backgroundcolor\":\"#E5ECF6\",\"gridcolor\":\"white\",\"linecolor\":\"white\",\"showbackground\":true,\"ticks\":\"\",\"zerolinecolor\":\"white\",\"gridwidth\":2},\"zaxis\":{\"backgroundcolor\":\"#E5ECF6\",\"gridcolor\":\"white\",\"linecolor\":\"white\",\"showbackground\":true,\"ticks\":\"\",\"zerolinecolor\":\"white\",\"gridwidth\":2}},\"shapedefaults\":{\"line\":{\"color\":\"#2a3f5f\"}},\"annotationdefaults\":{\"arrowcolor\":\"#2a3f5f\",\"arrowhead\":0,\"arrowwidth\":1},\"geo\":{\"bgcolor\":\"white\",\"landcolor\":\"#E5ECF6\",\"subunitcolor\":\"white\",\"showland\":true,\"showlakes\":true,\"lakecolor\":\"white\"},\"title\":{\"x\":0.05},\"mapbox\":{\"style\":\"light\"}}},\"xaxis\":{\"anchor\":\"y\",\"domain\":[0.0,1.0],\"title\":{\"text\":\"month\"}},\"yaxis\":{\"anchor\":\"x\",\"domain\":[0.0,1.0],\"title\":{\"text\":\"counts\"}},\"legend\":{\"title\":{\"text\":\"member_casual\"},\"tracegroupgap\":0},\"margin\":{\"t\":60},\"barmode\":\"group\"},                        {\"responsive\": true}                    ).then(function(){\n",
       "                            \n",
       "var gd = document.getElementById('2cdad9a1-87c3-496a-a9fe-575f3b78f32a');\n",
       "var x = new MutationObserver(function (mutations, observer) {{\n",
       "        var display = window.getComputedStyle(gd).display;\n",
       "        if (!display || display === 'none') {{\n",
       "            console.log([gd, 'removed!']);\n",
       "            Plotly.purge(gd);\n",
       "            observer.disconnect();\n",
       "        }}\n",
       "}});\n",
       "\n",
       "// Listen for the removal of the full notebook cells\n",
       "var notebookContainer = gd.closest('#notebook-container');\n",
       "if (notebookContainer) {{\n",
       "    x.observe(notebookContainer, {childList: true});\n",
       "}}\n",
       "\n",
       "// Listen for the clearing of the current output cell\n",
       "var outputEl = gd.closest('.output');\n",
       "if (outputEl) {{\n",
       "    x.observe(outputEl, {childList: true});\n",
       "}}\n",
       "\n",
       "                        })                };                });            </script>        </div>"
      ]
     },
     "metadata": {},
     "output_type": "display_data"
    }
   ],
   "source": [
    "df_1 = df_smote_final.groupby(by=[\"month\", \"member_casual\"]).size().reset_index(name=\"counts\")\n",
    "map_month = {\n",
    "    1: 'January',\n",
    "    2: 'February',\n",
    "    3: 'March',\n",
    "    4: 'April',\n",
    "    5: 'May',\n",
    "    6: 'June',\n",
    "    7: 'July',\n",
    "    8: 'August',\n",
    "    9: 'September',\n",
    "    10: 'October', \n",
    "    11: 'November',\n",
    "    12: 'December'\n",
    "}\n",
    "df_1['month'] = df_1['month'].map(map_month)\n",
    "fig = px.bar(df_1, x=\"month\", y=\"counts\",color=\"member_casual\",barmode=\"group\")\n",
    "fig.show()"
   ]
  },
  {
   "cell_type": "markdown",
   "id": "67329464",
   "metadata": {},
   "source": [
    "**Member riders have been consistent over a period of time with respect to casual users. Overall usage of bike riding members have incresae in the months starting June to November.**"
   ]
  },
  {
   "cell_type": "markdown",
   "id": "72c309a6",
   "metadata": {},
   "source": [
    "**5) Do casual bikers travel for long period of time?**"
   ]
  },
  {
   "cell_type": "code",
   "execution_count": 64,
   "id": "ef5f782d",
   "metadata": {},
   "outputs": [
    {
     "data": {
      "application/vnd.plotly.v1+json": {
       "config": {
        "plotlyServerURL": "https://plot.ly"
       },
       "data": [
        {
         "alignmentgroup": "True",
         "hovertemplate": "member_casual=%{x}<br>duration=%{y}<extra></extra>",
         "legendgroup": "casual",
         "marker": {
          "color": "#636efa",
          "pattern": {
           "shape": ""
          }
         },
         "name": "casual",
         "offsetgroup": "casual",
         "orientation": "v",
         "showlegend": true,
         "textposition": "auto",
         "type": "bar",
         "x": [
          "casual"
         ],
         "xaxis": "x",
         "y": [
          7.677507242286598
         ],
         "yaxis": "y"
        },
        {
         "alignmentgroup": "True",
         "hovertemplate": "member_casual=%{x}<br>duration=%{y}<extra></extra>",
         "legendgroup": "member",
         "marker": {
          "color": "#EF553B",
          "pattern": {
           "shape": ""
          }
         },
         "name": "member",
         "offsetgroup": "member",
         "orientation": "v",
         "showlegend": true,
         "textposition": "auto",
         "type": "bar",
         "x": [
          "member"
         ],
         "xaxis": "x",
         "y": [
          7.746427706466457
         ],
         "yaxis": "y"
        }
       ],
       "layout": {
        "barmode": "relative",
        "legend": {
         "title": {
          "text": "member_casual"
         },
         "tracegroupgap": 0
        },
        "margin": {
         "t": 60
        },
        "template": {
         "data": {
          "bar": [
           {
            "error_x": {
             "color": "#2a3f5f"
            },
            "error_y": {
             "color": "#2a3f5f"
            },
            "marker": {
             "line": {
              "color": "#E5ECF6",
              "width": 0.5
             },
             "pattern": {
              "fillmode": "overlay",
              "size": 10,
              "solidity": 0.2
             }
            },
            "type": "bar"
           }
          ],
          "barpolar": [
           {
            "marker": {
             "line": {
              "color": "#E5ECF6",
              "width": 0.5
             },
             "pattern": {
              "fillmode": "overlay",
              "size": 10,
              "solidity": 0.2
             }
            },
            "type": "barpolar"
           }
          ],
          "carpet": [
           {
            "aaxis": {
             "endlinecolor": "#2a3f5f",
             "gridcolor": "white",
             "linecolor": "white",
             "minorgridcolor": "white",
             "startlinecolor": "#2a3f5f"
            },
            "baxis": {
             "endlinecolor": "#2a3f5f",
             "gridcolor": "white",
             "linecolor": "white",
             "minorgridcolor": "white",
             "startlinecolor": "#2a3f5f"
            },
            "type": "carpet"
           }
          ],
          "choropleth": [
           {
            "colorbar": {
             "outlinewidth": 0,
             "ticks": ""
            },
            "type": "choropleth"
           }
          ],
          "contour": [
           {
            "colorbar": {
             "outlinewidth": 0,
             "ticks": ""
            },
            "colorscale": [
             [
              0,
              "#0d0887"
             ],
             [
              0.1111111111111111,
              "#46039f"
             ],
             [
              0.2222222222222222,
              "#7201a8"
             ],
             [
              0.3333333333333333,
              "#9c179e"
             ],
             [
              0.4444444444444444,
              "#bd3786"
             ],
             [
              0.5555555555555556,
              "#d8576b"
             ],
             [
              0.6666666666666666,
              "#ed7953"
             ],
             [
              0.7777777777777778,
              "#fb9f3a"
             ],
             [
              0.8888888888888888,
              "#fdca26"
             ],
             [
              1,
              "#f0f921"
             ]
            ],
            "type": "contour"
           }
          ],
          "contourcarpet": [
           {
            "colorbar": {
             "outlinewidth": 0,
             "ticks": ""
            },
            "type": "contourcarpet"
           }
          ],
          "heatmap": [
           {
            "colorbar": {
             "outlinewidth": 0,
             "ticks": ""
            },
            "colorscale": [
             [
              0,
              "#0d0887"
             ],
             [
              0.1111111111111111,
              "#46039f"
             ],
             [
              0.2222222222222222,
              "#7201a8"
             ],
             [
              0.3333333333333333,
              "#9c179e"
             ],
             [
              0.4444444444444444,
              "#bd3786"
             ],
             [
              0.5555555555555556,
              "#d8576b"
             ],
             [
              0.6666666666666666,
              "#ed7953"
             ],
             [
              0.7777777777777778,
              "#fb9f3a"
             ],
             [
              0.8888888888888888,
              "#fdca26"
             ],
             [
              1,
              "#f0f921"
             ]
            ],
            "type": "heatmap"
           }
          ],
          "heatmapgl": [
           {
            "colorbar": {
             "outlinewidth": 0,
             "ticks": ""
            },
            "colorscale": [
             [
              0,
              "#0d0887"
             ],
             [
              0.1111111111111111,
              "#46039f"
             ],
             [
              0.2222222222222222,
              "#7201a8"
             ],
             [
              0.3333333333333333,
              "#9c179e"
             ],
             [
              0.4444444444444444,
              "#bd3786"
             ],
             [
              0.5555555555555556,
              "#d8576b"
             ],
             [
              0.6666666666666666,
              "#ed7953"
             ],
             [
              0.7777777777777778,
              "#fb9f3a"
             ],
             [
              0.8888888888888888,
              "#fdca26"
             ],
             [
              1,
              "#f0f921"
             ]
            ],
            "type": "heatmapgl"
           }
          ],
          "histogram": [
           {
            "marker": {
             "pattern": {
              "fillmode": "overlay",
              "size": 10,
              "solidity": 0.2
             }
            },
            "type": "histogram"
           }
          ],
          "histogram2d": [
           {
            "colorbar": {
             "outlinewidth": 0,
             "ticks": ""
            },
            "colorscale": [
             [
              0,
              "#0d0887"
             ],
             [
              0.1111111111111111,
              "#46039f"
             ],
             [
              0.2222222222222222,
              "#7201a8"
             ],
             [
              0.3333333333333333,
              "#9c179e"
             ],
             [
              0.4444444444444444,
              "#bd3786"
             ],
             [
              0.5555555555555556,
              "#d8576b"
             ],
             [
              0.6666666666666666,
              "#ed7953"
             ],
             [
              0.7777777777777778,
              "#fb9f3a"
             ],
             [
              0.8888888888888888,
              "#fdca26"
             ],
             [
              1,
              "#f0f921"
             ]
            ],
            "type": "histogram2d"
           }
          ],
          "histogram2dcontour": [
           {
            "colorbar": {
             "outlinewidth": 0,
             "ticks": ""
            },
            "colorscale": [
             [
              0,
              "#0d0887"
             ],
             [
              0.1111111111111111,
              "#46039f"
             ],
             [
              0.2222222222222222,
              "#7201a8"
             ],
             [
              0.3333333333333333,
              "#9c179e"
             ],
             [
              0.4444444444444444,
              "#bd3786"
             ],
             [
              0.5555555555555556,
              "#d8576b"
             ],
             [
              0.6666666666666666,
              "#ed7953"
             ],
             [
              0.7777777777777778,
              "#fb9f3a"
             ],
             [
              0.8888888888888888,
              "#fdca26"
             ],
             [
              1,
              "#f0f921"
             ]
            ],
            "type": "histogram2dcontour"
           }
          ],
          "mesh3d": [
           {
            "colorbar": {
             "outlinewidth": 0,
             "ticks": ""
            },
            "type": "mesh3d"
           }
          ],
          "parcoords": [
           {
            "line": {
             "colorbar": {
              "outlinewidth": 0,
              "ticks": ""
             }
            },
            "type": "parcoords"
           }
          ],
          "pie": [
           {
            "automargin": true,
            "type": "pie"
           }
          ],
          "scatter": [
           {
            "fillpattern": {
             "fillmode": "overlay",
             "size": 10,
             "solidity": 0.2
            },
            "type": "scatter"
           }
          ],
          "scatter3d": [
           {
            "line": {
             "colorbar": {
              "outlinewidth": 0,
              "ticks": ""
             }
            },
            "marker": {
             "colorbar": {
              "outlinewidth": 0,
              "ticks": ""
             }
            },
            "type": "scatter3d"
           }
          ],
          "scattercarpet": [
           {
            "marker": {
             "colorbar": {
              "outlinewidth": 0,
              "ticks": ""
             }
            },
            "type": "scattercarpet"
           }
          ],
          "scattergeo": [
           {
            "marker": {
             "colorbar": {
              "outlinewidth": 0,
              "ticks": ""
             }
            },
            "type": "scattergeo"
           }
          ],
          "scattergl": [
           {
            "marker": {
             "colorbar": {
              "outlinewidth": 0,
              "ticks": ""
             }
            },
            "type": "scattergl"
           }
          ],
          "scattermapbox": [
           {
            "marker": {
             "colorbar": {
              "outlinewidth": 0,
              "ticks": ""
             }
            },
            "type": "scattermapbox"
           }
          ],
          "scatterpolar": [
           {
            "marker": {
             "colorbar": {
              "outlinewidth": 0,
              "ticks": ""
             }
            },
            "type": "scatterpolar"
           }
          ],
          "scatterpolargl": [
           {
            "marker": {
             "colorbar": {
              "outlinewidth": 0,
              "ticks": ""
             }
            },
            "type": "scatterpolargl"
           }
          ],
          "scatterternary": [
           {
            "marker": {
             "colorbar": {
              "outlinewidth": 0,
              "ticks": ""
             }
            },
            "type": "scatterternary"
           }
          ],
          "surface": [
           {
            "colorbar": {
             "outlinewidth": 0,
             "ticks": ""
            },
            "colorscale": [
             [
              0,
              "#0d0887"
             ],
             [
              0.1111111111111111,
              "#46039f"
             ],
             [
              0.2222222222222222,
              "#7201a8"
             ],
             [
              0.3333333333333333,
              "#9c179e"
             ],
             [
              0.4444444444444444,
              "#bd3786"
             ],
             [
              0.5555555555555556,
              "#d8576b"
             ],
             [
              0.6666666666666666,
              "#ed7953"
             ],
             [
              0.7777777777777778,
              "#fb9f3a"
             ],
             [
              0.8888888888888888,
              "#fdca26"
             ],
             [
              1,
              "#f0f921"
             ]
            ],
            "type": "surface"
           }
          ],
          "table": [
           {
            "cells": {
             "fill": {
              "color": "#EBF0F8"
             },
             "line": {
              "color": "white"
             }
            },
            "header": {
             "fill": {
              "color": "#C8D4E3"
             },
             "line": {
              "color": "white"
             }
            },
            "type": "table"
           }
          ]
         },
         "layout": {
          "annotationdefaults": {
           "arrowcolor": "#2a3f5f",
           "arrowhead": 0,
           "arrowwidth": 1
          },
          "autotypenumbers": "strict",
          "coloraxis": {
           "colorbar": {
            "outlinewidth": 0,
            "ticks": ""
           }
          },
          "colorscale": {
           "diverging": [
            [
             0,
             "#8e0152"
            ],
            [
             0.1,
             "#c51b7d"
            ],
            [
             0.2,
             "#de77ae"
            ],
            [
             0.3,
             "#f1b6da"
            ],
            [
             0.4,
             "#fde0ef"
            ],
            [
             0.5,
             "#f7f7f7"
            ],
            [
             0.6,
             "#e6f5d0"
            ],
            [
             0.7,
             "#b8e186"
            ],
            [
             0.8,
             "#7fbc41"
            ],
            [
             0.9,
             "#4d9221"
            ],
            [
             1,
             "#276419"
            ]
           ],
           "sequential": [
            [
             0,
             "#0d0887"
            ],
            [
             0.1111111111111111,
             "#46039f"
            ],
            [
             0.2222222222222222,
             "#7201a8"
            ],
            [
             0.3333333333333333,
             "#9c179e"
            ],
            [
             0.4444444444444444,
             "#bd3786"
            ],
            [
             0.5555555555555556,
             "#d8576b"
            ],
            [
             0.6666666666666666,
             "#ed7953"
            ],
            [
             0.7777777777777778,
             "#fb9f3a"
            ],
            [
             0.8888888888888888,
             "#fdca26"
            ],
            [
             1,
             "#f0f921"
            ]
           ],
           "sequentialminus": [
            [
             0,
             "#0d0887"
            ],
            [
             0.1111111111111111,
             "#46039f"
            ],
            [
             0.2222222222222222,
             "#7201a8"
            ],
            [
             0.3333333333333333,
             "#9c179e"
            ],
            [
             0.4444444444444444,
             "#bd3786"
            ],
            [
             0.5555555555555556,
             "#d8576b"
            ],
            [
             0.6666666666666666,
             "#ed7953"
            ],
            [
             0.7777777777777778,
             "#fb9f3a"
            ],
            [
             0.8888888888888888,
             "#fdca26"
            ],
            [
             1,
             "#f0f921"
            ]
           ]
          },
          "colorway": [
           "#636efa",
           "#EF553B",
           "#00cc96",
           "#ab63fa",
           "#FFA15A",
           "#19d3f3",
           "#FF6692",
           "#B6E880",
           "#FF97FF",
           "#FECB52"
          ],
          "font": {
           "color": "#2a3f5f"
          },
          "geo": {
           "bgcolor": "white",
           "lakecolor": "white",
           "landcolor": "#E5ECF6",
           "showlakes": true,
           "showland": true,
           "subunitcolor": "white"
          },
          "hoverlabel": {
           "align": "left"
          },
          "hovermode": "closest",
          "mapbox": {
           "style": "light"
          },
          "paper_bgcolor": "white",
          "plot_bgcolor": "#E5ECF6",
          "polar": {
           "angularaxis": {
            "gridcolor": "white",
            "linecolor": "white",
            "ticks": ""
           },
           "bgcolor": "#E5ECF6",
           "radialaxis": {
            "gridcolor": "white",
            "linecolor": "white",
            "ticks": ""
           }
          },
          "scene": {
           "xaxis": {
            "backgroundcolor": "#E5ECF6",
            "gridcolor": "white",
            "gridwidth": 2,
            "linecolor": "white",
            "showbackground": true,
            "ticks": "",
            "zerolinecolor": "white"
           },
           "yaxis": {
            "backgroundcolor": "#E5ECF6",
            "gridcolor": "white",
            "gridwidth": 2,
            "linecolor": "white",
            "showbackground": true,
            "ticks": "",
            "zerolinecolor": "white"
           },
           "zaxis": {
            "backgroundcolor": "#E5ECF6",
            "gridcolor": "white",
            "gridwidth": 2,
            "linecolor": "white",
            "showbackground": true,
            "ticks": "",
            "zerolinecolor": "white"
           }
          },
          "shapedefaults": {
           "line": {
            "color": "#2a3f5f"
           }
          },
          "ternary": {
           "aaxis": {
            "gridcolor": "white",
            "linecolor": "white",
            "ticks": ""
           },
           "baxis": {
            "gridcolor": "white",
            "linecolor": "white",
            "ticks": ""
           },
           "bgcolor": "#E5ECF6",
           "caxis": {
            "gridcolor": "white",
            "linecolor": "white",
            "ticks": ""
           }
          },
          "title": {
           "x": 0.05
          },
          "xaxis": {
           "automargin": true,
           "gridcolor": "white",
           "linecolor": "white",
           "ticks": "",
           "title": {
            "standoff": 15
           },
           "zerolinecolor": "white",
           "zerolinewidth": 2
          },
          "yaxis": {
           "automargin": true,
           "gridcolor": "white",
           "linecolor": "white",
           "ticks": "",
           "title": {
            "standoff": 15
           },
           "zerolinecolor": "white",
           "zerolinewidth": 2
          }
         }
        },
        "xaxis": {
         "anchor": "y",
         "categoryarray": [
          "casual",
          "member"
         ],
         "categoryorder": "array",
         "domain": [
          0,
          1
         ],
         "title": {
          "text": "member_casual"
         }
        },
        "yaxis": {
         "anchor": "x",
         "domain": [
          0,
          1
         ],
         "title": {
          "text": "duration"
         }
        }
       }
      },
      "text/html": [
       "<div>                            <div id=\"64dd5ee1-2c09-4c1b-b53b-929d4279b9f1\" class=\"plotly-graph-div\" style=\"height:525px; width:100%;\"></div>            <script type=\"text/javascript\">                require([\"plotly\"], function(Plotly) {                    window.PLOTLYENV=window.PLOTLYENV || {};                                    if (document.getElementById(\"64dd5ee1-2c09-4c1b-b53b-929d4279b9f1\")) {                    Plotly.newPlot(                        \"64dd5ee1-2c09-4c1b-b53b-929d4279b9f1\",                        [{\"alignmentgroup\":\"True\",\"hovertemplate\":\"member_casual=%{x}<br>duration=%{y}<extra></extra>\",\"legendgroup\":\"casual\",\"marker\":{\"color\":\"#636efa\",\"pattern\":{\"shape\":\"\"}},\"name\":\"casual\",\"offsetgroup\":\"casual\",\"orientation\":\"v\",\"showlegend\":true,\"textposition\":\"auto\",\"x\":[\"casual\"],\"xaxis\":\"x\",\"y\":[7.677507242286598],\"yaxis\":\"y\",\"type\":\"bar\"},{\"alignmentgroup\":\"True\",\"hovertemplate\":\"member_casual=%{x}<br>duration=%{y}<extra></extra>\",\"legendgroup\":\"member\",\"marker\":{\"color\":\"#EF553B\",\"pattern\":{\"shape\":\"\"}},\"name\":\"member\",\"offsetgroup\":\"member\",\"orientation\":\"v\",\"showlegend\":true,\"textposition\":\"auto\",\"x\":[\"member\"],\"xaxis\":\"x\",\"y\":[7.746427706466457],\"yaxis\":\"y\",\"type\":\"bar\"}],                        {\"template\":{\"data\":{\"histogram2dcontour\":[{\"type\":\"histogram2dcontour\",\"colorbar\":{\"outlinewidth\":0,\"ticks\":\"\"},\"colorscale\":[[0.0,\"#0d0887\"],[0.1111111111111111,\"#46039f\"],[0.2222222222222222,\"#7201a8\"],[0.3333333333333333,\"#9c179e\"],[0.4444444444444444,\"#bd3786\"],[0.5555555555555556,\"#d8576b\"],[0.6666666666666666,\"#ed7953\"],[0.7777777777777778,\"#fb9f3a\"],[0.8888888888888888,\"#fdca26\"],[1.0,\"#f0f921\"]]}],\"choropleth\":[{\"type\":\"choropleth\",\"colorbar\":{\"outlinewidth\":0,\"ticks\":\"\"}}],\"histogram2d\":[{\"type\":\"histogram2d\",\"colorbar\":{\"outlinewidth\":0,\"ticks\":\"\"},\"colorscale\":[[0.0,\"#0d0887\"],[0.1111111111111111,\"#46039f\"],[0.2222222222222222,\"#7201a8\"],[0.3333333333333333,\"#9c179e\"],[0.4444444444444444,\"#bd3786\"],[0.5555555555555556,\"#d8576b\"],[0.6666666666666666,\"#ed7953\"],[0.7777777777777778,\"#fb9f3a\"],[0.8888888888888888,\"#fdca26\"],[1.0,\"#f0f921\"]]}],\"heatmap\":[{\"type\":\"heatmap\",\"colorbar\":{\"outlinewidth\":0,\"ticks\":\"\"},\"colorscale\":[[0.0,\"#0d0887\"],[0.1111111111111111,\"#46039f\"],[0.2222222222222222,\"#7201a8\"],[0.3333333333333333,\"#9c179e\"],[0.4444444444444444,\"#bd3786\"],[0.5555555555555556,\"#d8576b\"],[0.6666666666666666,\"#ed7953\"],[0.7777777777777778,\"#fb9f3a\"],[0.8888888888888888,\"#fdca26\"],[1.0,\"#f0f921\"]]}],\"heatmapgl\":[{\"type\":\"heatmapgl\",\"colorbar\":{\"outlinewidth\":0,\"ticks\":\"\"},\"colorscale\":[[0.0,\"#0d0887\"],[0.1111111111111111,\"#46039f\"],[0.2222222222222222,\"#7201a8\"],[0.3333333333333333,\"#9c179e\"],[0.4444444444444444,\"#bd3786\"],[0.5555555555555556,\"#d8576b\"],[0.6666666666666666,\"#ed7953\"],[0.7777777777777778,\"#fb9f3a\"],[0.8888888888888888,\"#fdca26\"],[1.0,\"#f0f921\"]]}],\"contourcarpet\":[{\"type\":\"contourcarpet\",\"colorbar\":{\"outlinewidth\":0,\"ticks\":\"\"}}],\"contour\":[{\"type\":\"contour\",\"colorbar\":{\"outlinewidth\":0,\"ticks\":\"\"},\"colorscale\":[[0.0,\"#0d0887\"],[0.1111111111111111,\"#46039f\"],[0.2222222222222222,\"#7201a8\"],[0.3333333333333333,\"#9c179e\"],[0.4444444444444444,\"#bd3786\"],[0.5555555555555556,\"#d8576b\"],[0.6666666666666666,\"#ed7953\"],[0.7777777777777778,\"#fb9f3a\"],[0.8888888888888888,\"#fdca26\"],[1.0,\"#f0f921\"]]}],\"surface\":[{\"type\":\"surface\",\"colorbar\":{\"outlinewidth\":0,\"ticks\":\"\"},\"colorscale\":[[0.0,\"#0d0887\"],[0.1111111111111111,\"#46039f\"],[0.2222222222222222,\"#7201a8\"],[0.3333333333333333,\"#9c179e\"],[0.4444444444444444,\"#bd3786\"],[0.5555555555555556,\"#d8576b\"],[0.6666666666666666,\"#ed7953\"],[0.7777777777777778,\"#fb9f3a\"],[0.8888888888888888,\"#fdca26\"],[1.0,\"#f0f921\"]]}],\"mesh3d\":[{\"type\":\"mesh3d\",\"colorbar\":{\"outlinewidth\":0,\"ticks\":\"\"}}],\"scatter\":[{\"fillpattern\":{\"fillmode\":\"overlay\",\"size\":10,\"solidity\":0.2},\"type\":\"scatter\"}],\"parcoords\":[{\"type\":\"parcoords\",\"line\":{\"colorbar\":{\"outlinewidth\":0,\"ticks\":\"\"}}}],\"scatterpolargl\":[{\"type\":\"scatterpolargl\",\"marker\":{\"colorbar\":{\"outlinewidth\":0,\"ticks\":\"\"}}}],\"bar\":[{\"error_x\":{\"color\":\"#2a3f5f\"},\"error_y\":{\"color\":\"#2a3f5f\"},\"marker\":{\"line\":{\"color\":\"#E5ECF6\",\"width\":0.5},\"pattern\":{\"fillmode\":\"overlay\",\"size\":10,\"solidity\":0.2}},\"type\":\"bar\"}],\"scattergeo\":[{\"type\":\"scattergeo\",\"marker\":{\"colorbar\":{\"outlinewidth\":0,\"ticks\":\"\"}}}],\"scatterpolar\":[{\"type\":\"scatterpolar\",\"marker\":{\"colorbar\":{\"outlinewidth\":0,\"ticks\":\"\"}}}],\"histogram\":[{\"marker\":{\"pattern\":{\"fillmode\":\"overlay\",\"size\":10,\"solidity\":0.2}},\"type\":\"histogram\"}],\"scattergl\":[{\"type\":\"scattergl\",\"marker\":{\"colorbar\":{\"outlinewidth\":0,\"ticks\":\"\"}}}],\"scatter3d\":[{\"type\":\"scatter3d\",\"line\":{\"colorbar\":{\"outlinewidth\":0,\"ticks\":\"\"}},\"marker\":{\"colorbar\":{\"outlinewidth\":0,\"ticks\":\"\"}}}],\"scattermapbox\":[{\"type\":\"scattermapbox\",\"marker\":{\"colorbar\":{\"outlinewidth\":0,\"ticks\":\"\"}}}],\"scatterternary\":[{\"type\":\"scatterternary\",\"marker\":{\"colorbar\":{\"outlinewidth\":0,\"ticks\":\"\"}}}],\"scattercarpet\":[{\"type\":\"scattercarpet\",\"marker\":{\"colorbar\":{\"outlinewidth\":0,\"ticks\":\"\"}}}],\"carpet\":[{\"aaxis\":{\"endlinecolor\":\"#2a3f5f\",\"gridcolor\":\"white\",\"linecolor\":\"white\",\"minorgridcolor\":\"white\",\"startlinecolor\":\"#2a3f5f\"},\"baxis\":{\"endlinecolor\":\"#2a3f5f\",\"gridcolor\":\"white\",\"linecolor\":\"white\",\"minorgridcolor\":\"white\",\"startlinecolor\":\"#2a3f5f\"},\"type\":\"carpet\"}],\"table\":[{\"cells\":{\"fill\":{\"color\":\"#EBF0F8\"},\"line\":{\"color\":\"white\"}},\"header\":{\"fill\":{\"color\":\"#C8D4E3\"},\"line\":{\"color\":\"white\"}},\"type\":\"table\"}],\"barpolar\":[{\"marker\":{\"line\":{\"color\":\"#E5ECF6\",\"width\":0.5},\"pattern\":{\"fillmode\":\"overlay\",\"size\":10,\"solidity\":0.2}},\"type\":\"barpolar\"}],\"pie\":[{\"automargin\":true,\"type\":\"pie\"}]},\"layout\":{\"autotypenumbers\":\"strict\",\"colorway\":[\"#636efa\",\"#EF553B\",\"#00cc96\",\"#ab63fa\",\"#FFA15A\",\"#19d3f3\",\"#FF6692\",\"#B6E880\",\"#FF97FF\",\"#FECB52\"],\"font\":{\"color\":\"#2a3f5f\"},\"hovermode\":\"closest\",\"hoverlabel\":{\"align\":\"left\"},\"paper_bgcolor\":\"white\",\"plot_bgcolor\":\"#E5ECF6\",\"polar\":{\"bgcolor\":\"#E5ECF6\",\"angularaxis\":{\"gridcolor\":\"white\",\"linecolor\":\"white\",\"ticks\":\"\"},\"radialaxis\":{\"gridcolor\":\"white\",\"linecolor\":\"white\",\"ticks\":\"\"}},\"ternary\":{\"bgcolor\":\"#E5ECF6\",\"aaxis\":{\"gridcolor\":\"white\",\"linecolor\":\"white\",\"ticks\":\"\"},\"baxis\":{\"gridcolor\":\"white\",\"linecolor\":\"white\",\"ticks\":\"\"},\"caxis\":{\"gridcolor\":\"white\",\"linecolor\":\"white\",\"ticks\":\"\"}},\"coloraxis\":{\"colorbar\":{\"outlinewidth\":0,\"ticks\":\"\"}},\"colorscale\":{\"sequential\":[[0.0,\"#0d0887\"],[0.1111111111111111,\"#46039f\"],[0.2222222222222222,\"#7201a8\"],[0.3333333333333333,\"#9c179e\"],[0.4444444444444444,\"#bd3786\"],[0.5555555555555556,\"#d8576b\"],[0.6666666666666666,\"#ed7953\"],[0.7777777777777778,\"#fb9f3a\"],[0.8888888888888888,\"#fdca26\"],[1.0,\"#f0f921\"]],\"sequentialminus\":[[0.0,\"#0d0887\"],[0.1111111111111111,\"#46039f\"],[0.2222222222222222,\"#7201a8\"],[0.3333333333333333,\"#9c179e\"],[0.4444444444444444,\"#bd3786\"],[0.5555555555555556,\"#d8576b\"],[0.6666666666666666,\"#ed7953\"],[0.7777777777777778,\"#fb9f3a\"],[0.8888888888888888,\"#fdca26\"],[1.0,\"#f0f921\"]],\"diverging\":[[0,\"#8e0152\"],[0.1,\"#c51b7d\"],[0.2,\"#de77ae\"],[0.3,\"#f1b6da\"],[0.4,\"#fde0ef\"],[0.5,\"#f7f7f7\"],[0.6,\"#e6f5d0\"],[0.7,\"#b8e186\"],[0.8,\"#7fbc41\"],[0.9,\"#4d9221\"],[1,\"#276419\"]]},\"xaxis\":{\"gridcolor\":\"white\",\"linecolor\":\"white\",\"ticks\":\"\",\"title\":{\"standoff\":15},\"zerolinecolor\":\"white\",\"automargin\":true,\"zerolinewidth\":2},\"yaxis\":{\"gridcolor\":\"white\",\"linecolor\":\"white\",\"ticks\":\"\",\"title\":{\"standoff\":15},\"zerolinecolor\":\"white\",\"automargin\":true,\"zerolinewidth\":2},\"scene\":{\"xaxis\":{\"backgroundcolor\":\"#E5ECF6\",\"gridcolor\":\"white\",\"linecolor\":\"white\",\"showbackground\":true,\"ticks\":\"\",\"zerolinecolor\":\"white\",\"gridwidth\":2},\"yaxis\":{\"backgroundcolor\":\"#E5ECF6\",\"gridcolor\":\"white\",\"linecolor\":\"white\",\"showbackground\":true,\"ticks\":\"\",\"zerolinecolor\":\"white\",\"gridwidth\":2},\"zaxis\":{\"backgroundcolor\":\"#E5ECF6\",\"gridcolor\":\"white\",\"linecolor\":\"white\",\"showbackground\":true,\"ticks\":\"\",\"zerolinecolor\":\"white\",\"gridwidth\":2}},\"shapedefaults\":{\"line\":{\"color\":\"#2a3f5f\"}},\"annotationdefaults\":{\"arrowcolor\":\"#2a3f5f\",\"arrowhead\":0,\"arrowwidth\":1},\"geo\":{\"bgcolor\":\"white\",\"landcolor\":\"#E5ECF6\",\"subunitcolor\":\"white\",\"showland\":true,\"showlakes\":true,\"lakecolor\":\"white\"},\"title\":{\"x\":0.05},\"mapbox\":{\"style\":\"light\"}}},\"xaxis\":{\"anchor\":\"y\",\"domain\":[0.0,1.0],\"title\":{\"text\":\"member_casual\"},\"categoryorder\":\"array\",\"categoryarray\":[\"casual\",\"member\"]},\"yaxis\":{\"anchor\":\"x\",\"domain\":[0.0,1.0],\"title\":{\"text\":\"duration\"}},\"legend\":{\"title\":{\"text\":\"member_casual\"},\"tracegroupgap\":0},\"margin\":{\"t\":60},\"barmode\":\"relative\"},                        {\"responsive\": true}                    ).then(function(){\n",
       "                            \n",
       "var gd = document.getElementById('64dd5ee1-2c09-4c1b-b53b-929d4279b9f1');\n",
       "var x = new MutationObserver(function (mutations, observer) {{\n",
       "        var display = window.getComputedStyle(gd).display;\n",
       "        if (!display || display === 'none') {{\n",
       "            console.log([gd, 'removed!']);\n",
       "            Plotly.purge(gd);\n",
       "            observer.disconnect();\n",
       "        }}\n",
       "}});\n",
       "\n",
       "// Listen for the removal of the full notebook cells\n",
       "var notebookContainer = gd.closest('#notebook-container');\n",
       "if (notebookContainer) {{\n",
       "    x.observe(notebookContainer, {childList: true});\n",
       "}}\n",
       "\n",
       "// Listen for the clearing of the current output cell\n",
       "var outputEl = gd.closest('.output');\n",
       "if (outputEl) {{\n",
       "    x.observe(outputEl, {childList: true});\n",
       "}}\n",
       "\n",
       "                        })                };                });            </script>        </div>"
      ]
     },
     "metadata": {},
     "output_type": "display_data"
    }
   ],
   "source": [
    "aux02 = df_smote_final[['duration', 'member_casual']].groupby( 'member_casual' ).mean().reset_index()\n",
    "px.bar(aux02,x='member_casual',y='duration', color='member_casual')"
   ]
  },
  {
   "cell_type": "markdown",
   "id": "9229bc6d",
   "metadata": {},
   "source": [
    "**Casual bikers and member bikers ride for the same amount of time**"
   ]
  },
  {
   "cell_type": "markdown",
   "id": "6bc04287",
   "metadata": {},
   "source": [
    "**6) Do member bikers ride more during daylight hours?**"
   ]
  },
  {
   "cell_type": "code",
   "execution_count": 65,
   "id": "fd42b397",
   "metadata": {},
   "outputs": [
    {
     "data": {
      "application/vnd.plotly.v1+json": {
       "config": {
        "plotlyServerURL": "https://plot.ly"
       },
       "data": [
        {
         "alignmentgroup": "True",
         "hovertemplate": "member_casual=member<br>hour_of_day=%{x}<br>counts=%{y}<extra></extra>",
         "legendgroup": "member",
         "marker": {
          "color": "#636efa",
          "pattern": {
           "shape": ""
          }
         },
         "name": "member",
         "offsetgroup": "member",
         "orientation": "v",
         "showlegend": true,
         "textposition": "auto",
         "type": "bar",
         "x": [
          0,
          0.016666666666666666,
          0.03333333333333333,
          0.06666666666666667,
          0.08333333333333333,
          0.1,
          0.13333333333333333,
          0.15,
          0.16666666666666666,
          0.21666666666666667,
          0.2833333333333333,
          0.3,
          0.3333333333333333,
          0.35,
          0.38333333333333336,
          0.4,
          0.45,
          0.4666666666666667,
          0.48333333333333334,
          0.5,
          0.5333333333333333,
          0.55,
          0.6,
          0.6166666666666667,
          0.65,
          0.75,
          0.7666666666666667,
          0.7833333333333333,
          0.8833333333333333,
          0.95,
          1.0833333333333333,
          1.1666666666666667,
          1.1833333333333333,
          1.2333333333333334,
          1.2833333333333332,
          1.3333333333333333,
          1.4333333333333333,
          1.5166666666666666,
          1.5333333333333332,
          1.6,
          1.6166666666666667,
          1.7833333333333332,
          1.8,
          1.9,
          2.2333333333333334,
          2.2666666666666666,
          2.283333333333333,
          2.3166666666666664,
          2.3333333333333335,
          2.55,
          2.6166666666666667,
          2.65,
          2.6666666666666665,
          2.716666666666667,
          2.783333333333333,
          3,
          3.183333333333333,
          3.3833333333333333,
          3.4,
          3.8,
          3.8166666666666664,
          3.8333333333333335,
          3.85,
          3.9,
          4,
          4.016666666666667,
          4.083333333333333,
          4.166666666666667,
          4.183333333333334,
          4.383333333333334,
          4.416666666666667,
          4.7,
          4.75,
          4.816666666666666,
          4.883333333333333,
          4.9,
          4.916666666666667,
          5.216666666666667,
          5.233333333333333,
          5.266666666666667,
          5.4,
          5.433333333333334,
          5.45,
          5.566666666666666,
          5.583333333333333,
          5.6,
          5.616666666666667,
          5.633333333333333,
          5.683333333333334,
          5.733333333333333,
          5.75,
          5.8,
          5.816666666666666,
          5.833333333333333,
          5.85,
          5.866666666666667,
          5.883333333333333,
          5.9,
          5.95,
          6,
          6.016666666666667,
          6.033333333333333,
          6.05,
          6.066666666666666,
          6.083333333333333,
          6.116666666666666,
          6.133333333333334,
          6.216666666666667,
          6.233333333333333,
          6.266666666666667,
          6.283333333333333,
          6.3,
          6.333333333333333,
          6.35,
          6.366666666666666,
          6.383333333333334,
          6.4,
          6.416666666666667,
          6.433333333333334,
          6.45,
          6.483333333333333,
          6.5,
          6.516666666666667,
          6.533333333333333,
          6.55,
          6.566666666666666,
          6.6,
          6.616666666666667,
          6.633333333333333,
          6.65,
          6.666666666666667,
          6.683333333333334,
          6.7,
          6.75,
          6.766666666666667,
          6.783333333333333,
          6.8,
          6.816666666666666,
          6.833333333333333,
          6.85,
          6.866666666666667,
          6.883333333333333,
          6.916666666666667,
          6.933333333333334,
          6.95,
          6.966666666666667,
          6.983333333333333,
          7,
          7.016666666666667,
          7.033333333333333,
          7.05,
          7.066666666666666,
          7.083333333333333,
          7.1,
          7.116666666666666,
          7.133333333333334,
          7.15,
          7.166666666666667,
          7.183333333333334,
          7.2,
          7.216666666666667,
          7.233333333333333,
          7.25,
          7.266666666666667,
          7.283333333333333,
          7.3,
          7.316666666666666,
          7.333333333333333,
          7.35,
          7.366666666666666,
          7.383333333333334,
          7.4,
          7.416666666666667,
          7.433333333333334,
          7.45,
          7.466666666666667,
          7.483333333333333,
          7.5,
          7.516666666666667,
          7.533333333333333,
          7.55,
          7.566666666666666,
          7.583333333333333,
          7.6,
          7.616666666666667,
          7.633333333333333,
          7.65,
          7.666666666666667,
          7.683333333333334,
          7.716666666666667,
          7.733333333333333,
          7.75,
          7.766666666666667,
          7.783333333333333,
          7.8,
          7.816666666666666,
          7.833333333333333,
          7.85,
          7.866666666666667,
          7.883333333333333,
          7.9,
          7.916666666666667,
          7.933333333333334,
          7.95,
          7.966666666666667,
          7.983333333333333,
          8,
          8.016666666666667,
          8.033333333333333,
          8.05,
          8.066666666666666,
          8.083333333333334,
          8.1,
          8.116666666666667,
          8.133333333333333,
          8.15,
          8.166666666666666,
          8.183333333333334,
          8.2,
          8.216666666666667,
          8.233333333333333,
          8.25,
          8.266666666666667,
          8.283333333333333,
          8.3,
          8.316666666666666,
          8.333333333333334,
          8.35,
          8.366666666666667,
          8.383333333333333,
          8.4,
          8.416666666666666,
          8.433333333333334,
          8.45,
          8.466666666666667,
          8.483333333333333,
          8.5,
          8.516666666666667,
          8.533333333333333,
          8.55,
          8.566666666666666,
          8.583333333333334,
          8.6,
          8.616666666666667,
          8.633333333333333,
          8.65,
          8.666666666666666,
          8.683333333333334,
          8.7,
          8.716666666666667,
          8.733333333333333,
          8.75,
          8.766666666666667,
          8.783333333333333,
          8.8,
          8.816666666666666,
          8.833333333333334,
          8.85,
          8.866666666666667,
          8.883333333333333,
          8.9,
          8.916666666666666,
          8.933333333333334,
          8.95,
          8.966666666666667,
          8.983333333333333,
          9,
          9.016666666666667,
          9.033333333333333,
          9.05,
          9.066666666666666,
          9.083333333333334,
          9.1,
          9.116666666666667,
          9.133333333333333,
          9.15,
          9.166666666666666,
          9.183333333333334,
          9.2,
          9.216666666666667,
          9.233333333333333,
          9.25,
          9.266666666666667,
          9.283333333333333,
          9.3,
          9.333333333333334,
          9.35,
          9.366666666666667,
          9.383333333333333,
          9.4,
          9.416666666666666,
          9.433333333333334,
          9.45,
          9.466666666666667,
          9.483333333333333,
          9.5,
          9.516666666666667,
          9.533333333333333,
          9.55,
          9.566666666666666,
          9.583333333333334,
          9.6,
          9.616666666666667,
          9.633333333333333,
          9.65,
          9.666666666666666,
          9.7,
          9.716666666666667,
          9.733333333333333,
          9.75,
          9.766666666666667,
          9.783333333333333,
          9.816666666666666,
          9.866666666666667,
          9.883333333333333,
          9.9,
          9.916666666666666,
          9.933333333333334,
          9.95,
          9.966666666666667,
          9.983333333333333,
          10,
          10.016666666666667,
          10.033333333333333,
          10.05,
          10.066666666666666,
          10.083333333333334,
          10.1,
          10.116666666666667,
          10.133333333333333,
          10.15,
          10.166666666666666,
          10.183333333333334,
          10.2,
          10.216666666666667,
          10.233333333333333,
          10.25,
          10.266666666666667,
          10.283333333333333,
          10.3,
          10.316666666666666,
          10.333333333333334,
          10.35,
          10.366666666666667,
          10.383333333333333,
          10.4,
          10.416666666666666,
          10.433333333333334,
          10.45,
          10.466666666666667,
          10.483333333333333,
          10.5,
          10.533333333333333,
          10.55,
          10.566666666666666,
          10.583333333333334,
          10.6,
          10.65,
          10.666666666666666,
          10.683333333333334,
          10.7,
          10.716666666666667,
          10.733333333333333,
          10.766666666666667,
          10.783333333333333,
          10.8,
          10.816666666666666,
          10.85,
          10.866666666666667,
          10.883333333333333,
          10.9,
          10.916666666666666,
          10.933333333333334,
          10.95,
          10.966666666666667,
          10.983333333333333,
          11,
          11.016666666666667,
          11.05,
          11.066666666666666,
          11.083333333333334,
          11.133333333333333,
          11.15,
          11.166666666666666,
          11.183333333333334,
          11.2,
          11.216666666666667,
          11.233333333333333,
          11.266666666666667,
          11.283333333333333,
          11.3,
          11.316666666666666,
          11.333333333333334,
          11.35,
          11.366666666666667,
          11.383333333333333,
          11.4,
          11.416666666666666,
          11.433333333333334,
          11.45,
          11.466666666666667,
          11.483333333333333,
          11.5,
          11.533333333333333,
          11.55,
          11.566666666666666,
          11.583333333333334,
          11.6,
          11.616666666666667,
          11.633333333333333,
          11.65,
          11.666666666666666,
          11.683333333333334,
          11.7,
          11.716666666666667,
          11.733333333333333,
          11.75,
          11.766666666666667,
          11.783333333333333,
          11.8,
          11.816666666666666,
          11.833333333333334,
          11.85,
          11.866666666666667,
          11.883333333333333,
          11.9,
          11.916666666666666,
          11.933333333333334,
          11.95,
          11.966666666666667,
          11.983333333333333,
          12,
          12.016666666666667,
          12.033333333333333,
          12.05,
          12.066666666666666,
          12.083333333333334,
          12.1,
          12.116666666666667,
          12.133333333333333,
          12.166666666666666,
          12.183333333333334,
          12.2,
          12.216666666666667,
          12.233333333333333,
          12.25,
          12.266666666666667,
          12.283333333333333,
          12.3,
          12.316666666666666,
          12.333333333333334,
          12.35,
          12.366666666666667,
          12.383333333333333,
          12.4,
          12.416666666666666,
          12.433333333333334,
          12.45,
          12.466666666666667,
          12.483333333333333,
          12.5,
          12.516666666666667,
          12.533333333333333,
          12.55,
          12.566666666666666,
          12.583333333333334,
          12.6,
          12.633333333333333,
          12.666666666666666,
          12.683333333333334,
          12.7,
          12.716666666666667,
          12.733333333333333,
          12.75,
          12.766666666666667,
          12.783333333333333,
          12.8,
          12.816666666666666,
          12.833333333333334,
          12.85,
          12.866666666666667,
          12.883333333333333,
          12.9,
          12.916666666666666,
          12.933333333333334,
          12.95,
          12.966666666666667,
          12.983333333333333,
          13,
          13.016666666666667,
          13.033333333333333,
          13.05,
          13.066666666666666,
          13.083333333333334,
          13.1,
          13.116666666666667,
          13.133333333333333,
          13.15,
          13.166666666666666,
          13.183333333333334,
          13.2,
          13.216666666666667,
          13.233333333333333,
          13.25,
          13.266666666666667,
          13.283333333333333,
          13.3,
          13.316666666666666,
          13.333333333333334,
          13.35,
          13.366666666666667,
          13.383333333333333,
          13.4,
          13.416666666666666,
          13.433333333333334,
          13.45,
          13.466666666666667,
          13.483333333333333,
          13.5,
          13.516666666666667,
          13.533333333333333,
          13.55,
          13.566666666666666,
          13.583333333333334,
          13.6,
          13.616666666666667,
          13.633333333333333,
          13.65,
          13.666666666666666,
          13.683333333333334,
          13.7,
          13.716666666666667,
          13.733333333333333,
          13.75,
          13.766666666666667,
          13.8,
          13.816666666666666,
          13.833333333333334,
          13.85,
          13.866666666666667,
          13.883333333333333,
          13.9,
          13.916666666666666,
          13.933333333333334,
          13.95,
          13.966666666666667,
          13.983333333333333,
          14,
          14.016666666666667,
          14.033333333333333,
          14.05,
          14.066666666666666,
          14.083333333333334,
          14.1,
          14.116666666666667,
          14.133333333333333,
          14.15,
          14.166666666666666,
          14.183333333333334,
          14.2,
          14.216666666666667,
          14.233333333333333,
          14.266666666666667,
          14.283333333333333,
          14.3,
          14.316666666666666,
          14.333333333333334,
          14.35,
          14.366666666666667,
          14.383333333333333,
          14.4,
          14.416666666666666,
          14.433333333333334,
          14.45,
          14.466666666666667,
          14.483333333333333,
          14.5,
          14.516666666666667,
          14.533333333333333,
          14.55,
          14.566666666666666,
          14.583333333333334,
          14.6,
          14.616666666666667,
          14.633333333333333,
          14.65,
          14.666666666666666,
          14.683333333333334,
          14.7,
          14.716666666666667,
          14.733333333333333,
          14.75,
          14.766666666666667,
          14.783333333333333,
          14.8,
          14.816666666666666,
          14.833333333333334,
          14.85,
          14.866666666666667,
          14.883333333333333,
          14.9,
          14.916666666666666,
          14.933333333333334,
          14.95,
          14.966666666666667,
          14.983333333333333,
          15,
          15.016666666666667,
          15.033333333333333,
          15.05,
          15.066666666666666,
          15.083333333333334,
          15.1,
          15.116666666666667,
          15.133333333333333,
          15.15,
          15.166666666666666,
          15.183333333333334,
          15.2,
          15.216666666666667,
          15.233333333333333,
          15.25,
          15.266666666666667,
          15.283333333333333,
          15.3,
          15.316666666666666,
          15.333333333333334,
          15.35,
          15.366666666666667,
          15.383333333333333,
          15.4,
          15.416666666666666,
          15.433333333333334,
          15.45,
          15.466666666666667,
          15.483333333333333,
          15.5,
          15.516666666666667,
          15.533333333333333,
          15.55,
          15.566666666666666,
          15.583333333333334,
          15.6,
          15.616666666666667,
          15.633333333333333,
          15.65,
          15.666666666666666,
          15.7,
          15.716666666666667,
          15.733333333333333,
          15.75,
          15.766666666666667,
          15.783333333333333,
          15.8,
          15.816666666666666,
          15.833333333333334,
          15.85,
          15.866666666666667,
          15.883333333333333,
          15.9,
          15.916666666666666,
          15.933333333333334,
          15.95,
          15.966666666666667,
          15.983333333333333,
          16,
          16.016666666666666,
          16.033333333333335,
          16.05,
          16.066666666666666,
          16.083333333333332,
          16.1,
          16.116666666666667,
          16.133333333333333,
          16.15,
          16.166666666666668,
          16.183333333333334,
          16.2,
          16.216666666666665,
          16.233333333333334,
          16.25,
          16.266666666666666,
          16.283333333333335,
          16.3,
          16.316666666666666,
          16.333333333333332,
          16.35,
          16.366666666666667,
          16.383333333333333,
          16.4,
          16.416666666666668,
          16.433333333333334,
          16.466666666666665,
          16.483333333333334,
          16.5,
          16.516666666666666,
          16.533333333333335,
          16.55,
          16.566666666666666,
          16.583333333333332,
          16.6,
          16.616666666666667,
          16.633333333333333,
          16.65,
          16.666666666666668,
          16.683333333333334,
          16.7,
          16.716666666666665,
          16.733333333333334,
          16.75,
          16.766666666666666,
          16.783333333333335,
          16.8,
          16.816666666666666,
          16.833333333333332,
          16.85,
          16.866666666666667,
          16.883333333333333,
          16.9,
          16.916666666666668,
          16.933333333333334,
          16.95,
          16.966666666666665,
          16.983333333333334,
          17,
          17.016666666666666,
          17.033333333333335,
          17.05,
          17.066666666666666,
          17.083333333333332,
          17.1,
          17.116666666666667,
          17.133333333333333,
          17.15,
          17.166666666666668,
          17.183333333333334,
          17.2,
          17.216666666666665,
          17.233333333333334,
          17.25,
          17.266666666666666,
          17.283333333333335,
          17.3,
          17.316666666666666,
          17.333333333333332,
          17.35,
          17.366666666666667,
          17.383333333333333,
          17.4,
          17.416666666666668,
          17.433333333333334,
          17.45,
          17.466666666666665,
          17.483333333333334,
          17.5,
          17.516666666666666,
          17.533333333333335,
          17.55,
          17.566666666666666,
          17.583333333333332,
          17.6,
          17.616666666666667,
          17.633333333333333,
          17.65,
          17.666666666666668,
          17.683333333333334,
          17.7,
          17.716666666666665,
          17.733333333333334,
          17.75,
          17.766666666666666,
          17.783333333333335,
          17.8,
          17.816666666666666,
          17.833333333333332,
          17.85,
          17.866666666666667,
          17.883333333333333,
          17.9,
          17.916666666666668,
          17.933333333333334,
          17.95,
          17.966666666666665,
          17.983333333333334,
          18,
          18.016666666666666,
          18.033333333333335,
          18.05,
          18.066666666666666,
          18.083333333333332,
          18.1,
          18.116666666666667,
          18.133333333333333,
          18.15,
          18.166666666666668,
          18.183333333333334,
          18.2,
          18.216666666666665,
          18.233333333333334,
          18.25,
          18.266666666666666,
          18.283333333333335,
          18.3,
          18.316666666666666,
          18.333333333333332,
          18.35,
          18.366666666666667,
          18.383333333333333,
          18.4,
          18.416666666666668,
          18.433333333333334,
          18.45,
          18.466666666666665,
          18.483333333333334,
          18.5,
          18.516666666666666,
          18.533333333333335,
          18.55,
          18.566666666666666,
          18.583333333333332,
          18.6,
          18.616666666666667,
          18.633333333333333,
          18.65,
          18.666666666666668,
          18.683333333333334,
          18.7,
          18.716666666666665,
          18.733333333333334,
          18.75,
          18.766666666666666,
          18.783333333333335,
          18.8,
          18.816666666666666,
          18.833333333333332,
          18.85,
          18.866666666666667,
          18.883333333333333,
          18.9,
          18.916666666666668,
          18.933333333333334,
          18.95,
          18.966666666666665,
          18.983333333333334,
          19,
          19.016666666666666,
          19.033333333333335,
          19.05,
          19.066666666666666,
          19.083333333333332,
          19.1,
          19.116666666666667,
          19.133333333333333,
          19.15,
          19.166666666666668,
          19.183333333333334,
          19.2,
          19.216666666666665,
          19.233333333333334,
          19.25,
          19.266666666666666,
          19.283333333333335,
          19.3,
          19.316666666666666,
          19.333333333333332,
          19.35,
          19.366666666666667,
          19.383333333333333,
          19.4,
          19.416666666666668,
          19.433333333333334,
          19.45,
          19.466666666666665,
          19.483333333333334,
          19.5,
          19.516666666666666,
          19.533333333333335,
          19.55,
          19.566666666666666,
          19.583333333333332,
          19.6,
          19.616666666666667,
          19.633333333333333,
          19.65,
          19.666666666666668,
          19.683333333333334,
          19.7,
          19.716666666666665,
          19.733333333333334,
          19.75,
          19.766666666666666,
          19.783333333333335,
          19.8,
          19.816666666666666,
          19.833333333333332,
          19.85,
          19.866666666666667,
          19.883333333333333,
          19.9,
          19.916666666666668,
          19.933333333333334,
          19.95,
          19.966666666666665,
          19.983333333333334,
          20,
          20.016666666666666,
          20.033333333333335,
          20.05,
          20.066666666666666,
          20.1,
          20.116666666666667,
          20.133333333333333,
          20.15,
          20.166666666666668,
          20.183333333333334,
          20.2,
          20.216666666666665,
          20.233333333333334,
          20.25,
          20.266666666666666,
          20.283333333333335,
          20.3,
          20.316666666666666,
          20.333333333333332,
          20.35,
          20.366666666666667,
          20.383333333333333,
          20.4,
          20.416666666666668,
          20.433333333333334,
          20.45,
          20.466666666666665,
          20.483333333333334,
          20.5,
          20.516666666666666,
          20.533333333333335,
          20.55,
          20.566666666666666,
          20.583333333333332,
          20.6,
          20.616666666666667,
          20.633333333333333,
          20.65,
          20.666666666666668,
          20.683333333333334,
          20.7,
          20.716666666666665,
          20.733333333333334,
          20.75,
          20.766666666666666,
          20.783333333333335,
          20.8,
          20.816666666666666,
          20.833333333333332,
          20.85,
          20.866666666666667,
          20.883333333333333,
          20.9,
          20.916666666666668,
          20.933333333333334,
          20.95,
          20.966666666666665,
          20.983333333333334,
          21,
          21.016666666666666,
          21.033333333333335,
          21.05,
          21.066666666666666,
          21.083333333333332,
          21.1,
          21.116666666666667,
          21.133333333333333,
          21.15,
          21.166666666666668,
          21.183333333333334,
          21.2,
          21.216666666666665,
          21.233333333333334,
          21.266666666666666,
          21.283333333333335,
          21.3,
          21.316666666666666,
          21.333333333333332,
          21.35,
          21.366666666666667,
          21.4,
          21.416666666666668,
          21.45,
          21.466666666666665,
          21.483333333333334,
          21.5,
          21.516666666666666,
          21.533333333333335,
          21.55,
          21.566666666666666,
          21.583333333333332,
          21.616666666666667,
          21.633333333333333,
          21.65,
          21.666666666666668,
          21.683333333333334,
          21.7,
          21.716666666666665,
          21.733333333333334,
          21.75,
          21.766666666666666,
          21.783333333333335,
          21.8,
          21.816666666666666,
          21.833333333333332,
          21.85,
          21.866666666666667,
          21.883333333333333,
          21.9,
          21.916666666666668,
          21.933333333333334,
          21.95,
          21.966666666666665,
          21.983333333333334,
          22,
          22.033333333333335,
          22.05,
          22.1,
          22.116666666666667,
          22.133333333333333,
          22.15,
          22.166666666666668,
          22.183333333333334,
          22.233333333333334,
          22.25,
          22.283333333333335,
          22.3,
          22.316666666666666,
          22.35,
          22.366666666666667,
          22.383333333333333,
          22.4,
          22.416666666666668,
          22.45,
          22.483333333333334,
          22.5,
          22.516666666666666,
          22.533333333333335,
          22.55,
          22.566666666666666,
          22.583333333333332,
          22.6,
          22.616666666666667,
          22.633333333333333,
          22.65,
          22.666666666666668,
          22.683333333333334,
          22.716666666666665,
          22.733333333333334,
          22.766666666666666,
          22.783333333333335,
          22.833333333333332,
          22.85,
          22.866666666666667,
          22.883333333333333,
          22.9,
          22.916666666666668,
          22.95,
          22.966666666666665,
          22.983333333333334,
          23,
          23.033333333333335,
          23.05,
          23.066666666666666,
          23.083333333333332,
          23.1,
          23.116666666666667,
          23.183333333333334,
          23.216666666666665,
          23.233333333333334,
          23.25,
          23.283333333333335,
          23.3,
          23.333333333333332,
          23.366666666666667,
          23.4,
          23.416666666666668,
          23.433333333333334,
          23.45,
          23.466666666666665,
          23.483333333333334,
          23.516666666666666,
          23.55,
          23.566666666666666,
          23.583333333333332,
          23.616666666666667,
          23.633333333333333,
          23.65,
          23.666666666666668,
          23.683333333333334,
          23.7,
          23.716666666666665,
          23.8,
          23.833333333333332,
          23.85,
          23.866666666666667,
          23.9,
          23.933333333333334,
          23.95,
          23.966666666666665
         ],
         "xaxis": "x",
         "y": [
          1,
          2,
          1,
          2,
          1,
          2,
          1,
          1,
          1,
          2,
          1,
          1,
          1,
          1,
          1,
          1,
          1,
          1,
          3,
          1,
          1,
          1,
          1,
          1,
          4,
          1,
          1,
          1,
          1,
          1,
          2,
          1,
          1,
          1,
          2,
          1,
          2,
          1,
          1,
          1,
          1,
          1,
          1,
          1,
          1,
          1,
          2,
          1,
          1,
          1,
          1,
          1,
          1,
          1,
          1,
          1,
          1,
          1,
          1,
          1,
          2,
          1,
          1,
          2,
          1,
          1,
          1,
          1,
          1,
          1,
          1,
          1,
          1,
          1,
          1,
          3,
          1,
          1,
          1,
          1,
          2,
          1,
          2,
          1,
          3,
          1,
          1,
          1,
          2,
          2,
          1,
          1,
          3,
          3,
          1,
          2,
          2,
          2,
          1,
          1,
          2,
          1,
          1,
          2,
          2,
          1,
          2,
          3,
          1,
          1,
          1,
          3,
          4,
          1,
          4,
          1,
          1,
          2,
          1,
          2,
          1,
          3,
          1,
          2,
          5,
          2,
          1,
          3,
          2,
          4,
          2,
          1,
          1,
          1,
          3,
          1,
          4,
          6,
          1,
          2,
          2,
          1,
          5,
          4,
          4,
          1,
          4,
          2,
          5,
          5,
          4,
          3,
          5,
          4,
          3,
          6,
          4,
          5,
          5,
          4,
          1,
          3,
          7,
          3,
          1,
          5,
          1,
          4,
          3,
          6,
          5,
          2,
          5,
          5,
          5,
          7,
          3,
          4,
          2,
          5,
          9,
          4,
          12,
          5,
          3,
          5,
          4,
          4,
          3,
          2,
          4,
          6,
          5,
          3,
          3,
          2,
          5,
          3,
          6,
          7,
          4,
          7,
          9,
          2,
          9,
          3,
          3,
          10,
          8,
          10,
          7,
          6,
          5,
          9,
          6,
          11,
          5,
          5,
          6,
          5,
          4,
          8,
          5,
          9,
          5,
          4,
          7,
          3,
          9,
          4,
          8,
          8,
          2,
          8,
          7,
          8,
          6,
          5,
          3,
          4,
          6,
          5,
          6,
          4,
          9,
          3,
          5,
          5,
          3,
          2,
          6,
          3,
          6,
          6,
          3,
          7,
          3,
          4,
          4,
          4,
          1,
          7,
          10,
          6,
          3,
          4,
          4,
          3,
          3,
          5,
          5,
          2,
          7,
          10,
          7,
          9,
          3,
          4,
          7,
          5,
          6,
          2,
          3,
          4,
          4,
          5,
          7,
          5,
          3,
          4,
          6,
          5,
          5,
          3,
          4,
          4,
          4,
          5,
          5,
          1,
          3,
          6,
          2,
          4,
          1,
          2,
          1,
          3,
          2,
          7,
          1,
          2,
          1,
          3,
          7,
          3,
          3,
          2,
          2,
          4,
          3,
          1,
          10,
          2,
          4,
          2,
          2,
          4,
          4,
          1,
          2,
          4,
          2,
          5,
          1,
          4,
          2,
          2,
          2,
          1,
          6,
          6,
          8,
          2,
          3,
          4,
          3,
          2,
          4,
          2,
          5,
          1,
          2,
          3,
          2,
          6,
          2,
          3,
          2,
          5,
          5,
          3,
          4,
          3,
          3,
          4,
          1,
          3,
          2,
          2,
          2,
          1,
          1,
          2,
          3,
          7,
          4,
          2,
          2,
          3,
          5,
          3,
          1,
          2,
          4,
          4,
          4,
          5,
          1,
          2,
          3,
          2,
          3,
          1,
          6,
          1,
          6,
          3,
          2,
          2,
          4,
          6,
          3,
          3,
          5,
          1,
          3,
          1,
          1,
          4,
          7,
          3,
          2,
          2,
          5,
          1,
          2,
          5,
          3,
          3,
          4,
          1,
          1,
          3,
          4,
          4,
          3,
          3,
          5,
          2,
          4,
          1,
          1,
          4,
          4,
          2,
          1,
          4,
          5,
          4,
          1,
          2,
          1,
          4,
          6,
          3,
          4,
          3,
          1,
          1,
          6,
          2,
          2,
          3,
          5,
          4,
          4,
          3,
          4,
          2,
          6,
          6,
          4,
          4,
          6,
          6,
          4,
          6,
          4,
          3,
          3,
          3,
          3,
          5,
          3,
          6,
          2,
          4,
          3,
          1,
          7,
          6,
          2,
          1,
          5,
          2,
          6,
          4,
          2,
          1,
          3,
          8,
          8,
          8,
          5,
          2,
          4,
          1,
          4,
          2,
          2,
          4,
          4,
          5,
          2,
          3,
          4,
          1,
          2,
          5,
          1,
          1,
          4,
          2,
          2,
          5,
          7,
          5,
          3,
          4,
          6,
          2,
          4,
          3,
          5,
          3,
          1,
          3,
          2,
          4,
          4,
          3,
          5,
          5,
          2,
          3,
          2,
          4,
          8,
          2,
          2,
          3,
          5,
          1,
          3,
          1,
          6,
          4,
          2,
          3,
          1,
          2,
          4,
          2,
          3,
          3,
          2,
          3,
          3,
          2,
          3,
          5,
          3,
          3,
          2,
          3,
          3,
          7,
          2,
          4,
          5,
          4,
          2,
          6,
          2,
          4,
          4,
          4,
          3,
          2,
          9,
          1,
          4,
          1,
          2,
          7,
          4,
          2,
          5,
          4,
          6,
          1,
          5,
          5,
          6,
          6,
          4,
          3,
          4,
          3,
          2,
          4,
          2,
          5,
          1,
          5,
          3,
          4,
          6,
          4,
          5,
          9,
          2,
          10,
          4,
          3,
          7,
          3,
          2,
          5,
          5,
          5,
          6,
          1,
          2,
          7,
          2,
          6,
          6,
          4,
          1,
          2,
          2,
          4,
          7,
          3,
          4,
          4,
          10,
          3,
          6,
          2,
          2,
          5,
          5,
          5,
          5,
          5,
          7,
          3,
          7,
          5,
          4,
          6,
          5,
          4,
          3,
          5,
          4,
          4,
          2,
          9,
          4,
          4,
          2,
          5,
          5,
          7,
          8,
          3,
          3,
          4,
          4,
          4,
          5,
          6,
          6,
          4,
          6,
          4,
          4,
          3,
          7,
          3,
          4,
          2,
          2,
          6,
          3,
          8,
          2,
          2,
          6,
          5,
          5,
          3,
          3,
          3,
          2,
          1,
          7,
          6,
          6,
          7,
          6,
          6,
          7,
          4,
          3,
          4,
          5,
          12,
          6,
          4,
          6,
          7,
          5,
          5,
          6,
          7,
          4,
          6,
          7,
          5,
          6,
          6,
          1,
          5,
          6,
          7,
          7,
          4,
          5,
          3,
          6,
          6,
          7,
          7,
          4,
          3,
          7,
          4,
          9,
          10,
          6,
          8,
          5,
          10,
          6,
          4,
          10,
          4,
          6,
          9,
          7,
          6,
          9,
          10,
          4,
          3,
          8,
          9,
          13,
          3,
          5,
          8,
          4,
          8,
          6,
          8,
          9,
          7,
          6,
          10,
          6,
          13,
          8,
          7,
          5,
          3,
          11,
          4,
          11,
          12,
          8,
          6,
          3,
          9,
          2,
          4,
          11,
          9,
          8,
          7,
          5,
          7,
          12,
          10,
          9,
          6,
          6,
          5,
          2,
          4,
          5,
          6,
          11,
          11,
          6,
          9,
          8,
          9,
          4,
          7,
          5,
          4,
          4,
          3,
          10,
          7,
          10,
          11,
          6,
          8,
          4,
          1,
          5,
          3,
          7,
          4,
          6,
          5,
          8,
          8,
          9,
          5,
          4,
          9,
          2,
          6,
          7,
          1,
          6,
          7,
          11,
          4,
          5,
          6,
          6,
          9,
          6,
          6,
          4,
          3,
          3,
          8,
          4,
          5,
          8,
          2,
          2,
          9,
          6,
          7,
          8,
          6,
          5,
          5,
          8,
          8,
          3,
          2,
          5,
          4,
          4,
          8,
          8,
          3,
          2,
          4,
          4,
          7,
          5,
          8,
          5,
          5,
          3,
          5,
          2,
          8,
          3,
          4,
          8,
          5,
          3,
          2,
          5,
          6,
          6,
          3,
          4,
          6,
          7,
          3,
          9,
          3,
          5,
          3,
          2,
          3,
          2,
          1,
          2,
          5,
          2,
          3,
          3,
          2,
          3,
          6,
          3,
          3,
          4,
          1,
          2,
          11,
          5,
          6,
          2,
          4,
          2,
          2,
          4,
          5,
          1,
          3,
          1,
          2,
          2,
          2,
          4,
          2,
          3,
          4,
          1,
          2,
          1,
          9,
          3,
          5,
          4,
          2,
          8,
          5,
          5,
          1,
          1,
          2,
          2,
          6,
          1,
          2,
          2,
          3,
          4,
          3,
          2,
          2,
          4,
          2,
          2,
          3,
          1,
          2,
          2,
          1,
          4,
          3,
          4,
          2,
          1,
          3,
          3,
          2,
          3,
          1,
          1,
          1,
          1,
          1,
          1,
          1,
          3,
          1,
          2,
          2,
          1,
          2,
          2,
          3,
          2,
          1,
          3,
          1,
          1,
          1,
          2,
          1,
          1,
          1,
          1,
          4,
          3,
          3,
          7,
          1,
          4,
          1,
          2,
          4,
          2,
          1,
          2,
          2,
          5,
          2,
          2,
          1,
          2,
          1,
          1,
          3,
          4,
          2,
          1,
          3,
          1,
          3,
          2,
          1,
          1,
          2,
          2,
          2,
          1,
          1,
          1,
          2,
          2,
          1,
          2,
          1,
          2,
          7,
          3,
          2,
          2,
          1,
          1,
          1,
          1,
          2,
          3,
          2,
          2,
          3,
          2,
          3,
          2,
          2,
          2,
          2,
          1,
          1,
          1,
          1,
          2,
          2,
          1,
          1,
          1,
          1,
          1,
          2,
          2,
          1,
          1,
          2,
          2,
          2,
          1,
          1,
          1,
          1,
          1,
          1,
          1,
          1,
          4,
          3,
          1,
          1,
          1,
          1,
          1
         ],
         "yaxis": "y"
        }
       ],
       "layout": {
        "barmode": "relative",
        "legend": {
         "title": {
          "text": "member_casual"
         },
         "tracegroupgap": 0
        },
        "margin": {
         "t": 60
        },
        "template": {
         "data": {
          "bar": [
           {
            "error_x": {
             "color": "#2a3f5f"
            },
            "error_y": {
             "color": "#2a3f5f"
            },
            "marker": {
             "line": {
              "color": "#E5ECF6",
              "width": 0.5
             },
             "pattern": {
              "fillmode": "overlay",
              "size": 10,
              "solidity": 0.2
             }
            },
            "type": "bar"
           }
          ],
          "barpolar": [
           {
            "marker": {
             "line": {
              "color": "#E5ECF6",
              "width": 0.5
             },
             "pattern": {
              "fillmode": "overlay",
              "size": 10,
              "solidity": 0.2
             }
            },
            "type": "barpolar"
           }
          ],
          "carpet": [
           {
            "aaxis": {
             "endlinecolor": "#2a3f5f",
             "gridcolor": "white",
             "linecolor": "white",
             "minorgridcolor": "white",
             "startlinecolor": "#2a3f5f"
            },
            "baxis": {
             "endlinecolor": "#2a3f5f",
             "gridcolor": "white",
             "linecolor": "white",
             "minorgridcolor": "white",
             "startlinecolor": "#2a3f5f"
            },
            "type": "carpet"
           }
          ],
          "choropleth": [
           {
            "colorbar": {
             "outlinewidth": 0,
             "ticks": ""
            },
            "type": "choropleth"
           }
          ],
          "contour": [
           {
            "colorbar": {
             "outlinewidth": 0,
             "ticks": ""
            },
            "colorscale": [
             [
              0,
              "#0d0887"
             ],
             [
              0.1111111111111111,
              "#46039f"
             ],
             [
              0.2222222222222222,
              "#7201a8"
             ],
             [
              0.3333333333333333,
              "#9c179e"
             ],
             [
              0.4444444444444444,
              "#bd3786"
             ],
             [
              0.5555555555555556,
              "#d8576b"
             ],
             [
              0.6666666666666666,
              "#ed7953"
             ],
             [
              0.7777777777777778,
              "#fb9f3a"
             ],
             [
              0.8888888888888888,
              "#fdca26"
             ],
             [
              1,
              "#f0f921"
             ]
            ],
            "type": "contour"
           }
          ],
          "contourcarpet": [
           {
            "colorbar": {
             "outlinewidth": 0,
             "ticks": ""
            },
            "type": "contourcarpet"
           }
          ],
          "heatmap": [
           {
            "colorbar": {
             "outlinewidth": 0,
             "ticks": ""
            },
            "colorscale": [
             [
              0,
              "#0d0887"
             ],
             [
              0.1111111111111111,
              "#46039f"
             ],
             [
              0.2222222222222222,
              "#7201a8"
             ],
             [
              0.3333333333333333,
              "#9c179e"
             ],
             [
              0.4444444444444444,
              "#bd3786"
             ],
             [
              0.5555555555555556,
              "#d8576b"
             ],
             [
              0.6666666666666666,
              "#ed7953"
             ],
             [
              0.7777777777777778,
              "#fb9f3a"
             ],
             [
              0.8888888888888888,
              "#fdca26"
             ],
             [
              1,
              "#f0f921"
             ]
            ],
            "type": "heatmap"
           }
          ],
          "heatmapgl": [
           {
            "colorbar": {
             "outlinewidth": 0,
             "ticks": ""
            },
            "colorscale": [
             [
              0,
              "#0d0887"
             ],
             [
              0.1111111111111111,
              "#46039f"
             ],
             [
              0.2222222222222222,
              "#7201a8"
             ],
             [
              0.3333333333333333,
              "#9c179e"
             ],
             [
              0.4444444444444444,
              "#bd3786"
             ],
             [
              0.5555555555555556,
              "#d8576b"
             ],
             [
              0.6666666666666666,
              "#ed7953"
             ],
             [
              0.7777777777777778,
              "#fb9f3a"
             ],
             [
              0.8888888888888888,
              "#fdca26"
             ],
             [
              1,
              "#f0f921"
             ]
            ],
            "type": "heatmapgl"
           }
          ],
          "histogram": [
           {
            "marker": {
             "pattern": {
              "fillmode": "overlay",
              "size": 10,
              "solidity": 0.2
             }
            },
            "type": "histogram"
           }
          ],
          "histogram2d": [
           {
            "colorbar": {
             "outlinewidth": 0,
             "ticks": ""
            },
            "colorscale": [
             [
              0,
              "#0d0887"
             ],
             [
              0.1111111111111111,
              "#46039f"
             ],
             [
              0.2222222222222222,
              "#7201a8"
             ],
             [
              0.3333333333333333,
              "#9c179e"
             ],
             [
              0.4444444444444444,
              "#bd3786"
             ],
             [
              0.5555555555555556,
              "#d8576b"
             ],
             [
              0.6666666666666666,
              "#ed7953"
             ],
             [
              0.7777777777777778,
              "#fb9f3a"
             ],
             [
              0.8888888888888888,
              "#fdca26"
             ],
             [
              1,
              "#f0f921"
             ]
            ],
            "type": "histogram2d"
           }
          ],
          "histogram2dcontour": [
           {
            "colorbar": {
             "outlinewidth": 0,
             "ticks": ""
            },
            "colorscale": [
             [
              0,
              "#0d0887"
             ],
             [
              0.1111111111111111,
              "#46039f"
             ],
             [
              0.2222222222222222,
              "#7201a8"
             ],
             [
              0.3333333333333333,
              "#9c179e"
             ],
             [
              0.4444444444444444,
              "#bd3786"
             ],
             [
              0.5555555555555556,
              "#d8576b"
             ],
             [
              0.6666666666666666,
              "#ed7953"
             ],
             [
              0.7777777777777778,
              "#fb9f3a"
             ],
             [
              0.8888888888888888,
              "#fdca26"
             ],
             [
              1,
              "#f0f921"
             ]
            ],
            "type": "histogram2dcontour"
           }
          ],
          "mesh3d": [
           {
            "colorbar": {
             "outlinewidth": 0,
             "ticks": ""
            },
            "type": "mesh3d"
           }
          ],
          "parcoords": [
           {
            "line": {
             "colorbar": {
              "outlinewidth": 0,
              "ticks": ""
             }
            },
            "type": "parcoords"
           }
          ],
          "pie": [
           {
            "automargin": true,
            "type": "pie"
           }
          ],
          "scatter": [
           {
            "fillpattern": {
             "fillmode": "overlay",
             "size": 10,
             "solidity": 0.2
            },
            "type": "scatter"
           }
          ],
          "scatter3d": [
           {
            "line": {
             "colorbar": {
              "outlinewidth": 0,
              "ticks": ""
             }
            },
            "marker": {
             "colorbar": {
              "outlinewidth": 0,
              "ticks": ""
             }
            },
            "type": "scatter3d"
           }
          ],
          "scattercarpet": [
           {
            "marker": {
             "colorbar": {
              "outlinewidth": 0,
              "ticks": ""
             }
            },
            "type": "scattercarpet"
           }
          ],
          "scattergeo": [
           {
            "marker": {
             "colorbar": {
              "outlinewidth": 0,
              "ticks": ""
             }
            },
            "type": "scattergeo"
           }
          ],
          "scattergl": [
           {
            "marker": {
             "colorbar": {
              "outlinewidth": 0,
              "ticks": ""
             }
            },
            "type": "scattergl"
           }
          ],
          "scattermapbox": [
           {
            "marker": {
             "colorbar": {
              "outlinewidth": 0,
              "ticks": ""
             }
            },
            "type": "scattermapbox"
           }
          ],
          "scatterpolar": [
           {
            "marker": {
             "colorbar": {
              "outlinewidth": 0,
              "ticks": ""
             }
            },
            "type": "scatterpolar"
           }
          ],
          "scatterpolargl": [
           {
            "marker": {
             "colorbar": {
              "outlinewidth": 0,
              "ticks": ""
             }
            },
            "type": "scatterpolargl"
           }
          ],
          "scatterternary": [
           {
            "marker": {
             "colorbar": {
              "outlinewidth": 0,
              "ticks": ""
             }
            },
            "type": "scatterternary"
           }
          ],
          "surface": [
           {
            "colorbar": {
             "outlinewidth": 0,
             "ticks": ""
            },
            "colorscale": [
             [
              0,
              "#0d0887"
             ],
             [
              0.1111111111111111,
              "#46039f"
             ],
             [
              0.2222222222222222,
              "#7201a8"
             ],
             [
              0.3333333333333333,
              "#9c179e"
             ],
             [
              0.4444444444444444,
              "#bd3786"
             ],
             [
              0.5555555555555556,
              "#d8576b"
             ],
             [
              0.6666666666666666,
              "#ed7953"
             ],
             [
              0.7777777777777778,
              "#fb9f3a"
             ],
             [
              0.8888888888888888,
              "#fdca26"
             ],
             [
              1,
              "#f0f921"
             ]
            ],
            "type": "surface"
           }
          ],
          "table": [
           {
            "cells": {
             "fill": {
              "color": "#EBF0F8"
             },
             "line": {
              "color": "white"
             }
            },
            "header": {
             "fill": {
              "color": "#C8D4E3"
             },
             "line": {
              "color": "white"
             }
            },
            "type": "table"
           }
          ]
         },
         "layout": {
          "annotationdefaults": {
           "arrowcolor": "#2a3f5f",
           "arrowhead": 0,
           "arrowwidth": 1
          },
          "autotypenumbers": "strict",
          "coloraxis": {
           "colorbar": {
            "outlinewidth": 0,
            "ticks": ""
           }
          },
          "colorscale": {
           "diverging": [
            [
             0,
             "#8e0152"
            ],
            [
             0.1,
             "#c51b7d"
            ],
            [
             0.2,
             "#de77ae"
            ],
            [
             0.3,
             "#f1b6da"
            ],
            [
             0.4,
             "#fde0ef"
            ],
            [
             0.5,
             "#f7f7f7"
            ],
            [
             0.6,
             "#e6f5d0"
            ],
            [
             0.7,
             "#b8e186"
            ],
            [
             0.8,
             "#7fbc41"
            ],
            [
             0.9,
             "#4d9221"
            ],
            [
             1,
             "#276419"
            ]
           ],
           "sequential": [
            [
             0,
             "#0d0887"
            ],
            [
             0.1111111111111111,
             "#46039f"
            ],
            [
             0.2222222222222222,
             "#7201a8"
            ],
            [
             0.3333333333333333,
             "#9c179e"
            ],
            [
             0.4444444444444444,
             "#bd3786"
            ],
            [
             0.5555555555555556,
             "#d8576b"
            ],
            [
             0.6666666666666666,
             "#ed7953"
            ],
            [
             0.7777777777777778,
             "#fb9f3a"
            ],
            [
             0.8888888888888888,
             "#fdca26"
            ],
            [
             1,
             "#f0f921"
            ]
           ],
           "sequentialminus": [
            [
             0,
             "#0d0887"
            ],
            [
             0.1111111111111111,
             "#46039f"
            ],
            [
             0.2222222222222222,
             "#7201a8"
            ],
            [
             0.3333333333333333,
             "#9c179e"
            ],
            [
             0.4444444444444444,
             "#bd3786"
            ],
            [
             0.5555555555555556,
             "#d8576b"
            ],
            [
             0.6666666666666666,
             "#ed7953"
            ],
            [
             0.7777777777777778,
             "#fb9f3a"
            ],
            [
             0.8888888888888888,
             "#fdca26"
            ],
            [
             1,
             "#f0f921"
            ]
           ]
          },
          "colorway": [
           "#636efa",
           "#EF553B",
           "#00cc96",
           "#ab63fa",
           "#FFA15A",
           "#19d3f3",
           "#FF6692",
           "#B6E880",
           "#FF97FF",
           "#FECB52"
          ],
          "font": {
           "color": "#2a3f5f"
          },
          "geo": {
           "bgcolor": "white",
           "lakecolor": "white",
           "landcolor": "#E5ECF6",
           "showlakes": true,
           "showland": true,
           "subunitcolor": "white"
          },
          "hoverlabel": {
           "align": "left"
          },
          "hovermode": "closest",
          "mapbox": {
           "style": "light"
          },
          "paper_bgcolor": "white",
          "plot_bgcolor": "#E5ECF6",
          "polar": {
           "angularaxis": {
            "gridcolor": "white",
            "linecolor": "white",
            "ticks": ""
           },
           "bgcolor": "#E5ECF6",
           "radialaxis": {
            "gridcolor": "white",
            "linecolor": "white",
            "ticks": ""
           }
          },
          "scene": {
           "xaxis": {
            "backgroundcolor": "#E5ECF6",
            "gridcolor": "white",
            "gridwidth": 2,
            "linecolor": "white",
            "showbackground": true,
            "ticks": "",
            "zerolinecolor": "white"
           },
           "yaxis": {
            "backgroundcolor": "#E5ECF6",
            "gridcolor": "white",
            "gridwidth": 2,
            "linecolor": "white",
            "showbackground": true,
            "ticks": "",
            "zerolinecolor": "white"
           },
           "zaxis": {
            "backgroundcolor": "#E5ECF6",
            "gridcolor": "white",
            "gridwidth": 2,
            "linecolor": "white",
            "showbackground": true,
            "ticks": "",
            "zerolinecolor": "white"
           }
          },
          "shapedefaults": {
           "line": {
            "color": "#2a3f5f"
           }
          },
          "ternary": {
           "aaxis": {
            "gridcolor": "white",
            "linecolor": "white",
            "ticks": ""
           },
           "baxis": {
            "gridcolor": "white",
            "linecolor": "white",
            "ticks": ""
           },
           "bgcolor": "#E5ECF6",
           "caxis": {
            "gridcolor": "white",
            "linecolor": "white",
            "ticks": ""
           }
          },
          "title": {
           "x": 0.05
          },
          "xaxis": {
           "automargin": true,
           "gridcolor": "white",
           "linecolor": "white",
           "ticks": "",
           "title": {
            "standoff": 15
           },
           "zerolinecolor": "white",
           "zerolinewidth": 2
          },
          "yaxis": {
           "automargin": true,
           "gridcolor": "white",
           "linecolor": "white",
           "ticks": "",
           "title": {
            "standoff": 15
           },
           "zerolinecolor": "white",
           "zerolinewidth": 2
          }
         }
        },
        "xaxis": {
         "anchor": "y",
         "domain": [
          0,
          1
         ],
         "title": {
          "text": "hour_of_day"
         }
        },
        "yaxis": {
         "anchor": "x",
         "domain": [
          0,
          1
         ],
         "title": {
          "text": "counts"
         }
        }
       }
      },
      "text/html": [
       "<div>                            <div id=\"50aec581-8e85-4f2f-8379-cc6d42c4dcf0\" class=\"plotly-graph-div\" style=\"height:525px; width:100%;\"></div>            <script type=\"text/javascript\">                require([\"plotly\"], function(Plotly) {                    window.PLOTLYENV=window.PLOTLYENV || {};                                    if (document.getElementById(\"50aec581-8e85-4f2f-8379-cc6d42c4dcf0\")) {                    Plotly.newPlot(                        \"50aec581-8e85-4f2f-8379-cc6d42c4dcf0\",                        [{\"alignmentgroup\":\"True\",\"hovertemplate\":\"member_casual=member<br>hour_of_day=%{x}<br>counts=%{y}<extra></extra>\",\"legendgroup\":\"member\",\"marker\":{\"color\":\"#636efa\",\"pattern\":{\"shape\":\"\"}},\"name\":\"member\",\"offsetgroup\":\"member\",\"orientation\":\"v\",\"showlegend\":true,\"textposition\":\"auto\",\"x\":[0.0,0.016666666666666666,0.03333333333333333,0.06666666666666667,0.08333333333333333,0.1,0.13333333333333333,0.15,0.16666666666666666,0.21666666666666667,0.2833333333333333,0.3,0.3333333333333333,0.35,0.38333333333333336,0.4,0.45,0.4666666666666667,0.48333333333333334,0.5,0.5333333333333333,0.55,0.6,0.6166666666666667,0.65,0.75,0.7666666666666667,0.7833333333333333,0.8833333333333333,0.95,1.0833333333333333,1.1666666666666667,1.1833333333333333,1.2333333333333334,1.2833333333333332,1.3333333333333333,1.4333333333333333,1.5166666666666666,1.5333333333333332,1.6,1.6166666666666667,1.7833333333333332,1.8,1.9,2.2333333333333334,2.2666666666666666,2.283333333333333,2.3166666666666664,2.3333333333333335,2.55,2.6166666666666667,2.65,2.6666666666666665,2.716666666666667,2.783333333333333,3.0,3.183333333333333,3.3833333333333333,3.4,3.8,3.8166666666666664,3.8333333333333335,3.85,3.9,4.0,4.016666666666667,4.083333333333333,4.166666666666667,4.183333333333334,4.383333333333334,4.416666666666667,4.7,4.75,4.816666666666666,4.883333333333333,4.9,4.916666666666667,5.216666666666667,5.233333333333333,5.266666666666667,5.4,5.433333333333334,5.45,5.566666666666666,5.583333333333333,5.6,5.616666666666667,5.633333333333333,5.683333333333334,5.733333333333333,5.75,5.8,5.816666666666666,5.833333333333333,5.85,5.866666666666667,5.883333333333333,5.9,5.95,6.0,6.016666666666667,6.033333333333333,6.05,6.066666666666666,6.083333333333333,6.116666666666666,6.133333333333334,6.216666666666667,6.233333333333333,6.266666666666667,6.283333333333333,6.3,6.333333333333333,6.35,6.366666666666666,6.383333333333334,6.4,6.416666666666667,6.433333333333334,6.45,6.483333333333333,6.5,6.516666666666667,6.533333333333333,6.55,6.566666666666666,6.6,6.616666666666667,6.633333333333333,6.65,6.666666666666667,6.683333333333334,6.7,6.75,6.766666666666667,6.783333333333333,6.8,6.816666666666666,6.833333333333333,6.85,6.866666666666667,6.883333333333333,6.916666666666667,6.933333333333334,6.95,6.966666666666667,6.983333333333333,7.0,7.016666666666667,7.033333333333333,7.05,7.066666666666666,7.083333333333333,7.1,7.116666666666666,7.133333333333334,7.15,7.166666666666667,7.183333333333334,7.2,7.216666666666667,7.233333333333333,7.25,7.266666666666667,7.283333333333333,7.3,7.316666666666666,7.333333333333333,7.35,7.366666666666666,7.383333333333334,7.4,7.416666666666667,7.433333333333334,7.45,7.466666666666667,7.483333333333333,7.5,7.516666666666667,7.533333333333333,7.55,7.566666666666666,7.583333333333333,7.6,7.616666666666667,7.633333333333333,7.65,7.666666666666667,7.683333333333334,7.716666666666667,7.733333333333333,7.75,7.766666666666667,7.783333333333333,7.8,7.816666666666666,7.833333333333333,7.85,7.866666666666667,7.883333333333333,7.9,7.916666666666667,7.933333333333334,7.95,7.966666666666667,7.983333333333333,8.0,8.016666666666667,8.033333333333333,8.05,8.066666666666666,8.083333333333334,8.1,8.116666666666667,8.133333333333333,8.15,8.166666666666666,8.183333333333334,8.2,8.216666666666667,8.233333333333333,8.25,8.266666666666667,8.283333333333333,8.3,8.316666666666666,8.333333333333334,8.35,8.366666666666667,8.383333333333333,8.4,8.416666666666666,8.433333333333334,8.45,8.466666666666667,8.483333333333333,8.5,8.516666666666667,8.533333333333333,8.55,8.566666666666666,8.583333333333334,8.6,8.616666666666667,8.633333333333333,8.65,8.666666666666666,8.683333333333334,8.7,8.716666666666667,8.733333333333333,8.75,8.766666666666667,8.783333333333333,8.8,8.816666666666666,8.833333333333334,8.85,8.866666666666667,8.883333333333333,8.9,8.916666666666666,8.933333333333334,8.95,8.966666666666667,8.983333333333333,9.0,9.016666666666667,9.033333333333333,9.05,9.066666666666666,9.083333333333334,9.1,9.116666666666667,9.133333333333333,9.15,9.166666666666666,9.183333333333334,9.2,9.216666666666667,9.233333333333333,9.25,9.266666666666667,9.283333333333333,9.3,9.333333333333334,9.35,9.366666666666667,9.383333333333333,9.4,9.416666666666666,9.433333333333334,9.45,9.466666666666667,9.483333333333333,9.5,9.516666666666667,9.533333333333333,9.55,9.566666666666666,9.583333333333334,9.6,9.616666666666667,9.633333333333333,9.65,9.666666666666666,9.7,9.716666666666667,9.733333333333333,9.75,9.766666666666667,9.783333333333333,9.816666666666666,9.866666666666667,9.883333333333333,9.9,9.916666666666666,9.933333333333334,9.95,9.966666666666667,9.983333333333333,10.0,10.016666666666667,10.033333333333333,10.05,10.066666666666666,10.083333333333334,10.1,10.116666666666667,10.133333333333333,10.15,10.166666666666666,10.183333333333334,10.2,10.216666666666667,10.233333333333333,10.25,10.266666666666667,10.283333333333333,10.3,10.316666666666666,10.333333333333334,10.35,10.366666666666667,10.383333333333333,10.4,10.416666666666666,10.433333333333334,10.45,10.466666666666667,10.483333333333333,10.5,10.533333333333333,10.55,10.566666666666666,10.583333333333334,10.6,10.65,10.666666666666666,10.683333333333334,10.7,10.716666666666667,10.733333333333333,10.766666666666667,10.783333333333333,10.8,10.816666666666666,10.85,10.866666666666667,10.883333333333333,10.9,10.916666666666666,10.933333333333334,10.95,10.966666666666667,10.983333333333333,11.0,11.016666666666667,11.05,11.066666666666666,11.083333333333334,11.133333333333333,11.15,11.166666666666666,11.183333333333334,11.2,11.216666666666667,11.233333333333333,11.266666666666667,11.283333333333333,11.3,11.316666666666666,11.333333333333334,11.35,11.366666666666667,11.383333333333333,11.4,11.416666666666666,11.433333333333334,11.45,11.466666666666667,11.483333333333333,11.5,11.533333333333333,11.55,11.566666666666666,11.583333333333334,11.6,11.616666666666667,11.633333333333333,11.65,11.666666666666666,11.683333333333334,11.7,11.716666666666667,11.733333333333333,11.75,11.766666666666667,11.783333333333333,11.8,11.816666666666666,11.833333333333334,11.85,11.866666666666667,11.883333333333333,11.9,11.916666666666666,11.933333333333334,11.95,11.966666666666667,11.983333333333333,12.0,12.016666666666667,12.033333333333333,12.05,12.066666666666666,12.083333333333334,12.1,12.116666666666667,12.133333333333333,12.166666666666666,12.183333333333334,12.2,12.216666666666667,12.233333333333333,12.25,12.266666666666667,12.283333333333333,12.3,12.316666666666666,12.333333333333334,12.35,12.366666666666667,12.383333333333333,12.4,12.416666666666666,12.433333333333334,12.45,12.466666666666667,12.483333333333333,12.5,12.516666666666667,12.533333333333333,12.55,12.566666666666666,12.583333333333334,12.6,12.633333333333333,12.666666666666666,12.683333333333334,12.7,12.716666666666667,12.733333333333333,12.75,12.766666666666667,12.783333333333333,12.8,12.816666666666666,12.833333333333334,12.85,12.866666666666667,12.883333333333333,12.9,12.916666666666666,12.933333333333334,12.95,12.966666666666667,12.983333333333333,13.0,13.016666666666667,13.033333333333333,13.05,13.066666666666666,13.083333333333334,13.1,13.116666666666667,13.133333333333333,13.15,13.166666666666666,13.183333333333334,13.2,13.216666666666667,13.233333333333333,13.25,13.266666666666667,13.283333333333333,13.3,13.316666666666666,13.333333333333334,13.35,13.366666666666667,13.383333333333333,13.4,13.416666666666666,13.433333333333334,13.45,13.466666666666667,13.483333333333333,13.5,13.516666666666667,13.533333333333333,13.55,13.566666666666666,13.583333333333334,13.6,13.616666666666667,13.633333333333333,13.65,13.666666666666666,13.683333333333334,13.7,13.716666666666667,13.733333333333333,13.75,13.766666666666667,13.8,13.816666666666666,13.833333333333334,13.85,13.866666666666667,13.883333333333333,13.9,13.916666666666666,13.933333333333334,13.95,13.966666666666667,13.983333333333333,14.0,14.016666666666667,14.033333333333333,14.05,14.066666666666666,14.083333333333334,14.1,14.116666666666667,14.133333333333333,14.15,14.166666666666666,14.183333333333334,14.2,14.216666666666667,14.233333333333333,14.266666666666667,14.283333333333333,14.3,14.316666666666666,14.333333333333334,14.35,14.366666666666667,14.383333333333333,14.4,14.416666666666666,14.433333333333334,14.45,14.466666666666667,14.483333333333333,14.5,14.516666666666667,14.533333333333333,14.55,14.566666666666666,14.583333333333334,14.6,14.616666666666667,14.633333333333333,14.65,14.666666666666666,14.683333333333334,14.7,14.716666666666667,14.733333333333333,14.75,14.766666666666667,14.783333333333333,14.8,14.816666666666666,14.833333333333334,14.85,14.866666666666667,14.883333333333333,14.9,14.916666666666666,14.933333333333334,14.95,14.966666666666667,14.983333333333333,15.0,15.016666666666667,15.033333333333333,15.05,15.066666666666666,15.083333333333334,15.1,15.116666666666667,15.133333333333333,15.15,15.166666666666666,15.183333333333334,15.2,15.216666666666667,15.233333333333333,15.25,15.266666666666667,15.283333333333333,15.3,15.316666666666666,15.333333333333334,15.35,15.366666666666667,15.383333333333333,15.4,15.416666666666666,15.433333333333334,15.45,15.466666666666667,15.483333333333333,15.5,15.516666666666667,15.533333333333333,15.55,15.566666666666666,15.583333333333334,15.6,15.616666666666667,15.633333333333333,15.65,15.666666666666666,15.7,15.716666666666667,15.733333333333333,15.75,15.766666666666667,15.783333333333333,15.8,15.816666666666666,15.833333333333334,15.85,15.866666666666667,15.883333333333333,15.9,15.916666666666666,15.933333333333334,15.95,15.966666666666667,15.983333333333333,16.0,16.016666666666666,16.033333333333335,16.05,16.066666666666666,16.083333333333332,16.1,16.116666666666667,16.133333333333333,16.15,16.166666666666668,16.183333333333334,16.2,16.216666666666665,16.233333333333334,16.25,16.266666666666666,16.283333333333335,16.3,16.316666666666666,16.333333333333332,16.35,16.366666666666667,16.383333333333333,16.4,16.416666666666668,16.433333333333334,16.466666666666665,16.483333333333334,16.5,16.516666666666666,16.533333333333335,16.55,16.566666666666666,16.583333333333332,16.6,16.616666666666667,16.633333333333333,16.65,16.666666666666668,16.683333333333334,16.7,16.716666666666665,16.733333333333334,16.75,16.766666666666666,16.783333333333335,16.8,16.816666666666666,16.833333333333332,16.85,16.866666666666667,16.883333333333333,16.9,16.916666666666668,16.933333333333334,16.95,16.966666666666665,16.983333333333334,17.0,17.016666666666666,17.033333333333335,17.05,17.066666666666666,17.083333333333332,17.1,17.116666666666667,17.133333333333333,17.15,17.166666666666668,17.183333333333334,17.2,17.216666666666665,17.233333333333334,17.25,17.266666666666666,17.283333333333335,17.3,17.316666666666666,17.333333333333332,17.35,17.366666666666667,17.383333333333333,17.4,17.416666666666668,17.433333333333334,17.45,17.466666666666665,17.483333333333334,17.5,17.516666666666666,17.533333333333335,17.55,17.566666666666666,17.583333333333332,17.6,17.616666666666667,17.633333333333333,17.65,17.666666666666668,17.683333333333334,17.7,17.716666666666665,17.733333333333334,17.75,17.766666666666666,17.783333333333335,17.8,17.816666666666666,17.833333333333332,17.85,17.866666666666667,17.883333333333333,17.9,17.916666666666668,17.933333333333334,17.95,17.966666666666665,17.983333333333334,18.0,18.016666666666666,18.033333333333335,18.05,18.066666666666666,18.083333333333332,18.1,18.116666666666667,18.133333333333333,18.15,18.166666666666668,18.183333333333334,18.2,18.216666666666665,18.233333333333334,18.25,18.266666666666666,18.283333333333335,18.3,18.316666666666666,18.333333333333332,18.35,18.366666666666667,18.383333333333333,18.4,18.416666666666668,18.433333333333334,18.45,18.466666666666665,18.483333333333334,18.5,18.516666666666666,18.533333333333335,18.55,18.566666666666666,18.583333333333332,18.6,18.616666666666667,18.633333333333333,18.65,18.666666666666668,18.683333333333334,18.7,18.716666666666665,18.733333333333334,18.75,18.766666666666666,18.783333333333335,18.8,18.816666666666666,18.833333333333332,18.85,18.866666666666667,18.883333333333333,18.9,18.916666666666668,18.933333333333334,18.95,18.966666666666665,18.983333333333334,19.0,19.016666666666666,19.033333333333335,19.05,19.066666666666666,19.083333333333332,19.1,19.116666666666667,19.133333333333333,19.15,19.166666666666668,19.183333333333334,19.2,19.216666666666665,19.233333333333334,19.25,19.266666666666666,19.283333333333335,19.3,19.316666666666666,19.333333333333332,19.35,19.366666666666667,19.383333333333333,19.4,19.416666666666668,19.433333333333334,19.45,19.466666666666665,19.483333333333334,19.5,19.516666666666666,19.533333333333335,19.55,19.566666666666666,19.583333333333332,19.6,19.616666666666667,19.633333333333333,19.65,19.666666666666668,19.683333333333334,19.7,19.716666666666665,19.733333333333334,19.75,19.766666666666666,19.783333333333335,19.8,19.816666666666666,19.833333333333332,19.85,19.866666666666667,19.883333333333333,19.9,19.916666666666668,19.933333333333334,19.95,19.966666666666665,19.983333333333334,20.0,20.016666666666666,20.033333333333335,20.05,20.066666666666666,20.1,20.116666666666667,20.133333333333333,20.15,20.166666666666668,20.183333333333334,20.2,20.216666666666665,20.233333333333334,20.25,20.266666666666666,20.283333333333335,20.3,20.316666666666666,20.333333333333332,20.35,20.366666666666667,20.383333333333333,20.4,20.416666666666668,20.433333333333334,20.45,20.466666666666665,20.483333333333334,20.5,20.516666666666666,20.533333333333335,20.55,20.566666666666666,20.583333333333332,20.6,20.616666666666667,20.633333333333333,20.65,20.666666666666668,20.683333333333334,20.7,20.716666666666665,20.733333333333334,20.75,20.766666666666666,20.783333333333335,20.8,20.816666666666666,20.833333333333332,20.85,20.866666666666667,20.883333333333333,20.9,20.916666666666668,20.933333333333334,20.95,20.966666666666665,20.983333333333334,21.0,21.016666666666666,21.033333333333335,21.05,21.066666666666666,21.083333333333332,21.1,21.116666666666667,21.133333333333333,21.15,21.166666666666668,21.183333333333334,21.2,21.216666666666665,21.233333333333334,21.266666666666666,21.283333333333335,21.3,21.316666666666666,21.333333333333332,21.35,21.366666666666667,21.4,21.416666666666668,21.45,21.466666666666665,21.483333333333334,21.5,21.516666666666666,21.533333333333335,21.55,21.566666666666666,21.583333333333332,21.616666666666667,21.633333333333333,21.65,21.666666666666668,21.683333333333334,21.7,21.716666666666665,21.733333333333334,21.75,21.766666666666666,21.783333333333335,21.8,21.816666666666666,21.833333333333332,21.85,21.866666666666667,21.883333333333333,21.9,21.916666666666668,21.933333333333334,21.95,21.966666666666665,21.983333333333334,22.0,22.033333333333335,22.05,22.1,22.116666666666667,22.133333333333333,22.15,22.166666666666668,22.183333333333334,22.233333333333334,22.25,22.283333333333335,22.3,22.316666666666666,22.35,22.366666666666667,22.383333333333333,22.4,22.416666666666668,22.45,22.483333333333334,22.5,22.516666666666666,22.533333333333335,22.55,22.566666666666666,22.583333333333332,22.6,22.616666666666667,22.633333333333333,22.65,22.666666666666668,22.683333333333334,22.716666666666665,22.733333333333334,22.766666666666666,22.783333333333335,22.833333333333332,22.85,22.866666666666667,22.883333333333333,22.9,22.916666666666668,22.95,22.966666666666665,22.983333333333334,23.0,23.033333333333335,23.05,23.066666666666666,23.083333333333332,23.1,23.116666666666667,23.183333333333334,23.216666666666665,23.233333333333334,23.25,23.283333333333335,23.3,23.333333333333332,23.366666666666667,23.4,23.416666666666668,23.433333333333334,23.45,23.466666666666665,23.483333333333334,23.516666666666666,23.55,23.566666666666666,23.583333333333332,23.616666666666667,23.633333333333333,23.65,23.666666666666668,23.683333333333334,23.7,23.716666666666665,23.8,23.833333333333332,23.85,23.866666666666667,23.9,23.933333333333334,23.95,23.966666666666665],\"xaxis\":\"x\",\"y\":[1,2,1,2,1,2,1,1,1,2,1,1,1,1,1,1,1,1,3,1,1,1,1,1,4,1,1,1,1,1,2,1,1,1,2,1,2,1,1,1,1,1,1,1,1,1,2,1,1,1,1,1,1,1,1,1,1,1,1,1,2,1,1,2,1,1,1,1,1,1,1,1,1,1,1,3,1,1,1,1,2,1,2,1,3,1,1,1,2,2,1,1,3,3,1,2,2,2,1,1,2,1,1,2,2,1,2,3,1,1,1,3,4,1,4,1,1,2,1,2,1,3,1,2,5,2,1,3,2,4,2,1,1,1,3,1,4,6,1,2,2,1,5,4,4,1,4,2,5,5,4,3,5,4,3,6,4,5,5,4,1,3,7,3,1,5,1,4,3,6,5,2,5,5,5,7,3,4,2,5,9,4,12,5,3,5,4,4,3,2,4,6,5,3,3,2,5,3,6,7,4,7,9,2,9,3,3,10,8,10,7,6,5,9,6,11,5,5,6,5,4,8,5,9,5,4,7,3,9,4,8,8,2,8,7,8,6,5,3,4,6,5,6,4,9,3,5,5,3,2,6,3,6,6,3,7,3,4,4,4,1,7,10,6,3,4,4,3,3,5,5,2,7,10,7,9,3,4,7,5,6,2,3,4,4,5,7,5,3,4,6,5,5,3,4,4,4,5,5,1,3,6,2,4,1,2,1,3,2,7,1,2,1,3,7,3,3,2,2,4,3,1,10,2,4,2,2,4,4,1,2,4,2,5,1,4,2,2,2,1,6,6,8,2,3,4,3,2,4,2,5,1,2,3,2,6,2,3,2,5,5,3,4,3,3,4,1,3,2,2,2,1,1,2,3,7,4,2,2,3,5,3,1,2,4,4,4,5,1,2,3,2,3,1,6,1,6,3,2,2,4,6,3,3,5,1,3,1,1,4,7,3,2,2,5,1,2,5,3,3,4,1,1,3,4,4,3,3,5,2,4,1,1,4,4,2,1,4,5,4,1,2,1,4,6,3,4,3,1,1,6,2,2,3,5,4,4,3,4,2,6,6,4,4,6,6,4,6,4,3,3,3,3,5,3,6,2,4,3,1,7,6,2,1,5,2,6,4,2,1,3,8,8,8,5,2,4,1,4,2,2,4,4,5,2,3,4,1,2,5,1,1,4,2,2,5,7,5,3,4,6,2,4,3,5,3,1,3,2,4,4,3,5,5,2,3,2,4,8,2,2,3,5,1,3,1,6,4,2,3,1,2,4,2,3,3,2,3,3,2,3,5,3,3,2,3,3,7,2,4,5,4,2,6,2,4,4,4,3,2,9,1,4,1,2,7,4,2,5,4,6,1,5,5,6,6,4,3,4,3,2,4,2,5,1,5,3,4,6,4,5,9,2,10,4,3,7,3,2,5,5,5,6,1,2,7,2,6,6,4,1,2,2,4,7,3,4,4,10,3,6,2,2,5,5,5,5,5,7,3,7,5,4,6,5,4,3,5,4,4,2,9,4,4,2,5,5,7,8,3,3,4,4,4,5,6,6,4,6,4,4,3,7,3,4,2,2,6,3,8,2,2,6,5,5,3,3,3,2,1,7,6,6,7,6,6,7,4,3,4,5,12,6,4,6,7,5,5,6,7,4,6,7,5,6,6,1,5,6,7,7,4,5,3,6,6,7,7,4,3,7,4,9,10,6,8,5,10,6,4,10,4,6,9,7,6,9,10,4,3,8,9,13,3,5,8,4,8,6,8,9,7,6,10,6,13,8,7,5,3,11,4,11,12,8,6,3,9,2,4,11,9,8,7,5,7,12,10,9,6,6,5,2,4,5,6,11,11,6,9,8,9,4,7,5,4,4,3,10,7,10,11,6,8,4,1,5,3,7,4,6,5,8,8,9,5,4,9,2,6,7,1,6,7,11,4,5,6,6,9,6,6,4,3,3,8,4,5,8,2,2,9,6,7,8,6,5,5,8,8,3,2,5,4,4,8,8,3,2,4,4,7,5,8,5,5,3,5,2,8,3,4,8,5,3,2,5,6,6,3,4,6,7,3,9,3,5,3,2,3,2,1,2,5,2,3,3,2,3,6,3,3,4,1,2,11,5,6,2,4,2,2,4,5,1,3,1,2,2,2,4,2,3,4,1,2,1,9,3,5,4,2,8,5,5,1,1,2,2,6,1,2,2,3,4,3,2,2,4,2,2,3,1,2,2,1,4,3,4,2,1,3,3,2,3,1,1,1,1,1,1,1,3,1,2,2,1,2,2,3,2,1,3,1,1,1,2,1,1,1,1,4,3,3,7,1,4,1,2,4,2,1,2,2,5,2,2,1,2,1,1,3,4,2,1,3,1,3,2,1,1,2,2,2,1,1,1,2,2,1,2,1,2,7,3,2,2,1,1,1,1,2,3,2,2,3,2,3,2,2,2,2,1,1,1,1,2,2,1,1,1,1,1,2,2,1,1,2,2,2,1,1,1,1,1,1,1,1,4,3,1,1,1,1,1],\"yaxis\":\"y\",\"type\":\"bar\"}],                        {\"template\":{\"data\":{\"histogram2dcontour\":[{\"type\":\"histogram2dcontour\",\"colorbar\":{\"outlinewidth\":0,\"ticks\":\"\"},\"colorscale\":[[0.0,\"#0d0887\"],[0.1111111111111111,\"#46039f\"],[0.2222222222222222,\"#7201a8\"],[0.3333333333333333,\"#9c179e\"],[0.4444444444444444,\"#bd3786\"],[0.5555555555555556,\"#d8576b\"],[0.6666666666666666,\"#ed7953\"],[0.7777777777777778,\"#fb9f3a\"],[0.8888888888888888,\"#fdca26\"],[1.0,\"#f0f921\"]]}],\"choropleth\":[{\"type\":\"choropleth\",\"colorbar\":{\"outlinewidth\":0,\"ticks\":\"\"}}],\"histogram2d\":[{\"type\":\"histogram2d\",\"colorbar\":{\"outlinewidth\":0,\"ticks\":\"\"},\"colorscale\":[[0.0,\"#0d0887\"],[0.1111111111111111,\"#46039f\"],[0.2222222222222222,\"#7201a8\"],[0.3333333333333333,\"#9c179e\"],[0.4444444444444444,\"#bd3786\"],[0.5555555555555556,\"#d8576b\"],[0.6666666666666666,\"#ed7953\"],[0.7777777777777778,\"#fb9f3a\"],[0.8888888888888888,\"#fdca26\"],[1.0,\"#f0f921\"]]}],\"heatmap\":[{\"type\":\"heatmap\",\"colorbar\":{\"outlinewidth\":0,\"ticks\":\"\"},\"colorscale\":[[0.0,\"#0d0887\"],[0.1111111111111111,\"#46039f\"],[0.2222222222222222,\"#7201a8\"],[0.3333333333333333,\"#9c179e\"],[0.4444444444444444,\"#bd3786\"],[0.5555555555555556,\"#d8576b\"],[0.6666666666666666,\"#ed7953\"],[0.7777777777777778,\"#fb9f3a\"],[0.8888888888888888,\"#fdca26\"],[1.0,\"#f0f921\"]]}],\"heatmapgl\":[{\"type\":\"heatmapgl\",\"colorbar\":{\"outlinewidth\":0,\"ticks\":\"\"},\"colorscale\":[[0.0,\"#0d0887\"],[0.1111111111111111,\"#46039f\"],[0.2222222222222222,\"#7201a8\"],[0.3333333333333333,\"#9c179e\"],[0.4444444444444444,\"#bd3786\"],[0.5555555555555556,\"#d8576b\"],[0.6666666666666666,\"#ed7953\"],[0.7777777777777778,\"#fb9f3a\"],[0.8888888888888888,\"#fdca26\"],[1.0,\"#f0f921\"]]}],\"contourcarpet\":[{\"type\":\"contourcarpet\",\"colorbar\":{\"outlinewidth\":0,\"ticks\":\"\"}}],\"contour\":[{\"type\":\"contour\",\"colorbar\":{\"outlinewidth\":0,\"ticks\":\"\"},\"colorscale\":[[0.0,\"#0d0887\"],[0.1111111111111111,\"#46039f\"],[0.2222222222222222,\"#7201a8\"],[0.3333333333333333,\"#9c179e\"],[0.4444444444444444,\"#bd3786\"],[0.5555555555555556,\"#d8576b\"],[0.6666666666666666,\"#ed7953\"],[0.7777777777777778,\"#fb9f3a\"],[0.8888888888888888,\"#fdca26\"],[1.0,\"#f0f921\"]]}],\"surface\":[{\"type\":\"surface\",\"colorbar\":{\"outlinewidth\":0,\"ticks\":\"\"},\"colorscale\":[[0.0,\"#0d0887\"],[0.1111111111111111,\"#46039f\"],[0.2222222222222222,\"#7201a8\"],[0.3333333333333333,\"#9c179e\"],[0.4444444444444444,\"#bd3786\"],[0.5555555555555556,\"#d8576b\"],[0.6666666666666666,\"#ed7953\"],[0.7777777777777778,\"#fb9f3a\"],[0.8888888888888888,\"#fdca26\"],[1.0,\"#f0f921\"]]}],\"mesh3d\":[{\"type\":\"mesh3d\",\"colorbar\":{\"outlinewidth\":0,\"ticks\":\"\"}}],\"scatter\":[{\"fillpattern\":{\"fillmode\":\"overlay\",\"size\":10,\"solidity\":0.2},\"type\":\"scatter\"}],\"parcoords\":[{\"type\":\"parcoords\",\"line\":{\"colorbar\":{\"outlinewidth\":0,\"ticks\":\"\"}}}],\"scatterpolargl\":[{\"type\":\"scatterpolargl\",\"marker\":{\"colorbar\":{\"outlinewidth\":0,\"ticks\":\"\"}}}],\"bar\":[{\"error_x\":{\"color\":\"#2a3f5f\"},\"error_y\":{\"color\":\"#2a3f5f\"},\"marker\":{\"line\":{\"color\":\"#E5ECF6\",\"width\":0.5},\"pattern\":{\"fillmode\":\"overlay\",\"size\":10,\"solidity\":0.2}},\"type\":\"bar\"}],\"scattergeo\":[{\"type\":\"scattergeo\",\"marker\":{\"colorbar\":{\"outlinewidth\":0,\"ticks\":\"\"}}}],\"scatterpolar\":[{\"type\":\"scatterpolar\",\"marker\":{\"colorbar\":{\"outlinewidth\":0,\"ticks\":\"\"}}}],\"histogram\":[{\"marker\":{\"pattern\":{\"fillmode\":\"overlay\",\"size\":10,\"solidity\":0.2}},\"type\":\"histogram\"}],\"scattergl\":[{\"type\":\"scattergl\",\"marker\":{\"colorbar\":{\"outlinewidth\":0,\"ticks\":\"\"}}}],\"scatter3d\":[{\"type\":\"scatter3d\",\"line\":{\"colorbar\":{\"outlinewidth\":0,\"ticks\":\"\"}},\"marker\":{\"colorbar\":{\"outlinewidth\":0,\"ticks\":\"\"}}}],\"scattermapbox\":[{\"type\":\"scattermapbox\",\"marker\":{\"colorbar\":{\"outlinewidth\":0,\"ticks\":\"\"}}}],\"scatterternary\":[{\"type\":\"scatterternary\",\"marker\":{\"colorbar\":{\"outlinewidth\":0,\"ticks\":\"\"}}}],\"scattercarpet\":[{\"type\":\"scattercarpet\",\"marker\":{\"colorbar\":{\"outlinewidth\":0,\"ticks\":\"\"}}}],\"carpet\":[{\"aaxis\":{\"endlinecolor\":\"#2a3f5f\",\"gridcolor\":\"white\",\"linecolor\":\"white\",\"minorgridcolor\":\"white\",\"startlinecolor\":\"#2a3f5f\"},\"baxis\":{\"endlinecolor\":\"#2a3f5f\",\"gridcolor\":\"white\",\"linecolor\":\"white\",\"minorgridcolor\":\"white\",\"startlinecolor\":\"#2a3f5f\"},\"type\":\"carpet\"}],\"table\":[{\"cells\":{\"fill\":{\"color\":\"#EBF0F8\"},\"line\":{\"color\":\"white\"}},\"header\":{\"fill\":{\"color\":\"#C8D4E3\"},\"line\":{\"color\":\"white\"}},\"type\":\"table\"}],\"barpolar\":[{\"marker\":{\"line\":{\"color\":\"#E5ECF6\",\"width\":0.5},\"pattern\":{\"fillmode\":\"overlay\",\"size\":10,\"solidity\":0.2}},\"type\":\"barpolar\"}],\"pie\":[{\"automargin\":true,\"type\":\"pie\"}]},\"layout\":{\"autotypenumbers\":\"strict\",\"colorway\":[\"#636efa\",\"#EF553B\",\"#00cc96\",\"#ab63fa\",\"#FFA15A\",\"#19d3f3\",\"#FF6692\",\"#B6E880\",\"#FF97FF\",\"#FECB52\"],\"font\":{\"color\":\"#2a3f5f\"},\"hovermode\":\"closest\",\"hoverlabel\":{\"align\":\"left\"},\"paper_bgcolor\":\"white\",\"plot_bgcolor\":\"#E5ECF6\",\"polar\":{\"bgcolor\":\"#E5ECF6\",\"angularaxis\":{\"gridcolor\":\"white\",\"linecolor\":\"white\",\"ticks\":\"\"},\"radialaxis\":{\"gridcolor\":\"white\",\"linecolor\":\"white\",\"ticks\":\"\"}},\"ternary\":{\"bgcolor\":\"#E5ECF6\",\"aaxis\":{\"gridcolor\":\"white\",\"linecolor\":\"white\",\"ticks\":\"\"},\"baxis\":{\"gridcolor\":\"white\",\"linecolor\":\"white\",\"ticks\":\"\"},\"caxis\":{\"gridcolor\":\"white\",\"linecolor\":\"white\",\"ticks\":\"\"}},\"coloraxis\":{\"colorbar\":{\"outlinewidth\":0,\"ticks\":\"\"}},\"colorscale\":{\"sequential\":[[0.0,\"#0d0887\"],[0.1111111111111111,\"#46039f\"],[0.2222222222222222,\"#7201a8\"],[0.3333333333333333,\"#9c179e\"],[0.4444444444444444,\"#bd3786\"],[0.5555555555555556,\"#d8576b\"],[0.6666666666666666,\"#ed7953\"],[0.7777777777777778,\"#fb9f3a\"],[0.8888888888888888,\"#fdca26\"],[1.0,\"#f0f921\"]],\"sequentialminus\":[[0.0,\"#0d0887\"],[0.1111111111111111,\"#46039f\"],[0.2222222222222222,\"#7201a8\"],[0.3333333333333333,\"#9c179e\"],[0.4444444444444444,\"#bd3786\"],[0.5555555555555556,\"#d8576b\"],[0.6666666666666666,\"#ed7953\"],[0.7777777777777778,\"#fb9f3a\"],[0.8888888888888888,\"#fdca26\"],[1.0,\"#f0f921\"]],\"diverging\":[[0,\"#8e0152\"],[0.1,\"#c51b7d\"],[0.2,\"#de77ae\"],[0.3,\"#f1b6da\"],[0.4,\"#fde0ef\"],[0.5,\"#f7f7f7\"],[0.6,\"#e6f5d0\"],[0.7,\"#b8e186\"],[0.8,\"#7fbc41\"],[0.9,\"#4d9221\"],[1,\"#276419\"]]},\"xaxis\":{\"gridcolor\":\"white\",\"linecolor\":\"white\",\"ticks\":\"\",\"title\":{\"standoff\":15},\"zerolinecolor\":\"white\",\"automargin\":true,\"zerolinewidth\":2},\"yaxis\":{\"gridcolor\":\"white\",\"linecolor\":\"white\",\"ticks\":\"\",\"title\":{\"standoff\":15},\"zerolinecolor\":\"white\",\"automargin\":true,\"zerolinewidth\":2},\"scene\":{\"xaxis\":{\"backgroundcolor\":\"#E5ECF6\",\"gridcolor\":\"white\",\"linecolor\":\"white\",\"showbackground\":true,\"ticks\":\"\",\"zerolinecolor\":\"white\",\"gridwidth\":2},\"yaxis\":{\"backgroundcolor\":\"#E5ECF6\",\"gridcolor\":\"white\",\"linecolor\":\"white\",\"showbackground\":true,\"ticks\":\"\",\"zerolinecolor\":\"white\",\"gridwidth\":2},\"zaxis\":{\"backgroundcolor\":\"#E5ECF6\",\"gridcolor\":\"white\",\"linecolor\":\"white\",\"showbackground\":true,\"ticks\":\"\",\"zerolinecolor\":\"white\",\"gridwidth\":2}},\"shapedefaults\":{\"line\":{\"color\":\"#2a3f5f\"}},\"annotationdefaults\":{\"arrowcolor\":\"#2a3f5f\",\"arrowhead\":0,\"arrowwidth\":1},\"geo\":{\"bgcolor\":\"white\",\"landcolor\":\"#E5ECF6\",\"subunitcolor\":\"white\",\"showland\":true,\"showlakes\":true,\"lakecolor\":\"white\"},\"title\":{\"x\":0.05},\"mapbox\":{\"style\":\"light\"}}},\"xaxis\":{\"anchor\":\"y\",\"domain\":[0.0,1.0],\"title\":{\"text\":\"hour_of_day\"}},\"yaxis\":{\"anchor\":\"x\",\"domain\":[0.0,1.0],\"title\":{\"text\":\"counts\"}},\"legend\":{\"title\":{\"text\":\"member_casual\"},\"tracegroupgap\":0},\"margin\":{\"t\":60},\"barmode\":\"relative\"},                        {\"responsive\": true}                    ).then(function(){\n",
       "                            \n",
       "var gd = document.getElementById('50aec581-8e85-4f2f-8379-cc6d42c4dcf0');\n",
       "var x = new MutationObserver(function (mutations, observer) {{\n",
       "        var display = window.getComputedStyle(gd).display;\n",
       "        if (!display || display === 'none') {{\n",
       "            console.log([gd, 'removed!']);\n",
       "            Plotly.purge(gd);\n",
       "            observer.disconnect();\n",
       "        }}\n",
       "}});\n",
       "\n",
       "// Listen for the removal of the full notebook cells\n",
       "var notebookContainer = gd.closest('#notebook-container');\n",
       "if (notebookContainer) {{\n",
       "    x.observe(notebookContainer, {childList: true});\n",
       "}}\n",
       "\n",
       "// Listen for the clearing of the current output cell\n",
       "var outputEl = gd.closest('.output');\n",
       "if (outputEl) {{\n",
       "    x.observe(outputEl, {childList: true});\n",
       "}}\n",
       "\n",
       "                        })                };                });            </script>        </div>"
      ]
     },
     "metadata": {},
     "output_type": "display_data"
    }
   ],
   "source": [
    "df_3 = df_smote_final[df_smote_final['member_casual']=='member']\n",
    "df_3 = df_3.groupby(by=[\"hour_of_day\", \"member_casual\"]).size().reset_index(name=\"counts\")\n",
    "fig = px.bar(df_3, x=\"hour_of_day\", y=\"counts\" ,color='member_casual')\n",
    "fig.show()"
   ]
  },
  {
   "cell_type": "markdown",
   "id": "1b5b2568",
   "metadata": {},
   "source": [
    "**From the above, we can see that the busy hours are between 6am and 8:30pm.**"
   ]
  },
  {
   "cell_type": "markdown",
   "id": "bfaace72",
   "metadata": {},
   "source": [
    "**7) Do member bikers use more in the morning or late afternoon?**"
   ]
  },
  {
   "cell_type": "code",
   "execution_count": 66,
   "id": "743b3b81",
   "metadata": {},
   "outputs": [
    {
     "data": {
      "text/plain": [
       "<AxesSubplot: xlabel='hour_of_day_0', ylabel='count'>"
      ]
     },
     "execution_count": 66,
     "metadata": {},
     "output_type": "execute_result"
    },
    {
     "data": {
      "image/png": "[encoded data removed]",
      "text/plain": [
       "<Figure size 1570x827 with 1 Axes>"
      ]
     },
     "metadata": {},
     "output_type": "display_data"
    }
   ],
   "source": [
    "sns.set(rc={'figure.figsize':(15.7,8.27)})\n",
    "aux03 = df_smote_final.copy()\n",
    "base_color1=sns.color_palette()[1]\n",
    "base_color2=sns.color_palette()[2]\n",
    "\n",
    "\n",
    "plt.subplot(2,1,1)\n",
    "bins = list( np.arange(0, 25, 0.5) )\n",
    "aux03['hour_of_day_0'] = pd.cut( aux03['hour_of_day'], bins=bins )\n",
    "plt.xticks( rotation=90)\n",
    "sns.countplot( x='hour_of_day_0', data=aux03[aux03['member_casual']=='member'],color=base_color1, \n",
    "             )\n",
    "\n"
   ]
  },
  {
   "cell_type": "markdown",
   "id": "e5af0bb6",
   "metadata": {},
   "source": [
    "**From the above, we can clearly see that the member bikers ride more during afternoon compared to morning.**"
   ]
  },
  {
   "cell_type": "code",
   "execution_count": 67,
   "id": "a3954345",
   "metadata": {},
   "outputs": [
    {
     "data": {
      "text/plain": [
       "<AxesSubplot: xlabel='hour_of_day_0', ylabel='count'>"
      ]
     },
     "execution_count": 67,
     "metadata": {},
     "output_type": "execute_result"
    },
    {
     "data": {
      "image/png": "[encoded data removed]",
      "text/plain": [
       "<Figure size 1570x827 with 1 Axes>"
      ]
     },
     "metadata": {},
     "output_type": "display_data"
    }
   ],
   "source": [
    "plt.subplot(2,1,2)\n",
    "bins = list( np.arange(0, 25, 0.5) )\n",
    "aux03['hour_of_day_0'] = pd.cut( aux03['hour_of_day'], bins=bins )\n",
    "plt.xticks( rotation=90)\n",
    "sns.countplot( x='hour_of_day_0', data=aux03[aux03['member_casual']=='casual'], color=base_color2)"
   ]
  },
  {
   "cell_type": "markdown",
   "id": "6f2091d1",
   "metadata": {},
   "source": [
    "**Similar to member bikers, casual bikers ride more during afternoon compared to early morning.**"
   ]
  },
  {
   "cell_type": "markdown",
   "id": "7c6a7b5a",
   "metadata": {},
   "source": [
    "**8) Do casual bikers ride more in the summer compared to other seasons?**"
   ]
  },
  {
   "cell_type": "code",
   "execution_count": 68,
   "id": "ecd4b9e5",
   "metadata": {},
   "outputs": [
    {
     "data": {
      "application/vnd.plotly.v1+json": {
       "config": {
        "plotlyServerURL": "https://plot.ly"
       },
       "data": [
        {
         "alignmentgroup": "True",
         "hovertemplate": "member_casual=casual<br>season=%{x}<br>counts=%{y}<extra></extra>",
         "legendgroup": "casual",
         "marker": {
          "color": "#636efa",
          "pattern": {
           "shape": ""
          }
         },
         "name": "casual",
         "offsetgroup": "casual",
         "orientation": "v",
         "showlegend": true,
         "textposition": "auto",
         "type": "bar",
         "x": [
          "Autumn",
          "Spring",
          "Summer",
          "Winter"
         ],
         "xaxis": "x",
         "y": [
          1235,
          944,
          1791,
          159
         ],
         "yaxis": "y"
        },
        {
         "alignmentgroup": "True",
         "hovertemplate": "member_casual=member<br>season=%{x}<br>counts=%{y}<extra></extra>",
         "legendgroup": "member",
         "marker": {
          "color": "#EF553B",
          "pattern": {
           "shape": ""
          }
         },
         "name": "member",
         "offsetgroup": "member",
         "orientation": "v",
         "showlegend": true,
         "textposition": "auto",
         "type": "bar",
         "x": [
          "Autumn",
          "Spring",
          "Summer",
          "Winter"
         ],
         "xaxis": "x",
         "y": [
          1686,
          787,
          1389,
          267
         ],
         "yaxis": "y"
        }
       ],
       "layout": {
        "barmode": "relative",
        "legend": {
         "title": {
          "text": "member_casual"
         },
         "tracegroupgap": 0
        },
        "margin": {
         "t": 60
        },
        "template": {
         "data": {
          "bar": [
           {
            "error_x": {
             "color": "#2a3f5f"
            },
            "error_y": {
             "color": "#2a3f5f"
            },
            "marker": {
             "line": {
              "color": "#E5ECF6",
              "width": 0.5
             },
             "pattern": {
              "fillmode": "overlay",
              "size": 10,
              "solidity": 0.2
             }
            },
            "type": "bar"
           }
          ],
          "barpolar": [
           {
            "marker": {
             "line": {
              "color": "#E5ECF6",
              "width": 0.5
             },
             "pattern": {
              "fillmode": "overlay",
              "size": 10,
              "solidity": 0.2
             }
            },
            "type": "barpolar"
           }
          ],
          "carpet": [
           {
            "aaxis": {
             "endlinecolor": "#2a3f5f",
             "gridcolor": "white",
             "linecolor": "white",
             "minorgridcolor": "white",
             "startlinecolor": "#2a3f5f"
            },
            "baxis": {
             "endlinecolor": "#2a3f5f",
             "gridcolor": "white",
             "linecolor": "white",
             "minorgridcolor": "white",
             "startlinecolor": "#2a3f5f"
            },
            "type": "carpet"
           }
          ],
          "choropleth": [
           {
            "colorbar": {
             "outlinewidth": 0,
             "ticks": ""
            },
            "type": "choropleth"
           }
          ],
          "contour": [
           {
            "colorbar": {
             "outlinewidth": 0,
             "ticks": ""
            },
            "colorscale": [
             [
              0,
              "#0d0887"
             ],
             [
              0.1111111111111111,
              "#46039f"
             ],
             [
              0.2222222222222222,
              "#7201a8"
             ],
             [
              0.3333333333333333,
              "#9c179e"
             ],
             [
              0.4444444444444444,
              "#bd3786"
             ],
             [
              0.5555555555555556,
              "#d8576b"
             ],
             [
              0.6666666666666666,
              "#ed7953"
             ],
             [
              0.7777777777777778,
              "#fb9f3a"
             ],
             [
              0.8888888888888888,
              "#fdca26"
             ],
             [
              1,
              "#f0f921"
             ]
            ],
            "type": "contour"
           }
          ],
          "contourcarpet": [
           {
            "colorbar": {
             "outlinewidth": 0,
             "ticks": ""
            },
            "type": "contourcarpet"
           }
          ],
          "heatmap": [
           {
            "colorbar": {
             "outlinewidth": 0,
             "ticks": ""
            },
            "colorscale": [
             [
              0,
              "#0d0887"
             ],
             [
              0.1111111111111111,
              "#46039f"
             ],
             [
              0.2222222222222222,
              "#7201a8"
             ],
             [
              0.3333333333333333,
              "#9c179e"
             ],
             [
              0.4444444444444444,
              "#bd3786"
             ],
             [
              0.5555555555555556,
              "#d8576b"
             ],
             [
              0.6666666666666666,
              "#ed7953"
             ],
             [
              0.7777777777777778,
              "#fb9f3a"
             ],
             [
              0.8888888888888888,
              "#fdca26"
             ],
             [
              1,
              "#f0f921"
             ]
            ],
            "type": "heatmap"
           }
          ],
          "heatmapgl": [
           {
            "colorbar": {
             "outlinewidth": 0,
             "ticks": ""
            },
            "colorscale": [
             [
              0,
              "#0d0887"
             ],
             [
              0.1111111111111111,
              "#46039f"
             ],
             [
              0.2222222222222222,
              "#7201a8"
             ],
             [
              0.3333333333333333,
              "#9c179e"
             ],
             [
              0.4444444444444444,
              "#bd3786"
             ],
             [
              0.5555555555555556,
              "#d8576b"
             ],
             [
              0.6666666666666666,
              "#ed7953"
             ],
             [
              0.7777777777777778,
              "#fb9f3a"
             ],
             [
              0.8888888888888888,
              "#fdca26"
             ],
             [
              1,
              "#f0f921"
             ]
            ],
            "type": "heatmapgl"
           }
          ],
          "histogram": [
           {
            "marker": {
             "pattern": {
              "fillmode": "overlay",
              "size": 10,
              "solidity": 0.2
             }
            },
            "type": "histogram"
           }
          ],
          "histogram2d": [
           {
            "colorbar": {
             "outlinewidth": 0,
             "ticks": ""
            },
            "colorscale": [
             [
              0,
              "#0d0887"
             ],
             [
              0.1111111111111111,
              "#46039f"
             ],
             [
              0.2222222222222222,
              "#7201a8"
             ],
             [
              0.3333333333333333,
              "#9c179e"
             ],
             [
              0.4444444444444444,
              "#bd3786"
             ],
             [
              0.5555555555555556,
              "#d8576b"
             ],
             [
              0.6666666666666666,
              "#ed7953"
             ],
             [
              0.7777777777777778,
              "#fb9f3a"
             ],
             [
              0.8888888888888888,
              "#fdca26"
             ],
             [
              1,
              "#f0f921"
             ]
            ],
            "type": "histogram2d"
           }
          ],
          "histogram2dcontour": [
           {
            "colorbar": {
             "outlinewidth": 0,
             "ticks": ""
            },
            "colorscale": [
             [
              0,
              "#0d0887"
             ],
             [
              0.1111111111111111,
              "#46039f"
             ],
             [
              0.2222222222222222,
              "#7201a8"
             ],
             [
              0.3333333333333333,
              "#9c179e"
             ],
             [
              0.4444444444444444,
              "#bd3786"
             ],
             [
              0.5555555555555556,
              "#d8576b"
             ],
             [
              0.6666666666666666,
              "#ed7953"
             ],
             [
              0.7777777777777778,
              "#fb9f3a"
             ],
             [
              0.8888888888888888,
              "#fdca26"
             ],
             [
              1,
              "#f0f921"
             ]
            ],
            "type": "histogram2dcontour"
           }
          ],
          "mesh3d": [
           {
            "colorbar": {
             "outlinewidth": 0,
             "ticks": ""
            },
            "type": "mesh3d"
           }
          ],
          "parcoords": [
           {
            "line": {
             "colorbar": {
              "outlinewidth": 0,
              "ticks": ""
             }
            },
            "type": "parcoords"
           }
          ],
          "pie": [
           {
            "automargin": true,
            "type": "pie"
           }
          ],
          "scatter": [
           {
            "fillpattern": {
             "fillmode": "overlay",
             "size": 10,
             "solidity": 0.2
            },
            "type": "scatter"
           }
          ],
          "scatter3d": [
           {
            "line": {
             "colorbar": {
              "outlinewidth": 0,
              "ticks": ""
             }
            },
            "marker": {
             "colorbar": {
              "outlinewidth": 0,
              "ticks": ""
             }
            },
            "type": "scatter3d"
           }
          ],
          "scattercarpet": [
           {
            "marker": {
             "colorbar": {
              "outlinewidth": 0,
              "ticks": ""
             }
            },
            "type": "scattercarpet"
           }
          ],
          "scattergeo": [
           {
            "marker": {
             "colorbar": {
              "outlinewidth": 0,
              "ticks": ""
             }
            },
            "type": "scattergeo"
           }
          ],
          "scattergl": [
           {
            "marker": {
             "colorbar": {
              "outlinewidth": 0,
              "ticks": ""
             }
            },
            "type": "scattergl"
           }
          ],
          "scattermapbox": [
           {
            "marker": {
             "colorbar": {
              "outlinewidth": 0,
              "ticks": ""
             }
            },
            "type": "scattermapbox"
           }
          ],
          "scatterpolar": [
           {
            "marker": {
             "colorbar": {
              "outlinewidth": 0,
              "ticks": ""
             }
            },
            "type": "scatterpolar"
           }
          ],
          "scatterpolargl": [
           {
            "marker": {
             "colorbar": {
              "outlinewidth": 0,
              "ticks": ""
             }
            },
            "type": "scatterpolargl"
           }
          ],
          "scatterternary": [
           {
            "marker": {
             "colorbar": {
              "outlinewidth": 0,
              "ticks": ""
             }
            },
            "type": "scatterternary"
           }
          ],
          "surface": [
           {
            "colorbar": {
             "outlinewidth": 0,
             "ticks": ""
            },
            "colorscale": [
             [
              0,
              "#0d0887"
             ],
             [
              0.1111111111111111,
              "#46039f"
             ],
             [
              0.2222222222222222,
              "#7201a8"
             ],
             [
              0.3333333333333333,
              "#9c179e"
             ],
             [
              0.4444444444444444,
              "#bd3786"
             ],
             [
              0.5555555555555556,
              "#d8576b"
             ],
             [
              0.6666666666666666,
              "#ed7953"
             ],
             [
              0.7777777777777778,
              "#fb9f3a"
             ],
             [
              0.8888888888888888,
              "#fdca26"
             ],
             [
              1,
              "#f0f921"
             ]
            ],
            "type": "surface"
           }
          ],
          "table": [
           {
            "cells": {
             "fill": {
              "color": "#EBF0F8"
             },
             "line": {
              "color": "white"
             }
            },
            "header": {
             "fill": {
              "color": "#C8D4E3"
             },
             "line": {
              "color": "white"
             }
            },
            "type": "table"
           }
          ]
         },
         "layout": {
          "annotationdefaults": {
           "arrowcolor": "#2a3f5f",
           "arrowhead": 0,
           "arrowwidth": 1
          },
          "autotypenumbers": "strict",
          "coloraxis": {
           "colorbar": {
            "outlinewidth": 0,
            "ticks": ""
           }
          },
          "colorscale": {
           "diverging": [
            [
             0,
             "#8e0152"
            ],
            [
             0.1,
             "#c51b7d"
            ],
            [
             0.2,
             "#de77ae"
            ],
            [
             0.3,
             "#f1b6da"
            ],
            [
             0.4,
             "#fde0ef"
            ],
            [
             0.5,
             "#f7f7f7"
            ],
            [
             0.6,
             "#e6f5d0"
            ],
            [
             0.7,
             "#b8e186"
            ],
            [
             0.8,
             "#7fbc41"
            ],
            [
             0.9,
             "#4d9221"
            ],
            [
             1,
             "#276419"
            ]
           ],
           "sequential": [
            [
             0,
             "#0d0887"
            ],
            [
             0.1111111111111111,
             "#46039f"
            ],
            [
             0.2222222222222222,
             "#7201a8"
            ],
            [
             0.3333333333333333,
             "#9c179e"
            ],
            [
             0.4444444444444444,
             "#bd3786"
            ],
            [
             0.5555555555555556,
             "#d8576b"
            ],
            [
             0.6666666666666666,
             "#ed7953"
            ],
            [
             0.7777777777777778,
             "#fb9f3a"
            ],
            [
             0.8888888888888888,
             "#fdca26"
            ],
            [
             1,
             "#f0f921"
            ]
           ],
           "sequentialminus": [
            [
             0,
             "#0d0887"
            ],
            [
             0.1111111111111111,
             "#46039f"
            ],
            [
             0.2222222222222222,
             "#7201a8"
            ],
            [
             0.3333333333333333,
             "#9c179e"
            ],
            [
             0.4444444444444444,
             "#bd3786"
            ],
            [
             0.5555555555555556,
             "#d8576b"
            ],
            [
             0.6666666666666666,
             "#ed7953"
            ],
            [
             0.7777777777777778,
             "#fb9f3a"
            ],
            [
             0.8888888888888888,
             "#fdca26"
            ],
            [
             1,
             "#f0f921"
            ]
           ]
          },
          "colorway": [
           "#636efa",
           "#EF553B",
           "#00cc96",
           "#ab63fa",
           "#FFA15A",
           "#19d3f3",
           "#FF6692",
           "#B6E880",
           "#FF97FF",
           "#FECB52"
          ],
          "font": {
           "color": "#2a3f5f"
          },
          "geo": {
           "bgcolor": "white",
           "lakecolor": "white",
           "landcolor": "#E5ECF6",
           "showlakes": true,
           "showland": true,
           "subunitcolor": "white"
          },
          "hoverlabel": {
           "align": "left"
          },
          "hovermode": "closest",
          "mapbox": {
           "style": "light"
          },
          "paper_bgcolor": "white",
          "plot_bgcolor": "#E5ECF6",
          "polar": {
           "angularaxis": {
            "gridcolor": "white",
            "linecolor": "white",
            "ticks": ""
           },
           "bgcolor": "#E5ECF6",
           "radialaxis": {
            "gridcolor": "white",
            "linecolor": "white",
            "ticks": ""
           }
          },
          "scene": {
           "xaxis": {
            "backgroundcolor": "#E5ECF6",
            "gridcolor": "white",
            "gridwidth": 2,
            "linecolor": "white",
            "showbackground": true,
            "ticks": "",
            "zerolinecolor": "white"
           },
           "yaxis": {
            "backgroundcolor": "#E5ECF6",
            "gridcolor": "white",
            "gridwidth": 2,
            "linecolor": "white",
            "showbackground": true,
            "ticks": "",
            "zerolinecolor": "white"
           },
           "zaxis": {
            "backgroundcolor": "#E5ECF6",
            "gridcolor": "white",
            "gridwidth": 2,
            "linecolor": "white",
            "showbackground": true,
            "ticks": "",
            "zerolinecolor": "white"
           }
          },
          "shapedefaults": {
           "line": {
            "color": "#2a3f5f"
           }
          },
          "ternary": {
           "aaxis": {
            "gridcolor": "white",
            "linecolor": "white",
            "ticks": ""
           },
           "baxis": {
            "gridcolor": "white",
            "linecolor": "white",
            "ticks": ""
           },
           "bgcolor": "#E5ECF6",
           "caxis": {
            "gridcolor": "white",
            "linecolor": "white",
            "ticks": ""
           }
          },
          "title": {
           "x": 0.05
          },
          "xaxis": {
           "automargin": true,
           "gridcolor": "white",
           "linecolor": "white",
           "ticks": "",
           "title": {
            "standoff": 15
           },
           "zerolinecolor": "white",
           "zerolinewidth": 2
          },
          "yaxis": {
           "automargin": true,
           "gridcolor": "white",
           "linecolor": "white",
           "ticks": "",
           "title": {
            "standoff": 15
           },
           "zerolinecolor": "white",
           "zerolinewidth": 2
          }
         }
        },
        "xaxis": {
         "anchor": "y",
         "domain": [
          0,
          1
         ],
         "title": {
          "text": "season"
         }
        },
        "yaxis": {
         "anchor": "x",
         "domain": [
          0,
          1
         ],
         "title": {
          "text": "counts"
         }
        }
       }
      },
      "text/html": [
       "<div>                            <div id=\"bb03a4bf-a47e-4230-baab-54af741d5955\" class=\"plotly-graph-div\" style=\"height:525px; width:100%;\"></div>            <script type=\"text/javascript\">                require([\"plotly\"], function(Plotly) {                    window.PLOTLYENV=window.PLOTLYENV || {};                                    if (document.getElementById(\"bb03a4bf-a47e-4230-baab-54af741d5955\")) {                    Plotly.newPlot(                        \"bb03a4bf-a47e-4230-baab-54af741d5955\",                        [{\"alignmentgroup\":\"True\",\"hovertemplate\":\"member_casual=casual<br>season=%{x}<br>counts=%{y}<extra></extra>\",\"legendgroup\":\"casual\",\"marker\":{\"color\":\"#636efa\",\"pattern\":{\"shape\":\"\"}},\"name\":\"casual\",\"offsetgroup\":\"casual\",\"orientation\":\"v\",\"showlegend\":true,\"textposition\":\"auto\",\"x\":[\"Autumn\",\"Spring\",\"Summer\",\"Winter\"],\"xaxis\":\"x\",\"y\":[1235,944,1791,159],\"yaxis\":\"y\",\"type\":\"bar\"},{\"alignmentgroup\":\"True\",\"hovertemplate\":\"member_casual=member<br>season=%{x}<br>counts=%{y}<extra></extra>\",\"legendgroup\":\"member\",\"marker\":{\"color\":\"#EF553B\",\"pattern\":{\"shape\":\"\"}},\"name\":\"member\",\"offsetgroup\":\"member\",\"orientation\":\"v\",\"showlegend\":true,\"textposition\":\"auto\",\"x\":[\"Autumn\",\"Spring\",\"Summer\",\"Winter\"],\"xaxis\":\"x\",\"y\":[1686,787,1389,267],\"yaxis\":\"y\",\"type\":\"bar\"}],                        {\"template\":{\"data\":{\"histogram2dcontour\":[{\"type\":\"histogram2dcontour\",\"colorbar\":{\"outlinewidth\":0,\"ticks\":\"\"},\"colorscale\":[[0.0,\"#0d0887\"],[0.1111111111111111,\"#46039f\"],[0.2222222222222222,\"#7201a8\"],[0.3333333333333333,\"#9c179e\"],[0.4444444444444444,\"#bd3786\"],[0.5555555555555556,\"#d8576b\"],[0.6666666666666666,\"#ed7953\"],[0.7777777777777778,\"#fb9f3a\"],[0.8888888888888888,\"#fdca26\"],[1.0,\"#f0f921\"]]}],\"choropleth\":[{\"type\":\"choropleth\",\"colorbar\":{\"outlinewidth\":0,\"ticks\":\"\"}}],\"histogram2d\":[{\"type\":\"histogram2d\",\"colorbar\":{\"outlinewidth\":0,\"ticks\":\"\"},\"colorscale\":[[0.0,\"#0d0887\"],[0.1111111111111111,\"#46039f\"],[0.2222222222222222,\"#7201a8\"],[0.3333333333333333,\"#9c179e\"],[0.4444444444444444,\"#bd3786\"],[0.5555555555555556,\"#d8576b\"],[0.6666666666666666,\"#ed7953\"],[0.7777777777777778,\"#fb9f3a\"],[0.8888888888888888,\"#fdca26\"],[1.0,\"#f0f921\"]]}],\"heatmap\":[{\"type\":\"heatmap\",\"colorbar\":{\"outlinewidth\":0,\"ticks\":\"\"},\"colorscale\":[[0.0,\"#0d0887\"],[0.1111111111111111,\"#46039f\"],[0.2222222222222222,\"#7201a8\"],[0.3333333333333333,\"#9c179e\"],[0.4444444444444444,\"#bd3786\"],[0.5555555555555556,\"#d8576b\"],[0.6666666666666666,\"#ed7953\"],[0.7777777777777778,\"#fb9f3a\"],[0.8888888888888888,\"#fdca26\"],[1.0,\"#f0f921\"]]}],\"heatmapgl\":[{\"type\":\"heatmapgl\",\"colorbar\":{\"outlinewidth\":0,\"ticks\":\"\"},\"colorscale\":[[0.0,\"#0d0887\"],[0.1111111111111111,\"#46039f\"],[0.2222222222222222,\"#7201a8\"],[0.3333333333333333,\"#9c179e\"],[0.4444444444444444,\"#bd3786\"],[0.5555555555555556,\"#d8576b\"],[0.6666666666666666,\"#ed7953\"],[0.7777777777777778,\"#fb9f3a\"],[0.8888888888888888,\"#fdca26\"],[1.0,\"#f0f921\"]]}],\"contourcarpet\":[{\"type\":\"contourcarpet\",\"colorbar\":{\"outlinewidth\":0,\"ticks\":\"\"}}],\"contour\":[{\"type\":\"contour\",\"colorbar\":{\"outlinewidth\":0,\"ticks\":\"\"},\"colorscale\":[[0.0,\"#0d0887\"],[0.1111111111111111,\"#46039f\"],[0.2222222222222222,\"#7201a8\"],[0.3333333333333333,\"#9c179e\"],[0.4444444444444444,\"#bd3786\"],[0.5555555555555556,\"#d8576b\"],[0.6666666666666666,\"#ed7953\"],[0.7777777777777778,\"#fb9f3a\"],[0.8888888888888888,\"#fdca26\"],[1.0,\"#f0f921\"]]}],\"surface\":[{\"type\":\"surface\",\"colorbar\":{\"outlinewidth\":0,\"ticks\":\"\"},\"colorscale\":[[0.0,\"#0d0887\"],[0.1111111111111111,\"#46039f\"],[0.2222222222222222,\"#7201a8\"],[0.3333333333333333,\"#9c179e\"],[0.4444444444444444,\"#bd3786\"],[0.5555555555555556,\"#d8576b\"],[0.6666666666666666,\"#ed7953\"],[0.7777777777777778,\"#fb9f3a\"],[0.8888888888888888,\"#fdca26\"],[1.0,\"#f0f921\"]]}],\"mesh3d\":[{\"type\":\"mesh3d\",\"colorbar\":{\"outlinewidth\":0,\"ticks\":\"\"}}],\"scatter\":[{\"fillpattern\":{\"fillmode\":\"overlay\",\"size\":10,\"solidity\":0.2},\"type\":\"scatter\"}],\"parcoords\":[{\"type\":\"parcoords\",\"line\":{\"colorbar\":{\"outlinewidth\":0,\"ticks\":\"\"}}}],\"scatterpolargl\":[{\"type\":\"scatterpolargl\",\"marker\":{\"colorbar\":{\"outlinewidth\":0,\"ticks\":\"\"}}}],\"bar\":[{\"error_x\":{\"color\":\"#2a3f5f\"},\"error_y\":{\"color\":\"#2a3f5f\"},\"marker\":{\"line\":{\"color\":\"#E5ECF6\",\"width\":0.5},\"pattern\":{\"fillmode\":\"overlay\",\"size\":10,\"solidity\":0.2}},\"type\":\"bar\"}],\"scattergeo\":[{\"type\":\"scattergeo\",\"marker\":{\"colorbar\":{\"outlinewidth\":0,\"ticks\":\"\"}}}],\"scatterpolar\":[{\"type\":\"scatterpolar\",\"marker\":{\"colorbar\":{\"outlinewidth\":0,\"ticks\":\"\"}}}],\"histogram\":[{\"marker\":{\"pattern\":{\"fillmode\":\"overlay\",\"size\":10,\"solidity\":0.2}},\"type\":\"histogram\"}],\"scattergl\":[{\"type\":\"scattergl\",\"marker\":{\"colorbar\":{\"outlinewidth\":0,\"ticks\":\"\"}}}],\"scatter3d\":[{\"type\":\"scatter3d\",\"line\":{\"colorbar\":{\"outlinewidth\":0,\"ticks\":\"\"}},\"marker\":{\"colorbar\":{\"outlinewidth\":0,\"ticks\":\"\"}}}],\"scattermapbox\":[{\"type\":\"scattermapbox\",\"marker\":{\"colorbar\":{\"outlinewidth\":0,\"ticks\":\"\"}}}],\"scatterternary\":[{\"type\":\"scatterternary\",\"marker\":{\"colorbar\":{\"outlinewidth\":0,\"ticks\":\"\"}}}],\"scattercarpet\":[{\"type\":\"scattercarpet\",\"marker\":{\"colorbar\":{\"outlinewidth\":0,\"ticks\":\"\"}}}],\"carpet\":[{\"aaxis\":{\"endlinecolor\":\"#2a3f5f\",\"gridcolor\":\"white\",\"linecolor\":\"white\",\"minorgridcolor\":\"white\",\"startlinecolor\":\"#2a3f5f\"},\"baxis\":{\"endlinecolor\":\"#2a3f5f\",\"gridcolor\":\"white\",\"linecolor\":\"white\",\"minorgridcolor\":\"white\",\"startlinecolor\":\"#2a3f5f\"},\"type\":\"carpet\"}],\"table\":[{\"cells\":{\"fill\":{\"color\":\"#EBF0F8\"},\"line\":{\"color\":\"white\"}},\"header\":{\"fill\":{\"color\":\"#C8D4E3\"},\"line\":{\"color\":\"white\"}},\"type\":\"table\"}],\"barpolar\":[{\"marker\":{\"line\":{\"color\":\"#E5ECF6\",\"width\":0.5},\"pattern\":{\"fillmode\":\"overlay\",\"size\":10,\"solidity\":0.2}},\"type\":\"barpolar\"}],\"pie\":[{\"automargin\":true,\"type\":\"pie\"}]},\"layout\":{\"autotypenumbers\":\"strict\",\"colorway\":[\"#636efa\",\"#EF553B\",\"#00cc96\",\"#ab63fa\",\"#FFA15A\",\"#19d3f3\",\"#FF6692\",\"#B6E880\",\"#FF97FF\",\"#FECB52\"],\"font\":{\"color\":\"#2a3f5f\"},\"hovermode\":\"closest\",\"hoverlabel\":{\"align\":\"left\"},\"paper_bgcolor\":\"white\",\"plot_bgcolor\":\"#E5ECF6\",\"polar\":{\"bgcolor\":\"#E5ECF6\",\"angularaxis\":{\"gridcolor\":\"white\",\"linecolor\":\"white\",\"ticks\":\"\"},\"radialaxis\":{\"gridcolor\":\"white\",\"linecolor\":\"white\",\"ticks\":\"\"}},\"ternary\":{\"bgcolor\":\"#E5ECF6\",\"aaxis\":{\"gridcolor\":\"white\",\"linecolor\":\"white\",\"ticks\":\"\"},\"baxis\":{\"gridcolor\":\"white\",\"linecolor\":\"white\",\"ticks\":\"\"},\"caxis\":{\"gridcolor\":\"white\",\"linecolor\":\"white\",\"ticks\":\"\"}},\"coloraxis\":{\"colorbar\":{\"outlinewidth\":0,\"ticks\":\"\"}},\"colorscale\":{\"sequential\":[[0.0,\"#0d0887\"],[0.1111111111111111,\"#46039f\"],[0.2222222222222222,\"#7201a8\"],[0.3333333333333333,\"#9c179e\"],[0.4444444444444444,\"#bd3786\"],[0.5555555555555556,\"#d8576b\"],[0.6666666666666666,\"#ed7953\"],[0.7777777777777778,\"#fb9f3a\"],[0.8888888888888888,\"#fdca26\"],[1.0,\"#f0f921\"]],\"sequentialminus\":[[0.0,\"#0d0887\"],[0.1111111111111111,\"#46039f\"],[0.2222222222222222,\"#7201a8\"],[0.3333333333333333,\"#9c179e\"],[0.4444444444444444,\"#bd3786\"],[0.5555555555555556,\"#d8576b\"],[0.6666666666666666,\"#ed7953\"],[0.7777777777777778,\"#fb9f3a\"],[0.8888888888888888,\"#fdca26\"],[1.0,\"#f0f921\"]],\"diverging\":[[0,\"#8e0152\"],[0.1,\"#c51b7d\"],[0.2,\"#de77ae\"],[0.3,\"#f1b6da\"],[0.4,\"#fde0ef\"],[0.5,\"#f7f7f7\"],[0.6,\"#e6f5d0\"],[0.7,\"#b8e186\"],[0.8,\"#7fbc41\"],[0.9,\"#4d9221\"],[1,\"#276419\"]]},\"xaxis\":{\"gridcolor\":\"white\",\"linecolor\":\"white\",\"ticks\":\"\",\"title\":{\"standoff\":15},\"zerolinecolor\":\"white\",\"automargin\":true,\"zerolinewidth\":2},\"yaxis\":{\"gridcolor\":\"white\",\"linecolor\":\"white\",\"ticks\":\"\",\"title\":{\"standoff\":15},\"zerolinecolor\":\"white\",\"automargin\":true,\"zerolinewidth\":2},\"scene\":{\"xaxis\":{\"backgroundcolor\":\"#E5ECF6\",\"gridcolor\":\"white\",\"linecolor\":\"white\",\"showbackground\":true,\"ticks\":\"\",\"zerolinecolor\":\"white\",\"gridwidth\":2},\"yaxis\":{\"backgroundcolor\":\"#E5ECF6\",\"gridcolor\":\"white\",\"linecolor\":\"white\",\"showbackground\":true,\"ticks\":\"\",\"zerolinecolor\":\"white\",\"gridwidth\":2},\"zaxis\":{\"backgroundcolor\":\"#E5ECF6\",\"gridcolor\":\"white\",\"linecolor\":\"white\",\"showbackground\":true,\"ticks\":\"\",\"zerolinecolor\":\"white\",\"gridwidth\":2}},\"shapedefaults\":{\"line\":{\"color\":\"#2a3f5f\"}},\"annotationdefaults\":{\"arrowcolor\":\"#2a3f5f\",\"arrowhead\":0,\"arrowwidth\":1},\"geo\":{\"bgcolor\":\"white\",\"landcolor\":\"#E5ECF6\",\"subunitcolor\":\"white\",\"showland\":true,\"showlakes\":true,\"lakecolor\":\"white\"},\"title\":{\"x\":0.05},\"mapbox\":{\"style\":\"light\"}}},\"xaxis\":{\"anchor\":\"y\",\"domain\":[0.0,1.0],\"title\":{\"text\":\"season\"}},\"yaxis\":{\"anchor\":\"x\",\"domain\":[0.0,1.0],\"title\":{\"text\":\"counts\"}},\"legend\":{\"title\":{\"text\":\"member_casual\"},\"tracegroupgap\":0},\"margin\":{\"t\":60},\"barmode\":\"relative\"},                        {\"responsive\": true}                    ).then(function(){\n",
       "                            \n",
       "var gd = document.getElementById('bb03a4bf-a47e-4230-baab-54af741d5955');\n",
       "var x = new MutationObserver(function (mutations, observer) {{\n",
       "        var display = window.getComputedStyle(gd).display;\n",
       "        if (!display || display === 'none') {{\n",
       "            console.log([gd, 'removed!']);\n",
       "            Plotly.purge(gd);\n",
       "            observer.disconnect();\n",
       "        }}\n",
       "}});\n",
       "\n",
       "// Listen for the removal of the full notebook cells\n",
       "var notebookContainer = gd.closest('#notebook-container');\n",
       "if (notebookContainer) {{\n",
       "    x.observe(notebookContainer, {childList: true});\n",
       "}}\n",
       "\n",
       "// Listen for the clearing of the current output cell\n",
       "var outputEl = gd.closest('.output');\n",
       "if (outputEl) {{\n",
       "    x.observe(outputEl, {childList: true});\n",
       "}}\n",
       "\n",
       "                        })                };                });            </script>        </div>"
      ]
     },
     "metadata": {},
     "output_type": "display_data"
    }
   ],
   "source": [
    "df12 =  df_smote_final.groupby(by=[\"season\", \"member_casual\"]).size().reset_index(name=\"counts\")\n",
    "fig = px.bar(df12, x=\"season\", y=\"counts\",color=\"member_casual\",)\n",
    "fig.show()"
   ]
  },
  {
   "cell_type": "markdown",
   "id": "20ef460d",
   "metadata": {},
   "source": [
    "**From the above, it is pretty clear that casual bike riders ride more during the summer season compared to other seasons.**"
   ]
  },
  {
   "cell_type": "markdown",
   "id": "58f5ac81",
   "metadata": {},
   "source": [
    "**9) How do the rideable types vary in weekdays?**"
   ]
  },
  {
   "cell_type": "code",
   "execution_count": 69,
   "id": "55886245",
   "metadata": {},
   "outputs": [
    {
     "data": {
      "image/png": "[encoded data removed]",
      "text/plain": [
       "<Figure size 800x800 with 1 Axes>"
      ]
     },
     "metadata": {},
     "output_type": "display_data"
    }
   ],
   "source": [
    "plt.figure(figsize = [8, 8])\n",
    "df_4 = df_smote_final[['day_of_week','duration','rideable_type']]\n",
    "df_4['day_of_week'] = df_4['day_of_week'].map(map_week)\n",
    "sns.pointplot(data=df_4, x='day_of_week', y='duration', hue='rideable_type', dodge=0.3, linestyles=\"\");\n",
    "plt.xlabel('Day of Week');\n",
    "plt.ylabel('Avg. Trip Duration in Minute');"
   ]
  },
  {
   "cell_type": "markdown",
   "id": "879adb74",
   "metadata": {},
   "source": [
    "**From the above, we can see that the docked bike is used more during wednesday, thursday and friday.**"
   ]
  },
  {
   "cell_type": "markdown",
   "id": "8a44f286",
   "metadata": {},
   "source": [
    "**9)Compare the bike type usage on normal day with a holiday.**"
   ]
  },
  {
   "cell_type": "code",
   "execution_count": 70,
   "id": "a43872b0",
   "metadata": {},
   "outputs": [
    {
     "data": {
      "text/plain": [
       "<AxesSubplot: xlabel='holidays'>"
      ]
     },
     "execution_count": 70,
     "metadata": {},
     "output_type": "execute_result"
    },
    {
     "data": {
      "image/png": "[encoded data removed]",
      "text/plain": [
       "<Figure size 1570x827 with 1 Axes>"
      ]
     },
     "metadata": {},
     "output_type": "display_data"
    }
   ],
   "source": [
    " df_smote_final.groupby(['holidays', 'rideable_type'])['holidays'].count().unstack('rideable_type').plot(kind='bar', stacked=True)"
   ]
  },
  {
   "cell_type": "markdown",
   "id": "21ae6ea0",
   "metadata": {},
   "source": [
    "**From the above, we can see that the classic bike and electric bikes are driven more compared to docked bike.** "
   ]
  },
  {
   "cell_type": "markdown",
   "id": "05e685e6",
   "metadata": {},
   "source": [
    "**10) Which start station was the most popular?**"
   ]
  },
  {
   "cell_type": "code",
   "execution_count": 75,
   "id": "005fa566",
   "metadata": {},
   "outputs": [
    {
     "data": {
      "application/vnd.plotly.v1+json": {
       "config": {
        "plotlyServerURL": "https://plot.ly"
       },
       "data": [
        {
         "alignmentgroup": "True",
         "hovertemplate": "member_casual=casual<br>start_station_name=%{x}<br>counts=%{y}<extra></extra>",
         "legendgroup": "casual",
         "marker": {
          "color": "#636efa",
          "pattern": {
           "shape": ""
          }
         },
         "name": "casual",
         "offsetgroup": "casual",
         "orientation": "v",
         "showlegend": true,
         "textposition": "auto",
         "type": "bar",
         "x": [
          "11 St & Washington St",
          "12 St & Sinatra Dr N",
          "14 St Ferry - 14 St & Shipyard Ln",
          "4 St & Grand St",
          "5 Corners Library",
          "6 St & Grand St",
          "7 St & Monroe St",
          "8 St & Washington St",
          "9 St HBLR - Jackson St & 8 St",
          "Adams St & 11 St",
          "Adams St & 2 St",
          "Astor Place",
          "Baldwin at Montgomery",
          "Bergen Ave",
          "Bergen Ave & Sip Ave",
          "Bergen Ave & Stegman St",
          "Bloomfield St & 15 St",
          "Brunswick & 6th",
          "Brunswick St",
          "Christ Hospital",
          "Church Sq Park - 5 St & Park Ave",
          "City Hall",
          "City Hall - Washington St & 1 St",
          "Clinton St & 7 St",
          "Clinton St & Newark St",
          "Columbus Dr at Exchange Pl",
          "Columbus Drive",
          "Columbus Park - Clinton St & 9 St",
          "Communipaw & Berry Lane",
          "Dey St",
          "Dixon Mills",
          "Essex Light Rail",
          "Fairmount Ave",
          "Glenwood Ave",
          "Grand St",
          "Grand St & 14 St",
          "Grant Ave & MLK Dr",
          "Grove St PATH",
          "Hamilton Park",
          "Harborside",
          "Heights Elevator",
          "Hilltop",
          "Hoboken Ave at Monmouth St",
          "Hoboken Terminal - Hudson St & Hudson Pl",
          "Hoboken Terminal - River St & Hudson Pl",
          "Hudson St & 4 St",
          "JC Medical Center",
          "Jackson Square",
          "Jersey & 3rd",
          "Jersey & 6th St",
          "Journal Square",
          "Lafayette Park",
          "Leonard Gordon Park",
          "Liberty Light Rail",
          "Lincoln Park",
          "MTL-ECO5-LAB",
          "Madison St & 1 St",
          "Madison St & 10 St",
          "Mama Johnson Field - 4 St & Jackson St",
          "Manila & 1st",
          "Marin Light Rail",
          "Marshall St & 2 St",
          "McGinley Square",
          "Monmouth and 6th",
          "Montgomery St",
          "Morris Canal",
          "Newark Ave",
          "Newport PATH",
          "Newport Pkwy",
          "Oakland Ave",
          "Paulus Hook",
          "Pershing Field",
          "Riverview Park",
          "Sip Ave",
          "South Waterfront Walkway - Sinatra Dr & 1 St",
          "Southwest Park - Jackson St & Observer Hwy",
          "Stevens - River Ter & 6 St",
          "Union St",
          "Van Vorst Park",
          "Warren St",
          "Washington St",
          "Willow Ave & 12 St"
         ],
         "xaxis": "x",
         "y": [
          61,
          161,
          141,
          38,
          18,
          26,
          59,
          54,
          57,
          25,
          33,
          31,
          26,
          26,
          53,
          28,
          39,
          5,
          32,
          37,
          76,
          72,
          134,
          35,
          32,
          77,
          35,
          114,
          9,
          2,
          27,
          15,
          23,
          54,
          18,
          61,
          8,
          171,
          122,
          77,
          19,
          37,
          95,
          161,
          125,
          75,
          29,
          25,
          22,
          6,
          20,
          40,
          39,
          106,
          36,
          1,
          52,
          29,
          2,
          44,
          82,
          31,
          74,
          9,
          13,
          19,
          46,
          92,
          68,
          24,
          32,
          17,
          38,
          30,
          234,
          55,
          12,
          9,
          50,
          12,
          68,
          39
         ],
         "yaxis": "y"
        },
        {
         "alignmentgroup": "True",
         "hovertemplate": "member_casual=member<br>start_station_name=%{x}<br>counts=%{y}<extra></extra>",
         "legendgroup": "member",
         "marker": {
          "color": "#EF553B",
          "pattern": {
           "shape": ""
          }
         },
         "name": "member",
         "offsetgroup": "member",
         "orientation": "v",
         "showlegend": true,
         "textposition": "auto",
         "type": "bar",
         "x": [
          "11 St & Washington St",
          "12 St & Sinatra Dr N",
          "14 St Ferry - 14 St & Shipyard Ln",
          "4 St & Grand St",
          "5 Corners Library",
          "6 St & Grand St",
          "7 St & Monroe St",
          "8 St & Washington St",
          "9 St HBLR - Jackson St & 8 St",
          "Adams St & 11 St",
          "Adams St & 2 St",
          "Astor Place",
          "Baldwin at Montgomery",
          "Bergen Ave",
          "Bergen Ave & Sip Ave",
          "Bergen Ave & Stegman St",
          "Bloomfield St & 15 St",
          "Brunswick & 6th",
          "Brunswick St",
          "Christ Hospital",
          "Church Sq Park - 5 St & Park Ave",
          "City Hall",
          "City Hall - Washington St & 1 St",
          "Clinton St & 7 St",
          "Clinton St & Newark St",
          "Columbus Dr at Exchange Pl",
          "Columbus Drive",
          "Columbus Park - Clinton St & 9 St",
          "Communipaw & Berry Lane",
          "Dey St",
          "Dixon Mills",
          "Essex Light Rail",
          "Fairmount Ave",
          "Glenwood Ave",
          "Grand St",
          "Grand St & 14 St",
          "Grant Ave & MLK Dr",
          "Grove St PATH",
          "Hamilton Park",
          "Harborside",
          "Heights Elevator",
          "Hilltop",
          "Hoboken Ave at Monmouth St",
          "Hoboken Terminal - Hudson St & Hudson Pl",
          "Hoboken Terminal - River St & Hudson Pl",
          "Hudson St & 4 St",
          "JC Medical Center",
          "Jackson Square",
          "Jersey & 3rd",
          "Jersey & 6th St",
          "Journal Square",
          "Lafayette Park",
          "Leonard Gordon Park",
          "Liberty Light Rail",
          "Lincoln Park",
          "Madison St & 1 St",
          "Madison St & 10 St",
          "Mama Johnson Field - 4 St & Jackson St",
          "Manila & 1st",
          "Marin Light Rail",
          "Marshall St & 2 St",
          "McGinley Square",
          "Monmouth and 6th",
          "Montgomery St",
          "Morris Canal",
          "Newark Ave",
          "Newport PATH",
          "Newport Pkwy",
          "Oakland Ave",
          "Paulus Hook",
          "Pershing Field",
          "Riverview Park",
          "Sip Ave",
          "South Waterfront Walkway - Sinatra Dr & 1 St",
          "Southwest Park - Jackson St & Observer Hwy",
          "Stevens - River Ter & 6 St",
          "Union St",
          "Van Vorst Park",
          "Warren St",
          "Washington St",
          "Willow Ave & 12 St",
          "York St & Marin Blvd"
         ],
         "xaxis": "x",
         "y": [
          69,
          58,
          50,
          43,
          24,
          29,
          38,
          46,
          46,
          15,
          28,
          20,
          51,
          35,
          72,
          10,
          37,
          39,
          35,
          30,
          32,
          59,
          71,
          33,
          47,
          67,
          51,
          52,
          14,
          10,
          29,
          18,
          32,
          24,
          55,
          62,
          11,
          383,
          54,
          83,
          27,
          49,
          87,
          103,
          157,
          40,
          39,
          13,
          24,
          34,
          60,
          40,
          99,
          42,
          41,
          53,
          21,
          13,
          42,
          72,
          44,
          67,
          31,
          27,
          25,
          45,
          98,
          83,
          37,
          34,
          36,
          52,
          50,
          175,
          24,
          37,
          53,
          43,
          44,
          65,
          35,
          6
         ],
         "yaxis": "y"
        }
       ],
       "layout": {
        "barmode": "relative",
        "legend": {
         "title": {
          "text": "member_casual"
         },
         "tracegroupgap": 0
        },
        "template": {
         "data": {
          "bar": [
           {
            "error_x": {
             "color": "#2a3f5f"
            },
            "error_y": {
             "color": "#2a3f5f"
            },
            "marker": {
             "line": {
              "color": "#E5ECF6",
              "width": 0.5
             },
             "pattern": {
              "fillmode": "overlay",
              "size": 10,
              "solidity": 0.2
             }
            },
            "type": "bar"
           }
          ],
          "barpolar": [
           {
            "marker": {
             "line": {
              "color": "#E5ECF6",
              "width": 0.5
             },
             "pattern": {
              "fillmode": "overlay",
              "size": 10,
              "solidity": 0.2
             }
            },
            "type": "barpolar"
           }
          ],
          "carpet": [
           {
            "aaxis": {
             "endlinecolor": "#2a3f5f",
             "gridcolor": "white",
             "linecolor": "white",
             "minorgridcolor": "white",
             "startlinecolor": "#2a3f5f"
            },
            "baxis": {
             "endlinecolor": "#2a3f5f",
             "gridcolor": "white",
             "linecolor": "white",
             "minorgridcolor": "white",
             "startlinecolor": "#2a3f5f"
            },
            "type": "carpet"
           }
          ],
          "choropleth": [
           {
            "colorbar": {
             "outlinewidth": 0,
             "ticks": ""
            },
            "type": "choropleth"
           }
          ],
          "contour": [
           {
            "colorbar": {
             "outlinewidth": 0,
             "ticks": ""
            },
            "colorscale": [
             [
              0,
              "#0d0887"
             ],
             [
              0.1111111111111111,
              "#46039f"
             ],
             [
              0.2222222222222222,
              "#7201a8"
             ],
             [
              0.3333333333333333,
              "#9c179e"
             ],
             [
              0.4444444444444444,
              "#bd3786"
             ],
             [
              0.5555555555555556,
              "#d8576b"
             ],
             [
              0.6666666666666666,
              "#ed7953"
             ],
             [
              0.7777777777777778,
              "#fb9f3a"
             ],
             [
              0.8888888888888888,
              "#fdca26"
             ],
             [
              1,
              "#f0f921"
             ]
            ],
            "type": "contour"
           }
          ],
          "contourcarpet": [
           {
            "colorbar": {
             "outlinewidth": 0,
             "ticks": ""
            },
            "type": "contourcarpet"
           }
          ],
          "heatmap": [
           {
            "colorbar": {
             "outlinewidth": 0,
             "ticks": ""
            },
            "colorscale": [
             [
              0,
              "#0d0887"
             ],
             [
              0.1111111111111111,
              "#46039f"
             ],
             [
              0.2222222222222222,
              "#7201a8"
             ],
             [
              0.3333333333333333,
              "#9c179e"
             ],
             [
              0.4444444444444444,
              "#bd3786"
             ],
             [
              0.5555555555555556,
              "#d8576b"
             ],
             [
              0.6666666666666666,
              "#ed7953"
             ],
             [
              0.7777777777777778,
              "#fb9f3a"
             ],
             [
              0.8888888888888888,
              "#fdca26"
             ],
             [
              1,
              "#f0f921"
             ]
            ],
            "type": "heatmap"
           }
          ],
          "heatmapgl": [
           {
            "colorbar": {
             "outlinewidth": 0,
             "ticks": ""
            },
            "colorscale": [
             [
              0,
              "#0d0887"
             ],
             [
              0.1111111111111111,
              "#46039f"
             ],
             [
              0.2222222222222222,
              "#7201a8"
             ],
             [
              0.3333333333333333,
              "#9c179e"
             ],
             [
              0.4444444444444444,
              "#bd3786"
             ],
             [
              0.5555555555555556,
              "#d8576b"
             ],
             [
              0.6666666666666666,
              "#ed7953"
             ],
             [
              0.7777777777777778,
              "#fb9f3a"
             ],
             [
              0.8888888888888888,
              "#fdca26"
             ],
             [
              1,
              "#f0f921"
             ]
            ],
            "type": "heatmapgl"
           }
          ],
          "histogram": [
           {
            "marker": {
             "pattern": {
              "fillmode": "overlay",
              "size": 10,
              "solidity": 0.2
             }
            },
            "type": "histogram"
           }
          ],
          "histogram2d": [
           {
            "colorbar": {
             "outlinewidth": 0,
             "ticks": ""
            },
            "colorscale": [
             [
              0,
              "#0d0887"
             ],
             [
              0.1111111111111111,
              "#46039f"
             ],
             [
              0.2222222222222222,
              "#7201a8"
             ],
             [
              0.3333333333333333,
              "#9c179e"
             ],
             [
              0.4444444444444444,
              "#bd3786"
             ],
             [
              0.5555555555555556,
              "#d8576b"
             ],
             [
              0.6666666666666666,
              "#ed7953"
             ],
             [
              0.7777777777777778,
              "#fb9f3a"
             ],
             [
              0.8888888888888888,
              "#fdca26"
             ],
             [
              1,
              "#f0f921"
             ]
            ],
            "type": "histogram2d"
           }
          ],
          "histogram2dcontour": [
           {
            "colorbar": {
             "outlinewidth": 0,
             "ticks": ""
            },
            "colorscale": [
             [
              0,
              "#0d0887"
             ],
             [
              0.1111111111111111,
              "#46039f"
             ],
             [
              0.2222222222222222,
              "#7201a8"
             ],
             [
              0.3333333333333333,
              "#9c179e"
             ],
             [
              0.4444444444444444,
              "#bd3786"
             ],
             [
              0.5555555555555556,
              "#d8576b"
             ],
             [
              0.6666666666666666,
              "#ed7953"
             ],
             [
              0.7777777777777778,
              "#fb9f3a"
             ],
             [
              0.8888888888888888,
              "#fdca26"
             ],
             [
              1,
              "#f0f921"
             ]
            ],
            "type": "histogram2dcontour"
           }
          ],
          "mesh3d": [
           {
            "colorbar": {
             "outlinewidth": 0,
             "ticks": ""
            },
            "type": "mesh3d"
           }
          ],
          "parcoords": [
           {
            "line": {
             "colorbar": {
              "outlinewidth": 0,
              "ticks": ""
             }
            },
            "type": "parcoords"
           }
          ],
          "pie": [
           {
            "automargin": true,
            "type": "pie"
           }
          ],
          "scatter": [
           {
            "fillpattern": {
             "fillmode": "overlay",
             "size": 10,
             "solidity": 0.2
            },
            "type": "scatter"
           }
          ],
          "scatter3d": [
           {
            "line": {
             "colorbar": {
              "outlinewidth": 0,
              "ticks": ""
             }
            },
            "marker": {
             "colorbar": {
              "outlinewidth": 0,
              "ticks": ""
             }
            },
            "type": "scatter3d"
           }
          ],
          "scattercarpet": [
           {
            "marker": {
             "colorbar": {
              "outlinewidth": 0,
              "ticks": ""
             }
            },
            "type": "scattercarpet"
           }
          ],
          "scattergeo": [
           {
            "marker": {
             "colorbar": {
              "outlinewidth": 0,
              "ticks": ""
             }
            },
            "type": "scattergeo"
           }
          ],
          "scattergl": [
           {
            "marker": {
             "colorbar": {
              "outlinewidth": 0,
              "ticks": ""
             }
            },
            "type": "scattergl"
           }
          ],
          "scattermapbox": [
           {
            "marker": {
             "colorbar": {
              "outlinewidth": 0,
              "ticks": ""
             }
            },
            "type": "scattermapbox"
           }
          ],
          "scatterpolar": [
           {
            "marker": {
             "colorbar": {
              "outlinewidth": 0,
              "ticks": ""
             }
            },
            "type": "scatterpolar"
           }
          ],
          "scatterpolargl": [
           {
            "marker": {
             "colorbar": {
              "outlinewidth": 0,
              "ticks": ""
             }
            },
            "type": "scatterpolargl"
           }
          ],
          "scatterternary": [
           {
            "marker": {
             "colorbar": {
              "outlinewidth": 0,
              "ticks": ""
             }
            },
            "type": "scatterternary"
           }
          ],
          "surface": [
           {
            "colorbar": {
             "outlinewidth": 0,
             "ticks": ""
            },
            "colorscale": [
             [
              0,
              "#0d0887"
             ],
             [
              0.1111111111111111,
              "#46039f"
             ],
             [
              0.2222222222222222,
              "#7201a8"
             ],
             [
              0.3333333333333333,
              "#9c179e"
             ],
             [
              0.4444444444444444,
              "#bd3786"
             ],
             [
              0.5555555555555556,
              "#d8576b"
             ],
             [
              0.6666666666666666,
              "#ed7953"
             ],
             [
              0.7777777777777778,
              "#fb9f3a"
             ],
             [
              0.8888888888888888,
              "#fdca26"
             ],
             [
              1,
              "#f0f921"
             ]
            ],
            "type": "surface"
           }
          ],
          "table": [
           {
            "cells": {
             "fill": {
              "color": "#EBF0F8"
             },
             "line": {
              "color": "white"
             }
            },
            "header": {
             "fill": {
              "color": "#C8D4E3"
             },
             "line": {
              "color": "white"
             }
            },
            "type": "table"
           }
          ]
         },
         "layout": {
          "annotationdefaults": {
           "arrowcolor": "#2a3f5f",
           "arrowhead": 0,
           "arrowwidth": 1
          },
          "autotypenumbers": "strict",
          "coloraxis": {
           "colorbar": {
            "outlinewidth": 0,
            "ticks": ""
           }
          },
          "colorscale": {
           "diverging": [
            [
             0,
             "#8e0152"
            ],
            [
             0.1,
             "#c51b7d"
            ],
            [
             0.2,
             "#de77ae"
            ],
            [
             0.3,
             "#f1b6da"
            ],
            [
             0.4,
             "#fde0ef"
            ],
            [
             0.5,
             "#f7f7f7"
            ],
            [
             0.6,
             "#e6f5d0"
            ],
            [
             0.7,
             "#b8e186"
            ],
            [
             0.8,
             "#7fbc41"
            ],
            [
             0.9,
             "#4d9221"
            ],
            [
             1,
             "#276419"
            ]
           ],
           "sequential": [
            [
             0,
             "#0d0887"
            ],
            [
             0.1111111111111111,
             "#46039f"
            ],
            [
             0.2222222222222222,
             "#7201a8"
            ],
            [
             0.3333333333333333,
             "#9c179e"
            ],
            [
             0.4444444444444444,
             "#bd3786"
            ],
            [
             0.5555555555555556,
             "#d8576b"
            ],
            [
             0.6666666666666666,
             "#ed7953"
            ],
            [
             0.7777777777777778,
             "#fb9f3a"
            ],
            [
             0.8888888888888888,
             "#fdca26"
            ],
            [
             1,
             "#f0f921"
            ]
           ],
           "sequentialminus": [
            [
             0,
             "#0d0887"
            ],
            [
             0.1111111111111111,
             "#46039f"
            ],
            [
             0.2222222222222222,
             "#7201a8"
            ],
            [
             0.3333333333333333,
             "#9c179e"
            ],
            [
             0.4444444444444444,
             "#bd3786"
            ],
            [
             0.5555555555555556,
             "#d8576b"
            ],
            [
             0.6666666666666666,
             "#ed7953"
            ],
            [
             0.7777777777777778,
             "#fb9f3a"
            ],
            [
             0.8888888888888888,
             "#fdca26"
            ],
            [
             1,
             "#f0f921"
            ]
           ]
          },
          "colorway": [
           "#636efa",
           "#EF553B",
           "#00cc96",
           "#ab63fa",
           "#FFA15A",
           "#19d3f3",
           "#FF6692",
           "#B6E880",
           "#FF97FF",
           "#FECB52"
          ],
          "font": {
           "color": "#2a3f5f"
          },
          "geo": {
           "bgcolor": "white",
           "lakecolor": "white",
           "landcolor": "#E5ECF6",
           "showlakes": true,
           "showland": true,
           "subunitcolor": "white"
          },
          "hoverlabel": {
           "align": "left"
          },
          "hovermode": "closest",
          "mapbox": {
           "style": "light"
          },
          "paper_bgcolor": "white",
          "plot_bgcolor": "#E5ECF6",
          "polar": {
           "angularaxis": {
            "gridcolor": "white",
            "linecolor": "white",
            "ticks": ""
           },
           "bgcolor": "#E5ECF6",
           "radialaxis": {
            "gridcolor": "white",
            "linecolor": "white",
            "ticks": ""
           }
          },
          "scene": {
           "xaxis": {
            "backgroundcolor": "#E5ECF6",
            "gridcolor": "white",
            "gridwidth": 2,
            "linecolor": "white",
            "showbackground": true,
            "ticks": "",
            "zerolinecolor": "white"
           },
           "yaxis": {
            "backgroundcolor": "#E5ECF6",
            "gridcolor": "white",
            "gridwidth": 2,
            "linecolor": "white",
            "showbackground": true,
            "ticks": "",
            "zerolinecolor": "white"
           },
           "zaxis": {
            "backgroundcolor": "#E5ECF6",
            "gridcolor": "white",
            "gridwidth": 2,
            "linecolor": "white",
            "showbackground": true,
            "ticks": "",
            "zerolinecolor": "white"
           }
          },
          "shapedefaults": {
           "line": {
            "color": "#2a3f5f"
           }
          },
          "ternary": {
           "aaxis": {
            "gridcolor": "white",
            "linecolor": "white",
            "ticks": ""
           },
           "baxis": {
            "gridcolor": "white",
            "linecolor": "white",
            "ticks": ""
           },
           "bgcolor": "#E5ECF6",
           "caxis": {
            "gridcolor": "white",
            "linecolor": "white",
            "ticks": ""
           }
          },
          "title": {
           "x": 0.05
          },
          "xaxis": {
           "automargin": true,
           "gridcolor": "white",
           "linecolor": "white",
           "ticks": "",
           "title": {
            "standoff": 15
           },
           "zerolinecolor": "white",
           "zerolinewidth": 2
          },
          "yaxis": {
           "automargin": true,
           "gridcolor": "white",
           "linecolor": "white",
           "ticks": "",
           "title": {
            "standoff": 15
           },
           "zerolinecolor": "white",
           "zerolinewidth": 2
          }
         }
        },
        "title": {
         "text": "Starting Station by Member type"
        },
        "xaxis": {
         "anchor": "y",
         "domain": [
          0,
          1
         ],
         "title": {
          "text": "start_station_name"
         }
        },
        "yaxis": {
         "anchor": "x",
         "domain": [
          0,
          1
         ],
         "title": {
          "text": "counts"
         }
        }
       }
      },
      "text/html": [
       "<div>                            <div id=\"383fe745-1651-4727-b475-545137584e09\" class=\"plotly-graph-div\" style=\"height:525px; width:100%;\"></div>            <script type=\"text/javascript\">                require([\"plotly\"], function(Plotly) {                    window.PLOTLYENV=window.PLOTLYENV || {};                                    if (document.getElementById(\"383fe745-1651-4727-b475-545137584e09\")) {                    Plotly.newPlot(                        \"383fe745-1651-4727-b475-545137584e09\",                        [{\"alignmentgroup\":\"True\",\"hovertemplate\":\"member_casual=casual<br>start_station_name=%{x}<br>counts=%{y}<extra></extra>\",\"legendgroup\":\"casual\",\"marker\":{\"color\":\"#636efa\",\"pattern\":{\"shape\":\"\"}},\"name\":\"casual\",\"offsetgroup\":\"casual\",\"orientation\":\"v\",\"showlegend\":true,\"textposition\":\"auto\",\"x\":[\"11 St & Washington St\",\"12 St & Sinatra Dr N\",\"14 St Ferry - 14 St & Shipyard Ln\",\"4 St & Grand St\",\"5 Corners Library\",\"6 St & Grand St\",\"7 St & Monroe St\",\"8 St & Washington St\",\"9 St HBLR - Jackson St & 8 St\",\"Adams St & 11 St\",\"Adams St & 2 St\",\"Astor Place\",\"Baldwin at Montgomery\",\"Bergen Ave\",\"Bergen Ave & Sip Ave\",\"Bergen Ave & Stegman St\",\"Bloomfield St & 15 St\",\"Brunswick & 6th\",\"Brunswick St\",\"Christ Hospital\",\"Church Sq Park - 5 St & Park Ave\",\"City Hall\",\"City Hall - Washington St & 1 St\",\"Clinton St & 7 St\",\"Clinton St & Newark St\",\"Columbus Dr at Exchange Pl\",\"Columbus Drive\",\"Columbus Park - Clinton St & 9 St\",\"Communipaw & Berry Lane\",\"Dey St\",\"Dixon Mills\",\"Essex Light Rail\",\"Fairmount Ave\",\"Glenwood Ave\",\"Grand St\",\"Grand St & 14 St\",\"Grant Ave & MLK Dr\",\"Grove St PATH\",\"Hamilton Park\",\"Harborside\",\"Heights Elevator\",\"Hilltop\",\"Hoboken Ave at Monmouth St\",\"Hoboken Terminal - Hudson St & Hudson Pl\",\"Hoboken Terminal - River St & Hudson Pl\",\"Hudson St & 4 St\",\"JC Medical Center\",\"Jackson Square\",\"Jersey & 3rd\",\"Jersey & 6th St\",\"Journal Square\",\"Lafayette Park\",\"Leonard Gordon Park\",\"Liberty Light Rail\",\"Lincoln Park\",\"MTL-ECO5-LAB\",\"Madison St & 1 St\",\"Madison St & 10 St\",\"Mama Johnson Field - 4 St & Jackson St\",\"Manila & 1st\",\"Marin Light Rail\",\"Marshall St & 2 St\",\"McGinley Square\",\"Monmouth and 6th\",\"Montgomery St\",\"Morris Canal\",\"Newark Ave\",\"Newport PATH\",\"Newport Pkwy\",\"Oakland Ave\",\"Paulus Hook\",\"Pershing Field\",\"Riverview Park\",\"Sip Ave\",\"South Waterfront Walkway - Sinatra Dr & 1 St\",\"Southwest Park - Jackson St & Observer Hwy\",\"Stevens - River Ter & 6 St\",\"Union St\",\"Van Vorst Park\",\"Warren St\",\"Washington St\",\"Willow Ave & 12 St\"],\"xaxis\":\"x\",\"y\":[61,161,141,38,18,26,59,54,57,25,33,31,26,26,53,28,39,5,32,37,76,72,134,35,32,77,35,114,9,2,27,15,23,54,18,61,8,171,122,77,19,37,95,161,125,75,29,25,22,6,20,40,39,106,36,1,52,29,2,44,82,31,74,9,13,19,46,92,68,24,32,17,38,30,234,55,12,9,50,12,68,39],\"yaxis\":\"y\",\"type\":\"bar\"},{\"alignmentgroup\":\"True\",\"hovertemplate\":\"member_casual=member<br>start_station_name=%{x}<br>counts=%{y}<extra></extra>\",\"legendgroup\":\"member\",\"marker\":{\"color\":\"#EF553B\",\"pattern\":{\"shape\":\"\"}},\"name\":\"member\",\"offsetgroup\":\"member\",\"orientation\":\"v\",\"showlegend\":true,\"textposition\":\"auto\",\"x\":[\"11 St & Washington St\",\"12 St & Sinatra Dr N\",\"14 St Ferry - 14 St & Shipyard Ln\",\"4 St & Grand St\",\"5 Corners Library\",\"6 St & Grand St\",\"7 St & Monroe St\",\"8 St & Washington St\",\"9 St HBLR - Jackson St & 8 St\",\"Adams St & 11 St\",\"Adams St & 2 St\",\"Astor Place\",\"Baldwin at Montgomery\",\"Bergen Ave\",\"Bergen Ave & Sip Ave\",\"Bergen Ave & Stegman St\",\"Bloomfield St & 15 St\",\"Brunswick & 6th\",\"Brunswick St\",\"Christ Hospital\",\"Church Sq Park - 5 St & Park Ave\",\"City Hall\",\"City Hall - Washington St & 1 St\",\"Clinton St & 7 St\",\"Clinton St & Newark St\",\"Columbus Dr at Exchange Pl\",\"Columbus Drive\",\"Columbus Park - Clinton St & 9 St\",\"Communipaw & Berry Lane\",\"Dey St\",\"Dixon Mills\",\"Essex Light Rail\",\"Fairmount Ave\",\"Glenwood Ave\",\"Grand St\",\"Grand St & 14 St\",\"Grant Ave & MLK Dr\",\"Grove St PATH\",\"Hamilton Park\",\"Harborside\",\"Heights Elevator\",\"Hilltop\",\"Hoboken Ave at Monmouth St\",\"Hoboken Terminal - Hudson St & Hudson Pl\",\"Hoboken Terminal - River St & Hudson Pl\",\"Hudson St & 4 St\",\"JC Medical Center\",\"Jackson Square\",\"Jersey & 3rd\",\"Jersey & 6th St\",\"Journal Square\",\"Lafayette Park\",\"Leonard Gordon Park\",\"Liberty Light Rail\",\"Lincoln Park\",\"Madison St & 1 St\",\"Madison St & 10 St\",\"Mama Johnson Field - 4 St & Jackson St\",\"Manila & 1st\",\"Marin Light Rail\",\"Marshall St & 2 St\",\"McGinley Square\",\"Monmouth and 6th\",\"Montgomery St\",\"Morris Canal\",\"Newark Ave\",\"Newport PATH\",\"Newport Pkwy\",\"Oakland Ave\",\"Paulus Hook\",\"Pershing Field\",\"Riverview Park\",\"Sip Ave\",\"South Waterfront Walkway - Sinatra Dr & 1 St\",\"Southwest Park - Jackson St & Observer Hwy\",\"Stevens - River Ter & 6 St\",\"Union St\",\"Van Vorst Park\",\"Warren St\",\"Washington St\",\"Willow Ave & 12 St\",\"York St & Marin Blvd\"],\"xaxis\":\"x\",\"y\":[69,58,50,43,24,29,38,46,46,15,28,20,51,35,72,10,37,39,35,30,32,59,71,33,47,67,51,52,14,10,29,18,32,24,55,62,11,383,54,83,27,49,87,103,157,40,39,13,24,34,60,40,99,42,41,53,21,13,42,72,44,67,31,27,25,45,98,83,37,34,36,52,50,175,24,37,53,43,44,65,35,6],\"yaxis\":\"y\",\"type\":\"bar\"}],                        {\"template\":{\"data\":{\"histogram2dcontour\":[{\"type\":\"histogram2dcontour\",\"colorbar\":{\"outlinewidth\":0,\"ticks\":\"\"},\"colorscale\":[[0.0,\"#0d0887\"],[0.1111111111111111,\"#46039f\"],[0.2222222222222222,\"#7201a8\"],[0.3333333333333333,\"#9c179e\"],[0.4444444444444444,\"#bd3786\"],[0.5555555555555556,\"#d8576b\"],[0.6666666666666666,\"#ed7953\"],[0.7777777777777778,\"#fb9f3a\"],[0.8888888888888888,\"#fdca26\"],[1.0,\"#f0f921\"]]}],\"choropleth\":[{\"type\":\"choropleth\",\"colorbar\":{\"outlinewidth\":0,\"ticks\":\"\"}}],\"histogram2d\":[{\"type\":\"histogram2d\",\"colorbar\":{\"outlinewidth\":0,\"ticks\":\"\"},\"colorscale\":[[0.0,\"#0d0887\"],[0.1111111111111111,\"#46039f\"],[0.2222222222222222,\"#7201a8\"],[0.3333333333333333,\"#9c179e\"],[0.4444444444444444,\"#bd3786\"],[0.5555555555555556,\"#d8576b\"],[0.6666666666666666,\"#ed7953\"],[0.7777777777777778,\"#fb9f3a\"],[0.8888888888888888,\"#fdca26\"],[1.0,\"#f0f921\"]]}],\"heatmap\":[{\"type\":\"heatmap\",\"colorbar\":{\"outlinewidth\":0,\"ticks\":\"\"},\"colorscale\":[[0.0,\"#0d0887\"],[0.1111111111111111,\"#46039f\"],[0.2222222222222222,\"#7201a8\"],[0.3333333333333333,\"#9c179e\"],[0.4444444444444444,\"#bd3786\"],[0.5555555555555556,\"#d8576b\"],[0.6666666666666666,\"#ed7953\"],[0.7777777777777778,\"#fb9f3a\"],[0.8888888888888888,\"#fdca26\"],[1.0,\"#f0f921\"]]}],\"heatmapgl\":[{\"type\":\"heatmapgl\",\"colorbar\":{\"outlinewidth\":0,\"ticks\":\"\"},\"colorscale\":[[0.0,\"#0d0887\"],[0.1111111111111111,\"#46039f\"],[0.2222222222222222,\"#7201a8\"],[0.3333333333333333,\"#9c179e\"],[0.4444444444444444,\"#bd3786\"],[0.5555555555555556,\"#d8576b\"],[0.6666666666666666,\"#ed7953\"],[0.7777777777777778,\"#fb9f3a\"],[0.8888888888888888,\"#fdca26\"],[1.0,\"#f0f921\"]]}],\"contourcarpet\":[{\"type\":\"contourcarpet\",\"colorbar\":{\"outlinewidth\":0,\"ticks\":\"\"}}],\"contour\":[{\"type\":\"contour\",\"colorbar\":{\"outlinewidth\":0,\"ticks\":\"\"},\"colorscale\":[[0.0,\"#0d0887\"],[0.1111111111111111,\"#46039f\"],[0.2222222222222222,\"#7201a8\"],[0.3333333333333333,\"#9c179e\"],[0.4444444444444444,\"#bd3786\"],[0.5555555555555556,\"#d8576b\"],[0.6666666666666666,\"#ed7953\"],[0.7777777777777778,\"#fb9f3a\"],[0.8888888888888888,\"#fdca26\"],[1.0,\"#f0f921\"]]}],\"surface\":[{\"type\":\"surface\",\"colorbar\":{\"outlinewidth\":0,\"ticks\":\"\"},\"colorscale\":[[0.0,\"#0d0887\"],[0.1111111111111111,\"#46039f\"],[0.2222222222222222,\"#7201a8\"],[0.3333333333333333,\"#9c179e\"],[0.4444444444444444,\"#bd3786\"],[0.5555555555555556,\"#d8576b\"],[0.6666666666666666,\"#ed7953\"],[0.7777777777777778,\"#fb9f3a\"],[0.8888888888888888,\"#fdca26\"],[1.0,\"#f0f921\"]]}],\"mesh3d\":[{\"type\":\"mesh3d\",\"colorbar\":{\"outlinewidth\":0,\"ticks\":\"\"}}],\"scatter\":[{\"fillpattern\":{\"fillmode\":\"overlay\",\"size\":10,\"solidity\":0.2},\"type\":\"scatter\"}],\"parcoords\":[{\"type\":\"parcoords\",\"line\":{\"colorbar\":{\"outlinewidth\":0,\"ticks\":\"\"}}}],\"scatterpolargl\":[{\"type\":\"scatterpolargl\",\"marker\":{\"colorbar\":{\"outlinewidth\":0,\"ticks\":\"\"}}}],\"bar\":[{\"error_x\":{\"color\":\"#2a3f5f\"},\"error_y\":{\"color\":\"#2a3f5f\"},\"marker\":{\"line\":{\"color\":\"#E5ECF6\",\"width\":0.5},\"pattern\":{\"fillmode\":\"overlay\",\"size\":10,\"solidity\":0.2}},\"type\":\"bar\"}],\"scattergeo\":[{\"type\":\"scattergeo\",\"marker\":{\"colorbar\":{\"outlinewidth\":0,\"ticks\":\"\"}}}],\"scatterpolar\":[{\"type\":\"scatterpolar\",\"marker\":{\"colorbar\":{\"outlinewidth\":0,\"ticks\":\"\"}}}],\"histogram\":[{\"marker\":{\"pattern\":{\"fillmode\":\"overlay\",\"size\":10,\"solidity\":0.2}},\"type\":\"histogram\"}],\"scattergl\":[{\"type\":\"scattergl\",\"marker\":{\"colorbar\":{\"outlinewidth\":0,\"ticks\":\"\"}}}],\"scatter3d\":[{\"type\":\"scatter3d\",\"line\":{\"colorbar\":{\"outlinewidth\":0,\"ticks\":\"\"}},\"marker\":{\"colorbar\":{\"outlinewidth\":0,\"ticks\":\"\"}}}],\"scattermapbox\":[{\"type\":\"scattermapbox\",\"marker\":{\"colorbar\":{\"outlinewidth\":0,\"ticks\":\"\"}}}],\"scatterternary\":[{\"type\":\"scatterternary\",\"marker\":{\"colorbar\":{\"outlinewidth\":0,\"ticks\":\"\"}}}],\"scattercarpet\":[{\"type\":\"scattercarpet\",\"marker\":{\"colorbar\":{\"outlinewidth\":0,\"ticks\":\"\"}}}],\"carpet\":[{\"aaxis\":{\"endlinecolor\":\"#2a3f5f\",\"gridcolor\":\"white\",\"linecolor\":\"white\",\"minorgridcolor\":\"white\",\"startlinecolor\":\"#2a3f5f\"},\"baxis\":{\"endlinecolor\":\"#2a3f5f\",\"gridcolor\":\"white\",\"linecolor\":\"white\",\"minorgridcolor\":\"white\",\"startlinecolor\":\"#2a3f5f\"},\"type\":\"carpet\"}],\"table\":[{\"cells\":{\"fill\":{\"color\":\"#EBF0F8\"},\"line\":{\"color\":\"white\"}},\"header\":{\"fill\":{\"color\":\"#C8D4E3\"},\"line\":{\"color\":\"white\"}},\"type\":\"table\"}],\"barpolar\":[{\"marker\":{\"line\":{\"color\":\"#E5ECF6\",\"width\":0.5},\"pattern\":{\"fillmode\":\"overlay\",\"size\":10,\"solidity\":0.2}},\"type\":\"barpolar\"}],\"pie\":[{\"automargin\":true,\"type\":\"pie\"}]},\"layout\":{\"autotypenumbers\":\"strict\",\"colorway\":[\"#636efa\",\"#EF553B\",\"#00cc96\",\"#ab63fa\",\"#FFA15A\",\"#19d3f3\",\"#FF6692\",\"#B6E880\",\"#FF97FF\",\"#FECB52\"],\"font\":{\"color\":\"#2a3f5f\"},\"hovermode\":\"closest\",\"hoverlabel\":{\"align\":\"left\"},\"paper_bgcolor\":\"white\",\"plot_bgcolor\":\"#E5ECF6\",\"polar\":{\"bgcolor\":\"#E5ECF6\",\"angularaxis\":{\"gridcolor\":\"white\",\"linecolor\":\"white\",\"ticks\":\"\"},\"radialaxis\":{\"gridcolor\":\"white\",\"linecolor\":\"white\",\"ticks\":\"\"}},\"ternary\":{\"bgcolor\":\"#E5ECF6\",\"aaxis\":{\"gridcolor\":\"white\",\"linecolor\":\"white\",\"ticks\":\"\"},\"baxis\":{\"gridcolor\":\"white\",\"linecolor\":\"white\",\"ticks\":\"\"},\"caxis\":{\"gridcolor\":\"white\",\"linecolor\":\"white\",\"ticks\":\"\"}},\"coloraxis\":{\"colorbar\":{\"outlinewidth\":0,\"ticks\":\"\"}},\"colorscale\":{\"sequential\":[[0.0,\"#0d0887\"],[0.1111111111111111,\"#46039f\"],[0.2222222222222222,\"#7201a8\"],[0.3333333333333333,\"#9c179e\"],[0.4444444444444444,\"#bd3786\"],[0.5555555555555556,\"#d8576b\"],[0.6666666666666666,\"#ed7953\"],[0.7777777777777778,\"#fb9f3a\"],[0.8888888888888888,\"#fdca26\"],[1.0,\"#f0f921\"]],\"sequentialminus\":[[0.0,\"#0d0887\"],[0.1111111111111111,\"#46039f\"],[0.2222222222222222,\"#7201a8\"],[0.3333333333333333,\"#9c179e\"],[0.4444444444444444,\"#bd3786\"],[0.5555555555555556,\"#d8576b\"],[0.6666666666666666,\"#ed7953\"],[0.7777777777777778,\"#fb9f3a\"],[0.8888888888888888,\"#fdca26\"],[1.0,\"#f0f921\"]],\"diverging\":[[0,\"#8e0152\"],[0.1,\"#c51b7d\"],[0.2,\"#de77ae\"],[0.3,\"#f1b6da\"],[0.4,\"#fde0ef\"],[0.5,\"#f7f7f7\"],[0.6,\"#e6f5d0\"],[0.7,\"#b8e186\"],[0.8,\"#7fbc41\"],[0.9,\"#4d9221\"],[1,\"#276419\"]]},\"xaxis\":{\"gridcolor\":\"white\",\"linecolor\":\"white\",\"ticks\":\"\",\"title\":{\"standoff\":15},\"zerolinecolor\":\"white\",\"automargin\":true,\"zerolinewidth\":2},\"yaxis\":{\"gridcolor\":\"white\",\"linecolor\":\"white\",\"ticks\":\"\",\"title\":{\"standoff\":15},\"zerolinecolor\":\"white\",\"automargin\":true,\"zerolinewidth\":2},\"scene\":{\"xaxis\":{\"backgroundcolor\":\"#E5ECF6\",\"gridcolor\":\"white\",\"linecolor\":\"white\",\"showbackground\":true,\"ticks\":\"\",\"zerolinecolor\":\"white\",\"gridwidth\":2},\"yaxis\":{\"backgroundcolor\":\"#E5ECF6\",\"gridcolor\":\"white\",\"linecolor\":\"white\",\"showbackground\":true,\"ticks\":\"\",\"zerolinecolor\":\"white\",\"gridwidth\":2},\"zaxis\":{\"backgroundcolor\":\"#E5ECF6\",\"gridcolor\":\"white\",\"linecolor\":\"white\",\"showbackground\":true,\"ticks\":\"\",\"zerolinecolor\":\"white\",\"gridwidth\":2}},\"shapedefaults\":{\"line\":{\"color\":\"#2a3f5f\"}},\"annotationdefaults\":{\"arrowcolor\":\"#2a3f5f\",\"arrowhead\":0,\"arrowwidth\":1},\"geo\":{\"bgcolor\":\"white\",\"landcolor\":\"#E5ECF6\",\"subunitcolor\":\"white\",\"showland\":true,\"showlakes\":true,\"lakecolor\":\"white\"},\"title\":{\"x\":0.05},\"mapbox\":{\"style\":\"light\"}}},\"xaxis\":{\"anchor\":\"y\",\"domain\":[0.0,1.0],\"title\":{\"text\":\"start_station_name\"}},\"yaxis\":{\"anchor\":\"x\",\"domain\":[0.0,1.0],\"title\":{\"text\":\"counts\"}},\"legend\":{\"title\":{\"text\":\"member_casual\"},\"tracegroupgap\":0},\"title\":{\"text\":\"Starting Station by Member type\"},\"barmode\":\"relative\"},                        {\"responsive\": true}                    ).then(function(){\n",
       "                            \n",
       "var gd = document.getElementById('383fe745-1651-4727-b475-545137584e09');\n",
       "var x = new MutationObserver(function (mutations, observer) {{\n",
       "        var display = window.getComputedStyle(gd).display;\n",
       "        if (!display || display === 'none') {{\n",
       "            console.log([gd, 'removed!']);\n",
       "            Plotly.purge(gd);\n",
       "            observer.disconnect();\n",
       "        }}\n",
       "}});\n",
       "\n",
       "// Listen for the removal of the full notebook cells\n",
       "var notebookContainer = gd.closest('#notebook-container');\n",
       "if (notebookContainer) {{\n",
       "    x.observe(notebookContainer, {childList: true});\n",
       "}}\n",
       "\n",
       "// Listen for the clearing of the current output cell\n",
       "var outputEl = gd.closest('.output');\n",
       "if (outputEl) {{\n",
       "    x.observe(outputEl, {childList: true});\n",
       "}}\n",
       "\n",
       "                        })                };                });            </script>        </div>"
      ]
     },
     "metadata": {},
     "output_type": "display_data"
    }
   ],
   "source": [
    "df2 =  df_smote_final.groupby(by=[\"start_station_name\", \"member_casual\"]).size().reset_index(name=\"counts\")\n",
    "fig = px.bar(df2, x='start_station_name', y='counts', color='member_casual', title='Starting Station by Member type')\n",
    "fig.show()"
   ]
  },
  {
   "cell_type": "markdown",
   "id": "6d7af562",
   "metadata": {},
   "source": [
    "**From the above, we can see that the two stations that are most popular are Grove St Path and South Waterfron Walkway - Sintara Dr & 1st.**"
   ]
  },
  {
   "cell_type": "markdown",
   "id": "3b267620",
   "metadata": {},
   "source": [
    "**11) Which end stations are most popular?**"
   ]
  },
  {
   "cell_type": "code",
   "execution_count": 76,
   "id": "4dc4efa1",
   "metadata": {},
   "outputs": [
    {
     "data": {
      "application/vnd.plotly.v1+json": {
       "config": {
        "plotlyServerURL": "https://plot.ly"
       },
       "data": [
        {
         "alignmentgroup": "True",
         "hovertemplate": "member_casual=casual<br>end_station_name=%{x}<br>counts=%{y}<extra></extra>",
         "legendgroup": "casual",
         "marker": {
          "color": "#636efa",
          "pattern": {
           "shape": ""
          }
         },
         "name": "casual",
         "offsetgroup": "casual",
         "orientation": "v",
         "showlegend": true,
         "textposition": "auto",
         "type": "bar",
         "x": [
          "11 St & Washington St",
          "12 St & Sinatra Dr N",
          "14 St Ferry - 14 St & Shipyard Ln",
          "4 St & Grand St",
          "5 Corners Library",
          "6 St & Grand St",
          "7 St & Monroe St",
          "8 St & Washington St",
          "9 St HBLR - Jackson St & 8 St",
          "Adams St & 11 St",
          "Adams St & 2 St",
          "Astor Place",
          "Baldwin at Montgomery",
          "Bergen Ave",
          "Bergen Ave & Sip Ave",
          "Bergen Ave & Stegman St",
          "Bloomfield St & 15 St",
          "Brunswick & 6th",
          "Brunswick St",
          "Central Park North & Adam Clayton Powell Blvd",
          "Christ Hospital",
          "Church Sq Park - 5 St & Park Ave",
          "City Hall",
          "City Hall - Washington St & 1 St",
          "Clinton St & 7 St",
          "Clinton St & Newark St",
          "Columbus Dr at Exchange Pl",
          "Columbus Drive",
          "Columbus Park - Clinton St & 9 St",
          "Communipaw & Berry Lane",
          "Dey St",
          "Dixon Mills",
          "Essex Light Rail",
          "Fairmount Ave",
          "Glenwood Ave",
          "Grand St",
          "Grand St & 14 St",
          "Grant Ave & MLK Dr",
          "Grove St PATH",
          "Hamilton Park",
          "Harborside",
          "Heights Elevator",
          "Hilltop",
          "Hoboken Ave at Monmouth St",
          "Hoboken Terminal - Hudson St & Hudson Pl",
          "Hoboken Terminal - River St & Hudson Pl",
          "Hudson St & 4 St",
          "JC Medical Center",
          "Jackson Square",
          "Jersey & 3rd",
          "Jersey & 6th St",
          "Journal Square",
          "Lafayette Park",
          "Leonard Gordon Park",
          "Liberty Light Rail",
          "Lincoln Park",
          "MTL-ECO5-LAB",
          "Madison St & 1 St",
          "Madison St & 10 St",
          "Mama Johnson Field - 4 St & Jackson St",
          "Manila & 1st",
          "Marin Light Rail",
          "Marshall St & 2 St",
          "McGinley Square",
          "Monmouth and 6th",
          "Montgomery St",
          "Morris Canal",
          "Newark Ave",
          "Newport PATH",
          "Newport Pkwy",
          "Oakland Ave",
          "Paulus Hook",
          "Pershing Field",
          "Riverview Park",
          "Sip Ave",
          "South Waterfront Walkway - Sinatra Dr & 1 St",
          "Southwest Park - Jackson St & Observer Hwy",
          "Stevens - River Ter & 6 St",
          "Union St",
          "Van Vorst Park",
          "Warren St",
          "Washington St",
          "Willow Ave & 12 St"
         ],
         "xaxis": "x",
         "y": [
          61,
          161,
          141,
          38,
          18,
          26,
          59,
          54,
          57,
          25,
          33,
          31,
          26,
          26,
          53,
          28,
          39,
          5,
          32,
          1,
          37,
          76,
          72,
          134,
          35,
          32,
          77,
          35,
          114,
          9,
          2,
          27,
          15,
          23,
          54,
          18,
          61,
          8,
          171,
          122,
          77,
          19,
          37,
          94,
          161,
          125,
          75,
          29,
          25,
          22,
          6,
          20,
          40,
          39,
          106,
          36,
          1,
          52,
          29,
          2,
          44,
          82,
          31,
          74,
          9,
          13,
          19,
          46,
          92,
          68,
          24,
          32,
          17,
          38,
          30,
          234,
          55,
          12,
          9,
          50,
          12,
          68,
          39
         ],
         "yaxis": "y"
        },
        {
         "alignmentgroup": "True",
         "hovertemplate": "member_casual=member<br>end_station_name=%{x}<br>counts=%{y}<extra></extra>",
         "legendgroup": "member",
         "marker": {
          "color": "#EF553B",
          "pattern": {
           "shape": ""
          }
         },
         "name": "member",
         "offsetgroup": "member",
         "orientation": "v",
         "showlegend": true,
         "textposition": "auto",
         "type": "bar",
         "x": [
          "11 St & Washington St",
          "12 St & Sinatra Dr N",
          "14 St Ferry - 14 St & Shipyard Ln",
          "4 St & Grand St",
          "5 Corners Library",
          "6 St & Grand St",
          "7 St & Monroe St",
          "8 St & Washington St",
          "9 St HBLR - Jackson St & 8 St",
          "Adams St & 11 St",
          "Adams St & 2 St",
          "Astor Place",
          "Baldwin at Montgomery",
          "Bergen Ave",
          "Bergen Ave & Sip Ave",
          "Bergen Ave & Stegman St",
          "Bloomfield St & 15 St",
          "Brunswick & 6th",
          "Brunswick St",
          "Central Park North & Adam Clayton Powell Blvd",
          "Christ Hospital",
          "Church Sq Park - 5 St & Park Ave",
          "City Hall",
          "City Hall - Washington St & 1 St",
          "Clinton St & 7 St",
          "Clinton St & Newark St",
          "Columbus Dr at Exchange Pl",
          "Columbus Drive",
          "Columbus Park - Clinton St & 9 St",
          "Communipaw & Berry Lane",
          "Dey St",
          "Dixon Mills",
          "Essex Light Rail",
          "Fairmount Ave",
          "Glenwood Ave",
          "Grand St",
          "Grand St & 14 St",
          "Grant Ave & MLK Dr",
          "Grove St PATH",
          "Hamilton Park",
          "Harborside",
          "Heights Elevator",
          "Hilltop",
          "Hoboken Ave at Monmouth St",
          "Hoboken Terminal - Hudson St & Hudson Pl",
          "Hoboken Terminal - River St & Hudson Pl",
          "Hudson St & 4 St",
          "JC Medical Center",
          "Jackson Square",
          "Jersey & 3rd",
          "Jersey & 6th St",
          "Journal Square",
          "Lafayette Park",
          "Leonard Gordon Park",
          "Liberty Light Rail",
          "Lincoln Park",
          "Madison St & 1 St",
          "Madison St & 10 St",
          "Mama Johnson Field - 4 St & Jackson St",
          "Manila & 1st",
          "Marin Light Rail",
          "Marshall St & 2 St",
          "McGinley Square",
          "Monmouth and 6th",
          "Montgomery St",
          "Morris Canal",
          "Newark Ave",
          "Newport PATH",
          "Newport Pkwy",
          "Oakland Ave",
          "Paulus Hook",
          "Pershing Field",
          "Riverview Park",
          "Sip Ave",
          "South Waterfront Walkway - Sinatra Dr & 1 St",
          "Southwest Park - Jackson St & Observer Hwy",
          "Stevens - River Ter & 6 St",
          "Union St",
          "Van Vorst Park",
          "Warren St",
          "Washington St",
          "Willow Ave & 12 St",
          "York St & Marin Blvd"
         ],
         "xaxis": "x",
         "y": [
          69,
          58,
          50,
          43,
          24,
          29,
          38,
          46,
          46,
          15,
          28,
          20,
          51,
          35,
          72,
          10,
          37,
          39,
          35,
          1,
          30,
          32,
          59,
          71,
          33,
          47,
          67,
          51,
          52,
          14,
          10,
          29,
          18,
          32,
          24,
          55,
          62,
          11,
          383,
          54,
          83,
          27,
          49,
          87,
          103,
          157,
          40,
          39,
          13,
          24,
          34,
          60,
          40,
          99,
          42,
          41,
          53,
          21,
          13,
          42,
          72,
          44,
          67,
          31,
          27,
          25,
          45,
          98,
          83,
          37,
          34,
          36,
          52,
          50,
          174,
          24,
          37,
          53,
          43,
          44,
          65,
          35,
          6
         ],
         "yaxis": "y"
        }
       ],
       "layout": {
        "barmode": "relative",
        "legend": {
         "title": {
          "text": "member_casual"
         },
         "tracegroupgap": 0
        },
        "template": {
         "data": {
          "bar": [
           {
            "error_x": {
             "color": "#2a3f5f"
            },
            "error_y": {
             "color": "#2a3f5f"
            },
            "marker": {
             "line": {
              "color": "#E5ECF6",
              "width": 0.5
             },
             "pattern": {
              "fillmode": "overlay",
              "size": 10,
              "solidity": 0.2
             }
            },
            "type": "bar"
           }
          ],
          "barpolar": [
           {
            "marker": {
             "line": {
              "color": "#E5ECF6",
              "width": 0.5
             },
             "pattern": {
              "fillmode": "overlay",
              "size": 10,
              "solidity": 0.2
             }
            },
            "type": "barpolar"
           }
          ],
          "carpet": [
           {
            "aaxis": {
             "endlinecolor": "#2a3f5f",
             "gridcolor": "white",
             "linecolor": "white",
             "minorgridcolor": "white",
             "startlinecolor": "#2a3f5f"
            },
            "baxis": {
             "endlinecolor": "#2a3f5f",
             "gridcolor": "white",
             "linecolor": "white",
             "minorgridcolor": "white",
             "startlinecolor": "#2a3f5f"
            },
            "type": "carpet"
           }
          ],
          "choropleth": [
           {
            "colorbar": {
             "outlinewidth": 0,
             "ticks": ""
            },
            "type": "choropleth"
           }
          ],
          "contour": [
           {
            "colorbar": {
             "outlinewidth": 0,
             "ticks": ""
            },
            "colorscale": [
             [
              0,
              "#0d0887"
             ],
             [
              0.1111111111111111,
              "#46039f"
             ],
             [
              0.2222222222222222,
              "#7201a8"
             ],
             [
              0.3333333333333333,
              "#9c179e"
             ],
             [
              0.4444444444444444,
              "#bd3786"
             ],
             [
              0.5555555555555556,
              "#d8576b"
             ],
             [
              0.6666666666666666,
              "#ed7953"
             ],
             [
              0.7777777777777778,
              "#fb9f3a"
             ],
             [
              0.8888888888888888,
              "#fdca26"
             ],
             [
              1,
              "#f0f921"
             ]
            ],
            "type": "contour"
           }
          ],
          "contourcarpet": [
           {
            "colorbar": {
             "outlinewidth": 0,
             "ticks": ""
            },
            "type": "contourcarpet"
           }
          ],
          "heatmap": [
           {
            "colorbar": {
             "outlinewidth": 0,
             "ticks": ""
            },
            "colorscale": [
             [
              0,
              "#0d0887"
             ],
             [
              0.1111111111111111,
              "#46039f"
             ],
             [
              0.2222222222222222,
              "#7201a8"
             ],
             [
              0.3333333333333333,
              "#9c179e"
             ],
             [
              0.4444444444444444,
              "#bd3786"
             ],
             [
              0.5555555555555556,
              "#d8576b"
             ],
             [
              0.6666666666666666,
              "#ed7953"
             ],
             [
              0.7777777777777778,
              "#fb9f3a"
             ],
             [
              0.8888888888888888,
              "#fdca26"
             ],
             [
              1,
              "#f0f921"
             ]
            ],
            "type": "heatmap"
           }
          ],
          "heatmapgl": [
           {
            "colorbar": {
             "outlinewidth": 0,
             "ticks": ""
            },
            "colorscale": [
             [
              0,
              "#0d0887"
             ],
             [
              0.1111111111111111,
              "#46039f"
             ],
             [
              0.2222222222222222,
              "#7201a8"
             ],
             [
              0.3333333333333333,
              "#9c179e"
             ],
             [
              0.4444444444444444,
              "#bd3786"
             ],
             [
              0.5555555555555556,
              "#d8576b"
             ],
             [
              0.6666666666666666,
              "#ed7953"
             ],
             [
              0.7777777777777778,
              "#fb9f3a"
             ],
             [
              0.8888888888888888,
              "#fdca26"
             ],
             [
              1,
              "#f0f921"
             ]
            ],
            "type": "heatmapgl"
           }
          ],
          "histogram": [
           {
            "marker": {
             "pattern": {
              "fillmode": "overlay",
              "size": 10,
              "solidity": 0.2
             }
            },
            "type": "histogram"
           }
          ],
          "histogram2d": [
           {
            "colorbar": {
             "outlinewidth": 0,
             "ticks": ""
            },
            "colorscale": [
             [
              0,
              "#0d0887"
             ],
             [
              0.1111111111111111,
              "#46039f"
             ],
             [
              0.2222222222222222,
              "#7201a8"
             ],
             [
              0.3333333333333333,
              "#9c179e"
             ],
             [
              0.4444444444444444,
              "#bd3786"
             ],
             [
              0.5555555555555556,
              "#d8576b"
             ],
             [
              0.6666666666666666,
              "#ed7953"
             ],
             [
              0.7777777777777778,
              "#fb9f3a"
             ],
             [
              0.8888888888888888,
              "#fdca26"
             ],
             [
              1,
              "#f0f921"
             ]
            ],
            "type": "histogram2d"
           }
          ],
          "histogram2dcontour": [
           {
            "colorbar": {
             "outlinewidth": 0,
             "ticks": ""
            },
            "colorscale": [
             [
              0,
              "#0d0887"
             ],
             [
              0.1111111111111111,
              "#46039f"
             ],
             [
              0.2222222222222222,
              "#7201a8"
             ],
             [
              0.3333333333333333,
              "#9c179e"
             ],
             [
              0.4444444444444444,
              "#bd3786"
             ],
             [
              0.5555555555555556,
              "#d8576b"
             ],
             [
              0.6666666666666666,
              "#ed7953"
             ],
             [
              0.7777777777777778,
              "#fb9f3a"
             ],
             [
              0.8888888888888888,
              "#fdca26"
             ],
             [
              1,
              "#f0f921"
             ]
            ],
            "type": "histogram2dcontour"
           }
          ],
          "mesh3d": [
           {
            "colorbar": {
             "outlinewidth": 0,
             "ticks": ""
            },
            "type": "mesh3d"
           }
          ],
          "parcoords": [
           {
            "line": {
             "colorbar": {
              "outlinewidth": 0,
              "ticks": ""
             }
            },
            "type": "parcoords"
           }
          ],
          "pie": [
           {
            "automargin": true,
            "type": "pie"
           }
          ],
          "scatter": [
           {
            "fillpattern": {
             "fillmode": "overlay",
             "size": 10,
             "solidity": 0.2
            },
            "type": "scatter"
           }
          ],
          "scatter3d": [
           {
            "line": {
             "colorbar": {
              "outlinewidth": 0,
              "ticks": ""
             }
            },
            "marker": {
             "colorbar": {
              "outlinewidth": 0,
              "ticks": ""
             }
            },
            "type": "scatter3d"
           }
          ],
          "scattercarpet": [
           {
            "marker": {
             "colorbar": {
              "outlinewidth": 0,
              "ticks": ""
             }
            },
            "type": "scattercarpet"
           }
          ],
          "scattergeo": [
           {
            "marker": {
             "colorbar": {
              "outlinewidth": 0,
              "ticks": ""
             }
            },
            "type": "scattergeo"
           }
          ],
          "scattergl": [
           {
            "marker": {
             "colorbar": {
              "outlinewidth": 0,
              "ticks": ""
             }
            },
            "type": "scattergl"
           }
          ],
          "scattermapbox": [
           {
            "marker": {
             "colorbar": {
              "outlinewidth": 0,
              "ticks": ""
             }
            },
            "type": "scattermapbox"
           }
          ],
          "scatterpolar": [
           {
            "marker": {
             "colorbar": {
              "outlinewidth": 0,
              "ticks": ""
             }
            },
            "type": "scatterpolar"
           }
          ],
          "scatterpolargl": [
           {
            "marker": {
             "colorbar": {
              "outlinewidth": 0,
              "ticks": ""
             }
            },
            "type": "scatterpolargl"
           }
          ],
          "scatterternary": [
           {
            "marker": {
             "colorbar": {
              "outlinewidth": 0,
              "ticks": ""
             }
            },
            "type": "scatterternary"
           }
          ],
          "surface": [
           {
            "colorbar": {
             "outlinewidth": 0,
             "ticks": ""
            },
            "colorscale": [
             [
              0,
              "#0d0887"
             ],
             [
              0.1111111111111111,
              "#46039f"
             ],
             [
              0.2222222222222222,
              "#7201a8"
             ],
             [
              0.3333333333333333,
              "#9c179e"
             ],
             [
              0.4444444444444444,
              "#bd3786"
             ],
             [
              0.5555555555555556,
              "#d8576b"
             ],
             [
              0.6666666666666666,
              "#ed7953"
             ],
             [
              0.7777777777777778,
              "#fb9f3a"
             ],
             [
              0.8888888888888888,
              "#fdca26"
             ],
             [
              1,
              "#f0f921"
             ]
            ],
            "type": "surface"
           }
          ],
          "table": [
           {
            "cells": {
             "fill": {
              "color": "#EBF0F8"
             },
             "line": {
              "color": "white"
             }
            },
            "header": {
             "fill": {
              "color": "#C8D4E3"
             },
             "line": {
              "color": "white"
             }
            },
            "type": "table"
           }
          ]
         },
         "layout": {
          "annotationdefaults": {
           "arrowcolor": "#2a3f5f",
           "arrowhead": 0,
           "arrowwidth": 1
          },
          "autotypenumbers": "strict",
          "coloraxis": {
           "colorbar": {
            "outlinewidth": 0,
            "ticks": ""
           }
          },
          "colorscale": {
           "diverging": [
            [
             0,
             "#8e0152"
            ],
            [
             0.1,
             "#c51b7d"
            ],
            [
             0.2,
             "#de77ae"
            ],
            [
             0.3,
             "#f1b6da"
            ],
            [
             0.4,
             "#fde0ef"
            ],
            [
             0.5,
             "#f7f7f7"
            ],
            [
             0.6,
             "#e6f5d0"
            ],
            [
             0.7,
             "#b8e186"
            ],
            [
             0.8,
             "#7fbc41"
            ],
            [
             0.9,
             "#4d9221"
            ],
            [
             1,
             "#276419"
            ]
           ],
           "sequential": [
            [
             0,
             "#0d0887"
            ],
            [
             0.1111111111111111,
             "#46039f"
            ],
            [
             0.2222222222222222,
             "#7201a8"
            ],
            [
             0.3333333333333333,
             "#9c179e"
            ],
            [
             0.4444444444444444,
             "#bd3786"
            ],
            [
             0.5555555555555556,
             "#d8576b"
            ],
            [
             0.6666666666666666,
             "#ed7953"
            ],
            [
             0.7777777777777778,
             "#fb9f3a"
            ],
            [
             0.8888888888888888,
             "#fdca26"
            ],
            [
             1,
             "#f0f921"
            ]
           ],
           "sequentialminus": [
            [
             0,
             "#0d0887"
            ],
            [
             0.1111111111111111,
             "#46039f"
            ],
            [
             0.2222222222222222,
             "#7201a8"
            ],
            [
             0.3333333333333333,
             "#9c179e"
            ],
            [
             0.4444444444444444,
             "#bd3786"
            ],
            [
             0.5555555555555556,
             "#d8576b"
            ],
            [
             0.6666666666666666,
             "#ed7953"
            ],
            [
             0.7777777777777778,
             "#fb9f3a"
            ],
            [
             0.8888888888888888,
             "#fdca26"
            ],
            [
             1,
             "#f0f921"
            ]
           ]
          },
          "colorway": [
           "#636efa",
           "#EF553B",
           "#00cc96",
           "#ab63fa",
           "#FFA15A",
           "#19d3f3",
           "#FF6692",
           "#B6E880",
           "#FF97FF",
           "#FECB52"
          ],
          "font": {
           "color": "#2a3f5f"
          },
          "geo": {
           "bgcolor": "white",
           "lakecolor": "white",
           "landcolor": "#E5ECF6",
           "showlakes": true,
           "showland": true,
           "subunitcolor": "white"
          },
          "hoverlabel": {
           "align": "left"
          },
          "hovermode": "closest",
          "mapbox": {
           "style": "light"
          },
          "paper_bgcolor": "white",
          "plot_bgcolor": "#E5ECF6",
          "polar": {
           "angularaxis": {
            "gridcolor": "white",
            "linecolor": "white",
            "ticks": ""
           },
           "bgcolor": "#E5ECF6",
           "radialaxis": {
            "gridcolor": "white",
            "linecolor": "white",
            "ticks": ""
           }
          },
          "scene": {
           "xaxis": {
            "backgroundcolor": "#E5ECF6",
            "gridcolor": "white",
            "gridwidth": 2,
            "linecolor": "white",
            "showbackground": true,
            "ticks": "",
            "zerolinecolor": "white"
           },
           "yaxis": {
            "backgroundcolor": "#E5ECF6",
            "gridcolor": "white",
            "gridwidth": 2,
            "linecolor": "white",
            "showbackground": true,
            "ticks": "",
            "zerolinecolor": "white"
           },
           "zaxis": {
            "backgroundcolor": "#E5ECF6",
            "gridcolor": "white",
            "gridwidth": 2,
            "linecolor": "white",
            "showbackground": true,
            "ticks": "",
            "zerolinecolor": "white"
           }
          },
          "shapedefaults": {
           "line": {
            "color": "#2a3f5f"
           }
          },
          "ternary": {
           "aaxis": {
            "gridcolor": "white",
            "linecolor": "white",
            "ticks": ""
           },
           "baxis": {
            "gridcolor": "white",
            "linecolor": "white",
            "ticks": ""
           },
           "bgcolor": "#E5ECF6",
           "caxis": {
            "gridcolor": "white",
            "linecolor": "white",
            "ticks": ""
           }
          },
          "title": {
           "x": 0.05
          },
          "xaxis": {
           "automargin": true,
           "gridcolor": "white",
           "linecolor": "white",
           "ticks": "",
           "title": {
            "standoff": 15
           },
           "zerolinecolor": "white",
           "zerolinewidth": 2
          },
          "yaxis": {
           "automargin": true,
           "gridcolor": "white",
           "linecolor": "white",
           "ticks": "",
           "title": {
            "standoff": 15
           },
           "zerolinecolor": "white",
           "zerolinewidth": 2
          }
         }
        },
        "title": {
         "text": "Ending Station by Member type"
        },
        "xaxis": {
         "anchor": "y",
         "domain": [
          0,
          1
         ],
         "title": {
          "text": "end_station_name"
         }
        },
        "yaxis": {
         "anchor": "x",
         "domain": [
          0,
          1
         ],
         "title": {
          "text": "counts"
         }
        }
       }
      },
      "text/html": [
       "<div>                            <div id=\"ebd79a7b-d2b0-4fc1-996c-a00410b944ca\" class=\"plotly-graph-div\" style=\"height:525px; width:100%;\"></div>            <script type=\"text/javascript\">                require([\"plotly\"], function(Plotly) {                    window.PLOTLYENV=window.PLOTLYENV || {};                                    if (document.getElementById(\"ebd79a7b-d2b0-4fc1-996c-a00410b944ca\")) {                    Plotly.newPlot(                        \"ebd79a7b-d2b0-4fc1-996c-a00410b944ca\",                        [{\"alignmentgroup\":\"True\",\"hovertemplate\":\"member_casual=casual<br>end_station_name=%{x}<br>counts=%{y}<extra></extra>\",\"legendgroup\":\"casual\",\"marker\":{\"color\":\"#636efa\",\"pattern\":{\"shape\":\"\"}},\"name\":\"casual\",\"offsetgroup\":\"casual\",\"orientation\":\"v\",\"showlegend\":true,\"textposition\":\"auto\",\"x\":[\"11 St & Washington St\",\"12 St & Sinatra Dr N\",\"14 St Ferry - 14 St & Shipyard Ln\",\"4 St & Grand St\",\"5 Corners Library\",\"6 St & Grand St\",\"7 St & Monroe St\",\"8 St & Washington St\",\"9 St HBLR - Jackson St & 8 St\",\"Adams St & 11 St\",\"Adams St & 2 St\",\"Astor Place\",\"Baldwin at Montgomery\",\"Bergen Ave\",\"Bergen Ave & Sip Ave\",\"Bergen Ave & Stegman St\",\"Bloomfield St & 15 St\",\"Brunswick & 6th\",\"Brunswick St\",\"Central Park North & Adam Clayton Powell Blvd\",\"Christ Hospital\",\"Church Sq Park - 5 St & Park Ave\",\"City Hall\",\"City Hall - Washington St & 1 St\",\"Clinton St & 7 St\",\"Clinton St & Newark St\",\"Columbus Dr at Exchange Pl\",\"Columbus Drive\",\"Columbus Park - Clinton St & 9 St\",\"Communipaw & Berry Lane\",\"Dey St\",\"Dixon Mills\",\"Essex Light Rail\",\"Fairmount Ave\",\"Glenwood Ave\",\"Grand St\",\"Grand St & 14 St\",\"Grant Ave & MLK Dr\",\"Grove St PATH\",\"Hamilton Park\",\"Harborside\",\"Heights Elevator\",\"Hilltop\",\"Hoboken Ave at Monmouth St\",\"Hoboken Terminal - Hudson St & Hudson Pl\",\"Hoboken Terminal - River St & Hudson Pl\",\"Hudson St & 4 St\",\"JC Medical Center\",\"Jackson Square\",\"Jersey & 3rd\",\"Jersey & 6th St\",\"Journal Square\",\"Lafayette Park\",\"Leonard Gordon Park\",\"Liberty Light Rail\",\"Lincoln Park\",\"MTL-ECO5-LAB\",\"Madison St & 1 St\",\"Madison St & 10 St\",\"Mama Johnson Field - 4 St & Jackson St\",\"Manila & 1st\",\"Marin Light Rail\",\"Marshall St & 2 St\",\"McGinley Square\",\"Monmouth and 6th\",\"Montgomery St\",\"Morris Canal\",\"Newark Ave\",\"Newport PATH\",\"Newport Pkwy\",\"Oakland Ave\",\"Paulus Hook\",\"Pershing Field\",\"Riverview Park\",\"Sip Ave\",\"South Waterfront Walkway - Sinatra Dr & 1 St\",\"Southwest Park - Jackson St & Observer Hwy\",\"Stevens - River Ter & 6 St\",\"Union St\",\"Van Vorst Park\",\"Warren St\",\"Washington St\",\"Willow Ave & 12 St\"],\"xaxis\":\"x\",\"y\":[61,161,141,38,18,26,59,54,57,25,33,31,26,26,53,28,39,5,32,1,37,76,72,134,35,32,77,35,114,9,2,27,15,23,54,18,61,8,171,122,77,19,37,94,161,125,75,29,25,22,6,20,40,39,106,36,1,52,29,2,44,82,31,74,9,13,19,46,92,68,24,32,17,38,30,234,55,12,9,50,12,68,39],\"yaxis\":\"y\",\"type\":\"bar\"},{\"alignmentgroup\":\"True\",\"hovertemplate\":\"member_casual=member<br>end_station_name=%{x}<br>counts=%{y}<extra></extra>\",\"legendgroup\":\"member\",\"marker\":{\"color\":\"#EF553B\",\"pattern\":{\"shape\":\"\"}},\"name\":\"member\",\"offsetgroup\":\"member\",\"orientation\":\"v\",\"showlegend\":true,\"textposition\":\"auto\",\"x\":[\"11 St & Washington St\",\"12 St & Sinatra Dr N\",\"14 St Ferry - 14 St & Shipyard Ln\",\"4 St & Grand St\",\"5 Corners Library\",\"6 St & Grand St\",\"7 St & Monroe St\",\"8 St & Washington St\",\"9 St HBLR - Jackson St & 8 St\",\"Adams St & 11 St\",\"Adams St & 2 St\",\"Astor Place\",\"Baldwin at Montgomery\",\"Bergen Ave\",\"Bergen Ave & Sip Ave\",\"Bergen Ave & Stegman St\",\"Bloomfield St & 15 St\",\"Brunswick & 6th\",\"Brunswick St\",\"Central Park North & Adam Clayton Powell Blvd\",\"Christ Hospital\",\"Church Sq Park - 5 St & Park Ave\",\"City Hall\",\"City Hall - Washington St & 1 St\",\"Clinton St & 7 St\",\"Clinton St & Newark St\",\"Columbus Dr at Exchange Pl\",\"Columbus Drive\",\"Columbus Park - Clinton St & 9 St\",\"Communipaw & Berry Lane\",\"Dey St\",\"Dixon Mills\",\"Essex Light Rail\",\"Fairmount Ave\",\"Glenwood Ave\",\"Grand St\",\"Grand St & 14 St\",\"Grant Ave & MLK Dr\",\"Grove St PATH\",\"Hamilton Park\",\"Harborside\",\"Heights Elevator\",\"Hilltop\",\"Hoboken Ave at Monmouth St\",\"Hoboken Terminal - Hudson St & Hudson Pl\",\"Hoboken Terminal - River St & Hudson Pl\",\"Hudson St & 4 St\",\"JC Medical Center\",\"Jackson Square\",\"Jersey & 3rd\",\"Jersey & 6th St\",\"Journal Square\",\"Lafayette Park\",\"Leonard Gordon Park\",\"Liberty Light Rail\",\"Lincoln Park\",\"Madison St & 1 St\",\"Madison St & 10 St\",\"Mama Johnson Field - 4 St & Jackson St\",\"Manila & 1st\",\"Marin Light Rail\",\"Marshall St & 2 St\",\"McGinley Square\",\"Monmouth and 6th\",\"Montgomery St\",\"Morris Canal\",\"Newark Ave\",\"Newport PATH\",\"Newport Pkwy\",\"Oakland Ave\",\"Paulus Hook\",\"Pershing Field\",\"Riverview Park\",\"Sip Ave\",\"South Waterfront Walkway - Sinatra Dr & 1 St\",\"Southwest Park - Jackson St & Observer Hwy\",\"Stevens - River Ter & 6 St\",\"Union St\",\"Van Vorst Park\",\"Warren St\",\"Washington St\",\"Willow Ave & 12 St\",\"York St & Marin Blvd\"],\"xaxis\":\"x\",\"y\":[69,58,50,43,24,29,38,46,46,15,28,20,51,35,72,10,37,39,35,1,30,32,59,71,33,47,67,51,52,14,10,29,18,32,24,55,62,11,383,54,83,27,49,87,103,157,40,39,13,24,34,60,40,99,42,41,53,21,13,42,72,44,67,31,27,25,45,98,83,37,34,36,52,50,174,24,37,53,43,44,65,35,6],\"yaxis\":\"y\",\"type\":\"bar\"}],                        {\"template\":{\"data\":{\"histogram2dcontour\":[{\"type\":\"histogram2dcontour\",\"colorbar\":{\"outlinewidth\":0,\"ticks\":\"\"},\"colorscale\":[[0.0,\"#0d0887\"],[0.1111111111111111,\"#46039f\"],[0.2222222222222222,\"#7201a8\"],[0.3333333333333333,\"#9c179e\"],[0.4444444444444444,\"#bd3786\"],[0.5555555555555556,\"#d8576b\"],[0.6666666666666666,\"#ed7953\"],[0.7777777777777778,\"#fb9f3a\"],[0.8888888888888888,\"#fdca26\"],[1.0,\"#f0f921\"]]}],\"choropleth\":[{\"type\":\"choropleth\",\"colorbar\":{\"outlinewidth\":0,\"ticks\":\"\"}}],\"histogram2d\":[{\"type\":\"histogram2d\",\"colorbar\":{\"outlinewidth\":0,\"ticks\":\"\"},\"colorscale\":[[0.0,\"#0d0887\"],[0.1111111111111111,\"#46039f\"],[0.2222222222222222,\"#7201a8\"],[0.3333333333333333,\"#9c179e\"],[0.4444444444444444,\"#bd3786\"],[0.5555555555555556,\"#d8576b\"],[0.6666666666666666,\"#ed7953\"],[0.7777777777777778,\"#fb9f3a\"],[0.8888888888888888,\"#fdca26\"],[1.0,\"#f0f921\"]]}],\"heatmap\":[{\"type\":\"heatmap\",\"colorbar\":{\"outlinewidth\":0,\"ticks\":\"\"},\"colorscale\":[[0.0,\"#0d0887\"],[0.1111111111111111,\"#46039f\"],[0.2222222222222222,\"#7201a8\"],[0.3333333333333333,\"#9c179e\"],[0.4444444444444444,\"#bd3786\"],[0.5555555555555556,\"#d8576b\"],[0.6666666666666666,\"#ed7953\"],[0.7777777777777778,\"#fb9f3a\"],[0.8888888888888888,\"#fdca26\"],[1.0,\"#f0f921\"]]}],\"heatmapgl\":[{\"type\":\"heatmapgl\",\"colorbar\":{\"outlinewidth\":0,\"ticks\":\"\"},\"colorscale\":[[0.0,\"#0d0887\"],[0.1111111111111111,\"#46039f\"],[0.2222222222222222,\"#7201a8\"],[0.3333333333333333,\"#9c179e\"],[0.4444444444444444,\"#bd3786\"],[0.5555555555555556,\"#d8576b\"],[0.6666666666666666,\"#ed7953\"],[0.7777777777777778,\"#fb9f3a\"],[0.8888888888888888,\"#fdca26\"],[1.0,\"#f0f921\"]]}],\"contourcarpet\":[{\"type\":\"contourcarpet\",\"colorbar\":{\"outlinewidth\":0,\"ticks\":\"\"}}],\"contour\":[{\"type\":\"contour\",\"colorbar\":{\"outlinewidth\":0,\"ticks\":\"\"},\"colorscale\":[[0.0,\"#0d0887\"],[0.1111111111111111,\"#46039f\"],[0.2222222222222222,\"#7201a8\"],[0.3333333333333333,\"#9c179e\"],[0.4444444444444444,\"#bd3786\"],[0.5555555555555556,\"#d8576b\"],[0.6666666666666666,\"#ed7953\"],[0.7777777777777778,\"#fb9f3a\"],[0.8888888888888888,\"#fdca26\"],[1.0,\"#f0f921\"]]}],\"surface\":[{\"type\":\"surface\",\"colorbar\":{\"outlinewidth\":0,\"ticks\":\"\"},\"colorscale\":[[0.0,\"#0d0887\"],[0.1111111111111111,\"#46039f\"],[0.2222222222222222,\"#7201a8\"],[0.3333333333333333,\"#9c179e\"],[0.4444444444444444,\"#bd3786\"],[0.5555555555555556,\"#d8576b\"],[0.6666666666666666,\"#ed7953\"],[0.7777777777777778,\"#fb9f3a\"],[0.8888888888888888,\"#fdca26\"],[1.0,\"#f0f921\"]]}],\"mesh3d\":[{\"type\":\"mesh3d\",\"colorbar\":{\"outlinewidth\":0,\"ticks\":\"\"}}],\"scatter\":[{\"fillpattern\":{\"fillmode\":\"overlay\",\"size\":10,\"solidity\":0.2},\"type\":\"scatter\"}],\"parcoords\":[{\"type\":\"parcoords\",\"line\":{\"colorbar\":{\"outlinewidth\":0,\"ticks\":\"\"}}}],\"scatterpolargl\":[{\"type\":\"scatterpolargl\",\"marker\":{\"colorbar\":{\"outlinewidth\":0,\"ticks\":\"\"}}}],\"bar\":[{\"error_x\":{\"color\":\"#2a3f5f\"},\"error_y\":{\"color\":\"#2a3f5f\"},\"marker\":{\"line\":{\"color\":\"#E5ECF6\",\"width\":0.5},\"pattern\":{\"fillmode\":\"overlay\",\"size\":10,\"solidity\":0.2}},\"type\":\"bar\"}],\"scattergeo\":[{\"type\":\"scattergeo\",\"marker\":{\"colorbar\":{\"outlinewidth\":0,\"ticks\":\"\"}}}],\"scatterpolar\":[{\"type\":\"scatterpolar\",\"marker\":{\"colorbar\":{\"outlinewidth\":0,\"ticks\":\"\"}}}],\"histogram\":[{\"marker\":{\"pattern\":{\"fillmode\":\"overlay\",\"size\":10,\"solidity\":0.2}},\"type\":\"histogram\"}],\"scattergl\":[{\"type\":\"scattergl\",\"marker\":{\"colorbar\":{\"outlinewidth\":0,\"ticks\":\"\"}}}],\"scatter3d\":[{\"type\":\"scatter3d\",\"line\":{\"colorbar\":{\"outlinewidth\":0,\"ticks\":\"\"}},\"marker\":{\"colorbar\":{\"outlinewidth\":0,\"ticks\":\"\"}}}],\"scattermapbox\":[{\"type\":\"scattermapbox\",\"marker\":{\"colorbar\":{\"outlinewidth\":0,\"ticks\":\"\"}}}],\"scatterternary\":[{\"type\":\"scatterternary\",\"marker\":{\"colorbar\":{\"outlinewidth\":0,\"ticks\":\"\"}}}],\"scattercarpet\":[{\"type\":\"scattercarpet\",\"marker\":{\"colorbar\":{\"outlinewidth\":0,\"ticks\":\"\"}}}],\"carpet\":[{\"aaxis\":{\"endlinecolor\":\"#2a3f5f\",\"gridcolor\":\"white\",\"linecolor\":\"white\",\"minorgridcolor\":\"white\",\"startlinecolor\":\"#2a3f5f\"},\"baxis\":{\"endlinecolor\":\"#2a3f5f\",\"gridcolor\":\"white\",\"linecolor\":\"white\",\"minorgridcolor\":\"white\",\"startlinecolor\":\"#2a3f5f\"},\"type\":\"carpet\"}],\"table\":[{\"cells\":{\"fill\":{\"color\":\"#EBF0F8\"},\"line\":{\"color\":\"white\"}},\"header\":{\"fill\":{\"color\":\"#C8D4E3\"},\"line\":{\"color\":\"white\"}},\"type\":\"table\"}],\"barpolar\":[{\"marker\":{\"line\":{\"color\":\"#E5ECF6\",\"width\":0.5},\"pattern\":{\"fillmode\":\"overlay\",\"size\":10,\"solidity\":0.2}},\"type\":\"barpolar\"}],\"pie\":[{\"automargin\":true,\"type\":\"pie\"}]},\"layout\":{\"autotypenumbers\":\"strict\",\"colorway\":[\"#636efa\",\"#EF553B\",\"#00cc96\",\"#ab63fa\",\"#FFA15A\",\"#19d3f3\",\"#FF6692\",\"#B6E880\",\"#FF97FF\",\"#FECB52\"],\"font\":{\"color\":\"#2a3f5f\"},\"hovermode\":\"closest\",\"hoverlabel\":{\"align\":\"left\"},\"paper_bgcolor\":\"white\",\"plot_bgcolor\":\"#E5ECF6\",\"polar\":{\"bgcolor\":\"#E5ECF6\",\"angularaxis\":{\"gridcolor\":\"white\",\"linecolor\":\"white\",\"ticks\":\"\"},\"radialaxis\":{\"gridcolor\":\"white\",\"linecolor\":\"white\",\"ticks\":\"\"}},\"ternary\":{\"bgcolor\":\"#E5ECF6\",\"aaxis\":{\"gridcolor\":\"white\",\"linecolor\":\"white\",\"ticks\":\"\"},\"baxis\":{\"gridcolor\":\"white\",\"linecolor\":\"white\",\"ticks\":\"\"},\"caxis\":{\"gridcolor\":\"white\",\"linecolor\":\"white\",\"ticks\":\"\"}},\"coloraxis\":{\"colorbar\":{\"outlinewidth\":0,\"ticks\":\"\"}},\"colorscale\":{\"sequential\":[[0.0,\"#0d0887\"],[0.1111111111111111,\"#46039f\"],[0.2222222222222222,\"#7201a8\"],[0.3333333333333333,\"#9c179e\"],[0.4444444444444444,\"#bd3786\"],[0.5555555555555556,\"#d8576b\"],[0.6666666666666666,\"#ed7953\"],[0.7777777777777778,\"#fb9f3a\"],[0.8888888888888888,\"#fdca26\"],[1.0,\"#f0f921\"]],\"sequentialminus\":[[0.0,\"#0d0887\"],[0.1111111111111111,\"#46039f\"],[0.2222222222222222,\"#7201a8\"],[0.3333333333333333,\"#9c179e\"],[0.4444444444444444,\"#bd3786\"],[0.5555555555555556,\"#d8576b\"],[0.6666666666666666,\"#ed7953\"],[0.7777777777777778,\"#fb9f3a\"],[0.8888888888888888,\"#fdca26\"],[1.0,\"#f0f921\"]],\"diverging\":[[0,\"#8e0152\"],[0.1,\"#c51b7d\"],[0.2,\"#de77ae\"],[0.3,\"#f1b6da\"],[0.4,\"#fde0ef\"],[0.5,\"#f7f7f7\"],[0.6,\"#e6f5d0\"],[0.7,\"#b8e186\"],[0.8,\"#7fbc41\"],[0.9,\"#4d9221\"],[1,\"#276419\"]]},\"xaxis\":{\"gridcolor\":\"white\",\"linecolor\":\"white\",\"ticks\":\"\",\"title\":{\"standoff\":15},\"zerolinecolor\":\"white\",\"automargin\":true,\"zerolinewidth\":2},\"yaxis\":{\"gridcolor\":\"white\",\"linecolor\":\"white\",\"ticks\":\"\",\"title\":{\"standoff\":15},\"zerolinecolor\":\"white\",\"automargin\":true,\"zerolinewidth\":2},\"scene\":{\"xaxis\":{\"backgroundcolor\":\"#E5ECF6\",\"gridcolor\":\"white\",\"linecolor\":\"white\",\"showbackground\":true,\"ticks\":\"\",\"zerolinecolor\":\"white\",\"gridwidth\":2},\"yaxis\":{\"backgroundcolor\":\"#E5ECF6\",\"gridcolor\":\"white\",\"linecolor\":\"white\",\"showbackground\":true,\"ticks\":\"\",\"zerolinecolor\":\"white\",\"gridwidth\":2},\"zaxis\":{\"backgroundcolor\":\"#E5ECF6\",\"gridcolor\":\"white\",\"linecolor\":\"white\",\"showbackground\":true,\"ticks\":\"\",\"zerolinecolor\":\"white\",\"gridwidth\":2}},\"shapedefaults\":{\"line\":{\"color\":\"#2a3f5f\"}},\"annotationdefaults\":{\"arrowcolor\":\"#2a3f5f\",\"arrowhead\":0,\"arrowwidth\":1},\"geo\":{\"bgcolor\":\"white\",\"landcolor\":\"#E5ECF6\",\"subunitcolor\":\"white\",\"showland\":true,\"showlakes\":true,\"lakecolor\":\"white\"},\"title\":{\"x\":0.05},\"mapbox\":{\"style\":\"light\"}}},\"xaxis\":{\"anchor\":\"y\",\"domain\":[0.0,1.0],\"title\":{\"text\":\"end_station_name\"}},\"yaxis\":{\"anchor\":\"x\",\"domain\":[0.0,1.0],\"title\":{\"text\":\"counts\"}},\"legend\":{\"title\":{\"text\":\"member_casual\"},\"tracegroupgap\":0},\"title\":{\"text\":\"Ending Station by Member type\"},\"barmode\":\"relative\"},                        {\"responsive\": true}                    ).then(function(){\n",
       "                            \n",
       "var gd = document.getElementById('ebd79a7b-d2b0-4fc1-996c-a00410b944ca');\n",
       "var x = new MutationObserver(function (mutations, observer) {{\n",
       "        var display = window.getComputedStyle(gd).display;\n",
       "        if (!display || display === 'none') {{\n",
       "            console.log([gd, 'removed!']);\n",
       "            Plotly.purge(gd);\n",
       "            observer.disconnect();\n",
       "        }}\n",
       "}});\n",
       "\n",
       "// Listen for the removal of the full notebook cells\n",
       "var notebookContainer = gd.closest('#notebook-container');\n",
       "if (notebookContainer) {{\n",
       "    x.observe(notebookContainer, {childList: true});\n",
       "}}\n",
       "\n",
       "// Listen for the clearing of the current output cell\n",
       "var outputEl = gd.closest('.output');\n",
       "if (outputEl) {{\n",
       "    x.observe(outputEl, {childList: true});\n",
       "}}\n",
       "\n",
       "                        })                };                });            </script>        </div>"
      ]
     },
     "metadata": {},
     "output_type": "display_data"
    }
   ],
   "source": [
    "df2 =  df_smote_final.groupby(by=[\"end_station_name\", \"member_casual\"]).size().reset_index(name=\"counts\")\n",
    "fig = px.bar(df2, x='end_station_name', y='counts', color='member_casual', title='Ending Station by Member type')\n",
    "fig.show()"
   ]
  },
  {
   "cell_type": "markdown",
   "id": "e8f1e5df",
   "metadata": {},
   "source": [
    "**From the above, we can see that the two stations that are most popular are Grove St Path and South Waterfron Walkway - Sintara Dr & 1st.**"
   ]
  },
  {
   "cell_type": "markdown",
   "id": "a9392105",
   "metadata": {},
   "source": [
    "**The relationship between the multiple variables plotted are visualized altogether and information are presented combined.The efficient/short period of usage for royal customers corresponds to their high concentration on Monday through Friday, indicating the use is primarily for the work commute. The more relaxing and flexible pattern of customer use shows that they're taking advantage of the bike-sharing system quite different from the royal customers, heavily over weekends and in the afternoon, for city tour or leisure purpose probably.**"
   ]
  },
  {
   "cell_type": "code",
   "execution_count": null,
   "id": "6841df94",
   "metadata": {},
   "outputs": [],
   "source": []
  }
 ],
 "metadata": {
  "kernelspec": {
   "display_name": "Python 3 (ipykernel)",
   "language": "python",
   "name": "python3"
  },
  "language_info": {
   "codemirror_mode": {
    "name": "ipython",
    "version": 3
   },
   "file_extension": ".py",
   "mimetype": "text/x-python",
   "name": "python",
   "nbconvert_exporter": "python",
   "pygments_lexer": "ipython3",
   "version": "3.9.12"
  }
 },
 "nbformat": 4,
 "nbformat_minor": 5
}
